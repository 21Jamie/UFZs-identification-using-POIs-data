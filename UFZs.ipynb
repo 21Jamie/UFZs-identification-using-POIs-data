{
 "cells": [
  {
   "cell_type": "markdown",
   "metadata": {
    "heading_collapsed": true
   },
   "source": [
    "# 数据预处理"
   ]
  },
  {
   "cell_type": "code",
   "execution_count": 1,
   "metadata": {
    "hidden": true
   },
   "outputs": [],
   "source": [
    "import arcpy\n",
    "from arcpy.sa import *"
   ]
  },
  {
   "cell_type": "code",
   "execution_count": 2,
   "metadata": {
    "hidden": true
   },
   "outputs": [],
   "source": [
    "arcpy.env.workspace = r\"E:\\stu1\\Projects\\POI2023\\UFZs.gdb\""
   ]
  },
  {
   "cell_type": "markdown",
   "metadata": {
    "heading_collapsed": true,
    "hidden": true
   },
   "source": [
    "## 土地利用"
   ]
  },
  {
   "cell_type": "markdown",
   "metadata": {
    "hidden": true
   },
   "source": [
    "### 研究区域裁剪"
   ]
  },
  {
   "cell_type": "code",
   "execution_count": 13,
   "metadata": {
    "hidden": true
   },
   "outputs": [],
   "source": [
    "# Define the paths to your datasets\n",
    "ring = r\"E:\\stu1\\Projects\\POI2023\\UFZs.gdb\\ring3\"\n",
    "# poi_data = r\"E:\\stu1\\Projects\\POI2023\\POI2023.gdb\\MergedPOI23\"\n",
    "# road_network_data = r\"E:\\stu1\\Projects\\POI2023\\POI2023.gdb\\UFZs23\\road23\"\n",
    "land_use_data = r\"E:\\stu1\\UFZs\\lucc\\2020.tif\""
   ]
  },
  {
   "cell_type": "code",
   "execution_count": 14,
   "metadata": {
    "hidden": true
   },
   "outputs": [],
   "source": [
    "# Define the output paths\n",
    "#clipped_poi = r\"E:\\stu1\\Projects\\POI2023\\POI2023.gdb\\clipped_poi\"\n",
    "#clipped_road_network = r\"E:\\stu1\\Projects\\POI2023\\POI2023.gdb\\clipped_road\"\n",
    "clipped_land_use = r\"E:\\stu1\\Projects\\POI2023\\UFZs.gdb\\lucc20\""
   ]
  },
  {
   "cell_type": "code",
   "execution_count": null,
   "metadata": {
    "hidden": true
   },
   "outputs": [],
   "source": [
    "ring = r\"E:\\stu1\\Projects\\POI2023\\UFZs.gdb\\ring3\""
   ]
  },
  {
   "cell_type": "code",
   "execution_count": 13,
   "metadata": {
    "hidden": true
   },
   "outputs": [],
   "source": [
    "land_use_data = r\"E:\\stu1\\UFZs\\lucc\\2018.tif\"\n",
    "clipped_land_use = r\"E:\\stu1\\Projects\\POI2023\\UFZs.gdb\\lucc18\""
   ]
  },
  {
   "cell_type": "code",
   "execution_count": 14,
   "metadata": {
    "hidden": true
   },
   "outputs": [],
   "source": [
    "# Perform the extract by mask operation\n",
    "masked_raster = ExtractByMask(land_use_data,ring)\n",
    "masked_raster.save(clipped_land_use)"
   ]
  },
  {
   "cell_type": "markdown",
   "metadata": {
    "hidden": true
   },
   "source": [
    "### 土地利用数据投影"
   ]
  },
  {
   "cell_type": "code",
   "execution_count": null,
   "metadata": {
    "hidden": true
   },
   "outputs": [],
   "source": []
  },
  {
   "cell_type": "markdown",
   "metadata": {
    "hidden": true
   },
   "source": [
    "## 路网"
   ]
  },
  {
   "cell_type": "code",
   "execution_count": 19,
   "metadata": {
    "hidden": true
   },
   "outputs": [
    {
     "data": {
      "text/html": [
       "<div class='gpresult'><h2>Messages</h2><div id='messages' data-messages='[\"Start Time: 2024年1月18日 12:53:03\",\"Analyzing input features...\",\"Dissolving clip features...\",\"Clipping input features...\",\"Succeeded at 2024年1月18日 12:53:04 (Elapsed Time: 0.94 seconds)\"]' data-show='true'><div id = 'default' /></div></div>"
      ],
      "text/plain": [
       "<Result 'E:\\\\stu1\\\\Projects\\\\POI2023\\\\UFZs.gdb\\\\road13'>"
      ]
     },
     "execution_count": 19,
     "metadata": {},
     "output_type": "execute_result"
    }
   ],
   "source": [
    "# 裁剪\n",
    "road_network_data = r\"E:\\stu1\\UFZs\\13-23OSM\\13\\gis_osm_roads_free_1.shp\"\n",
    "clipped_road = r\"E:\\stu1\\Projects\\POI2023\\UFZs.gdb\\road13\"\n",
    "\n",
    "# Clip the datasets\n",
    "arcpy.Clip_analysis(road_network_data, ring, clipped_road)"
   ]
  },
  {
   "cell_type": "code",
   "execution_count": 38,
   "metadata": {
    "hidden": true
   },
   "outputs": [],
   "source": [
    "# 裁剪\n",
    "road_network_data = r\"E:\\stu1\\UFZs\\13-23OSM\\23\\gis_osm_roads_free_1.shp\"\n",
    "clipped_road = r\"E:\\stu1\\Projects\\POI2023\\UFZs.gdb\\road23\""
   ]
  },
  {
   "cell_type": "code",
   "execution_count": 39,
   "metadata": {
    "hidden": true
   },
   "outputs": [
    {
     "data": {
      "text/html": [
       "<div class='gpresult'><h2>Messages</h2><div id='messages' data-messages='[\"Start Time: 2024年1月18日 12:57:34\",\"Analyzing input features...\",\"Dissolving clip features...\",\"Clipping input features...\",\"Succeeded at 2024年1月18日 12:57:44 (Elapsed Time: 10.15 seconds)\"]' data-show='true'><div id = 'default' /></div></div>"
      ],
      "text/plain": [
       "<Result 'E:\\\\stu1\\\\Projects\\\\POI2023\\\\UFZs.gdb\\\\road23'>"
      ]
     },
     "execution_count": 39,
     "metadata": {},
     "output_type": "execute_result"
    }
   ],
   "source": [
    "# Clip the datasets\n",
    "arcpy.Clip_analysis(road_network_data, ring, clipped_road)"
   ]
  },
  {
   "cell_type": "markdown",
   "metadata": {
    "hidden": true
   },
   "source": [
    "## POI"
   ]
  },
  {
   "cell_type": "code",
   "execution_count": 3,
   "metadata": {
    "hidden": true
   },
   "outputs": [],
   "source": [
    "# 定义不同功能区对应的POI类型\n",
    "typecode_ranges = {\n",
    "    'R': [str(num) for num in range(120300, 120305)],   # 居住用地\n",
    "    'A': [f\"{num:06d}\" for num in range(80000, 80007)] +  # 从 080000 到 080006\n",
    "        [f\"{num:06d}\" for num in range(80100, 80120)] +  # 从 080100 到 080119\n",
    "        [f\"{num:06d}\" for num in range(80200, 80203)] +  # 从 080200 到 080202\n",
    "        [f\"{num:06d}\" for num in range(80300, 80309)] +  # 从 080300 到 080308\n",
    "        [f\"{num:06d}\" for num in range(141100, 141206)],  # 从 141100 到 141205  # 公共管理与公共服务设施用地\n",
    "    'B': [f\"{num:06d}\" for num in range(50100, 50124)] +  # 从 050100 到 050123\n",
    "        [f\"{num:06d}\" for num in range(50200, 50218)] +  # 从 050200 到 050217\n",
    "        [f\"{num:06d}\" for num in range(60100, 60104)] +  # 从 060100 到 060103\n",
    "        [f\"{num:06d}\" for num in range(60400, 60410)] +  # 从 060400 到 060409\n",
    "        [f\"{num:06d}\" for num in range(61000, 61002)] +  # 从 061000 到 061001\n",
    "        [f\"{num:06d}\" for num in range(160400, 160409)] +  # 从 160400 到 160408\n",
    "        [f\"{num:06d}\" for num in range(160500, 160502)],   # 从 160500 到 160501   # 商业服务业设施用地\n",
    "    'M': [\"120100\"] +  # 单独的值\n",
    "        [\"120202\"] +  # 单独的值\n",
    "        [\"170000\"] +  # 单独的值\n",
    "        [f\"{num:06d}\" for num in range(170100, 170101)] +  # 从 170100 到 170100\n",
    "        [f\"{num:06d}\" for num in range(170200, 170209)] +  # 从 170200 到 170208\n",
    "        [f\"{num:06d}\" for num in range(170300, 170301)] +  # 从 170300 到 170300\n",
    "        [f\"{num:06d}\" for num in range(170400, 170409)],   # 从 170400 到 170408    # 工业用地\n",
    "    'S': [f\"{num:06d}\" for num in range(150104, 150108)] +  # 从 150104 到 150107\n",
    "        [f\"{num:06d}\" for num in range(150200, 150211)] +  # 从 150200 到 150210\n",
    "        [f\"{num:06d}\" for num in range(150300, 150308)] +  # 从 150300 到 150307\n",
    "        [\"180000\"] +                                    # 单独的值\n",
    "        [f\"{num:06d}\" for num in range(180100, 180105)] +  # 从 180100 到 180104\n",
    "        [f\"{num:06d}\" for num in range(180200, 180204)] +  # 从 180200 到 180203\n",
    "        [f\"{num:06d}\" for num in range(180300, 180303)] +  # 从 180300 到 180302\n",
    "        [\"180400\", \"180500\"],                              # 单独的值 # 交通与道路设施用地\n",
    "    'G': [\"110000\"] +  # 单独的值\n",
    "        [f\"{num:06d}\" for num in range(110100, 110107)] +  # 从 110100 到 110106\n",
    "        [f\"{num:06d}\" for num in range(110200, 110211)]    # 从 110200 到 110210 # 绿地与广场用地\n",
    "}\n"
   ]
  },
  {
   "cell_type": "code",
   "execution_count": 6,
   "metadata": {
    "hidden": true
   },
   "outputs": [
    {
     "name": "stdout",
     "output_type": "stream",
     "text": [
      "12年分类保存完成： POI_12R\n",
      "12年分类保存完成： POI_12A\n",
      "12年分类保存完成： POI_12B\n",
      "12年分类保存完成： POI_12M\n",
      "12年分类保存完成： POI_12S\n",
      "12年分类保存完成： POI_12G\n",
      "12年所有分类完成\n"
     ]
    },
    {
     "ename": "ExecuteError",
     "evalue": "ERROR 000358: Invalid expression\nFailed to execute (SelectLayerByAttribute).\n",
     "output_type": "error",
     "traceback": [
      "\u001b[0;31m---------------------------------------------------------------------------\u001b[0m\n\u001b[0;31mExecuteError\u001b[0m                              Traceback (most recent call last)",
      "In  \u001b[0;34m[6]\u001b[0m:\nLine \u001b[0;34m13\u001b[0m:    arcpy.SelectLayerByAttribute_management(input_poi_layer, \u001b[33m\"\u001b[39;49;00m\u001b[33mNEW_SELECTION\u001b[39;49;00m\u001b[33m\"\u001b[39;49;00m, query)\n",
      "File \u001b[0;34mC:\\Program Files\\ArcGIS\\Pro\\Resources\\ArcPy\\arcpy\\management.py\u001b[0m, in \u001b[0;32mSelectLayerByAttribute\u001b[0m:\nLine \u001b[0;34m10780\u001b[0m: \u001b[34mraise\u001b[39;49;00m e\n",
      "File \u001b[0;34mC:\\Program Files\\ArcGIS\\Pro\\Resources\\ArcPy\\arcpy\\management.py\u001b[0m, in \u001b[0;32mSelectLayerByAttribute\u001b[0m:\nLine \u001b[0;34m10777\u001b[0m: retval = convertArcObjectToPythonObject(gp.SelectLayerByAttribute_management(*gp_fixargs((in_layer_or_view, selection_type, where_clause, invert_where_clause), \u001b[34mTrue\u001b[39;49;00m)))\n",
      "File \u001b[0;34mC:\\Program Files\\ArcGIS\\Pro\\Resources\\ArcPy\\arcpy\\geoprocessing\\_base.py\u001b[0m, in \u001b[0;32m<lambda>\u001b[0m:\nLine \u001b[0;34m512\u001b[0m:   \u001b[34mreturn\u001b[39;49;00m \u001b[34mlambda\u001b[39;49;00m *args: val(*gp_fixargs(args, \u001b[34mTrue\u001b[39;49;00m))\n",
      "\u001b[0;31mExecuteError\u001b[0m: ERROR 000358: Invalid expression\nFailed to execute (SelectLayerByAttribute).\n\n\u001b[0;31m---------------------------------------------------------------------------\u001b[0m"
     ]
    }
   ],
   "source": [
    "for year in range(12, 24):\n",
    "    # 输入的POI要素类\n",
    "    input_feature_class = f\"E:\\stu1\\Projects\\POI2023\\POIs.gdb\\POI{year}\"\n",
    "    \n",
    "    # 创建一个新的要素图层\n",
    "    input_poi_layer = arcpy.MakeFeatureLayer_management(input_feature_class, \"inputPoiLayer\").getOutput(0)\n",
    "    \n",
    "    for category, codes in typecode_ranges.items():\n",
    "        # 创建查询\n",
    "        query = \"typecode IN ('{}')\".format(\"', '\".join(codes))\n",
    "\n",
    "        # 按类型代码筛选POI\n",
    "        arcpy.SelectLayerByAttribute_management(input_poi_layer, \"NEW_SELECTION\", query)\n",
    "\n",
    "        # 保存筛选结果为新的要素类\n",
    "        output_feature_class = f\"POI_{year}{category}\"\n",
    "        arcpy.CopyFeatures_management(input_poi_layer, output_feature_class)\n",
    "\n",
    "        print(f\"{year}年分类保存完成：\", output_feature_class)\n",
    "\n",
    "        # 清除当前的选择\n",
    "        arcpy.SelectLayerByAttribute_management(input_poi_layer, \"CLEAR_SELECTION\")\n",
    "\n",
    "    print(f\"{year}年所有分类完成\")\n"
   ]
  },
  {
   "cell_type": "code",
   "execution_count": null,
   "metadata": {
    "hidden": true
   },
   "outputs": [],
   "source": [
    "for year in range(12, 18):\n",
    "    # 输入的POI要素类\n",
    "    input_feature_class = f\"E:\\\\stu1\\\\Projects\\\\POI2023\\\\POIs.gdb\\\\POI{year}\"\n",
    "\n",
    "    # 创建一个新的要素图层\n",
    "    input_poi_layer = arcpy.MakeFeatureLayer_management(input_feature_class, \"inputPoiLayer\").getOutput(0)\n",
    "\n",
    "    for category, codes in typecode_ranges.items():\n",
    "        # 根据年份和字段类型构建查询\n",
    "        if year in [13, 15, 16, 17]:\n",
    "            # typecode为double类型\n",
    "            query = \"typecode IN ({})\".format(\", \".join(map(str, codes)))\n",
    "        else:\n",
    "            # typecode为字符串类型\n",
    "            query = \"typecode IN ('{}')\".format(\"', '\".join(codes))\n",
    "\n",
    "        # 对于14年、15年、16年使用大写字段名\n",
    "        if year in [14, 15, 16]:\n",
    "            query = query.replace(\"typecode\", \"TYPECODE\")\n",
    "\n",
    "        print(f\"查询语句: {query}\")  # 打印查询语句检查\n",
    "\n",
    "        # 按类型代码筛选POI\n",
    "        arcpy.SelectLayerByAttribute_management(input_poi_layer, \"NEW_SELECTION\", query)\n",
    "\n",
    "        # 保存筛选结果为新的要素类\n",
    "        output_feature_class = f\"POI_{year}{category}\"\n",
    "        arcpy.CopyFeatures_management(input_poi_layer, output_feature_class)\n",
    "\n",
    "        print(f\"{year}年分类保存完成：{output_feature_class}\")\n",
    "\n",
    "        # 清除当前的选择\n",
    "        arcpy.SelectLayerByAttribute_management(input_poi_layer, \"CLEAR_SELECTION\")\n",
    "\n",
    "    print(f\"{year}年所有分类完成\")\n"
   ]
  },
  {
   "cell_type": "markdown",
   "metadata": {
    "heading_collapsed": true
   },
   "source": [
    "# 筛选"
   ]
  },
  {
   "cell_type": "code",
   "execution_count": null,
   "metadata": {
    "hidden": true
   },
   "outputs": [],
   "source": [
    "# 投影"
   ]
  },
  {
   "cell_type": "code",
   "execution_count": null,
   "metadata": {
    "hidden": true
   },
   "outputs": [],
   "source": [
    "for year in range(13, 24):\n",
    "    "
   ]
  },
  {
   "cell_type": "markdown",
   "metadata": {
    "heading_collapsed": true
   },
   "source": [
    "# 为街区添加功能识别指标字段"
   ]
  },
  {
   "cell_type": "code",
   "execution_count": 8,
   "metadata": {
    "hidden": true
   },
   "outputs": [
    {
     "name": "stdout",
     "output_type": "stream",
     "text": [
      "字段添加完成\n"
     ]
    }
   ],
   "source": [
    "# block23.shp 的路径\n",
    "block23_path = r\"E:\\stu1\\Projects\\POI2023\\POI2023.gdb\\block23\\block23\"\n",
    "\n",
    "# 定义六个新字段\n",
    "type_ratio_fields = [\"R_Ratio\", \"A_Ratio\", \"B_Ratio\", \n",
    "                     \"M_Ratio\", \"S_Ratio\", \"G_Ratio\"]\n",
    "\n",
    "# 添加新字段\n",
    "for field in type_ratio_fields:\n",
    "    arcpy.AddField_management(block23_path, field, \"DOUBLE\")\n",
    "\n",
    "print(\"字段添加完成\")\n"
   ]
  },
  {
   "cell_type": "markdown",
   "metadata": {
    "heading_collapsed": true
   },
   "source": [
    "# 数据分析"
   ]
  },
  {
   "cell_type": "code",
   "execution_count": 9,
   "metadata": {
    "hidden": true
   },
   "outputs": [],
   "source": [
    "# temp_stats_table 路径\n",
    "temp_stats_table_path = r\"E:\\stu1\\Projects\\POI2023\\POI2023.gdb\\temp_stats\""
   ]
  },
  {
   "cell_type": "code",
   "execution_count": 10,
   "metadata": {
    "hidden": true
   },
   "outputs": [],
   "source": [
    "# 准备一个字典来收集每个街区的类型比例值\n",
    "block_type_ratios = {}\n",
    "\n",
    "# 从 temp_stats_table 收集每个街区的类型比例值\n",
    "with arcpy.da.SearchCursor(temp_stats_table_path, [\"BlockID\", \"type\", \"Type_Ratio\"]) as cursor:\n",
    "    for row in cursor:\n",
    "        block_id = row[0]\n",
    "        type_code = row[1]\n",
    "        type_ratio = row[2]\n",
    "\n",
    "        if block_id not in block_type_ratios:\n",
    "            block_type_ratios[block_id] = {field: 0 for field in type_ratio_fields}\n",
    "        \n",
    "        field_name = f\"{type_code}_Ratio\"\n",
    "        block_type_ratios[block_id][field_name] = type_ratio\n",
    "        \n"
   ]
  },
  {
   "cell_type": "code",
   "execution_count": 11,
   "metadata": {
    "hidden": true
   },
   "outputs": [
    {
     "name": "stdout",
     "output_type": "stream",
     "text": [
      "block23 要素类中的类型比例字段更新完成\n"
     ]
    }
   ],
   "source": [
    "# 更新 block23 要素类中的字段值\n",
    "with arcpy.da.UpdateCursor(block23_path, [\"BlockID\"] + type_ratio_fields) as cursor:\n",
    "    for row in cursor:\n",
    "        block_id = row[0]\n",
    "\n",
    "        # 如果这个街区的类型比例值存在于字典中，更新它们\n",
    "        if block_id in block_type_ratios:\n",
    "            for i, field in enumerate(type_ratio_fields, 1):\n",
    "                row[i] = block_type_ratios[block_id][field]\n",
    "            cursor.updateRow(row)\n",
    "\n",
    "print(\"block23 要素类中的类型比例字段更新完成\")"
   ]
  },
  {
   "cell_type": "markdown",
   "metadata": {},
   "source": [
    "# 识别单一功能区"
   ]
  },
  {
   "cell_type": "code",
   "execution_count": 20,
   "metadata": {},
   "outputs": [
    {
     "data": {
      "text/html": [
       "<div class='gpresult'><h2>Messages</h2><div id='messages' data-messages='[\"Start Time: 2024年1月11日 20:46:16\",\"Adding Dominant_Type to block23...\",\"Succeeded at 2024年1月11日 20:46:16 (Elapsed Time: 0.43 seconds)\"]' data-show='true'><div id = 'default' /></div></div>"
      ],
      "text/plain": [
       "<Result 'E:\\\\stu1\\\\Projects\\\\POI2023\\\\POI2023.gdb\\\\block23\\\\block23'>"
      ]
     },
     "execution_count": 20,
     "metadata": {},
     "output_type": "execute_result"
    }
   ],
   "source": [
    "# 添加一个新字段来标记单一功能区\n",
    "dominant_field = \"Dominant_Type\"\n",
    "arcpy.AddField_management(block23_path, dominant_field, \"TEXT\")"
   ]
  },
  {
   "cell_type": "code",
   "execution_count": 21,
   "metadata": {},
   "outputs": [
    {
     "name": "stdout",
     "output_type": "stream",
     "text": [
      "Dominant_Type 字段更新完成\n"
     ]
    }
   ],
   "source": [
    "# 标记 Dominant_Type 字段\n",
    "with arcpy.da.UpdateCursor(block23_path, [\"BlockID\"] + type_ratio_fields + [dominant_field]) as cursor:\n",
    "    for row in cursor:\n",
    "        # 获取除 BlockID 和 Dominant_Type 外的 Type_Ratio 值\n",
    "        type_ratios = row[1:-1]\n",
    "        \n",
    "        # 检查是否所有 Type_Ratio 值都是 None\n",
    "        if all(value is None for value in type_ratios):\n",
    "            row[-1] = None  # 全部为 NULL，则标记为 NULL\n",
    "        else:\n",
    "            # 找出最大的 Type_Ratio（忽略 None 值）\n",
    "            valid_ratios = [value for value in type_ratios if value is not None]\n",
    "            max_ratio = max(valid_ratios) if valid_ratios else 0  # 如果没有有效值，使用 0 作为最大值\n",
    "\n",
    "            if max_ratio > 0.5:\n",
    "                # 获取最大 Type_Ratio 值的索引\n",
    "                dominant_index = type_ratios.index(max_ratio)\n",
    "                # 标记为对应的单一功能类型\n",
    "                row[-1] = type_ratio_fields[dominant_index].replace(\"_Ratio\", \"\")\n",
    "            else:\n",
    "                row[-1] = \"Mixed\"  # 如果没有类型比例大于 0.5，则为混合功能区\n",
    "        cursor.updateRow(row)\n",
    "\n",
    "print(\"Dominant_Type 字段更新完成\")\n"
   ]
  },
  {
   "cell_type": "markdown",
   "metadata": {},
   "source": [
    " 检查"
   ]
  },
  {
   "cell_type": "code",
   "execution_count": 22,
   "metadata": {},
   "outputs": [
    {
     "name": "stdout",
     "output_type": "stream",
     "text": [
      "BlockID 1: Type Ratios - [0.2844759095321871, 0.2589143555074278, 0.30073414087764544, 0.15587559408273968, 0.0, 0.0], Dominant Type - Mixed\n",
      "No dominant type found. Setting to Mixed.\n",
      "BlockID 2: Type Ratios - [0.29710516562801664, 0.25753220102524094, 0.3111903839184352, 0.13417224942830713, 0.0, 0.0], Dominant Type - Mixed\n",
      "No dominant type found. Setting to Mixed.\n",
      "BlockID 3: Type Ratios - [0.1951019775024251, 0.17263857827595722, 0.28276532205836435, 0.3494941221632534, 0.0, 0.0], Dominant Type - Mixed\n",
      "No dominant type found. Setting to Mixed.\n",
      "BlockID 4: Type Ratios - [0.3260789312950058, 0.10991820072793636, 0.38919417269755113, 0.06871982075748553, 0.0, 0.10608887452202098], Dominant Type - Mixed\n",
      "No dominant type found. Setting to Mixed.\n",
      "BlockID 5: Type Ratios - [0.17261810307422207, 0.17456391212674358, 0.4709251367139519, 0.18189284808508244, 0.0, 0.0], Dominant Type - Mixed\n",
      "No dominant type found. Setting to Mixed.\n",
      "BlockID 6: Type Ratios - [0.197537177193157, 0.19976388239236034, 0.2963992263005996, 0.07493429532639778, 0.0, 0.23136541878748515], Dominant Type - Mixed\n",
      "No dominant type found. Setting to Mixed.\n",
      "BlockID 7: Type Ratios - [0.33212492642736363, 0.19192499988432718, 0.35596037677199743, 0.11998969691631171, 0.0, 0.0], Dominant Type - Mixed\n",
      "No dominant type found. Setting to Mixed.\n",
      "BlockID 8: Type Ratios - [0.20100519834364194, 0.25408874529798725, 0.4284132085890888, 0.11649284776928188, 0.0, 0.0], Dominant Type - Mixed\n",
      "No dominant type found. Setting to Mixed.\n",
      "BlockID 9: Type Ratios - [0.07245354230159198, 0.10990539433313201, 0.34591006960291776, 0.2595779652105093, 0.0, 0.21215302855184906], Dominant Type - Mixed\n",
      "No dominant type found. Setting to Mixed.\n",
      "BlockID 10: Type Ratios - [0.0, 1.0, 0.0, 0.0, 0.0, 0.0], Dominant Type - A\n",
      "Found a dominant type: A\n",
      "BlockID 11: Type Ratios - [0.4160131415405632, 0.3155269357187525, 0.22462337616300637, 0.043836546577677986, 0.0, 0.0], Dominant Type - Mixed\n",
      "No dominant type found. Setting to Mixed.\n",
      "BlockID 12: Type Ratios - [0.19471540421223985, 0.19691030144163793, 0.37350668833900397, 0.09232984526737703, 0.0, 0.1425377607397412], Dominant Type - Mixed\n",
      "No dominant type found. Setting to Mixed.\n",
      "BlockID 13: Type Ratios - [0.2852636950269892, 0.20980311484155278, 0.3846968417539697, 0.12023634837748842, 0.0, 0.0], Dominant Type - Mixed\n",
      "No dominant type found. Setting to Mixed.\n",
      "BlockID 14: Type Ratios - [0.34307032522742154, 0.17346876439877956, 0.24373475580651308, 0.07230068855786194, 0.0, 0.16742546600942396], Dominant Type - Mixed\n",
      "No dominant type found. Setting to Mixed.\n",
      "BlockID 15: Type Ratios - [0.03387758022132904, 0.05138918947232303, 0.023105635812727388, 0.007139563513844004, 0.8844880309797766, 0.0], Dominant Type - S\n",
      "Found a dominant type: S\n",
      "BlockID 16: Type Ratios - [0.2346987992829977, 0.0, 0.32014476515079776, 0.4451564355662046, 0.0, 0.0], Dominant Type - Mixed\n",
      "No dominant type found. Setting to Mixed.\n",
      "BlockID 17: Type Ratios - [0.4583007403096879, 0.17380007238719863, 0.07814408473920495, 0.2897551025639084, 0.0, 0.0], Dominant Type - Mixed\n",
      "No dominant type found. Setting to Mixed.\n",
      "BlockID 18: Type Ratios - [0.4086652763619249, 0.33061751054659916, 0.20904247698411457, 0.05167473610736144, 0.0, 0.0], Dominant Type - Mixed\n",
      "No dominant type found. Setting to Mixed.\n",
      "BlockID 19: Type Ratios - [0.29845099288846105, 0.11318071215201428, 0.3053302466369516, 0.2830380483225731, 0.0, 0.0], Dominant Type - Mixed\n",
      "No dominant type found. Setting to Mixed.\n",
      "BlockID 20: Type Ratios - [0.3160730924173222, 0.0, 0.12125944991304492, 0.09991669580239704, 0.0, 0.4627507618672358], Dominant Type - Mixed\n",
      "No dominant type found. Setting to Mixed.\n",
      "BlockID 21: Type Ratios - [0.2934434885453252, 0.07418782044917639, 0.5086846255848949, 0.12368406542060366, 0.0, 0.0], Dominant Type - B\n",
      "Found a dominant type: B\n",
      "BlockID 22: Type Ratios - [0.32695815768221764, 0.08266093487630835, 0.4181181220026297, 0.17226278543884427, 0.0, 0.0], Dominant Type - Mixed\n",
      "No dominant type found. Setting to Mixed.\n",
      "BlockID 23: Type Ratios - [0.0, 0.0, 1.0, 0.0, 0.0, 0.0], Dominant Type - B\n",
      "Found a dominant type: B\n",
      "BlockID 24: Type Ratios - [None, None, None, None, None, None], Dominant Type - None\n",
      "All values are None. Setting Dominant Type to None.\n",
      "BlockID 25: Type Ratios - [0.3140716192719424, 0.07940298492985641, 0.3748627473258529, 0.23166264847234827, 0.0, 0.0], Dominant Type - Mixed\n",
      "No dominant type found. Setting to Mixed.\n",
      "BlockID 26: Type Ratios - [0.4058291220469039, 0.06840062729786826, 0.24219033223695646, 0.08552685208600627, 0.0, 0.1980530663322651], Dominant Type - Mixed\n",
      "No dominant type found. Setting to Mixed.\n",
      "BlockID 27: Type Ratios - [0.2621831141588178, 0.2154250556280507, 0.39116349761184166, 0.1312283326012898, 0.0, 0.0], Dominant Type - Mixed\n",
      "No dominant type found. Setting to Mixed.\n",
      "BlockID 28: Type Ratios - [0.31087866343122, 0.14147234631514155, 0.3445480710229004, 0.20310091923073803, 0.0, 0.0], Dominant Type - Mixed\n",
      "No dominant type found. Setting to Mixed.\n",
      "BlockID 29: Type Ratios - [0.19901535862116448, 0.3018880895645065, 0.37327149726586356, 0.12582505454846535, 0.0, 0.0], Dominant Type - Mixed\n",
      "No dominant type found. Setting to Mixed.\n",
      "BlockID 30: Type Ratios - [0.15298640860865312, 0.15471092262822542, 0.20868363197812637, 0.483619036784995, 0.0, 0.0], Dominant Type - Mixed\n",
      "No dominant type found. Setting to Mixed.\n",
      "BlockID 31: Type Ratios - [0.2274332018766345, 0.24277451091316243, 0.41795414867898883, 0.1118381385312142, 0.0, 0.0], Dominant Type - Mixed\n",
      "No dominant type found. Setting to Mixed.\n",
      "BlockID 32: Type Ratios - [None, None, None, None, None, None], Dominant Type - None\n",
      "All values are None. Setting Dominant Type to None.\n",
      "BlockID 33: Type Ratios - [0.0, 0.0, 0.0, 1.0, 0.0, 0.0], Dominant Type - M\n",
      "Found a dominant type: M\n",
      "BlockID 34: Type Ratios - [0.2528152900630942, 0.14061580976209861, 0.22128315373968438, 0.1385274893631236, 0.0, 0.24675825707199925], Dominant Type - Mixed\n",
      "No dominant type found. Setting to Mixed.\n",
      "BlockID 35: Type Ratios - [None, None, None, None, None, None], Dominant Type - None\n",
      "All values are None. Setting Dominant Type to None.\n",
      "BlockID 36: Type Ratios - [0.2834575820746478, 0.19110187389659067, 0.33295290495055574, 0.19248763907820576, 0.0, 0.0], Dominant Type - Mixed\n",
      "No dominant type found. Setting to Mixed.\n",
      "BlockID 37: Type Ratios - [0.28199627025710833, 0.11882292776303087, 0.3526065215989343, 0.10895422557316066, 0.0, 0.1376200548077659], Dominant Type - Mixed\n",
      "No dominant type found. Setting to Mixed.\n",
      "BlockID 38: Type Ratios - [0.2030871210792818, 0.2053763871041592, 0.334737737540175, 0.2567987542763839, 0.0, 0.0], Dominant Type - Mixed\n",
      "No dominant type found. Setting to Mixed.\n",
      "BlockID 39: Type Ratios - [0.0, 0.0, 0.0, 1.0, 0.0, 0.0], Dominant Type - M\n",
      "Found a dominant type: M\n",
      "BlockID 40: Type Ratios - [0.11366735220261565, 0.0, 0.0, 0.8863326477973844, 0.0, 0.0], Dominant Type - M\n",
      "Found a dominant type: M\n",
      "BlockID 41: Type Ratios - [0.16224715905863704, 0.3554981372754391, 0.22131591125261613, 0.10257880487378379, 0.0, 0.15835998753952388], Dominant Type - Mixed\n",
      "No dominant type found. Setting to Mixed.\n",
      "BlockID 42: Type Ratios - [0.1694736717437509, 0.08569201785676048, 0.17338001623378033, 0.5714542941657084, 0.0, 0.0], Dominant Type - M\n",
      "Found a dominant type: M\n",
      "BlockID 43: Type Ratios - [None, None, None, None, None, None], Dominant Type - None\n",
      "All values are None. Setting Dominant Type to None.\n",
      "BlockID 44: Type Ratios - [0.1409264047451476, 0.32574851283047424, 0.3810332380286797, 0.09334182598221472, 0.0, 0.058950018413483615], Dominant Type - Mixed\n",
      "No dominant type found. Setting to Mixed.\n",
      "BlockID 45: Type Ratios - [0.0, 0.0, 1.0, 0.0, 0.0, 0.0], Dominant Type - B\n",
      "Found a dominant type: B\n",
      "BlockID 46: Type Ratios - [0.0, 0.0, 0.0, 1.0, 0.0, 0.0], Dominant Type - M\n",
      "Found a dominant type: M\n",
      "BlockID 47: Type Ratios - [0.0, 0.0, 1.0, 0.0, 0.0, 0.0], Dominant Type - B\n",
      "Found a dominant type: B\n",
      "BlockID 48: Type Ratios - [0.5189068624373562, 0.26237807716358225, 0.0, 0.21871506039906158, 0.0, 0.0], Dominant Type - R\n",
      "Found a dominant type: R\n",
      "BlockID 49: Type Ratios - [None, None, None, None, None, None], Dominant Type - None\n",
      "All values are None. Setting Dominant Type to None.\n",
      "BlockID 50: Type Ratios - [0.0, 0.17537356842299512, 0.5322480360594527, 0.2923783955175522, 0.0, 0.0], Dominant Type - B\n",
      "Found a dominant type: B\n",
      "BlockID 51: Type Ratios - [0.662980916874828, 0.0, 0.15072500766995361, 0.18629407545521845, 0.0, 0.0], Dominant Type - R\n",
      "Found a dominant type: R\n",
      "BlockID 52: Type Ratios - [0.1560921860912598, 0.0, 0.7452204162847796, 0.09868739762396057, 0.0, 0.0], Dominant Type - B\n",
      "Found a dominant type: B\n",
      "BlockID 53: Type Ratios - [0.24740682860765975, 0.3752935218218722, 0.16873968099384484, 0.20855996857662323, 0.0, 0.0], Dominant Type - Mixed\n",
      "No dominant type found. Setting to Mixed.\n",
      "BlockID 54: Type Ratios - [0.0, 0.3696234623037769, 0.20396082971675328, 0.32912119875752543, 0.0, 0.0972945092219443], Dominant Type - Mixed\n",
      "No dominant type found. Setting to Mixed.\n",
      "BlockID 55: Type Ratios - [0.7239796569188444, 0.0, 0.12344454783445781, 0.15257579524669784, 0.0, 0.0], Dominant Type - R\n",
      "Found a dominant type: R\n",
      "BlockID 56: Type Ratios - [0.0, 0.0, 0.0, 1.0, 0.0, 0.0], Dominant Type - M\n",
      "Found a dominant type: M\n",
      "BlockID 57: Type Ratios - [0.0, 0.0, 0.03547142916661865, 0.9645285708333814, 0.0, 0.0], Dominant Type - M\n",
      "Found a dominant type: M\n",
      "BlockID 58: Type Ratios - [0.26429825964877846, 0.1336387590609275, 0.04506504961013686, 0.5569979316801572, 0.0, 0.0], Dominant Type - M\n",
      "Found a dominant type: M\n",
      "BlockID 59: Type Ratios - [0.0, 0.0, 0.0, 1.0, 0.0, 0.0], Dominant Type - M\n",
      "Found a dominant type: M\n",
      "BlockID 60: Type Ratios - [0.0, 0.0, 0.44722989058151624, 0.5527701094184838, 0.0, 0.0], Dominant Type - M\n",
      "Found a dominant type: M\n",
      "BlockID 61: Type Ratios - [0.0, 0.6427871512178928, 0.0, 0.35721284878210724, 0.0, 0.0], Dominant Type - A\n",
      "Found a dominant type: A\n",
      "BlockID 62: Type Ratios - [0.0, 0.0, 1.0, 0.0, 0.0, 0.0], Dominant Type - B\n",
      "Found a dominant type: B\n",
      "BlockID 63: Type Ratios - [0.21516503092572747, 0.14506029546281807, 0.17120798712141774, 0.4685666864900367, 0.0, 0.0], Dominant Type - Mixed\n",
      "No dominant type found. Setting to Mixed.\n",
      "BlockID 64: Type Ratios - [0.0, 0.2527369182272082, 0.255680354373006, 0.4915827273997858, 0.0, 0.0], Dominant Type - Mixed\n",
      "No dominant type found. Setting to Mixed.\n",
      "BlockID 65: Type Ratios - [0.0, 0.07053060647287296, 0.04756801547796414, 0.881901378049163, 0.0, 0.0], Dominant Type - M\n",
      "Found a dominant type: M\n",
      "BlockID 66: Type Ratios - [0.0, 0.0, 0.0, 1.0, 0.0, 0.0], Dominant Type - M\n",
      "Found a dominant type: M\n",
      "BlockID 67: Type Ratios - [0.0, 0.0, 0.0, 1.0, 0.0, 0.0], Dominant Type - M\n",
      "Found a dominant type: M\n",
      "BlockID 68: Type Ratios - [0.0, 0.0, 0.0, 1.0, 0.0, 0.0], Dominant Type - M\n",
      "Found a dominant type: M\n",
      "BlockID 69: Type Ratios - [None, None, None, None, None, None], Dominant Type - None\n",
      "All values are None. Setting Dominant Type to None.\n",
      "BlockID 70: Type Ratios - [0.16756246110661538, 0.1976931614818846, 0.1428539603817469, 0.16479452941121436, 0.0, 0.3270958876185388], Dominant Type - Mixed\n",
      "No dominant type found. Setting to Mixed.\n",
      "BlockID 71: Type Ratios - [0.0, 0.0, 0.0, 1.0, 0.0, 0.0], Dominant Type - M\n",
      "Found a dominant type: M\n",
      "BlockID 72: Type Ratios - [0.06568318681342632, 0.3653297432770036, 0.38078399226655385, 0.05998402338430684, 0.0, 0.1282190542587093], Dominant Type - Mixed\n",
      "No dominant type found. Setting to Mixed.\n",
      "BlockID 73: Type Ratios - [0.21427841100447487, 0.10834691449818543, 0.0, 0.6773746744973397, 0.0, 0.0], Dominant Type - M\n",
      "Found a dominant type: M\n",
      "BlockID 74: Type Ratios - [0.0, 0.0, 0.0, 1.0, 0.0, 0.0], Dominant Type - M\n",
      "Found a dominant type: M\n",
      "BlockID 75: Type Ratios - [0.2518075413329968, 0.19098450018537855, 0.0, 0.5572079584816245, 0.0, 0.0], Dominant Type - M\n",
      "Found a dominant type: M\n",
      "BlockID 76: Type Ratios - [None, None, None, None, None, None], Dominant Type - None\n",
      "All values are None. Setting Dominant Type to None.\n",
      "BlockID 77: Type Ratios - [None, None, None, None, None, None], Dominant Type - None\n",
      "All values are None. Setting Dominant Type to None.\n",
      "BlockID 78: Type Ratios - [0.0, 0.0, 0.23107197192639564, 0.7689280280736045, 0.0, 0.0], Dominant Type - M\n",
      "Found a dominant type: M\n",
      "BlockID 79: Type Ratios - [0.0, 0.14725432048266693, 0.0, 0.0, 0.0, 0.852745679517333], Dominant Type - G\n",
      "Found a dominant type: G\n",
      "BlockID 80: Type Ratios - [0.5994800527631093, 0.07577969907889587, 0.22998674412916872, 0.09475350402882608, 0.0, 0.0], Dominant Type - R\n",
      "Found a dominant type: R\n",
      "BlockID 81: Type Ratios - [0.0, 0.45866216579647784, 0.5413378342035222, 0.0, 0.0, 0.0], Dominant Type - B\n",
      "Found a dominant type: B\n",
      "BlockID 82: Type Ratios - [0.0, 0.0, 0.015035946866349351, 0.9849640531336507, 0.0, 0.0], Dominant Type - M\n",
      "Found a dominant type: M\n",
      "BlockID 83: Type Ratios - [0.0, 0.021668470053034187, 0.10229718972912488, 0.8760343402178409, 0.0, 0.0], Dominant Type - M\n",
      "Found a dominant type: M\n",
      "BlockID 84: Type Ratios - [0.08079594152929252, 0.06128002532526596, 0.09643465616109965, 0.23412701249786838, 0.5273623644864736, 0.0], Dominant Type - S\n",
      "Found a dominant type: S\n",
      "BlockID 85: Type Ratios - [0.34313514169771037, 0.1301261534628009, 0.21940272427641572, 0.30733598056307293, 0.0, 0.0], Dominant Type - Mixed\n",
      "No dominant type found. Setting to Mixed.\n",
      "BlockID 86: Type Ratios - [0.1753300258773745, 0.13297980347378877, 0.17438882077667406, 0.5173013498721627, 0.0, 0.0], Dominant Type - M\n",
      "Found a dominant type: M\n",
      "BlockID 87: Type Ratios - [None, None, None, None, None, None], Dominant Type - None\n",
      "All values are None. Setting Dominant Type to None.\n",
      "BlockID 88: Type Ratios - [0.3511544984942152, 0.08877820739302425, 0.449060700867663, 0.11100659324509748, 0.0, 0.0], Dominant Type - Mixed\n",
      "No dominant type found. Setting to Mixed.\n",
      "BlockID 89: Type Ratios - [0.054398140756205235, 0.3850793436838411, 0.34009561856982123, 0.06114234108836902, 0.0, 0.15928455590176344], Dominant Type - Mixed\n",
      "No dominant type found. Setting to Mixed.\n",
      "BlockID 90: Type Ratios - [0.5420587932176136, 0.1370422653556822, 0.09242552879623388, 0.22847341263047036, 0.0, 0.0], Dominant Type - R\n",
      "Found a dominant type: R\n",
      "BlockID 91: Type Ratios - [0.034003234550056625, 0.1031595911838209, 0.01159566812085517, 0.6521100638114983, 0.0, 0.19913144233376912], Dominant Type - M\n",
      "Found a dominant type: M\n",
      "BlockID 92: Type Ratios - [0.28564649521615915, 0.28886639814820364, 0.36528825884961025, 0.060198847786026986, 0.0, 0.0], Dominant Type - Mixed\n",
      "No dominant type found. Setting to Mixed.\n",
      "BlockID 93: Type Ratios - [0.103513333237583, 0.3140405105621312, 0.5824461562002857, 0.0, 0.0, 0.0], Dominant Type - B\n",
      "Found a dominant type: B\n",
      "BlockID 94: Type Ratios - [0.031405513083086055, 0.03175952654151153, 0.00803235144454885, 0.06287656059932062, 0.8199464143333273, 0.04597963399820568], Dominant Type - S\n",
      "Found a dominant type: S\n",
      "BlockID 95: Type Ratios - [0.013810356652765924, 0.034915079042083894, 0.06357907551103817, 0.8876954887941119, 0.0, 0.0], Dominant Type - M\n",
      "Found a dominant type: M\n",
      "BlockID 96: Type Ratios - [0.15680167012094004, 0.202616188558363, 0.31786118817290077, 0.27170596533414315, 0.0, 0.05101498781365306], Dominant Type - Mixed\n",
      "No dominant type found. Setting to Mixed.\n",
      "BlockID 97: Type Ratios - [0.16862152400379038, 0.2770987087032548, 0.23001096880973176, 0.3242687984832231, 0.0, 0.0], Dominant Type - Mixed\n",
      "No dominant type found. Setting to Mixed.\n",
      "BlockID 98: Type Ratios - [0.02615716648380368, 0.006613004705537728, 0.05798018529768518, 0.5677892952809045, 0.34146034823206883, 0.0], Dominant Type - M\n",
      "Found a dominant type: M\n",
      "BlockID 99: Type Ratios - [0.3886371301453289, 0.39301797799682925, 0.11596525551785813, 0.10237963633998373, 0.0, 0.0], Dominant Type - Mixed\n",
      "No dominant type found. Setting to Mixed.\n",
      "BlockID 100: Type Ratios - [None, None, None, None, None, None], Dominant Type - None\n",
      "All values are None. Setting Dominant Type to None.\n",
      "BlockID 101: Type Ratios - [0.48953299265180017, 0.16501705748221734, 0.1391157388434844, 0.20633421102249813, 0.0, 0.0], Dominant Type - Mixed\n",
      "No dominant type found. Setting to Mixed.\n",
      "BlockID 102: Type Ratios - [0.2515943017145779, 0.2289873212283406, 0.3603509213760342, 0.15906745568104727, 0.0, 0.0], Dominant Type - Mixed\n",
      "No dominant type found. Setting to Mixed.\n"
     ]
    },
    {
     "name": "stdout",
     "output_type": "stream",
     "text": [
      "BlockID 103: Type Ratios - [0.1999133794426916, 0.0, 0.7158247423196366, 0.0842618782376718, 0.0, 0.0], Dominant Type - B\n",
      "Found a dominant type: B\n",
      "BlockID 104: Type Ratios - [0.1276016949117206, 0.258080127878772, 0.27559055859679266, 0.08963847667046024, 0.0, 0.2490891419422546], Dominant Type - Mixed\n",
      "No dominant type found. Setting to Mixed.\n",
      "BlockID 105: Type Ratios - [None, None, None, None, None, None], Dominant Type - None\n",
      "All values are None. Setting Dominant Type to None.\n",
      "BlockID 106: Type Ratios - [0.0, 0.03562811838673548, 0.0, 0.04454872611175617, 0.9198231555015083, 0.0], Dominant Type - S\n",
      "Found a dominant type: S\n",
      "BlockID 107: Type Ratios - [None, None, None, None, None, None], Dominant Type - None\n",
      "All values are None. Setting Dominant Type to None.\n",
      "BlockID 108: Type Ratios - [None, None, None, None, None, None], Dominant Type - None\n",
      "All values are None. Setting Dominant Type to None.\n",
      "BlockID 109: Type Ratios - [None, None, None, None, None, None], Dominant Type - None\n",
      "All values are None. Setting Dominant Type to None.\n",
      "BlockID 110: Type Ratios - [0.32256332447821795, 0.19934405716494738, 0.20777674777037217, 0.060425707366955426, 0.0, 0.2098901632195071], Dominant Type - Mixed\n",
      "No dominant type found. Setting to Mixed.\n",
      "BlockID 111: Type Ratios - [None, None, None, None, None, None], Dominant Type - None\n",
      "All values are None. Setting Dominant Type to None.\n",
      "BlockID 112: Type Ratios - [None, None, None, None, None, None], Dominant Type - None\n",
      "All values are None. Setting Dominant Type to None.\n",
      "BlockID 113: Type Ratios - [0.0645949632380153, 0.45726169503576936, 0.33592632965503216, 0.047645948705526436, 0.0, 0.09457106336565677], Dominant Type - Mixed\n",
      "No dominant type found. Setting to Mixed.\n",
      "BlockID 114: Type Ratios - [None, None, None, None, None, None], Dominant Type - None\n",
      "All values are None. Setting Dominant Type to None.\n",
      "BlockID 115: Type Ratios - [None, None, None, None, None, None], Dominant Type - None\n",
      "All values are None. Setting Dominant Type to None.\n",
      "BlockID 116: Type Ratios - [0.14965510527580278, 0.23962494057067246, 0.4167848385616847, 0.12090030640255502, 0.0, 0.07303480918928501], Dominant Type - Mixed\n",
      "No dominant type found. Setting to Mixed.\n",
      "BlockID 117: Type Ratios - [0.09836951505561968, 0.33988442797923085, 0.4584570738677352, 0.05528261038537487, 0.0, 0.0480063727120394], Dominant Type - Mixed\n",
      "No dominant type found. Setting to Mixed.\n",
      "BlockID 118: Type Ratios - [0.0, 0.0, 0.0, 1.0, 0.0, 0.0], Dominant Type - M\n",
      "Found a dominant type: M\n",
      "BlockID 119: Type Ratios - [0.7321293775149336, 0.12339703083070382, 0.04161138097364386, 0.10286221068071864, 0.0, 0.0], Dominant Type - R\n",
      "Found a dominant type: R\n",
      "BlockID 120: Type Ratios - [None, None, None, None, None, None], Dominant Type - None\n",
      "All values are None. Setting Dominant Type to None.\n",
      "BlockID 121: Type Ratios - [None, None, None, None, None, None], Dominant Type - None\n",
      "All values are None. Setting Dominant Type to None.\n",
      "BlockID 122: Type Ratios - [0.0, 0.0, 0.0, 1.0, 0.0, 0.0], Dominant Type - M\n",
      "Found a dominant type: M\n",
      "BlockID 123: Type Ratios - [0.08216663563952252, 0.26312734397837023, 0.07705551803377642, 0.2568582623723617, 0.0, 0.32079223997596923], Dominant Type - Mixed\n",
      "No dominant type found. Setting to Mixed.\n",
      "BlockID 124: Type Ratios - [0.0, 0.0, 0.0, 1.0, 0.0, 0.0], Dominant Type - M\n",
      "Found a dominant type: M\n",
      "BlockID 125: Type Ratios - [None, None, None, None, None, None], Dominant Type - None\n",
      "All values are None. Setting Dominant Type to None.\n",
      "BlockID 126: Type Ratios - [None, None, None, None, None, None], Dominant Type - None\n",
      "All values are None. Setting Dominant Type to None.\n",
      "BlockID 127: Type Ratios - [None, None, None, None, None, None], Dominant Type - None\n",
      "All values are None. Setting Dominant Type to None.\n",
      "BlockID 128: Type Ratios - [0.15017644027115543, 0.44042091022176466, 0.1638805186858058, 0.06962797515368332, 0.0, 0.17589415566759078], Dominant Type - Mixed\n",
      "No dominant type found. Setting to Mixed.\n",
      "BlockID 129: Type Ratios - [0.18292968654840497, 0.7399669248891709, 0.0, 0.07710338856242405, 0.0, 0.0], Dominant Type - A\n",
      "Found a dominant type: A\n",
      "BlockID 130: Type Ratios - [0.13914002937583708, 0.5628338494910344, 0.16607171891473652, 0.13195440221839194, 0.0, 0.0], Dominant Type - A\n",
      "Found a dominant type: A\n",
      "BlockID 131: Type Ratios - [0.0, 0.0, 0.0, 0.0, 1.0, 0.0], Dominant Type - S\n",
      "Found a dominant type: S\n",
      "BlockID 132: Type Ratios - [0.0, 0.0, 0.0, 1.0, 0.0, 0.0], Dominant Type - M\n",
      "Found a dominant type: M\n",
      "BlockID 133: Type Ratios - [0.02039593974578107, 0.22688434568148333, 0.3338570129829853, 0.3890017710556928, 0.0, 0.029860930534057598], Dominant Type - Mixed\n",
      "No dominant type found. Setting to Mixed.\n",
      "BlockID 134: Type Ratios - [None, None, None, None, None, None], Dominant Type - None\n",
      "All values are None. Setting Dominant Type to None.\n",
      "BlockID 135: Type Ratios - [0.7025795378818094, 0.1776248124162759, 0.11979564970191472, 0.0, 0.0, 0.0], Dominant Type - R\n",
      "Found a dominant type: R\n",
      "BlockID 136: Type Ratios - [0.0, 0.0, 0.0, 1.0, 0.0, 0.0], Dominant Type - M\n",
      "Found a dominant type: M\n",
      "BlockID 137: Type Ratios - [0.258221938832324, 0.3133592435792764, 0.352231891329692, 0.07618692625870759, 0.0, 0.0], Dominant Type - Mixed\n",
      "No dominant type found. Setting to Mixed.\n",
      "BlockID 138: Type Ratios - [0.048622709613862926, 0.09834160215222594, 0.0953416245500752, 0.12296448137159746, 0.6347295823122385, 0.0], Dominant Type - S\n",
      "Found a dominant type: S\n",
      "BlockID 139: Type Ratios - [None, None, None, None, None, None], Dominant Type - None\n",
      "All values are None. Setting Dominant Type to None.\n",
      "BlockID 140: Type Ratios - [0.0, 0.19014900759097036, 0.048090882394186026, 0.6241166573845396, 0.0, 0.13764345263030398], Dominant Type - M\n",
      "Found a dominant type: M\n",
      "BlockID 141: Type Ratios - [None, None, None, None, None, None], Dominant Type - None\n",
      "All values are None. Setting Dominant Type to None.\n",
      "BlockID 142: Type Ratios - [0.07597322621090928, 0.22280590337524092, 0.5958870549816715, 0.06084199483241465, 0.0, 0.04449182059976375], Dominant Type - B\n",
      "Found a dominant type: B\n",
      "BlockID 143: Type Ratios - [0.033327991141220814, 0.15166653937194127, 0.14775018564523015, 0.6672552838416078, 0.0, 0.0], Dominant Type - M\n",
      "Found a dominant type: M\n",
      "BlockID 144: Type Ratios - [0.3660664778478474, 0.21594585935400207, 0.3536984669197113, 0.06428919587843927, 0.0, 0.0], Dominant Type - Mixed\n",
      "No dominant type found. Setting to Mixed.\n",
      "BlockID 145: Type Ratios - [0.2625631007566056, 0.0, 0.6267686683959395, 0.11066823084745496, 0.0, 0.0], Dominant Type - B\n",
      "Found a dominant type: B\n",
      "BlockID 146: Type Ratios - [0.0, 1.0, 0.0, 0.0, 0.0, 0.0], Dominant Type - A\n",
      "Found a dominant type: A\n",
      "BlockID 147: Type Ratios - [0.27907702910603616, 0.18814858587769942, 0.14275485784612416, 0.11762871855310274, 0.0, 0.2723908086170374], Dominant Type - Mixed\n",
      "No dominant type found. Setting to Mixed.\n",
      "BlockID 148: Type Ratios - [0.0, 0.0, 0.0, 0.06714069238839025, 0.0, 0.9328593076116097], Dominant Type - G\n",
      "Found a dominant type: G\n",
      "BlockID 149: Type Ratios - [0.11480307833077923, 0.05804858853360482, 0.11744927326986063, 0.7096990598657552, 0.0, 0.0], Dominant Type - M\n",
      "Found a dominant type: M\n",
      "BlockID 150: Type Ratios - [0.3416333430864673, 0.25911326138459456, 0.29125661998546026, 0.1079967755434779, 0.0, 0.0], Dominant Type - Mixed\n",
      "No dominant type found. Setting to Mixed.\n",
      "BlockID 151: Type Ratios - [0.0, 0.27350292944349974, 0.1152867548540855, 0.41322933231445075, 0.0, 0.19798098338796394], Dominant Type - Mixed\n",
      "No dominant type found. Setting to Mixed.\n",
      "BlockID 152: Type Ratios - [0.0, 0.0, 1.0, 0.0, 0.0, 0.0], Dominant Type - B\n",
      "Found a dominant type: B\n",
      "BlockID 153: Type Ratios - [0.17265375547246212, 0.17459996641075345, 0.14719450037398127, 0.0, 0.0, 0.5055517777428032], Dominant Type - G\n",
      "Found a dominant type: G\n",
      "BlockID 154: Type Ratios - [None, None, None, None, None, None], Dominant Type - None\n",
      "All values are None. Setting Dominant Type to None.\n",
      "BlockID 155: Type Ratios - [0.6594204379789035, 0.06668536459378935, 0.13492399741540928, 0.1389702000118979, 0.0, 0.0], Dominant Type - R\n",
      "Found a dominant type: R\n",
      "BlockID 156: Type Ratios - [None, None, None, None, None, None], Dominant Type - None\n",
      "All values are None. Setting Dominant Type to None.\n",
      "BlockID 157: Type Ratios - [None, None, None, None, None, None], Dominant Type - None\n",
      "All values are None. Setting Dominant Type to None.\n",
      "BlockID 158: Type Ratios - [None, None, None, None, None, None], Dominant Type - None\n",
      "All values are None. Setting Dominant Type to None.\n",
      "BlockID 159: Type Ratios - [0.38926808322198114, 0.19682802169390615, 0.3318672151937974, 0.0820366798903153, 0.0, 0.0], Dominant Type - Mixed\n",
      "No dominant type found. Setting to Mixed.\n",
      "BlockID 160: Type Ratios - [None, None, None, None, None, None], Dominant Type - None\n",
      "All values are None. Setting Dominant Type to None.\n",
      "BlockID 161: Type Ratios - [0.0, 0.0, 0.7082175536716164, 0.29178244632838357, 0.0, 0.0], Dominant Type - B\n",
      "Found a dominant type: B\n",
      "BlockID 162: Type Ratios - [0.31054050994117666, 0.28263692388782213, 0.3282883728834657, 0.07853419328753547, 0.0, 0.0], Dominant Type - Mixed\n",
      "No dominant type found. Setting to Mixed.\n",
      "BlockID 163: Type Ratios - [0.0, 1.0, 0.0, 0.0, 0.0, 0.0], Dominant Type - A\n",
      "Found a dominant type: A\n",
      "BlockID 164: Type Ratios - [1.0, 0.0, 0.0, 0.0, 0.0, 0.0], Dominant Type - R\n",
      "Found a dominant type: R\n",
      "BlockID 165: Type Ratios - [0.4194304844909661, 0.0, 0.5363728733034571, 0.044196642205576876, 0.0, 0.0], Dominant Type - B\n",
      "Found a dominant type: B\n",
      "BlockID 166: Type Ratios - [None, None, None, None, None, None], Dominant Type - None\n",
      "All values are None. Setting Dominant Type to None.\n",
      "BlockID 167: Type Ratios - [0.4924716714836743, 0.24901148852511246, 0.22392136658022702, 0.034595473410986094, 0.0, 0.0], Dominant Type - Mixed\n",
      "No dominant type found. Setting to Mixed.\n",
      "BlockID 168: Type Ratios - [0.0, 0.43308861685323996, 0.029208831541422363, 0.03610172161378651, 0.0, 0.5016008299915512], Dominant Type - G\n",
      "Found a dominant type: G\n",
      "BlockID 169: Type Ratios - [0.0, 0.0, 0.0, 1.0, 0.0, 0.0], Dominant Type - M\n",
      "Found a dominant type: M\n",
      "BlockID 170: Type Ratios - [0.0, 0.0, 0.6180495489929569, 0.38195045100704317, 0.0, 0.0], Dominant Type - B\n",
      "Found a dominant type: B\n",
      "BlockID 171: Type Ratios - [0.0, 0.7101638727811461, 0.2052670329845922, 0.08456909423426183, 0.0, 0.0], Dominant Type - A\n",
      "Found a dominant type: A\n",
      "BlockID 172: Type Ratios - [0.13290231588119034, 0.3472011244814368, 0.2039485435811133, 0.12137071921145416, 0.0, 0.19457729684480524], Dominant Type - Mixed\n",
      "No dominant type found. Setting to Mixed.\n",
      "BlockID 173: Type Ratios - [0.15896576376408866, 0.48227303723080456, 0.32525980488233885, 0.03350139412276795, 0.0, 0.0], Dominant Type - Mixed\n",
      "No dominant type found. Setting to Mixed.\n",
      "BlockID 174: Type Ratios - [0.07922505516372487, 0.20530264793457972, 0.1688566284007875, 0.15757190806502167, 0.2585545240695402, 0.13048923636634607], Dominant Type - Mixed\n",
      "No dominant type found. Setting to Mixed.\n",
      "BlockID 175: Type Ratios - [0.27954196163900114, 0.0, 0.17476883407819874, 0.0, 0.0, 0.5456892042828001], Dominant Type - G\n",
      "Found a dominant type: G\n",
      "BlockID 176: Type Ratios - [None, None, None, None, None, None], Dominant Type - None\n",
      "All values are None. Setting Dominant Type to None.\n",
      "BlockID 177: Type Ratios - [0.0, 0.07013694848108129, 0.023651260195872735, 0.9062117913230461, 0.0, 0.0], Dominant Type - M\n",
      "Found a dominant type: M\n",
      "BlockID 178: Type Ratios - [0.06926708791029015, 0.38526339344179433, 0.09448491283068088, 0.24816191402991644, 0.0, 0.20282269178731835], Dominant Type - Mixed\n",
      "No dominant type found. Setting to Mixed.\n",
      "BlockID 179: Type Ratios - [None, None, None, None, None, None], Dominant Type - None\n",
      "All values are None. Setting Dominant Type to None.\n",
      "BlockID 180: Type Ratios - [0.26742124762266256, 0.20282678209634666, 0.501572995131648, 0.02817897514934291, 0.0, 0.0], Dominant Type - B\n",
      "Found a dominant type: B\n",
      "BlockID 181: Type Ratios - [0.02892609525111098, 0.08775647964478435, 0.054253535803688135, 0.8290638893004166, 0.0, 0.0], Dominant Type - M\n",
      "Found a dominant type: M\n",
      "BlockID 182: Type Ratios - [0.0, 1.0, 0.0, 0.0, 0.0, 0.0], Dominant Type - A\n",
      "Found a dominant type: A\n",
      "BlockID 183: Type Ratios - [0.10157615642038091, 0.2172947549056748, 0.6088498077335767, 0.0494002284004886, 0.0, 0.02287905253987907], Dominant Type - B\n",
      "Found a dominant type: B\n",
      "BlockID 184: Type Ratios - [None, None, None, None, None, None], Dominant Type - None\n",
      "All values are None. Setting Dominant Type to None.\n",
      "BlockID 185: Type Ratios - [0.7239796569188444, 0.0, 0.12344454783445781, 0.15257579524669784, 0.0, 0.0], Dominant Type - R\n",
      "Found a dominant type: R\n",
      "BlockID 186: Type Ratios - [0.0, 0.0, 0.0, 1.0, 0.0, 0.0], Dominant Type - M\n",
      "Found a dominant type: M\n",
      "BlockID 187: Type Ratios - [0.39626917059108424, 0.26715736623852687, 0.22522395538265555, 0.11134950778773338, 0.0, 0.0], Dominant Type - Mixed\n",
      "No dominant type found. Setting to Mixed.\n",
      "BlockID 188: Type Ratios - [None, None, None, None, None, None], Dominant Type - None\n",
      "All values are None. Setting Dominant Type to None.\n",
      "BlockID 189: Type Ratios - [0.0, 0.0, 0.25746861668929394, 0.742531383310706, 0.0, 0.0], Dominant Type - M\n",
      "Found a dominant type: M\n",
      "BlockID 190: Type Ratios - [0.0, 0.025756084583491556, 0.147650928820798, 0.8265929865957106, 0.0, 0.0], Dominant Type - M\n",
      "Found a dominant type: M\n",
      "BlockID 191: Type Ratios - [0.2192121647834015, 0.13229481153051095, 0.13383554935738579, 0.06259094758495713, 0.36924322093646755, 0.0828233058072771], Dominant Type - Mixed\n",
      "No dominant type found. Setting to Mixed.\n",
      "BlockID 192: Type Ratios - [0.0, 0.0, 0.0, 0.0, 1.0, 0.0], Dominant Type - S\n",
      "Found a dominant type: S\n",
      "BlockID 193: Type Ratios - [0.0, 0.1030022250240282, 0.0, 0.30051475103474184, 0.0, 0.59648302394123], Dominant Type - G\n",
      "Found a dominant type: G\n",
      "BlockID 194: Type Ratios - [0.25811839496894917, 0.1740186612921732, 0.5134655321488952, 0.054397411589982465, 0.0, 0.0], Dominant Type - B\n",
      "Found a dominant type: B\n",
      "BlockID 195: Type Ratios - [0.0, 0.0844834611722331, 0.0, 0.915516538827767, 0.0, 0.0], Dominant Type - M\n",
      "Found a dominant type: M\n",
      "BlockID 196: Type Ratios - [0.0, 1.0, 0.0, 0.0, 0.0, 0.0], Dominant Type - A\n",
      "Found a dominant type: A\n",
      "BlockID 197: Type Ratios - [0.0, 0.07808203531533175, 0.08776821983562504, 0.6834261123271563, 0.0, 0.15072363252188692], Dominant Type - M\n",
      "Found a dominant type: M\n",
      "BlockID 198: Type Ratios - [0.0, 0.2975740656061226, 0.7024259343938773, 0.0, 0.0, 0.0], Dominant Type - B\n",
      "Found a dominant type: B\n",
      "BlockID 199: Type Ratios - [0.0, 0.16931846233651873, 0.06851615467301855, 0.7621653829904627, 0.0, 0.0], Dominant Type - M\n",
      "Found a dominant type: M\n",
      "BlockID 200: Type Ratios - [0.020075781642323796, 0.081208330298461, 0.08215410243344247, 0.8165617856257729, 0.0, 0.0], Dominant Type - M\n",
      "Found a dominant type: M\n"
     ]
    }
   ],
   "source": [
    "# 检查 Type_Ratio 字段和计算 DOMINANT_TYPE 字段的逻辑\n",
    "count = 0\n",
    "with arcpy.da.UpdateCursor(block23_path, [\"BlockID\"] + type_ratio_fields + [dominant_field]) as cursor:\n",
    "    for row in cursor:\n",
    "        count += 1\n",
    "        if count <= 200:  # 只检查前200条记录\n",
    "            print(f\"BlockID {row[0]}: Type Ratios - {row[1:-1]}, Dominant Type - {row[-1]}\")\n",
    "            # 检查每个 Type_Ratio 值\n",
    "            if all(value is None for value in row[1:-1]):\n",
    "                print(\"All values are None. Setting Dominant Type to None.\")\n",
    "            else:\n",
    "                valid_ratios = [value for value in row[1:-1] if value is not None]\n",
    "                max_ratio = max(valid_ratios) if valid_ratios else 0\n",
    "                if max_ratio > 0.5:\n",
    "                    dominant_index = row[1:-1].index(max_ratio)  # 获取 Type_Ratio 最大值的索引\n",
    "                    dominant_type = type_ratio_fields[dominant_index].replace(\"_Ratio\", \"\")\n",
    "                    print(f\"Found a dominant type: {dominant_type}\")\n",
    "                else:\n",
    "                    print(\"No dominant type found. Setting to Mixed.\")\n"
   ]
  },
  {
   "cell_type": "markdown",
   "metadata": {},
   "source": [
    "# 尝试为核密度方法调整KDB结果"
   ]
  },
  {
   "cell_type": "code",
   "execution_count": 2,
   "metadata": {},
   "outputs": [],
   "source": [
    "import arcpy\n",
    "import numpy as np\n",
    "\n",
    "# 设置工作环境和矢量文件路径\n",
    "arcpy.env.workspace = r'E:\\stu1\\Projects\\POI2023\\POI2023.gdb'  \n",
    "feature_class = r'E:\\stu1\\Projects\\POI2023\\POI2023.gdb\\blocks_initial'  # 请替换为你的矢量文件名\n",
    "\n",
    "# 原始密度值字段名称\n",
    "density_fields = ['KDB_M', 'KDB_G', 'KDB_S', 'KDB_B', 'KDB_R', 'KDB_A']\n",
    "# 新的标准化字段名称\n",
    "new_fields = ['KDB_M_Norm', 'KDB_G_Norm', 'KDB_S_Norm', 'KDB_B_Norm', 'KDB_R_Norm', 'KDB_A_Norm']\n",
    "\n",
    "# 为每个密度值添加新字段用于存储标准化后的值\n",
    "for new_field in new_fields:\n",
    "    arcpy.AddField_management(feature_class, new_field, \"FLOAT\")\n",
    "\n",
    "# 读取POI核密度值，并进行标准化\n",
    "with arcpy.da.UpdateCursor(feature_class, density_fields + new_fields) as cursor:\n",
    "    # 存储每种类型POI的密度值\n",
    "    densities = {field: [] for field in density_fields}\n",
    "    # 先读取所有值\n",
    "    for row in cursor:\n",
    "        for idx, field in enumerate(density_fields):\n",
    "            densities[field].append(row[idx])\n",
    "    \n",
    "    # 计算每个字段的最小值、最大值和范围用于标准化\n",
    "    min_max_range = {field: (np.min(values), np.max(values), np.max(values) - np.min(values)) for field, values in densities.items()}\n",
    "    \n",
    "    # 重置cursor以更新行\n",
    "    cursor.reset()\n",
    "    \n",
    "    # 更新新字段的标准化值\n",
    "    for row in cursor:\n",
    "        for idx, field in enumerate(density_fields):\n",
    "            # 获取最小值和范围\n",
    "            min_val, max_val, range_val = min_max_range[field]\n",
    "            # 当范围为0时，所有值都相同，可以直接设置为0或1\n",
    "            if range_val == 0:\n",
    "                normalized_val = 0  # 或1，视需求而定\n",
    "            else:\n",
    "                # 进行最小-最大标准化\n",
    "                normalized_val = (row[idx] - min_val) / range_val\n",
    "            \n",
    "            # 更新标准化值\n",
    "            row[idx + len(density_fields)] = normalized_val\n",
    "        cursor.updateRow(row)\n"
   ]
  },
  {
   "cell_type": "code",
   "execution_count": 8,
   "metadata": {},
   "outputs": [],
   "source": [
    "# 如果用norm字段计算类型比例\n",
    "norm_fields = ['KDB_M_Norm', 'KDB_G_Norm', 'KDB_S_Norm', 'KDB_B_Norm', 'KDB_R_Norm', 'KDB_A_Norm']\n",
    "prop_fields = ['N_M_Prop', 'N_G_Prop', 'N_S_Prop', 'N_B_Prop', 'N_R_Prop', 'N_A_Prop']\n",
    "\n",
    "# 为比例值添加新字段\n",
    "for prop_field in prop_fields:\n",
    "    arcpy.AddField_management(feature_class, prop_field, \"DOUBLE\")\n",
    "\n",
    "# 计算并更新比例值\n",
    "with arcpy.da.UpdateCursor(feature_class, norm_fields + prop_fields) as cursor:\n",
    "    for row in cursor:\n",
    "        # 计算所有标准化值的总和\n",
    "        total_norm = sum(row[:len(norm_fields)])\n",
    "        # 避免除以零\n",
    "        if total_norm > 0:\n",
    "            # 计算每个类型的比例值并更新行\n",
    "            for i in range(len(norm_fields)):\n",
    "                row[len(norm_fields) + i] = row[i] / total_norm\n",
    "        else:\n",
    "            # 如果总和为0，则将比例值设为平均值或其他适当的默认值\n",
    "            for i in range(len(norm_fields), len(norm_fields) + len(prop_fields)):\n",
    "                row[i] = 1.0 / len(norm_fields)  # 或其他适当的值\n",
    "        cursor.updateRow(row)"
   ]
  },
  {
   "cell_type": "code",
   "execution_count": 5,
   "metadata": {},
   "outputs": [],
   "source": [
    "\n"
   ]
  },
  {
   "cell_type": "code",
   "execution_count": 6,
   "metadata": {},
   "outputs": [],
   "source": []
  },
  {
   "cell_type": "code",
   "execution_count": 7,
   "metadata": {},
   "outputs": [],
   "source": []
  },
  {
   "cell_type": "code",
   "execution_count": 9,
   "metadata": {},
   "outputs": [],
   "source": [
    "import arcpy\n",
    "\n",
    "def identify_urban_function_with_details(feature_class, method_prefix='FD', thresholds=(0.5, 0.4)):\n",
    "    \"\"\"\n",
    "    Identifies the urban function of each block, dynamically names output fields based on the method prefix,\n",
    "    adds two new fields to the feature class: one for the urban function category and another for the specific leading categories.\n",
    "    \"\"\"\n",
    "    # Dynamically create field names based on method_prefix\n",
    "    function_field = f\"{method_prefix}_UrbanFuncCat\"\n",
    "    leading_field = f\"{method_prefix}_LeadingCat\"\n",
    "\n",
    "    # Ensure the new fields exist, if not, add them\n",
    "    existing_fields = [f.name for f in arcpy.ListFields(feature_class)]\n",
    "    if function_field not in existing_fields:\n",
    "        arcpy.AddField_management(feature_class, function_field, \"TEXT\", field_length=255)\n",
    "    if leading_field not in existing_fields:\n",
    "        arcpy.AddField_management(feature_class, leading_field, \"TEXT\", field_length=255)\n",
    "\n",
    "    # Define a dictionary to map field suffixes to abbreviations\n",
    "    category_abbreviations = {\n",
    "        'A_Prop': '公服',  # Residential\n",
    "        'B_Prop': '商业',  # Commercial\n",
    "        'R_Prop': '居住',  # Recreational\n",
    "        'G_Prop': '绿地',  # Green Space\n",
    "        'S_Prop': '交通',  # Services\n",
    "        'M_Prop': '工业'   # Manufacturing\n",
    "    }\n",
    "\n",
    "    # Generate field names for the POI proportions based on the method prefix\n",
    "    poi_fields = [f'{method_prefix}_{suffix}' for suffix in category_abbreviations.keys()]\n",
    "    field_to_abbr = {f'{method_prefix}_{key}': val for key, val in category_abbreviations.items()}\n",
    "\n",
    "    # Update cursor to classify each block and identify leading categories\n",
    "    with arcpy.da.UpdateCursor(feature_class, poi_fields + [function_field, leading_field]) as cursor:\n",
    "        for row in cursor:\n",
    "            proportions = row[:-2]  # Exclude the output fields values\n",
    "            high_threshold, low_threshold = thresholds\n",
    "            \n",
    "            # Identify categories exceeding the high threshold\n",
    "            high_categories = [field_to_abbr[poi_fields[i]] for i, prop in enumerate(proportions) if prop > high_threshold]\n",
    "            if high_categories:\n",
    "                row[-2] = 'Single Dominant'\n",
    "                row[-1] = '/'.join(high_categories)\n",
    "            else:\n",
    "                # Identify categories exceeding the low threshold\n",
    "                low_categories = [field_to_abbr[poi_fields[i]] for i, prop in enumerate(proportions) if prop > low_threshold]\n",
    "                if len(low_categories) == 1:\n",
    "                    row[-2] = 'Single Mixed'\n",
    "                    row[-1] = low_categories[0]\n",
    "                elif len(low_categories) >= 2:\n",
    "                    row[-2] = 'Dual Mixed'\n",
    "                    row[-1] = '/'.join(low_categories[:2])  # Adjust based on preference\n",
    "                else:\n",
    "                    row[-2] = 'Multi Mixed'\n",
    "                    row[-1] = 'MULTI'\n",
    "\n",
    "            cursor.updateRow(row)"
   ]
  },
  {
   "cell_type": "code",
   "execution_count": 10,
   "metadata": {},
   "outputs": [],
   "source": [
    "feature_class = r'E:\\stu1\\Projects\\POI2023\\POI2023.gdb\\blocks_initial'\n",
    "method_prefix = 'N'  \n",
    "thresholds = (0.5, 0.4)  # Adjust your classification thresholds as needed\n",
    "\n",
    "identify_urban_function_with_details(feature_class, method_prefix, thresholds)"
   ]
  },
  {
   "cell_type": "markdown",
   "metadata": {},
   "source": [
    "# 对核密度调整"
   ]
  },
  {
   "cell_type": "code",
   "execution_count": 13,
   "metadata": {},
   "outputs": [],
   "source": [
    "import numpy as np\n",
    "import arcpy\n",
    "\n",
    "# 假设feature_class是你的街区特征类路径\n",
    "feature_class = r'E:\\stu1\\Projects\\POI2023\\POI2023.gdb\\blocks_initial'\n",
    "\n",
    "# 原始密度值字段名称\n",
    "density_fields = ['KD_M', 'KD_G', 'KD_S', 'KD_B', 'KD_R', 'KD_A']\n",
    "# 新的标准化字段名称\n",
    "new_fields = ['KD_M_Norm', 'KD_G_Norm', 'KD_S_Norm', 'KD_B_Norm', 'KD_R_Norm', 'KD_A_Norm']\n",
    "\n",
    "# 为每个密度值添加新字段用于存储标准化后的值\n",
    "for new_field in new_fields:\n",
    "    arcpy.AddField_management(feature_class, new_field, \"FLOAT\")\n",
    "\n",
    "# 存储每种类型POI的密度值\n",
    "densities = {field: [] for field in density_fields}\n",
    "\n",
    "# 使用SearchCursor读取所有值\n",
    "with arcpy.da.SearchCursor(feature_class, density_fields) as cursor:\n",
    "    for row in cursor:\n",
    "        for idx, field in enumerate(density_fields):\n",
    "            # 跳过None值\n",
    "            if row[idx] is not None:\n",
    "                densities[field].append(row[idx])\n",
    "\n",
    "# 清理None值并计算最小值、最大值和范围\n",
    "min_max_range = {}\n",
    "for field, values in densities.items():\n",
    "    cleaned_values = [x if x is not None else 0 for x in values]  # 清理None值\n",
    "    min_val = np.min(cleaned_values)\n",
    "    max_val = np.max(cleaned_values)\n",
    "    range_val = max_val - min_val\n",
    "    min_max_range[field] = (min_val, max_val, range_val)\n",
    "\n",
    "# 使用UpdateCursor更新新字段的标准化值\n",
    "with arcpy.da.UpdateCursor(feature_class, density_fields + new_fields) as cursor:\n",
    "    for row in cursor:\n",
    "        for idx, field in enumerate(density_fields):\n",
    "            min_val, max_val, range_val = min_max_range[field]\n",
    "            value = row[idx] if row[idx] is not None else 0  # 处理None值\n",
    "            # 当范围为0时，所有值都相同，可以直接设置为0或1\n",
    "            normalized_val = (value - min_val) / range_val if range_val else 0\n",
    "            # 更新标准化值\n",
    "            row[idx + len(density_fields)] = normalized_val\n",
    "        cursor.updateRow(row)\n"
   ]
  },
  {
   "cell_type": "code",
   "execution_count": 14,
   "metadata": {},
   "outputs": [],
   "source": [
    "# 如果用norm字段计算类型比例\n",
    "norm_fields = ['KD_M_Norm', 'KD_G_Norm', 'KD_S_Norm', 'KD_B_Norm', 'KD_R_Norm', 'KD_A_Norm']\n",
    "prop_fields = ['N0_M_Prop', 'N0_G_Prop', 'N0_S_Prop', 'N0_B_Prop', 'N0_R_Prop', 'N0_A_Prop']\n",
    "\n",
    "# 为比例值添加新字段\n",
    "for prop_field in prop_fields:\n",
    "    arcpy.AddField_management(feature_class, prop_field, \"DOUBLE\")\n",
    "\n",
    "# 计算并更新比例值\n",
    "with arcpy.da.UpdateCursor(feature_class, norm_fields + prop_fields) as cursor:\n",
    "    for row in cursor:\n",
    "        # 计算所有标准化值的总和\n",
    "        total_norm = sum(row[:len(norm_fields)])\n",
    "        # 避免除以零\n",
    "        if total_norm > 0:\n",
    "            # 计算每个类型的比例值并更新行\n",
    "            for i in range(len(norm_fields)):\n",
    "                row[len(norm_fields) + i] = row[i] / total_norm\n",
    "        else:\n",
    "            # 如果总和为0，则将比例值设为平均值或其他适当的默认值\n",
    "            for i in range(len(norm_fields), len(norm_fields) + len(prop_fields)):\n",
    "                row[i] = 1.0 / len(norm_fields)  # 或其他适当的值\n",
    "        cursor.updateRow(row)"
   ]
  },
  {
   "cell_type": "code",
   "execution_count": 15,
   "metadata": {},
   "outputs": [],
   "source": [
    "feature_class = r'E:\\stu1\\Projects\\POI2023\\POI2023.gdb\\blocks_initial'\n",
    "method_prefix = 'N0'  \n",
    "thresholds = (0.5, 0.4)  # Adjust your classification thresholds as needed\n",
    "\n",
    "identify_urban_function_with_details(feature_class, method_prefix, thresholds)"
   ]
  },
  {
   "cell_type": "markdown",
   "metadata": {},
   "source": [
    "# 为去丛聚核密度"
   ]
  },
  {
   "cell_type": "code",
   "execution_count": 16,
   "metadata": {},
   "outputs": [],
   "source": [
    "import numpy as np\n",
    "import arcpy\n",
    "\n",
    "# 假设feature_class是你的街区特征类路径\n",
    "feature_class = r'E:\\stu1\\Projects\\POI2023\\POI2023.gdb\\blocks_initial'\n",
    "\n",
    "# 原始密度值字段名称\n",
    "density_fields = ['DE_KD_M', 'DE_KD_G', 'DE_KD_S', 'DE_KD_B', 'DE_KD_R', 'DE_KD_A']\n",
    "# 新的标准化字段名称\n",
    "new_fields = ['DK_M_Norm', 'DK_G_Norm', 'DK_S_Norm', 'DK_B_Norm', 'DK_R_Norm', 'DK_A_Norm']\n",
    "\n",
    "# 为每个密度值添加新字段用于存储标准化后的值\n",
    "for new_field in new_fields:\n",
    "    arcpy.AddField_management(feature_class, new_field, \"FLOAT\")\n",
    "\n",
    "# 存储每种类型POI的密度值\n",
    "densities = {field: [] for field in density_fields}\n",
    "\n",
    "# 使用SearchCursor读取所有值\n",
    "with arcpy.da.SearchCursor(feature_class, density_fields) as cursor:\n",
    "    for row in cursor:\n",
    "        for idx, field in enumerate(density_fields):\n",
    "            # 跳过None值\n",
    "            if row[idx] is not None:\n",
    "                densities[field].append(row[idx])\n",
    "\n",
    "# 清理None值并计算最小值、最大值和范围\n",
    "min_max_range = {}\n",
    "for field, values in densities.items():\n",
    "    cleaned_values = [x if x is not None else 0 for x in values]  # 清理None值\n",
    "    min_val = np.min(cleaned_values)\n",
    "    max_val = np.max(cleaned_values)\n",
    "    range_val = max_val - min_val\n",
    "    min_max_range[field] = (min_val, max_val, range_val)\n",
    "\n",
    "# 使用UpdateCursor更新新字段的标准化值\n",
    "with arcpy.da.UpdateCursor(feature_class, density_fields + new_fields) as cursor:\n",
    "    for row in cursor:\n",
    "        for idx, field in enumerate(density_fields):\n",
    "            min_val, max_val, range_val = min_max_range[field]\n",
    "            value = row[idx] if row[idx] is not None else 0  # 处理None值\n",
    "            # 当范围为0时，所有值都相同，可以直接设置为0或1\n",
    "            normalized_val = (value - min_val) / range_val if range_val else 0\n",
    "            # 更新标准化值\n",
    "            row[idx + len(density_fields)] = normalized_val\n",
    "        cursor.updateRow(row)\n"
   ]
  },
  {
   "cell_type": "code",
   "execution_count": 17,
   "metadata": {},
   "outputs": [],
   "source": [
    "# 如果用norm字段计算类型比例\n",
    "norm_fields = ['DK_M_Norm', 'DK_G_Norm', 'DK_S_Norm', 'DK_B_Norm', 'DK_R_Norm', 'DK_A_Norm']\n",
    "prop_fields = ['N1_M_Prop', 'N1_G_Prop', 'N1_S_Prop', 'N1_B_Prop', 'N1_R_Prop', 'N1_A_Prop']\n",
    "\n",
    "# 为比例值添加新字段\n",
    "for prop_field in prop_fields:\n",
    "    arcpy.AddField_management(feature_class, prop_field, \"DOUBLE\")\n",
    "\n",
    "# 计算并更新比例值\n",
    "with arcpy.da.UpdateCursor(feature_class, norm_fields + prop_fields) as cursor:\n",
    "    for row in cursor:\n",
    "        # 计算所有标准化值的总和\n",
    "        total_norm = sum(row[:len(norm_fields)])\n",
    "        # 避免除以零\n",
    "        if total_norm > 0:\n",
    "            # 计算每个类型的比例值并更新行\n",
    "            for i in range(len(norm_fields)):\n",
    "                row[len(norm_fields) + i] = row[i] / total_norm\n",
    "        else:\n",
    "            # 如果总和为0，则将比例值设为平均值或其他适当的默认值\n",
    "            for i in range(len(norm_fields), len(norm_fields) + len(prop_fields)):\n",
    "                row[i] = 1.0 / len(norm_fields)  # 或其他适当的值\n",
    "        cursor.updateRow(row)"
   ]
  },
  {
   "cell_type": "code",
   "execution_count": 18,
   "metadata": {},
   "outputs": [],
   "source": [
    "feature_class = r'E:\\stu1\\Projects\\POI2023\\POI2023.gdb\\blocks_initial'\n",
    "method_prefix = 'N1'  \n",
    "thresholds = (0.5, 0.4)  # Adjust your classification thresholds as needed\n",
    "\n",
    "identify_urban_function_with_details(feature_class, method_prefix, thresholds)"
   ]
  },
  {
   "cell_type": "markdown",
   "metadata": {},
   "source": [
    "# 为去从聚KDB标准化"
   ]
  },
  {
   "cell_type": "code",
   "execution_count": 19,
   "metadata": {},
   "outputs": [],
   "source": [
    "import numpy as np\n",
    "import arcpy\n",
    "\n",
    "# 假设feature_class是你的街区特征类路径\n",
    "feature_class = r'E:\\stu1\\Projects\\POI2023\\POI2023.gdb\\blocks_initial'\n",
    "\n",
    "# 原始密度值字段名称\n",
    "density_fields = ['DE_KDB_M', 'DE_KDB_G', 'DE_KDB_S', 'DE_KDB_B', 'DE_KDB_R', 'DE_KDB_A']\n",
    "# 新的标准化字段名称\n",
    "new_fields = ['DB_M_Norm', 'DB_G_Norm', 'DB_S_Norm', 'DB_B_Norm', 'DB_R_Norm', 'DB_A_Norm']\n",
    "\n",
    "# 为每个密度值添加新字段用于存储标准化后的值\n",
    "for new_field in new_fields:\n",
    "    arcpy.AddField_management(feature_class, new_field, \"FLOAT\")\n",
    "\n",
    "# 存储每种类型POI的密度值\n",
    "densities = {field: [] for field in density_fields}\n",
    "\n",
    "# 使用SearchCursor读取所有值\n",
    "with arcpy.da.SearchCursor(feature_class, density_fields) as cursor:\n",
    "    for row in cursor:\n",
    "        for idx, field in enumerate(density_fields):\n",
    "            # 跳过None值\n",
    "            if row[idx] is not None:\n",
    "                densities[field].append(row[idx])\n",
    "\n",
    "# 清理None值并计算最小值、最大值和范围\n",
    "min_max_range = {}\n",
    "for field, values in densities.items():\n",
    "    cleaned_values = [x if x is not None else 0 for x in values]  # 清理None值\n",
    "    min_val = np.min(cleaned_values)\n",
    "    max_val = np.max(cleaned_values)\n",
    "    range_val = max_val - min_val\n",
    "    min_max_range[field] = (min_val, max_val, range_val)\n",
    "\n",
    "# 使用UpdateCursor更新新字段的标准化值\n",
    "with arcpy.da.UpdateCursor(feature_class, density_fields + new_fields) as cursor:\n",
    "    for row in cursor:\n",
    "        for idx, field in enumerate(density_fields):\n",
    "            min_val, max_val, range_val = min_max_range[field]\n",
    "            value = row[idx] if row[idx] is not None else 0  # 处理None值\n",
    "            # 当范围为0时，所有值都相同，可以直接设置为0或1\n",
    "            normalized_val = (value - min_val) / range_val if range_val else 0\n",
    "            # 更新标准化值\n",
    "            row[idx + len(density_fields)] = normalized_val\n",
    "        cursor.updateRow(row)\n"
   ]
  },
  {
   "cell_type": "code",
   "execution_count": 20,
   "metadata": {},
   "outputs": [],
   "source": [
    "# 如果用norm字段计算类型比例\n",
    "norm_fields = ['DB_M_Norm', 'DB_G_Norm', 'DB_S_Norm', 'DB_B_Norm', 'DB_R_Norm', 'DB_A_Norm']\n",
    "prop_fields = ['N2_M_Prop', 'N2_G_Prop', 'N2_S_Prop', 'N2_B_Prop', 'N2_R_Prop', 'N2_A_Prop']\n",
    "\n",
    "# 为比例值添加新字段\n",
    "for prop_field in prop_fields:\n",
    "    arcpy.AddField_management(feature_class, prop_field, \"DOUBLE\")\n",
    "\n",
    "# 计算并更新比例值\n",
    "with arcpy.da.UpdateCursor(feature_class, norm_fields + prop_fields) as cursor:\n",
    "    for row in cursor:\n",
    "        # 计算所有标准化值的总和\n",
    "        total_norm = sum(row[:len(norm_fields)])\n",
    "        # 避免除以零\n",
    "        if total_norm > 0:\n",
    "            # 计算每个类型的比例值并更新行\n",
    "            for i in range(len(norm_fields)):\n",
    "                row[len(norm_fields) + i] = row[i] / total_norm\n",
    "        else:\n",
    "            # 如果总和为0，则将比例值设为平均值或其他适当的默认值\n",
    "            for i in range(len(norm_fields), len(norm_fields) + len(prop_fields)):\n",
    "                row[i] = 1.0 / len(norm_fields)  # 或其他适当的值\n",
    "        cursor.updateRow(row)"
   ]
  },
  {
   "cell_type": "code",
   "execution_count": 21,
   "metadata": {},
   "outputs": [],
   "source": [
    "feature_class = r'E:\\stu1\\Projects\\POI2023\\POI2023.gdb\\blocks_initial'\n",
    "method_prefix = 'N2'  \n",
    "thresholds = (0.5, 0.4)  # Adjust your classification thresholds as needed\n",
    "\n",
    "identify_urban_function_with_details(feature_class, method_prefix, thresholds)"
   ]
  },
  {
   "cell_type": "markdown",
   "metadata": {},
   "source": [
    "# 提取占比最高的两个字段"
   ]
  },
  {
   "cell_type": "code",
   "execution_count": 35,
   "metadata": {},
   "outputs": [],
   "source": [
    "import arcpy\n",
    "\n",
    "def find_top_two_categories(block_code, method_prefix, feature_class):\n",
    "    \"\"\"\n",
    "    Identifies the top two categories of POI based on their proportions\n",
    "    for a given block within the feature class.\n",
    "\n",
    "    Args:\n",
    "    - block_code: The unique identifier for the block.\n",
    "    - method_prefix: The prefix used for differentiating methods in field names.\n",
    "    - feature_class: The path to the feature class with the block data.\n",
    "    \"\"\"\n",
    "\n",
    "    # Construct field names for POI density proportions\n",
    "    poi_types = ['A', 'B', 'R', 'S', 'M', 'G']\n",
    "    prop_field_names = [f\"{method_prefix}_{pt}_Prop\" for pt in poi_types]\n",
    "\n",
    "    # 包括街区编码字段\n",
    "    fields = ['Block_ID'] + prop_field_names\n",
    "    print(fields)\n",
    "\n",
    "    # 搜索特征类以找到特定街区并提取其比例值\n",
    "    prop_values = []\n",
    "    with arcpy.da.SearchCursor(feature_class, fields) as cursor:\n",
    "        for row in cursor:\n",
    "            if row[0] == block_code:  # 确保您使用的是字符串类型的编码\n",
    "                # 提取该街区的比例值\n",
    "                prop_values = [(field, row[i+1]) for i, field in enumerate(prop_field_names)]\n",
    "                break\n",
    "    print(prop_values)\n",
    "\n",
    "    # 如果找到比例值\n",
    "    if prop_values:\n",
    "        # 根据值对比例进行降序排序\n",
    "        prop_values.sort(key=lambda x: x[1], reverse=True)\n",
    "\n",
    "        # 获取前两个类别及其值\n",
    "        top_two = prop_values[:2]\n",
    "\n",
    "        # 打印结果\n",
    "        for rank, (category, value) in enumerate(top_two, start=1):\n",
    "            # 从字段名称中提取类别类型\n",
    "            category_type = category.split('_')[1]  # 提取类别类型（A、B、R、S、M、G）\n",
    "            print(f\"Rank {rank}: {category_type} with proportion value {value}\")\n",
    "    else:\n",
    "        print(f\"No data found for block code {block_code}.\")"
   ]
  },
  {
   "cell_type": "code",
   "execution_count": 36,
   "metadata": {},
   "outputs": [
    {
     "name": "stdout",
     "output_type": "stream",
     "text": [
      "['Block_ID', 'N_A_Prop', 'N_B_Prop', 'N_R_Prop', 'N_S_Prop', 'N_M_Prop', 'N_G_Prop']\n",
      "[('N_A_Prop', 0.15007993259331426), ('N_B_Prop', 0.2737876923009916), ('N_R_Prop', 0.24254284832446435), ('N_S_Prop', 0.0), ('N_M_Prop', 0.3335895267812298), ('N_G_Prop', 0.0)]\n",
      "Rank 1: M with proportion value 0.3335895267812298\n",
      "Rank 2: B with proportion value 0.2737876923009916\n"
     ]
    }
   ],
   "source": [
    "# Example usage\n",
    "block_code = 29  # Replace with the actual block code\n",
    "method_prefix = 'N'  # Replace with the actual method prefix\n",
    "feature_class = r'E:\\stu1\\Projects\\POI2023\\POI2023.gdb\\blocks_initial'  # Replace with the actual feature class path\n",
    "\n",
    "# Call the function\n",
    "find_top_two_categories(block_code, method_prefix, feature_class)"
   ]
  },
  {
   "cell_type": "code",
   "execution_count": null,
   "metadata": {},
   "outputs": [],
   "source": [
    "find_top_two_categories(255, 'N', feature_class)"
   ]
  },
  {
   "cell_type": "code",
   "execution_count": 24,
   "metadata": {},
   "outputs": [
    {
     "name": "stdout",
     "output_type": "stream",
     "text": [
      "Block code 29 exists in the feature class.\n"
     ]
    }
   ],
   "source": [
    "import arcpy\n",
    "\n",
    "# Set the path to the feature class\n",
    "#feature_class = 'path_to_your_feature_class'\n",
    "\n",
    "# Define the block code you are searching for\n",
    "block_code_to_find = '29'\n",
    "\n",
    "# Check if the block code exists in the feature class\n",
    "block_code_exists = False\n",
    "with arcpy.da.SearchCursor(feature_class, ['Block_ID']) as cursor:\n",
    "    for row in cursor:\n",
    "        if str(row[0]) == str(block_code_to_find):\n",
    "            block_code_exists = True\n",
    "            break\n",
    "\n",
    "# Print the result\n",
    "if block_code_exists:\n",
    "    print(f\"Block code {block_code_to_find} exists in the feature class.\")\n",
    "else:\n",
    "    print(f\"No data found for block code {block_code_to_find}.\")\n"
   ]
  },
  {
   "cell_type": "code",
   "execution_count": 39,
   "metadata": {},
   "outputs": [],
   "source": [
    "import arcpy\n",
    "\n",
    "def find_top_categories_for_methods(block_code, method_prefixes, feature_class, poi_types):\n",
    "    \"\"\"\n",
    "    Finds the top two POI categories for a given block across multiple methods.\n",
    "    \n",
    "    Args:\n",
    "    - block_code: The unique identifier for the block.\n",
    "    - method_prefixes: A list of prefixes for different calculation methods.\n",
    "    - feature_class: The path to the feature class with the block data.\n",
    "    - poi_types: A list of POI types to consider.\n",
    "    \"\"\"\n",
    "\n",
    "    # Loop through each method prefix\n",
    "    for method_prefix in method_prefixes:\n",
    "        # Construct field names for POI density proportions based on current method prefix\n",
    "        prop_field_names = [f\"{method_prefix}_{pt}_Prop\" for pt in poi_types]\n",
    "\n",
    "        # Include the block identifier field\n",
    "        fields = ['Block_ID'] + prop_field_names\n",
    "\n",
    "        # Initialize an empty list to store proportion values and their corresponding types\n",
    "        prop_values = []\n",
    "\n",
    "        # Search the feature class for the block and extract the proportion values\n",
    "        with arcpy.da.SearchCursor(feature_class, fields) as cursor:\n",
    "            for row in cursor:\n",
    "                if row[0] == block_code:  # Ensure the block code matches\n",
    "                    # Extract the proportion values for this block under current method\n",
    "                    prop_values = [(field, row[i+1]) for i, field in enumerate(prop_field_names)]\n",
    "                    break  # Exit loop after finding the block\n",
    "\n",
    "        # Check if the proportions were found\n",
    "        if not prop_values:\n",
    "            print(f\"No data found for block code {block_code} using method {method_prefix}.\")\n",
    "            continue  # Move on to the next method prefix\n",
    "\n",
    "        # Sort the proportions in descending order\n",
    "        prop_values.sort(key=lambda x: x[1], reverse=True)\n",
    "\n",
    "        # Get the top two categories and their values\n",
    "        top_two = prop_values[:2]\n",
    "\n",
    "        # Print the results for current method\n",
    "        print(f\"Results for method {method_prefix}:\")\n",
    "        for rank, (category, value) in enumerate(top_two, start=1):\n",
    "            category_type = category.split('_')[1]  # Extract the category type from the field name\n",
    "            print(f\"  Rank {rank}: {category_type} with proportion value {value}.\")"
   ]
  },
  {
   "cell_type": "code",
   "execution_count": 37,
   "metadata": {},
   "outputs": [],
   "source": [
    "method_prefixes = ['N', 'N0', 'N1', 'N2']  # Replace with the actual method prefixes\n",
    "feature_class = r'E:\\stu1\\Projects\\POI2023\\POI2023.gdb\\blocks_initial'  # Replace with the actual feature class path\n",
    "poi_types = ['A', 'B', 'R', 'S', 'M', 'G']  # The POI types to consider"
   ]
  },
  {
   "cell_type": "code",
   "execution_count": 68,
   "metadata": {},
   "outputs": [
    {
     "name": "stdout",
     "output_type": "stream",
     "text": [
      "Results for method N:\n",
      "  Rank 1: M with proportion value 0.3335895267812298.\n",
      "  Rank 2: B with proportion value 0.2737876923009916.\n",
      "Results for method N0:\n",
      "  Rank 1: B with proportion value 0.3187239511466901.\n",
      "  Rank 2: M with proportion value 0.2988258099612053.\n",
      "Results for method N1:\n",
      "  Rank 1: M with proportion value 0.4313014963303365.\n",
      "  Rank 2: B with proportion value 0.2429446185995513.\n",
      "Results for method N2:\n",
      "  Rank 1: M with proportion value 0.4454872308082931.\n",
      "  Rank 2: B with proportion value 0.26358300708217.\n"
     ]
    }
   ],
   "source": [
    "find_top_categories_for_methods(29, method_prefixes, feature_class, poi_types)"
   ]
  },
  {
   "cell_type": "code",
   "execution_count": null,
   "metadata": {},
   "outputs": [],
   "source": []
  }
 ],
 "metadata": {
  "kernelspec": {
   "display_name": "ArcGISPro",
   "language": "Python",
   "name": "python3"
  },
  "language_info": {
   "file_extension": ".py",
   "name": "python",
   "version": "3"
  }
 },
 "nbformat": 4,
 "nbformat_minor": 2
}
