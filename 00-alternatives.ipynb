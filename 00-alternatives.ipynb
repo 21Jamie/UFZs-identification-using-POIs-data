{
 "cells": [
  {
   "cell_type": "code",
   "execution_count": 1,
   "metadata": {},
   "outputs": [],
   "source": [
    "import matplotlib.pyplot as plt\n",
    "import numpy as np"
   ]
  },
  {
   "cell_type": "code",
   "execution_count": 2,
   "metadata": {},
   "outputs": [],
   "source": [
    "document_counts = np.arange(1, 1000, 10) # 创建示例数据集"
   ]
  },
  {
   "cell_type": "code",
   "execution_count": 3,
   "metadata": {},
   "outputs": [],
   "source": [
    "# 计算IDF值\n",
    "total_documents = 1000\n",
    "idf_values = np.log(total_documents / (document_counts + 1))"
   ]
  },
  {
   "cell_type": "code",
   "execution_count": 6,
   "metadata": {},
   "outputs": [],
   "source": [
    "# 绘制IDF值随文档数变化的曲线\n",
    "plt.figure(figsize = (10, 6))\n",
    "plt.plot(document_counts, idf_values, label = \"IDF\")\n",
    "plt.xlabel(\"Number of Documents Containing the Term\")\n",
    "plt.ylabel(\"IDF Value\")\n",
    "plt.title(\"IDF Values vs. Document Frequency\")\n",
    "plt.grid(True)\n",
    "plt.legend()\n",
    "plt.show()"
   ]
  },
  {
   "cell_type": "markdown",
   "metadata": {},
   "source": [
    "## 合并点数据文件"
   ]
  },
  {
   "cell_type": "code",
   "execution_count": 12,
   "metadata": {},
   "outputs": [],
   "source": [
    "import arcpy\n",
    "import os"
   ]
  },
  {
   "cell_type": "code",
   "execution_count": 13,
   "metadata": {},
   "outputs": [],
   "source": [
    "# 设置包含POI文件的文件夹路径\n",
    "folder_path = r\"E:\\stu1\\UFZs\\poi_data\\2023\"\n",
    "# 设置工作环境\n",
    "arcpy.env.workspace = folder_path"
   ]
  },
  {
   "cell_type": "code",
   "execution_count": 14,
   "metadata": {},
   "outputs": [],
   "source": [
    "# 查找并列出文件夹中所有的POI文件\n",
    "poi_files = arcpy.ListFeatureClasses()\n",
    "# 合并后的输出文件名\n",
    "merged_poi_output = r\"E:\\stu1\\Projects\\POI2023\\POI2023.gdb\\MergedPOI23\""
   ]
  },
  {
   "cell_type": "code",
   "execution_count": 15,
   "metadata": {},
   "outputs": [
    {
     "data": {
      "text/html": [
       "<div class='gpresult'><h2>Messages</h2><div id='messages' data-messages='[\"Start Time: 2023年12月11日 12:51:40\",\"WARNING 000595: C:\\\\Users\\\\ADMINI~1\\\\AppData\\\\Local\\\\Temp\\\\2\\\\ArcGISProTemp27636\\\\wgs84武汉市住宿服务0.fid contains the full list of records not able to be processed.\",\"WARNING 001156: Failed on input OID 0, could not write value &#39;{&#39;rating&#39;: &#39;4.7&#39;, &#39;cost&#39;: [], &#39;meal_ordering&#39;: &#39;0&#39;, &#39;hotel_ordering&#39;: &#39;1&#39;, &#39;lowest_price&#39;: [], &#39;star&#39;: &#39;5&#39;}&#39; to output field biz_ext\",\"WARNING 001156: Failed on input OID 1, could not write value &#39;{\\\"rating\\\": [], \\\"cost\\\": [], \\\"hotel_ordering\\\": \\\"0\\\", \\\"lowest_price\\\": [], \\\"star\\\": []}&#39; to output field biz_ext\",\"WARNING 001156: Failed on input OID 2, could not write value &#39;{&#39;rating&#39;: [], &#39;cost&#39;: [], &#39;hotel_ordering&#39;: &#39;1&#39;, &#39;lowest_price&#39;: [], &#39;star&#39;: []}&#39; to output field biz_ext\",\"WARNING 001156: Failed on input OID 3, could not write value &#39;{&#39;rating&#39;: &#39;4.8&#39;, &#39;cost&#39;: [], &#39;hotel_ordering&#39;: &#39;1&#39;, &#39;lowest_price&#39;: [], &#39;star&#39;: []}&#39; to output field biz_ext\",\"WARNING 001156: Failed on input OID 4, could not write value &#39;{\\\"rating\\\": \\\"5.0\\\", \\\"cost\\\": [], \\\"hotel_ordering\\\": \\\"1\\\", \\\"lowest_price\\\": [], \\\"star\\\": []}&#39; to output field biz_ext\",\"WARNING 001156: Failed on input OID 5, could not write value &#39;{&#39;rating&#39;: &#39;3.9&#39;, &#39;cost&#39;: [], &#39;hotel_ordering&#39;: &#39;1&#39;, &#39;lowest_price&#39;: [], &#39;star&#39;: []}&#39; to output field biz_ext\",\"WARNING 001156: Failed on input OID 6, could not write value &#39;{&#39;rating&#39;: &#39;4.1&#39;, &#39;cost&#39;: [], &#39;hotel_ordering&#39;: &#39;1&#39;, &#39;lowest_price&#39;: [], &#39;star&#39;: []}&#39; to output field biz_ext\",\"WARNING 001156: Failed on input OID 7, could not write value &#39;{\\\"rating\\\": \\\"4.3\\\", \\\"cost\\\": [], \\\"hotel_ordering\\\": \\\"1\\\", \\\"lowest_price\\\": [], \\\"star\\\": []}&#39; to output field biz_ext\",\"WARNING 001156: Failed on input OID 8, could not write value &#39;{&#39;rating&#39;: &#39;4.0&#39;, &#39;cost&#39;: [], &#39;hotel_ordering&#39;: &#39;1&#39;, &#39;lowest_price&#39;: [], &#39;star&#39;: []}&#39; to output field biz_ext\",\"WARNING 001156: Failed on input OID 9, could not write value &#39;{\\\"rating\\\": [], \\\"cost\\\": [], \\\"hotel_ordering\\\": \\\"0\\\", \\\"lowest_price\\\": [], \\\"star\\\": []}&#39; to output field biz_ext\",\"WARNING 000595: C:\\\\Users\\\\ADMINI~1\\\\AppData\\\\Local\\\\Temp\\\\2\\\\ArcGISProTemp27636\\\\wgs84武汉市体育休闲服务0.fid contains the full list of records not able to be processed.\",\"WARNING 001156: Failed on input OID 300, could not write value &#39;{&#39;rating&#39;: &#39;3.9&#39;, &#39;cost&#39;: [], &#39;hotel_ordering&#39;: &#39;0&#39;, &#39;lowest_price&#39;: [], &#39;star&#39;: []}&#39; to output field biz_ext\",\"WARNING 001156: Failed on input OID 326, could not write value &#39;{\\\"rating\\\": \\\"4.7\\\", \\\"cost\\\": [], \\\"hotel_ordering\\\": \\\"0\\\", \\\"lowest_price\\\": [], \\\"star\\\": []}&#39; to output field biz_ext\",\"WARNING 001156: Failed on input OID 2596, could not write value &#39;{\\\"rating\\\": \\\"3.9\\\", \\\"cost\\\": [], \\\"hotel_ordering\\\": \\\"0\\\", \\\"lowest_price\\\": [], \\\"star\\\": []}&#39; to output field biz_ext\",\"WARNING 001156: Failed on input OID 4629, could not write value &#39;{&#39;rating&#39;: &#39;4.7&#39;, &#39;cost&#39;: [], &#39;hotel_ordering&#39;: &#39;0&#39;, &#39;lowest_price&#39;: [], &#39;star&#39;: []}&#39; to output field biz_ext\",\"WARNING 001156: Failed on input OID 6356, could not write value &#39;{&#39;rating&#39;: &#39;4.3&#39;, &#39;cost&#39;: [], &#39;hotel_ordering&#39;: &#39;0&#39;, &#39;lowest_price&#39;: [], &#39;star&#39;: []}&#39; to output field biz_ext\",\"WARNING 001156: Failed on input OID 7362, could not write value &#39;{\\\"rating\\\": \\\"3.9\\\", \\\"cost\\\": [], \\\"hotel_ordering\\\": \\\"0\\\", \\\"lowest_price\\\": [], \\\"star\\\": []}&#39; to output field biz_ext\",\"WARNING 001156: Failed on input OID 7489, could not write value &#39;{&#39;rating&#39;: &#39;4.2&#39;, &#39;cost&#39;: [], &#39;hotel_ordering&#39;: &#39;0&#39;, &#39;lowest_price&#39;: [], &#39;star&#39;: []}&#39; to output field biz_ext\",\"WARNING 001156: Failed on input OID 11783, could not write value &#39;{\\\"rating\\\": \\\"4.2\\\", \\\"cost\\\": [], \\\"hotel_ordering\\\": \\\"0\\\", \\\"lowest_price\\\": [], \\\"star\\\": []}&#39; to output field biz_ext\",\"WARNING 001156: Failed on input OID 12468, could not write value &#39;{\\\"rating\\\": \\\"4.0\\\", \\\"cost\\\": [], \\\"hotel_ordering\\\": \\\"0\\\", \\\"lowest_price\\\": [], \\\"star\\\": []}&#39; to output field biz_ext\",\"WARNING 000595: C:\\\\Users\\\\ADMINI~1\\\\AppData\\\\Local\\\\Temp\\\\2\\\\ArcGISProTemp27636\\\\wgs84武汉市公司企业0.fid contains the full list of records not able to be processed.\",\"WARNING 001156: Failed on input OID 19029, could not write value &#39;{&#39;rating&#39;: [], &#39;cost&#39;: [], &#39;hotel_ordering&#39;: &#39;0&#39;, &#39;lowest_price&#39;: [], &#39;star&#39;: []}&#39; to output field biz_ext\",\"WARNING 001156: Failed on input OID 53282, could not write value &#39;{&#39;rating&#39;: [], &#39;cost&#39;: [], &#39;hotel_ordering&#39;: &#39;0&#39;, &#39;lowest_price&#39;: [], &#39;star&#39;: []}&#39; to output field biz_ext\",\"WARNING 001156: Failed on input OID 54220, could not write value &#39;{&#39;rating&#39;: [], &#39;cost&#39;: [], &#39;hotel_ordering&#39;: &#39;0&#39;, &#39;lowest_price&#39;: [], &#39;star&#39;: []}&#39; to output field biz_ext\",\"WARNING 000595: C:\\\\Users\\\\ADMINI~1\\\\AppData\\\\Local\\\\Temp\\\\2\\\\ArcGISProTemp27636\\\\wgs84武汉市商务住宅0.fid contains the full list of records not able to be processed.\",\"WARNING 001156: Failed on input OID 1568, could not write value &#39;{\\\"rating\\\": [], \\\"cost\\\": [], \\\"hotel_ordering\\\": \\\"0\\\", \\\"lowest_price\\\": [], \\\"star\\\": []}&#39; to output field biz_ext\",\"WARNING 001156: Failed on input OID 5171, could not write value &#39;{\\\"rating\\\": [], \\\"cost\\\": [], \\\"hotel_ordering\\\": \\\"0\\\", \\\"lowest_price\\\": [], \\\"star\\\": []}&#39; to output field biz_ext\",\"WARNING 001156: Failed on input OID 5556, could not write value &#39;{\\\"rating\\\": [], \\\"cost\\\": [], \\\"hotel_ordering\\\": \\\"0\\\", \\\"lowest_price\\\": [], \\\"star\\\": []}&#39; to output field biz_ext\",\"WARNING 001156: Failed on input OID 6660, could not write value &#39;{\\\"rating\\\": [], \\\"cost\\\": [], \\\"hotel_ordering\\\": \\\"0\\\", \\\"lowest_price\\\": [], \\\"star\\\": []}&#39; to output field biz_ext\",\"WARNING 001156: Failed on input OID 7420, could not write value &#39;{\\\"rating\\\": [], \\\"cost\\\": [], \\\"hotel_ordering\\\": \\\"0\\\", \\\"lowest_price\\\": [], \\\"star\\\": []}&#39; to output field biz_ext\",\"WARNING 001156: Failed on input OID 9844, could not write value &#39;{\\\"rating\\\": \\\"4.0\\\", \\\"cost\\\": [], \\\"hotel_ordering\\\": \\\"1\\\", \\\"lowest_price\\\": [], \\\"star\\\": []}&#39; to output field biz_ext\",\"WARNING 001156: Failed on input OID 9985, could not write value &#39;{\\\"rating\\\": [], \\\"cost\\\": [], \\\"hotel_ordering\\\": \\\"0\\\", \\\"lowest_price\\\": [], \\\"star\\\": []}&#39; to output field biz_ext\",\"WARNING 001156: Failed on input OID 10409, could not write value &#39;{\\\"rating\\\": \\\"4.5\\\", \\\"cost\\\": [], \\\"hotel_ordering\\\": \\\"0\\\", \\\"lowest_price\\\": [], \\\"star\\\": []}&#39; to output field biz_ext\",\"WARNING 001156: Failed on input OID 10475, could not write value &#39;{\\\"rating\\\": [], \\\"cost\\\": [], \\\"hotel_ordering\\\": \\\"0\\\", \\\"lowest_price\\\": [], \\\"star\\\": []}&#39; to output field biz_ext\",\"WARNING 001156: Failed on input OID 10503, could not write value &#39;{\\\"rating\\\": [], \\\"cost\\\": [], \\\"hotel_ordering\\\": \\\"0\\\", \\\"lowest_price\\\": [], \\\"star\\\": []}&#39; to output field biz_ext\",\"WARNING 000595: C:\\\\Users\\\\ADMINI~1\\\\AppData\\\\Local\\\\Temp\\\\2\\\\ArcGISProTemp27636\\\\wgs84武汉市地名地址信息0.fid contains the full list of records not able to be processed.\",\"WARNING 001156: Failed on input OID 158036, could not write value &#39;{\\\"rating\\\": [], \\\"cost\\\": [], \\\"hotel_ordering\\\": \\\"0\\\", \\\"lowest_price\\\": [], \\\"star\\\": []}&#39; to output field biz_ext\",\"WARNING 000595: C:\\\\Users\\\\ADMINI~1\\\\AppData\\\\Local\\\\Temp\\\\2\\\\ArcGISProTemp27636\\\\wgs84武汉市生活服务0.fid contains the full list of records not able to be processed.\",\"WARNING 001156: Failed on input OID 15, could not write value &#39;{\\\"rating\\\": [], \\\"cost\\\": [], \\\"hotel_ordering\\\": \\\"1\\\", \\\"lowest_price\\\": [], \\\"star\\\": []}&#39; to output field biz_ext\",\"WARNING 001156: Failed on input OID 3174, could not write value &#39;{&#39;rating&#39;: &#39;4.0&#39;, &#39;cost&#39;: [], &#39;hotel_ordering&#39;: &#39;0&#39;, &#39;lowest_price&#39;: [], &#39;star&#39;: []}&#39; to output field biz_ext\",\"WARNING 001156: Failed on input OID 3242, could not write value &#39;{&#39;rating&#39;: &#39;4.5&#39;, &#39;cost&#39;: [], &#39;hotel_ordering&#39;: &#39;0&#39;, &#39;lowest_price&#39;: [], &#39;star&#39;: []}&#39; to output field biz_ext\",\"WARNING 001156: Failed on input OID 9807, could not write value &#39;{&#39;rating&#39;: &#39;3.8&#39;, &#39;cost&#39;: [], &#39;hotel_ordering&#39;: &#39;0&#39;, &#39;lowest_price&#39;: [], &#39;star&#39;: []}&#39; to output field biz_ext\",\"WARNING 001156: Failed on input OID 11903, could not write value &#39;{\\\"rating\\\": \\\"3.6\\\", \\\"cost\\\": [], \\\"hotel_ordering\\\": \\\"1\\\", \\\"lowest_price\\\": [], \\\"star\\\": []}&#39; to output field biz_ext\",\"WARNING 001156: Failed on input OID 13752, could not write value &#39;{\\\"rating\\\": [], \\\"cost\\\": [], \\\"hotel_ordering\\\": \\\"0\\\", \\\"lowest_price\\\": [], \\\"star\\\": []}&#39; to output field biz_ext\",\"WARNING 001156: Failed on input OID 19770, could not write value &#39;{&#39;rating&#39;: &#39;4.1&#39;, &#39;cost&#39;: [], &#39;hotel_ordering&#39;: &#39;0&#39;, &#39;lowest_price&#39;: [], &#39;star&#39;: []}&#39; to output field biz_ext\",\"WARNING 001156: Failed on input OID 24624, could not write value &#39;{&#39;rating&#39;: &#39;4.6&#39;, &#39;cost&#39;: [], &#39;hotel_ordering&#39;: &#39;0&#39;, &#39;lowest_price&#39;: [], &#39;star&#39;: []}&#39; to output field biz_ext\",\"WARNING 001156: Failed on input OID 26689, could not write value &#39;{\\\"rating\\\": \\\"4.4\\\", \\\"cost\\\": [], \\\"hotel_ordering\\\": \\\"0\\\", \\\"lowest_price\\\": [], \\\"star\\\": []}&#39; to output field biz_ext\",\"WARNING 001156: Failed on input OID 57717, could not write value &#39;{&#39;rating&#39;: &#39;4.2&#39;, &#39;cost&#39;: [], &#39;hotel_ordering&#39;: &#39;0&#39;, &#39;lowest_price&#39;: [], &#39;star&#39;: []}&#39; to output field biz_ext\",\"WARNING 000595: C:\\\\Users\\\\ADMINI~1\\\\AppData\\\\Local\\\\Temp\\\\2\\\\ArcGISProTemp27636\\\\wgs84武汉市科教文化服务0.fid contains the full list of records not able to be processed.\",\"WARNING 001156: Failed on input OID 11678, could not write value &#39;{&#39;rating&#39;: &#39;4.5&#39;, &#39;cost&#39;: [], &#39;hotel_ordering&#39;: &#39;0&#39;, &#39;lowest_price&#39;: [], &#39;star&#39;: []}&#39; to output field biz_ext\",\"WARNING 000595: C:\\\\Users\\\\ADMINI~1\\\\AppData\\\\Local\\\\Temp\\\\2\\\\ArcGISProTemp27636\\\\wgs84武汉市购物服务0.fid contains the full list of records not able to be processed.\",\"WARNING 001156: Failed on input OID 6856, could not write value &#39;{&#39;rating&#39;: &#39;4.4&#39;, &#39;cost&#39;: [], &#39;hotel_ordering&#39;: &#39;0&#39;, &#39;lowest_price&#39;: [], &#39;star&#39;: []}&#39; to output field biz_ext\",\"WARNING 001156: Failed on input OID 7114, could not write value &#39;{\\\"rating\\\": [], \\\"cost\\\": [], \\\"hotel_ordering\\\": \\\"0\\\", \\\"lowest_price\\\": [], \\\"star\\\": []}&#39; to output field biz_ext\",\"WARNING 001156: Failed on input OID 14460, could not write value &#39;{\\\"rating\\\": \\\"4.2\\\", \\\"cost\\\": [], \\\"hotel_ordering\\\": \\\"0\\\", \\\"lowest_price\\\": [], \\\"star\\\": []}&#39; to output field biz_ext\",\"WARNING 001156: Failed on input OID 17090, could not write value &#39;{&#39;rating&#39;: &#39;4.3&#39;, &#39;cost&#39;: [], &#39;hotel_ordering&#39;: &#39;1&#39;, &#39;lowest_price&#39;: [], &#39;star&#39;: []}&#39; to output field biz_ext\",\"WARNING 001156: Failed on input OID 21569, could not write value &#39;{&#39;rating&#39;: &#39;3.5&#39;, &#39;cost&#39;: [], &#39;hotel_ordering&#39;: &#39;1&#39;, &#39;lowest_price&#39;: [], &#39;star&#39;: []}&#39; to output field biz_ext\",\"WARNING 001156: Failed on input OID 24863, could not write value &#39;{\\\"rating\\\": \\\"3.6\\\", \\\"cost\\\": [], \\\"hotel_ordering\\\": \\\"0\\\", \\\"lowest_price\\\": [], \\\"star\\\": []}&#39; to output field biz_ext\",\"WARNING 001156: Failed on input OID 26195, could not write value &#39;{&#39;rating&#39;: &#39;4.0&#39;, &#39;cost&#39;: [], &#39;hotel_ordering&#39;: &#39;0&#39;, &#39;lowest_price&#39;: [], &#39;star&#39;: []}&#39; to output field biz_ext\",\"WARNING 001156: Failed on input OID 32177, could not write value &#39;{\\\"rating\\\": \\\"4.7\\\", \\\"cost\\\": [], \\\"hotel_ordering\\\": \\\"1\\\", \\\"lowest_price\\\": [], \\\"star\\\": []}&#39; to output field biz_ext\",\"WARNING 001156: Failed on input OID 47288, could not write value &#39;{&#39;rating&#39;: &#39;3.8&#39;, &#39;cost&#39;: [], &#39;hotel_ordering&#39;: &#39;0&#39;, &#39;lowest_price&#39;: [], &#39;star&#39;: []}&#39; to output field biz_ext\",\"WARNING 001156: Failed on input OID 55121, could not write value &#39;{\\\"rating\\\": \\\"4.6\\\", \\\"cost\\\": [], \\\"hotel_ordering\\\": \\\"0\\\", \\\"lowest_price\\\": [], \\\"star\\\": []}&#39; to output field biz_ext\",\"WARNING 000595: C:\\\\Users\\\\ADMINI~1\\\\AppData\\\\Local\\\\Temp\\\\2\\\\ArcGISProTemp27636\\\\wgs84武汉市餐饮服务0.fid contains the full list of records not able to be processed.\",\"WARNING 001156: Failed on input OID 71, could not write value &#39;{&#39;rating&#39;: &#39;4.4&#39;, &#39;cost&#39;: [], &#39;meal_ordering&#39;: &#39;0&#39;, &#39;hotel_ordering&#39;: &#39;1&#39;, &#39;lowest_price&#39;: [], &#39;star&#39;: []}&#39; to output field biz_ext\",\"WARNING 001156: Failed on input OID 109, could not write value &#39;{\\\"rating\\\": \\\"4.5\\\", \\\"cost\\\": [], \\\"meal_ordering\\\": \\\"0\\\", \\\"hotel_ordering\\\": \\\"1\\\", \\\"lowest_price\\\": [], \\\"star\\\": []}&#39; to output field biz_ext\",\"WARNING 001156: Failed on input OID 166, could not write value &#39;{\\\"rating\\\": \\\"3.6\\\", \\\"cost\\\": [], \\\"meal_ordering\\\": \\\"0\\\", \\\"hotel_ordering\\\": \\\"0\\\", \\\"lowest_price\\\": [], \\\"star\\\": []}&#39; to output field biz_ext\",\"WARNING 001156: Failed on input OID 179, could not write value &#39;{\\\"rating\\\": \\\"4.2\\\", \\\"cost\\\": \\\"75.00\\\", \\\"meal_ordering\\\": \\\"0\\\", \\\"hotel_ordering\\\": \\\"0\\\", \\\"lowest_price\\\": [], \\\"star\\\": []}&#39; to output field biz_ext\",\"WARNING 001156: Failed on input OID 191, could not write value &#39;{\\\"rating\\\": \\\"4.0\\\", \\\"cost\\\": \\\"23.00\\\", \\\"meal_ordering\\\": \\\"0\\\", \\\"hotel_ordering\\\": \\\"0\\\", \\\"lowest_price\\\": [], \\\"star\\\": []}&#39; to output field biz_ext\",\"WARNING 001156: Failed on input OID 194, could not write value &#39;{\\\"rating\\\": \\\"4.1\\\", \\\"cost\\\": [], \\\"meal_ordering\\\": \\\"0\\\", \\\"hotel_ordering\\\": \\\"0\\\", \\\"lowest_price\\\": [], \\\"star\\\": []}&#39; to output field biz_ext\",\"WARNING 001156: Failed on input OID 286, could not write value &#39;{\\\"rating\\\": \\\"4.7\\\", \\\"cost\\\": [], \\\"meal_ordering\\\": \\\"0\\\", \\\"hotel_ordering\\\": \\\"1\\\", \\\"lowest_price\\\": [], \\\"star\\\": []}&#39; to output field biz_ext\",\"WARNING 001156: Failed on input OID 644, could not write value &#39;{&#39;rating&#39;: &#39;4.2&#39;, &#39;cost&#39;: [], &#39;meal_ordering&#39;: &#39;0&#39;, &#39;hotel_ordering&#39;: &#39;0&#39;, &#39;lowest_price&#39;: [], &#39;star&#39;: []}&#39; to output field biz_ext\",\"WARNING 001156: Failed on input OID 776, could not write value &#39;{\\\"rating\\\": \\\"4.7\\\", \\\"cost\\\": [], \\\"meal_ordering\\\": \\\"0\\\", \\\"hotel_ordering\\\": \\\"1\\\", \\\"lowest_price\\\": [], \\\"star\\\": []}&#39; to output field biz_ext\",\"WARNING 001156: Failed on input OID 970, could not write value &#39;{&#39;rating&#39;: &#39;4.5&#39;, &#39;cost&#39;: [], &#39;meal_ordering&#39;: &#39;0&#39;, &#39;hotel_ordering&#39;: &#39;0&#39;, &#39;lowest_price&#39;: [], &#39;star&#39;: []}&#39; to output field biz_ext\",\"Succeeded at 2023年12月11日 12:53:20 (Elapsed Time: 1 minutes 39 seconds)\"]' data-show='true'><div id = 'default' /></div></div>"
      ],
      "text/plain": [
       "<Result 'E:\\\\stu1\\\\Projects\\\\POI2023\\\\POI2023.gdb\\\\MergedPOI23'>"
      ]
     },
     "execution_count": 15,
     "metadata": {},
     "output_type": "execute_result"
    }
   ],
   "source": [
    "# 合并POI数据\n",
    "arcpy.management.Merge(inputs = poi_files, output = merged_poi_output)"
   ]
  },
  {
   "cell_type": "markdown",
   "metadata": {},
   "source": [
    "## taxonomy\n",
    "sunburst graph"
   ]
  },
  {
   "cell_type": "markdown",
   "metadata": {},
   "source": [
    "# 武汉市行政区域"
   ]
  },
  {
   "cell_type": "code",
   "execution_count": 1,
   "metadata": {},
   "outputs": [],
   "source": [
    "import arcpy\n",
    "arcpy.env.workspace = r\"E:\\stu1\\Projects\\POI2023\\POI2023.gdb\""
   ]
  },
  {
   "cell_type": "code",
   "execution_count": 2,
   "metadata": {},
   "outputs": [],
   "source": [
    "boundary = r\"E:\\stu1\\Projects\\POI2023\\POI2023.gdb\\Wuhan2023\"\n",
    "road23 = r\"E:\\stu1\\UFZs\\13-23OSM\\23\\gis_osm_roads_free_1.shp\"\n",
    "wuhan_road23 = r\"E:\\stu1\\Projects\\POI2023\\POI2023.gdb\\wuhan_road23\""
   ]
  },
  {
   "cell_type": "code",
   "execution_count": 3,
   "metadata": {},
   "outputs": [
    {
     "data": {
      "text/html": [
       "<div class='gpresult'><h2>Messages</h2><div id='messages' data-messages='[\"Start Time: 2024年1月6日 10:25:53\",\"Analyzing input features...\",\"Dissolving clip features...\",\"Clipping input features...\",\"Succeeded at 2024年1月6日 10:26:03 (Elapsed Time: 9.88 seconds)\"]' data-show='true'><div id = 'default' /></div></div>"
      ],
      "text/plain": [
       "<Result 'E:\\\\stu1\\\\Projects\\\\POI2023\\\\POI2023.gdb\\\\wuhan_road23'>"
      ]
     },
     "execution_count": 3,
     "metadata": {},
     "output_type": "execute_result"
    }
   ],
   "source": [
    "# Clip the datasets\n",
    "arcpy.Clip_analysis(road23, boundary, wuhan_road23)"
   ]
  },
  {
   "cell_type": "markdown",
   "metadata": {},
   "source": [
    "# 将路网数据栅格化"
   ]
  },
  {
   "cell_type": "code",
   "execution_count": 2,
   "metadata": {},
   "outputs": [],
   "source": [
    "import arcpy\n",
    "from arcpy.sa import *"
   ]
  },
  {
   "cell_type": "code",
   "execution_count": 3,
   "metadata": {},
   "outputs": [
    {
     "data": {
      "text/plain": [
       "'CheckedOut'"
      ]
     },
     "execution_count": 3,
     "metadata": {},
     "output_type": "execute_result"
    }
   ],
   "source": [
    "# 确保空间分析扩展功能已经开启\n",
    "arcpy.CheckOutExtension(\"Spatial\")"
   ]
  },
  {
   "cell_type": "code",
   "execution_count": 3,
   "metadata": {},
   "outputs": [],
   "source": [
    "# 设置环境变量\n",
    "arcpy.env.workspace = r\"E:\\stu1\\Projects\\POI2023\\POI2023.gdb\"\n",
    "arcpy.env.overwriteOutput = True\n",
    "arcpy.env.outputCoordinateSystem= arcpy.SpatialReference(32650)# output UTM Zone 50N \n",
    "arcpy.env.cellSize = \"10\" # 设置栅格单元大小"
   ]
  },
  {
   "cell_type": "code",
   "execution_count": 4,
   "metadata": {},
   "outputs": [],
   "source": [
    "# 导入数据\n",
    "# 裁剪研究区域\n",
    "# 投影转换\n",
    "# 选择路网类型\n",
    "road_network = r\"E:\\stu1\\Projects\\POI2023\\POI2023.gdb\\block23\\processed_road\""
   ]
  },
  {
   "cell_type": "code",
   "execution_count": 5,
   "metadata": {},
   "outputs": [],
   "source": [
    "# 数据转换\n",
    "road_raster = arcpy.conversion.PolylineToRaster(road_network, \"osm_id\", cellsize = 1)"
   ]
  },
  {
   "cell_type": "code",
   "execution_count": 6,
   "metadata": {},
   "outputs": [],
   "source": [
    "# 二值栅格图\n",
    "binary_raster = Con(IsNull(road_raster), 1, 0)"
   ]
  },
  {
   "cell_type": "code",
   "execution_count": 7,
   "metadata": {},
   "outputs": [],
   "source": [
    "binary_raster.save(r\"E:\\stu1\\Projects\\POI2023\\POI2023.gdb\\bianry_road_002\")"
   ]
  },
  {
   "cell_type": "markdown",
   "metadata": {},
   "source": [
    "创建二进制栅格图像，其中道路段为0，空白空间为1"
   ]
  },
  {
   "cell_type": "code",
   "execution_count": null,
   "metadata": {},
   "outputs": [],
   "source": [
    "# 图像处理"
   ]
  },
  {
   "cell_type": "code",
   "execution_count": 2,
   "metadata": {},
   "outputs": [],
   "source": [
    "from arcpy.sa import *"
   ]
  },
  {
   "cell_type": "code",
   "execution_count": 9,
   "metadata": {},
   "outputs": [],
   "source": [
    "# 膨胀操作\n",
    "# specify the input raster\n",
    "in_raster = r\"E:\\stu1\\Projects\\POI2023\\POI2023.gdb\\bianry_road_002\"\n",
    "# Perform the expand operation by specifying the number of cells and the zone values to expand\n",
    "expanded_raster = Expand(in_raster, 3, \"0\")"
   ]
  },
  {
   "cell_type": "code",
   "execution_count": 10,
   "metadata": {},
   "outputs": [],
   "source": [
    "expanded_raster.save(r\"E:\\stu1\\Projects\\POI2023\\POI2023.gdb\\expanded_road_002\")"
   ]
  },
  {
   "cell_type": "code",
   "execution_count": 3,
   "metadata": {},
   "outputs": [],
   "source": [
    "# 腐蚀操作\n",
    "in_raster = r\"E:\\stu1\\Projects\\POI2023\\POI2023.gdb\\expanded_road_002\"\n",
    "thinned_raster = Shrink(in_raster, 1, \"0\")"
   ]
  },
  {
   "cell_type": "code",
   "execution_count": null,
   "metadata": {},
   "outputs": [],
   "source": [
    "# 空间分析"
   ]
  },
  {
   "cell_type": "code",
   "execution_count": null,
   "metadata": {},
   "outputs": [],
   "source": [
    "# 提取和分类"
   ]
  }
 ],
 "metadata": {
  "kernelspec": {
   "display_name": "ArcGISPro",
   "language": "Python",
   "name": "python3"
  },
  "language_info": {
   "file_extension": ".py",
   "name": "python",
   "version": "3"
  }
 },
 "nbformat": 4,
 "nbformat_minor": 2
}
