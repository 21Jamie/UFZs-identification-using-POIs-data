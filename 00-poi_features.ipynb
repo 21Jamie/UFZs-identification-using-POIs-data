{
 "cells": [
  {
   "cell_type": "code",
   "execution_count": 2,
   "metadata": {},
   "outputs": [],
   "source": [
    "import arcpy\n",
    "import os\n",
    "from arcpy.sa import *"
   ]
  },
  {
   "cell_type": "markdown",
   "metadata": {},
   "source": [
    "# 数据集融合"
   ]
  },
  {
   "cell_type": "code",
   "execution_count": 13,
   "metadata": {},
   "outputs": [],
   "source": [
    "# 设置包含POI文件的文件夹路径\n",
    "folder_path = r\"E:\\stu1\\UFZs\\poi_data\\2015\"\n",
    "# 设置工作环境\n",
    "arcpy.env.workspace = folder_path"
   ]
  },
  {
   "cell_type": "code",
   "execution_count": 14,
   "metadata": {},
   "outputs": [],
   "source": [
    "# 查找并列出文件夹中所有的POI文件\n",
    "poi_files = arcpy.ListFeatureClasses()\n",
    "# 合并后的输出文件名\n",
    "merged_poi_output = r\"E:\\stu1\\Projects\\POI2023\\POIs.gdb\\POI15\""
   ]
  },
  {
   "cell_type": "code",
   "execution_count": 15,
   "metadata": {},
   "outputs": [
    {
     "data": {
      "text/html": [
       "<div class='gpresult'><h2>Messages</h2><div id='messages' data-messages='[\"Start Time: 2024年1月16日 10:48:41\",\"WARNING 000595: C:\\\\Users\\\\ADMINI~1\\\\AppData\\\\Local\\\\Temp\\\\2\\\\ArcGISProTemp8196\\\\wgs武汉市2015交通设施服务0.fid contains the full list of records not able to be processed.\",\"WARNING 001156: Failed on input OID 85, could not write value &#39;停车场(武汉市新洲区城市综合管理委员会东南)&#39; to output field NAME\",\"WARNING 001156: Failed on input OID 87, could not write value &#39;停车场(武汉长江水上搜救中心阳逻分中心东南)&#39; to output field NAME\",\"WARNING 001156: Failed on input OID 121, could not write value &#39;停车场(新洲区道路交通事故纠纷人民调解委员会东北)&#39; to output field NAME\",\"WARNING 001156: Failed on input OID 141, could not write value &#39;停车场(武汉市新洲区阳逻食品药品监督所东北)&#39; to output field NAME\",\"WARNING 001156: Failed on input OID 193, could not write value &#39;停车场(武汉市新洲区林业调查规划设计队西南)&#39; to output field NAME\",\"WARNING 001156: Failed on input OID 245, could not write value &#39;停车场(武汉长江水上搜救中心阳逻分中心西北)&#39; to output field NAME\",\"WARNING 001156: Failed on input OID 249, could not write value &#39;停车场(新洲区旧街公路养路费征收稽查站东南)&#39; to output field NAME\",\"WARNING 001156: Failed on input OID 341, could not write value &#39;停车场(中共邾城街水利管理站支部委员会西北)&#39; to output field NAME\",\"WARNING 001156: Failed on input OID 342, could not write value &#39;停车场(中共邾城街水利管理站支部委员会西北)&#39; to output field NAME\",\"WARNING 001156: Failed on input OID 1579, could not write value &#39;东新大队(流芳)鑫汉发交通事故违法专用停车场&#39; to output field NAME\",\"WARNING 000595: C:\\\\Users\\\\ADMINI~1\\\\AppData\\\\Local\\\\Temp\\\\2\\\\ArcGISProTemp8196\\\\wgs武汉市2015住宿服务0.fid contains the full list of records not able to be processed.\",\"WARNING 001156: Failed on input OID 76, could not write value &#39;027-86960958;027-89629618&#39; to output field TELEPHONE\",\"WARNING 001156: Failed on input OID 102, could not write value &#39;027-84916488;027-86916488&#39; to output field TELEPHONE\",\"WARNING 001156: Failed on input OID 119, could not write value &#39;027-89651388;027-89351345&#39; to output field TELEPHONE\",\"WARNING 001156: Failed on input OID 138, could not write value &#39;027-86969872;027-86969287&#39; to output field TELEPHONE\",\"WARNING 001156: Failed on input OID 274, could not write value &#39;027-89531047;027-89530959&#39; to output field TELEPHONE\",\"WARNING 001156: Failed on input OID 286, could not write value &#39;027-89358520;027-89356910&#39; to output field TELEPHONE\",\"WARNING 001156: Failed on input OID 291, could not write value &#39;027-89620705;027-89620708;027-89620888&#39; to output field TELEPHONE\",\"WARNING 001156: Failed on input OID 302, could not write value &#39;027-86922266;027-86926177&#39; to output field TELEPHONE\",\"WARNING 001156: Failed on input OID 307, could not write value &#39;027-89351839;027-89354688&#39; to output field TELEPHONE\",\"WARNING 001156: Failed on input OID 322, could not write value &#39;027-89362888;027-89362088&#39; to output field TELEPHONE\",\"WARNING 000595: C:\\\\Users\\\\ADMINI~1\\\\AppData\\\\Local\\\\Temp\\\\2\\\\ArcGISProTemp8196\\\\wgs武汉市2015体育休闲服务0.fid contains the full list of records not able to be processed.\",\"WARNING 001156: Failed on input OID 94, could not write value &#39;027-89020666;027-89062999&#39; to output field TELEPHONE\",\"WARNING 001156: Failed on input OID 173, could not write value &#39;027-89530660;027-89530715&#39; to output field TELEPHONE\",\"WARNING 001156: Failed on input OID 316, could not write value &#39;027-86981666;027-86981366;027-87682999&#39; to output field TELEPHONE\",\"WARNING 001156: Failed on input OID 455, could not write value &#39;027-84618299;027-84658299&#39; to output field TELEPHONE\",\"WARNING 001156: Failed on input OID 532, could not write value &#39;027-84644251;027-84844251&#39; to output field TELEPHONE\",\"WARNING 001156: Failed on input OID 540, could not write value &#39;027-84883099;027-84770456;15071092310&#39; to output field TELEPHONE\",\"WARNING 001156: Failed on input OID 598, could not write value &#39;027-68845218;027-68845320&#39; to output field TELEPHONE\",\"WARNING 001156: Failed on input OID 599, could not write value &#39;027-84459599;027-84675399&#39; to output field TELEPHONE\",\"WARNING 001156: Failed on input OID 926, could not write value &#39;027-84612270;027-84612085;027-84612431&#39; to output field TELEPHONE\",\"WARNING 001156: Failed on input OID 956, could not write value &#39;027-84803018;027-84550088&#39; to output field TELEPHONE\",\"WARNING 000595: C:\\\\Users\\\\ADMINI~1\\\\AppData\\\\Local\\\\Temp\\\\2\\\\ArcGISProTemp8196\\\\wgs武汉市2015公共设施0.fid contains the full list of records not able to be processed.\",\"WARNING 001156: Failed on input OID 3663, could not write value &#39;应急疏散场所（武昌区人民政府政务服务中心北）&#39; to output field NAME\",\"WARNING 000595: C:\\\\Users\\\\ADMINI~1\\\\AppData\\\\Local\\\\Temp\\\\2\\\\ArcGISProTemp8196\\\\wgs武汉市2015公司企业0.fid contains the full list of records not able to be processed.\",\"WARNING 001156: Failed on input OID 25, could not write value &#39;湖北省高速公路实业开发有限公司交安绿化分公司&#39; to output field NAME\",\"WARNING 001156: Failed on input OID 170, could not write value &#39;027-62580335;027-84695409&#39; to output field TELEPHONE\",\"WARNING 001156: Failed on input OID 207, could not write value &#39;027-81011089;027-87015243;13995599299&#39; to output field TELEPHONE\",\"WARNING 001156: Failed on input OID 213, could not write value &#39;027-59355599;027-59355598&#39; to output field TELEPHONE\",\"WARNING 001156: Failed on input OID 303, could not write value &#39;027-87685698;027-87685648&#39; to output field TELEPHONE\",\"WARNING 001156: Failed on input OID 307, could not write value &#39;武汉道培胎盘干细胞生物技术有限公司(湖北省干细胞库)&#39; to output field NAME\",\"WARNING 001156: Failed on input OID 336, could not write value &#39;027-88078840;027-88756921;13886148402&#39; to output field TELEPHONE\",\"WARNING 001156: Failed on input OID 339, could not write value &#39;027-87771018;027-87771019;4008868059&#39; to output field TELEPHONE\",\"WARNING 001156: Failed on input OID 369, could not write value &#39;027-87821221;027-87272721&#39; to output field TELEPHONE\",\"WARNING 001156: Failed on input OID 401, could not write value &#39;Fengxing Fishing Tackle Co.Ltd.&#39; to output field NAME\",\"WARNING 000595: C:\\\\Users\\\\ADMINI~1\\\\AppData\\\\Local\\\\Temp\\\\2\\\\ArcGISProTemp8196\\\\wgs武汉市2015医疗保健服务0.fid contains the full list of records not able to be processed.\",\"WARNING 001156: Failed on input OID 73, could not write value &#39;027-86965951;027-63269571&#39; to output field TELEPHONE\",\"WARNING 001156: Failed on input OID 131, could not write value &#39;027-86917867;027-89997655&#39; to output field TELEPHONE\",\"WARNING 001156: Failed on input OID 336, could not write value &#39;027-86922482;027-86928448&#39; to output field TELEPHONE\",\"WARNING 001156: Failed on input OID 418, could not write value &#39;027-89357692;027-51908569&#39; to output field TELEPHONE\",\"WARNING 001156: Failed on input OID 829, could not write value &#39;027-82855338;027-82854964&#39; to output field TELEPHONE\",\"WARNING 001156: Failed on input OID 1267, could not write value &#39;027-84777999;027-84777666&#39; to output field TELEPHONE\",\"WARNING 001156: Failed on input OID 1285, could not write value &#39;中共汉阳一博综合门诊部武汉美年大健康体检管理有限公司支部委员会&#39; to output field NAME\",\"WARNING 001156: Failed on input OID 1359, could not write value &#39;027-59106415;027-62338127&#39; to output field TELEPHONE\",\"WARNING 001156: Failed on input OID 1360, could not write value &#39;027-59106415;027-62338127&#39; to output field TELEPHONE\",\"WARNING 001156: Failed on input OID 1422, could not write value &#39;027-84872993;027-84665922&#39; to output field TELEPHONE\",\"WARNING 000595: C:\\\\Users\\\\ADMINI~1\\\\AppData\\\\Local\\\\Temp\\\\2\\\\ArcGISProTemp8196\\\\wgs武汉市2015商务住宅0.fid contains the full list of records not able to be processed.\",\"WARNING 001156: Failed on input OID 188, could not write value &#39;027-89776888;027-51018000&#39; to output field TELEPHONE\",\"WARNING 001156: Failed on input OID 190, could not write value &#39;027-89353899;027-89101899&#39; to output field TELEPHONE\",\"WARNING 001156: Failed on input OID 244, could not write value &#39;027-86981999;027-86982999&#39; to output field TELEPHONE\",\"WARNING 001156: Failed on input OID 806, could not write value &#39;027-84871717;027-84871818&#39; to output field TELEPHONE\",\"WARNING 001156: Failed on input OID 808, could not write value &#39;027-84800626;027-84766666&#39; to output field TELEPHONE\",\"WARNING 001156: Failed on input OID 980, could not write value &#39;027-84593315;027-84593352&#39; to output field TELEPHONE\",\"WARNING 001156: Failed on input OID 981, could not write value &#39;027-84593315;027-84593352&#39; to output field TELEPHONE\",\"WARNING 001156: Failed on input OID 1483, could not write value &#39;027-84458899;027-84458898&#39; to output field TELEPHONE\",\"WARNING 001156: Failed on input OID 1484, could not write value &#39;027-84878788;027-84888188&#39; to output field TELEPHONE\",\"WARNING 001156: Failed on input OID 1489, could not write value &#39;027-84763338;027-84844966&#39; to output field TELEPHONE\",\"WARNING 000595: C:\\\\Users\\\\ADMINI~1\\\\AppData\\\\Local\\\\Temp\\\\2\\\\ArcGISProTemp8196\\\\wgs武汉市2015地名地址信息0.fid contains the full list of records not able to be processed.\",\"WARNING 001156: Failed on input OID 34790, could not write value &#39;G70福银高速入口与G70福银高速出口交叉口&#39; to output field NAME\",\"WARNING 000595: C:\\\\Users\\\\ADMINI~1\\\\AppData\\\\Local\\\\Temp\\\\2\\\\ArcGISProTemp8196\\\\wgs武汉市2015摩托车服务0.fid contains the full list of records not able to be processed.\",\"WARNING 001156: Failed on input OID 35, could not write value &#39;027-89356570;027-89356510&#39; to output field TELEPHONE\",\"WARNING 001156: Failed on input OID 37, could not write value &#39;027-89350187;027-89361687&#39; to output field TELEPHONE\",\"WARNING 001156: Failed on input OID 45, could not write value &#39;027-89358831;027-89354715&#39; to output field TELEPHONE\",\"WARNING 001156: Failed on input OID 203, could not write value &#39;027-52309768;027-82287769;13886097502&#39; to output field TELEPHONE\",\"WARNING 001156: Failed on input OID 403, could not write value &#39;027-52355888;027-52355858&#39; to output field TELEPHONE\",\"WARNING 001156: Failed on input OID 404, could not write value &#39;027-52358905;027-52358999;13016413765&#39; to output field TELEPHONE\",\"WARNING 001156: Failed on input OID 405, could not write value &#39;027-83263038;027-52358890;13995634768&#39; to output field TELEPHONE\",\"WARNING 001156: Failed on input OID 407, could not write value &#39;027-83086098;027-83262467;13995696486&#39; to output field TELEPHONE\",\"WARNING 001156: Failed on input OID 408, could not write value &#39;027-83899368;027-83899528&#39; to output field TELEPHONE\",\"WARNING 001156: Failed on input OID 415, could not write value &#39;027-83263068;027-52358817&#39; to output field TELEPHONE\",\"WARNING 000595: C:\\\\Users\\\\ADMINI~1\\\\AppData\\\\Local\\\\Temp\\\\2\\\\ArcGISProTemp8196\\\\wgs武汉市2015政府机构及社会团体0.fid contains the full list of records not able to be processed.\",\"WARNING 001156: Failed on input OID 11, could not write value &#39;武汉市新洲区仓埠街道办事处骑龙街社区居民委员会&#39; to output field NAME\",\"WARNING 001156: Failed on input OID 124, could not write value &#39;新洲区公安分局交通巡逻民警大队涉案车辆停放处&#39; to output field NAME\",\"WARNING 001156: Failed on input OID 162, could not write value &#39;李集街人力资源和社会保障服务中心(武汉市新洲区李集林业站西)&#39; to output field NAME\",\"WARNING 001156: Failed on input OID 181, could not write value &#39;武汉安通机动车安全技术检测有限公司新洲区东城湾站&#39; to output field NAME\",\"WARNING 001156: Failed on input OID 211, could not write value &#39;中共阳逻街人力资源和社会保障服务中心支部委员会&#39; to output field NAME\",\"WARNING 001156: Failed on input OID 249, could not write value &#39;武汉市公安局新洲区分局交通巡逻民警大队邾城中队&#39; to output field NAME\",\"WARNING 001156: Failed on input OID 271, could not write value &#39;新洲区烟草专卖分局(营销中心)邾城管理所(市场部)&#39; to output field NAME\",\"WARNING 001156: Failed on input OID 303, could not write value &#39;中共紫荆社区支部委员会(武汉市新洲区潘塘街城建服务中心西北)&#39; to output field NAME\",\"WARNING 001156: Failed on input OID 315, could not write value &#39;027-86921181;027-86921121&#39; to output field TELEPHONE\",\"WARNING 001156: Failed on input OID 332, could not write value &#39;新洲区私营企业个体劳动者协会新区农资行业分会&#39; to output field NAME\",\"WARNING 000595: C:\\\\Users\\\\ADMINI~1\\\\AppData\\\\Local\\\\Temp\\\\2\\\\ArcGISProTemp8196\\\\wgs武汉市2015汽车服务0.fid contains the full list of records not able to be processed.\",\"WARNING 001156: Failed on input OID 257, could not write value &#39;027-89350738;027-89990568&#39; to output field TELEPHONE\",\"WARNING 001156: Failed on input OID 334, could not write value &#39;宽途汽车(第0644店雨飞龙汽车轮胎装饰中心)&#39; to output field NAME\",\"WARNING 001156: Failed on input OID 335, could not write value &#39;宽途汽车(第0644店雨飞龙汽车轮胎装饰中心)&#39; to output field NAME\",\"WARNING 001156: Failed on input OID 354, could not write value &#39;027-84623288;4000990829;13437280328&#39; to output field TELEPHONE\",\"WARNING 001156: Failed on input OID 572, could not write value &#39;027-84692308;027-84692309&#39; to output field TELEPHONE\",\"WARNING 001156: Failed on input OID 588, could not write value &#39;【博湃养车】汽车保养服务中心(【汉阳区店】)&#39; to output field NAME\",\"WARNING 001156: Failed on input OID 632, could not write value &#39;027-84518588;027-84529856&#39; to output field TELEPHONE\",\"WARNING 001156: Failed on input OID 634, could not write value &#39;027-51478438;027-84522125&#39; to output field TELEPHONE\",\"WARNING 001156: Failed on input OID 635, could not write value &#39;027-51478438;027-84522125&#39; to output field TELEPHONE\",\"WARNING 001156: Failed on input OID 636, could not write value &#39;027-62521715;027-63265036;15623250805&#39; to output field TELEPHONE\",\"WARNING 000595: C:\\\\Users\\\\ADMINI~1\\\\AppData\\\\Local\\\\Temp\\\\2\\\\ArcGISProTemp8196\\\\wgs武汉市2015汽车维修0.fid contains the full list of records not able to be processed.\",\"WARNING 001156: Failed on input OID 27, could not write value &#39;027-66665288;027-66665388&#39; to output field TELEPHONE\",\"WARNING 001156: Failed on input OID 106, could not write value &#39;027-86974515;027-86971515&#39; to output field TELEPHONE\",\"WARNING 001156: Failed on input OID 137, could not write value &#39;027-84878588;027-84878688&#39; to output field TELEPHONE\",\"WARNING 001156: Failed on input OID 186, could not write value &#39;027-84629088;027-84636032&#39; to output field TELEPHONE\",\"WARNING 001156: Failed on input OID 187, could not write value &#39;027-84878188;027-84878588&#39; to output field TELEPHONE\",\"WARNING 001156: Failed on input OID 193, could not write value &#39;027-84767188;027-84767288;4008689880&#39; to output field TELEPHONE\",\"WARNING 001156: Failed on input OID 196, could not write value &#39;027-84887867;027-84627215&#39; to output field TELEPHONE\",\"WARNING 001156: Failed on input OID 284, could not write value &#39;027-84627762;027-84867777;4009197066&#39; to output field TELEPHONE\",\"WARNING 001156: Failed on input OID 291, could not write value &#39;027-62097583;027-63431228&#39; to output field TELEPHONE\",\"WARNING 001156: Failed on input OID 296, could not write value &#39;027-68840920;027-68840808&#39; to output field TELEPHONE\",\"WARNING 000595: C:\\\\Users\\\\ADMINI~1\\\\AppData\\\\Local\\\\Temp\\\\2\\\\ArcGISProTemp8196\\\\wgs武汉市2015汽车销售0.fid contains the full list of records not able to be processed.\",\"WARNING 001156: Failed on input OID 3, could not write value &#39;027-89662999;027-89665999&#39; to output field TELEPHONE\",\"WARNING 001156: Failed on input OID 17, could not write value &#39;027-89400888;027-89350606&#39; to output field TELEPHONE\",\"WARNING 001156: Failed on input OID 18, could not write value &#39;027-89778887;027-89875888&#39; to output field TELEPHONE\",\"WARNING 001156: Failed on input OID 29, could not write value &#39;027-84586660;027-84586661&#39; to output field TELEPHONE\",\"WARNING 001156: Failed on input OID 30, could not write value &#39;027-68840828;027-68840818;4008186145&#39; to output field TELEPHONE\",\"WARNING 001156: Failed on input OID 31, could not write value &#39;027-82286890;027-84882826&#39; to output field TELEPHONE\",\"WARNING 001156: Failed on input OID 32, could not write value &#39;027-82286890;027-84882826&#39; to output field TELEPHONE\",\"WARNING 001156: Failed on input OID 42, could not write value &#39;027-84667578;027-84899605&#39; to output field TELEPHONE\",\"WARNING 001156: Failed on input OID 44, could not write value &#39;027-50751119;027-50751118&#39; to output field TELEPHONE\",\"WARNING 001156: Failed on input OID 45, could not write value &#39;027-81880116;027-84457933&#39; to output field TELEPHONE\",\"WARNING 000595: C:\\\\Users\\\\ADMINI~1\\\\AppData\\\\Local\\\\Temp\\\\2\\\\ArcGISProTemp8196\\\\wgs武汉市2015生活服务0.fid contains the full list of records not able to be processed.\",\"WARNING 001156: Failed on input OID 477, could not write value &#39;新洲区涨渡湖街龙王咀农场(计生服务与药具发放点)&#39; to output field NAME\",\"WARNING 001156: Failed on input OID 483, could not write value &#39;新洲区徐古镇桃花岗村(计生服务与药具发放点)&#39; to output field NAME\",\"WARNING 001156: Failed on input OID 487, could not write value &#39;新洲区辛冲镇罗坪河村(计生服务与药具发放点)&#39; to output field NAME\",\"WARNING 001156: Failed on input OID 492, could not write value &#39;新洲区仓埠街周铺社区(计生服务与药具发放点)&#39; to output field NAME\",\"WARNING 001156: Failed on input OID 519, could not write value &#39;新洲区旧街街祠堂湾村(计生服务与药具发放点)&#39; to output field NAME\",\"WARNING 001156: Failed on input OID 522, could not write value &#39;新洲区徐古镇乌钵窑村(计生服务与药具发放点)&#39; to output field NAME\",\"WARNING 001156: Failed on input OID 533, could not write value &#39;新洲区涨渡湖街四分场(计生服务与药具发放点)&#39; to output field NAME\",\"WARNING 001156: Failed on input OID 556, could not write value &#39;027-86926518;027-89990779&#39; to output field TELEPHONE\",\"WARNING 001156: Failed on input OID 572, could not write value &#39;新洲区邾城街黄茂社区(计生服务与药具发放点)&#39; to output field NAME\",\"WARNING 001156: Failed on input OID 577, could not write value &#39;新洲区凤凰镇石骨山村(计生服务与药具发放点)&#39; to output field NAME\",\"WARNING 000595: C:\\\\Users\\\\ADMINI~1\\\\AppData\\\\Local\\\\Temp\\\\2\\\\ArcGISProTemp8196\\\\wgs武汉市2015科教文化服务0.fid contains the full list of records not able to be processed.\",\"WARNING 001156: Failed on input OID 42, could not write value &#39;027-89357111;4000909639;027-89356111&#39; to output field TELEPHONE\",\"WARNING 001156: Failed on input OID 76, could not write value &#39;027-86961184;027-86980118&#39; to output field TELEPHONE\",\"WARNING 001156: Failed on input OID 105, could not write value &#39;武汉市公安局新洲分局交通大队机动车驾驶员培训基地&#39; to output field NAME\",\"WARNING 001156: Failed on input OID 106, could not write value &#39;武汉市公安局新洲分局交通大队机动车驾驶员培训基地&#39; to output field NAME\",\"WARNING 001156: Failed on input OID 149, could not write value &#39;027-59238873;027-89837090;13387575255&#39; to output field TELEPHONE\",\"WARNING 001156: Failed on input OID 150, could not write value &#39;027-59238873;027-89837090;13387575255&#39; to output field TELEPHONE\",\"WARNING 001156: Failed on input OID 155, could not write value &#39;027-86976693;027-86926693&#39; to output field TELEPHONE\",\"WARNING 001156: Failed on input OID 177, could not write value &#39;明安驾校训练场(湖北大学阳逻校区学生公寓西)&#39; to output field NAME\",\"WARNING 001156: Failed on input OID 232, could not write value &#39;027-89662100;027-89663100;18971580836&#39; to output field TELEPHONE\",\"WARNING 001156: Failed on input OID 341, could not write value &#39;027-89649868;027-89649828&#39; to output field TELEPHONE\",\"WARNING 000595: C:\\\\Users\\\\ADMINI~1\\\\AppData\\\\Local\\\\Temp\\\\2\\\\ArcGISProTemp8196\\\\wgs武汉市2015道路附属设施0.fid contains the full list of records not able to be processed.\",\"WARNING 001156: Failed on input OID 33, could not write value &#39;江夏收费站(G50沪渝高速出口001县道方向)&#39; to output field NAME\",\"WARNING 001156: Failed on input OID 37, could not write value &#39;凤凰山收费站(G50沪渝高速出口光谷二路方向)&#39; to output field NAME\",\"WARNING 001156: Failed on input OID 86, could not write value &#39;武汉城市ETC谌家矶收费站(汉施立交桥平安铺立交方向)&#39; to output field NAME\",\"WARNING 001156: Failed on input OID 89, could not write value &#39;陵园收费站(S1岱黄高速出口050县道方向)&#39; to output field NAME\",\"WARNING 001156: Failed on input OID 94, could not write value &#39;盘龙城收费站(S18机场高速出口G70方向)&#39; to output field NAME\",\"WARNING 001156: Failed on input OID 95, could not write value &#39;黄花涝收费站(S19机场二高速出口G70方向)&#39; to output field NAME\",\"WARNING 001156: Failed on input OID 96, could not write value &#39;黄花涝收费站(G42沪蓉高速出口天河机场方向)&#39; to output field NAME\",\"WARNING 001156: Failed on input OID 112, could not write value &#39;巨龙收费站(S3武麻高速出口汉口北大市场方向)&#39; to output field NAME\",\"WARNING 001156: Failed on input OID 124, could not write value &#39;武汉北收费站(G4京港澳高速出口东西湖方向)&#39; to output field NAME\",\"WARNING 001156: Failed on input OID 126, could not write value &#39;武汉东西湖收费站(G42沪蓉高速出口武汉方向)&#39; to output field NAME\",\"WARNING 000595: C:\\\\Users\\\\ADMINI~1\\\\AppData\\\\Local\\\\Temp\\\\2\\\\ArcGISProTemp8196\\\\wgs武汉市2015金融保险服务0.fid contains the full list of records not able to be processed.\",\"WARNING 001156: Failed on input OID 9, could not write value &#39;中国建设银行24小时自助银行(武汉阳逻电力支行)&#39; to output field NAME\",\"WARNING 001156: Failed on input OID 19, could not write value &#39;027-89705789;027-89805789&#39; to output field TELEPHONE\",\"WARNING 001156: Failed on input OID 45, could not write value &#39;中国农业银行24小时自助银行(武汉齐安支行)&#39; to output field NAME\",\"WARNING 001156: Failed on input OID 47, could not write value &#39;中国邮政储蓄银行24小时自助银行(龙腾大道营业所)&#39; to output field NAME\",\"WARNING 001156: Failed on input OID 50, could not write value &#39;中国人民财产保险股份有限公司(潘塘街营销服务部)&#39; to output field NAME\",\"WARNING 001156: Failed on input OID 54, could not write value &#39;武汉农村商业银行24小时自助银行(辛冲支行)&#39; to output field NAME\",\"WARNING 001156: Failed on input OID 55, could not write value &#39;027-86929292;027-86919191&#39; to output field TELEPHONE\",\"WARNING 001156: Failed on input OID 57, could not write value &#39;中国人民财产保险股份有限公司(仓埠街营销服务部)&#39; to output field NAME\",\"WARNING 001156: Failed on input OID 59, could not write value &#39;武汉农村商业银行24小时自助银行(凤凰支行)&#39; to output field NAME\",\"WARNING 001156: Failed on input OID 67, could not write value &#39;027-86912088;027-86915115&#39; to output field TELEPHONE\",\"WARNING 000595: C:\\\\Users\\\\ADMINI~1\\\\AppData\\\\Local\\\\Temp\\\\2\\\\ArcGISProTemp8196\\\\wgs武汉市2015风景名胜0.fid contains the full list of records not able to be processed.\",\"WARNING 001156: Failed on input OID 155, could not write value &#39;027-84710886;027-84718755&#39; to output field TELEPHONE\",\"WARNING 001156: Failed on input OID 246, could not write value &#39;027-84834187;027-84843543&#39; to output field TELEPHONE\",\"WARNING 001156: Failed on input OID 264, could not write value &#39;027-84710413;027-84710440&#39; to output field TELEPHONE\",\"WARNING 001156: Failed on input OID 265, could not write value &#39;027-84841434;027-84844756&#39; to output field TELEPHONE\",\"WARNING 001156: Failed on input OID 266, could not write value &#39;027-84841434;027-84844756&#39; to output field TELEPHONE\",\"WARNING 001156: Failed on input OID 316, could not write value &#39;027-87596838;18008631550;027-88860588&#39; to output field TELEPHONE\",\"WARNING 001156: Failed on input OID 412, could not write value &#39;027-87956533;027-51838044;13296692813&#39; to output field TELEPHONE\",\"WARNING 001156: Failed on input OID 469, could not write value &#39;027-87635632;027-87639736&#39; to output field TELEPHONE\",\"WARNING 001156: Failed on input OID 472, could not write value &#39;027-87510179;027-87510399&#39; to output field TELEPHONE\",\"WARNING 001156: Failed on input OID 485, could not write value &#39;027-86411117;027-86411119&#39; to output field TELEPHONE\",\"WARNING 000595: C:\\\\Users\\\\ADMINI~1\\\\AppData\\\\Local\\\\Temp\\\\2\\\\ArcGISProTemp8196\\\\wgs武汉市2015餐饮服务0.fid contains the full list of records not able to be processed.\",\"WARNING 001156: Failed on input OID 363, could not write value &#39;027-89530380;027-89477839&#39; to output field TELEPHONE\",\"WARNING 001156: Failed on input OID 430, could not write value &#39;027-86980777;027-86978666&#39; to output field TELEPHONE\",\"WARNING 001156: Failed on input OID 1167, could not write value &#39;027-86917110;027-86918117&#39; to output field TELEPHONE\",\"WARNING 001156: Failed on input OID 1516, could not write value &#39;正宗兰州牛肉拉面(湖北大学阳逻校区学生公寓西南)&#39; to output field NAME\",\"WARNING 001156: Failed on input OID 1691, could not write value &#39;027-86919777;027-86912777&#39; to output field TELEPHONE\",\"WARNING 001156: Failed on input OID 1694, could not write value &#39;027-86981898;027-86981023&#39; to output field TELEPHONE\",\"WARNING 001156: Failed on input OID 1743, could not write value &#39;027-89179999;027-86935696&#39; to output field TELEPHONE\",\"WARNING 001156: Failed on input OID 1776, could not write value &#39;027-86980062;027-86975580&#39; to output field TELEPHONE\",\"WARNING 001156: Failed on input OID 1794, could not write value &#39;027-86978787;027-86978977&#39; to output field TELEPHONE\",\"WARNING 001156: Failed on input OID 1820, could not write value &#39;027-89771799;027-89772799&#39; to output field TELEPHONE\",\"Succeeded at 2024年1月16日 10:49:14 (Elapsed Time: 32.52 seconds)\"]' data-show='true'><div id = 'default' /></div></div>"
      ],
      "text/plain": [
       "<Result 'E:\\\\stu1\\\\Projects\\\\POI2023\\\\POIs.gdb\\\\POI15'>"
      ]
     },
     "execution_count": 15,
     "metadata": {},
     "output_type": "execute_result"
    }
   ],
   "source": [
    "# 合并POI数据\n",
    "arcpy.management.Merge(inputs = poi_files, output = merged_poi_output)"
   ]
  },
  {
   "cell_type": "code",
   "execution_count": 16,
   "metadata": {},
   "outputs": [
    {
     "data": {
      "text/html": [
       "<div class='gpresult'><h2>Messages</h2><div id='messages' data-messages='[\"Start Time: 2024年1月16日 10:59:37\",\"Succeeded at 2024年1月16日 11:00:00 (Elapsed Time: 23.14 seconds)\"]' data-show='true'><div id = 'default' /></div></div>"
      ],
      "text/plain": [
       "<Result 'E:\\\\stu1\\\\Projects\\\\POI2023\\\\POIs.gdb\\\\POI16'>"
      ]
     },
     "execution_count": 16,
     "metadata": {},
     "output_type": "execute_result"
    }
   ],
   "source": [
    "folder_path = r\"E:\\stu1\\UFZs\\poi_data\\2016\"\n",
    "arcpy.env.workspace = folder_path\n",
    "poi_files = arcpy.ListFeatureClasses()\n",
    "merged_poi_output = r\"E:\\stu1\\Projects\\POI2023\\POIs.gdb\\POI16\"\n",
    "arcpy.management.Merge(inputs = poi_files, output = merged_poi_output)"
   ]
  },
  {
   "cell_type": "code",
   "execution_count": 17,
   "metadata": {},
   "outputs": [
    {
     "name": "stdout",
     "output_type": "stream",
     "text": [
      "完成2017年的POI数据融合\n",
      "完成2018年的POI数据融合\n",
      "完成2019年的POI数据融合\n",
      "完成2020年的POI数据融合\n",
      "完成2021年的POI数据融合\n",
      "完成2022年的POI数据融合\n",
      "完成2023年的POI数据融合\n"
     ]
    }
   ],
   "source": [
    "# 基本文件夹路径\n",
    "base_folder_path = r\"E:\\stu1\\UFZs\\poi_data\"\n",
    "output_base_path = r\"E:\\stu1\\Projects\\POI2023\\POIs.gdb\"\n",
    "\n",
    "# 遍历2017年到2023年的数据\n",
    "for year in range(2017, 2024):\n",
    "    # 设置当前年份的工作空间\n",
    "    folder_path = f\"{base_folder_path}\\{year}\"\n",
    "    arcpy.env.workspace = folder_path\n",
    "    \n",
    "    # 列出当前工作空间中的要素类\n",
    "    poi_files = arcpy.ListFeatureClasses()\n",
    "    \n",
    "    # 设置融合后的输出路径\n",
    "    merged_poi_output = f\"{output_base_path}\\POI{year}\"\n",
    "    \n",
    "    # 执行融合操作\n",
    "    arcpy.management.Merge(inputs=poi_files, output=merged_poi_output)\n",
    "\n",
    "    print(f\"完成{year}年的POI数据融合\")\n"
   ]
  },
  {
   "cell_type": "markdown",
   "metadata": {
    "heading_collapsed": true
   },
   "source": [
    "# KDE"
   ]
  },
  {
   "cell_type": "code",
   "execution_count": 3,
   "metadata": {
    "hidden": true
   },
   "outputs": [],
   "source": [
    "arcpy.env.workspace = r\"E:\\stu1\\Projects\\POI2023\\POIs.gdb\""
   ]
  },
  {
   "cell_type": "markdown",
   "metadata": {
    "heading_collapsed": true,
    "hidden": true
   },
   "source": [
    "## KDE"
   ]
  },
  {
   "cell_type": "markdown",
   "metadata": {
    "hidden": true
   },
   "source": [
    "poi_data = r\"E:\\stu1\\Projects\\POI2023\\POIs.gdb\\POI12\"\n",
    "kde_output = r\"E:\\stu1\\Projects\\POI2023\\POIs.gdb\\kde\\kde12\"\n",
    "kde = KernelDensity(poi_data, \"NONE\")\n",
    "kde.save(kde_output)"
   ]
  },
  {
   "cell_type": "code",
   "execution_count": 7,
   "metadata": {
    "hidden": true
   },
   "outputs": [
    {
     "name": "stdout",
     "output_type": "stream",
     "text": [
      "完成12年的KDE分析\n",
      "完成13年的KDE分析\n",
      "完成14年的KDE分析\n",
      "完成15年的KDE分析\n",
      "完成16年的KDE分析\n",
      "完成17年的KDE分析\n",
      "完成18年的KDE分析\n",
      "完成19年的KDE分析\n",
      "完成20年的KDE分析\n",
      "完成21年的KDE分析\n",
      "完成22年的KDE分析\n",
      "完成23年的KDE分析\n"
     ]
    }
   ],
   "source": [
    "# 基础路径\n",
    "base_path = r\"E:\\stu1\\Projects\\POI2023\\POIs.gdb\"\n",
    "\n",
    "# 遍历2012年到2023年\n",
    "for year in range(12, 24):\n",
    "    # POI数据和KDE输出路径\n",
    "    poi_data = f\"{base_path}\\POI{year}\"\n",
    "    kde_output = f\"{base_path}\\kde{year}\"\n",
    "    \n",
    "    # 执行KDE\n",
    "    kde = KernelDensity(poi_data, \"NONE\")\n",
    "    kde.save(kde_output)\n",
    "    \n",
    "    print(f\"完成{year}年的KDE分析\")"
   ]
  },
  {
   "cell_type": "markdown",
   "metadata": {
    "heading_collapsed": true,
    "hidden": true
   },
   "source": [
    "## POI投影"
   ]
  },
  {
   "cell_type": "code",
   "execution_count": 2,
   "metadata": {
    "hidden": true
   },
   "outputs": [],
   "source": [
    "# Define the input WGS 84 spatial reference (EPSG: 4326)\n",
    "input_sr = arcpy.SpatialReference(4326)\n",
    "# output UTM Zone 50N \n",
    "output_sr = arcpy.SpatialReference(32650)"
   ]
  },
  {
   "cell_type": "code",
   "execution_count": 3,
   "metadata": {
    "hidden": true
   },
   "outputs": [
    {
     "name": "stdout",
     "output_type": "stream",
     "text": [
      "完成12年的KDE投影\n",
      "完成13年的KDE投影\n",
      "完成14年的KDE投影\n",
      "完成15年的KDE投影\n",
      "完成16年的KDE投影\n",
      "完成17年的KDE投影\n",
      "完成18年的KDE投影\n",
      "完成19年的KDE投影\n",
      "完成20年的KDE投影\n",
      "完成21年的KDE投影\n",
      "完成22年的KDE投影\n",
      "完成23年的KDE投影\n"
     ]
    }
   ],
   "source": [
    "# 基础路径\n",
    "base_path = r\"E:\\stu1\\Projects\\POI2023\\POIs.gdb\"\n",
    "\n",
    "# 遍历2012年到2023年\n",
    "for year in range(12, 24):\n",
    "    # KDE数据的输入和输出路径\n",
    "    input_kde = f\"{base_path}\\kde{year}\"\n",
    "    projected_kde = f\"{base_path}\\Pkde{year}\"\n",
    "    \n",
    "    # Project\n",
    "    arcpy.management.ProjectRaster(input_kde, projected_kde, output_sr)\n",
    "    \n",
    "    print(f\"完成{year}年的KDE投影\")"
   ]
  },
  {
   "cell_type": "markdown",
   "metadata": {
    "heading_collapsed": true,
    "hidden": true
   },
   "source": [
    "## 中值二分遍历"
   ]
  },
  {
   "cell_type": "code",
   "execution_count": 2,
   "metadata": {
    "hidden": true
   },
   "outputs": [],
   "source": [
    "arcpy.env.workspace = r\"E:\\stu1\\Projects\\POI2023\\POIs.gdb\""
   ]
  },
  {
   "cell_type": "code",
   "execution_count": 3,
   "metadata": {
    "hidden": true
   },
   "outputs": [],
   "source": [
    "projected_kde = r\"E:\\stu1\\Projects\\POI2023\\POIs.gdb\\Pkde12\""
   ]
  },
  {
   "cell_type": "code",
   "execution_count": 4,
   "metadata": {
    "hidden": true
   },
   "outputs": [],
   "source": [
    "first = \"first12\"\n",
    "second = \"second12\"\n",
    "third = \"third12\""
   ]
  },
  {
   "cell_type": "code",
   "execution_count": 6,
   "metadata": {
    "hidden": true
   },
   "outputs": [],
   "source": [
    "# 获取Projected_kde的平均值\n",
    "kde_stats = arcpy.GetRasterProperties_management(projected_kde, \"MEAN\")\n",
    "threshold_value = float(kde_stats.getOutput(0))"
   ]
  },
  {
   "cell_type": "code",
   "execution_count": 16,
   "metadata": {
    "hidden": true
   },
   "outputs": [],
   "source": [
    "binary_first = Raster(projected_kde) > threshold_value\n",
    "# 保存栅格数据到Geodatabase\n",
    "binary_first.save(first)"
   ]
  },
  {
   "cell_type": "code",
   "execution_count": 7,
   "metadata": {
    "hidden": true
   },
   "outputs": [],
   "source": [
    "# Mask raster to include only values above the initial threshold\n",
    "masked_raster = Con(Raster(projected_kde) > threshold_value, Raster(projected_kde))\n",
    "\n",
    "# Calculate the mean of the masked raster\n",
    "mean_of_high_values = float(arcpy.GetRasterProperties_management(masked_raster, \"MEAN\").getOutput(0))\n",
    "\n",
    "# Create final binary raster using the second mean as threshold\n",
    "binary_second = Con(masked_raster > mean_of_high_values, 1, 0)\n",
    "\n",
    "# 保存栅格数据到Geodatabase\n",
    "binary_second.save(second)"
   ]
  },
  {
   "cell_type": "code",
   "execution_count": 8,
   "metadata": {
    "hidden": true
   },
   "outputs": [],
   "source": [
    "# Mask raster to include only values above the second threshold\n",
    "masked_raster_second = Con(binary_second == 1, Raster(projected_kde))\n",
    "\n",
    "# Calculate the mean of the second masked raster\n",
    "mean_of_higher_values = float(arcpy.GetRasterProperties_management(masked_raster_second, \"MEAN\").getOutput(0))\n",
    "\n",
    "# Create the final binary raster using the third mean as threshold\n",
    "binary_third = Con(Raster(projected_kde) > mean_of_higher_values, 1, 0)\n",
    "\n",
    "# 保存栅格数据到Geodatabase\n",
    "binary_third.save(third)"
   ]
  },
  {
   "cell_type": "markdown",
   "metadata": {
    "hidden": true
   },
   "source": [
    "对13年到23年的数据循环语句自动化实现"
   ]
  },
  {
   "cell_type": "code",
   "execution_count": 9,
   "metadata": {
    "hidden": true
   },
   "outputs": [],
   "source": [
    "# 循环处理13年到23年的数据\n",
    "for year in range(13, 24):\n",
    "    # 定义每年的Projected KDE路径\n",
    "    projected_kde = f\"E:\\\\stu1\\\\Projects\\\\POI2023\\\\POIs.gdb\\\\Pkde{year}\"\n",
    "\n",
    "    # 计算阈值\n",
    "    kde_stats = arcpy.GetRasterProperties_management(projected_kde, \"MEAN\")\n",
    "    threshold_value = float(kde_stats.getOutput(0))\n",
    "\n",
    "    # 第一个二值栅格\n",
    "    binary_first = Raster(projected_kde) > threshold_value\n",
    "    binary_first.save(f\"first{year}\")\n",
    "\n",
    "    # 使用初始阈值掩膜栅格\n",
    "    masked_raster = Con(Raster(projected_kde) > threshold_value, Raster(projected_kde))\n",
    "\n",
    "    # 计算掩膜栅格的平均值\n",
    "    mean_of_high_values = float(arcpy.GetRasterProperties_management(masked_raster, \"MEAN\").getOutput(0))\n",
    "\n",
    "    # 创建第二个二值栅格\n",
    "    binary_second = Con(masked_raster > mean_of_high_values, 1, 0)\n",
    "    binary_second.save(f\"second{year}\")\n",
    "\n",
    "    # 使用第二阈值掩膜栅格\n",
    "    masked_raster_second = Con(binary_second == 1, Raster(projected_kde))\n",
    "\n",
    "    # 计算第二掩膜栅格的平均值\n",
    "    mean_of_higher_values = float(arcpy.GetRasterProperties_management(masked_raster_second, \"MEAN\").getOutput(0))\n",
    "\n",
    "    # 创建第三个二值栅格\n",
    "    binary_third = Con(Raster(projected_kde) > mean_of_higher_values, 1, 0)\n",
    "    binary_third.save(f\"third{year}\")\n"
   ]
  },
  {
   "cell_type": "markdown",
   "metadata": {
    "heading_collapsed": true
   },
   "source": [
    "# 划定城市化区域"
   ]
  },
  {
   "cell_type": "code",
   "execution_count": 4,
   "metadata": {
    "hidden": true
   },
   "outputs": [
    {
     "name": "stdout",
     "output_type": "stream",
     "text": [
      "完成12年的二值栅格矢量化\n",
      "完成13年的二值栅格矢量化\n",
      "完成14年的二值栅格矢量化\n",
      "完成15年的二值栅格矢量化\n",
      "完成16年的二值栅格矢量化\n",
      "完成17年的二值栅格矢量化\n",
      "完成18年的二值栅格矢量化\n",
      "完成19年的二值栅格矢量化\n",
      "完成20年的二值栅格矢量化\n",
      "完成21年的二值栅格矢量化\n",
      "完成22年的二值栅格矢量化\n",
      "完成23年的二值栅格矢量化\n"
     ]
    }
   ],
   "source": [
    "# 循环处理12年到23年的数据\n",
    "for year in range(12, 24):\n",
    "    # 定义每年的bianry_raster路径\n",
    "    binary_raster = f\"E:\\\\stu1\\\\Projects\\\\POI2023\\\\POIs.gdb\\\\second{year}\"\n",
    "    # 定义output路径\n",
    "    output_polygon = f\"E:\\\\stu1\\\\Projects\\\\POI2023\\\\POIs.gdb\\\\polysec{year}\"\n",
    "    \n",
    "    # 保留值为1的栅格区域\n",
    "    binary_raster_filtered = Con(Raster(binary_raster) == 1, 1)\n",
    "    \n",
    "    # Raster to Polygon\n",
    "    arcpy.RasterToPolygon_conversion(binary_raster_filtered, output_polygon, \"NO_SIMPLIFY\")\n",
    "    \n",
    "    print(f\"完成{year}年的二值栅格矢量化\")"
   ]
  },
  {
   "cell_type": "code",
   "execution_count": 6,
   "metadata": {
    "hidden": true
   },
   "outputs": [],
   "source": [
    "binary_raster = r\""
   ]
  },
  {
   "cell_type": "code",
   "execution_count": 7,
   "metadata": {
    "hidden": true
   },
   "outputs": [],
   "source": [
    "# 保留值为1的栅格区域\n",
    "binary_raster_filtered = Con(Raster(binary_raster) == 1, 1)"
   ]
  },
  {
   "cell_type": "code",
   "execution_count": 4,
   "metadata": {
    "hidden": true
   },
   "outputs": [],
   "source": [
    "# 定义初始输入\n",
    "poi_data = r\"E:\\stu1\\Projects\\POI2023\\POI2023.gdb\\MergedPOI23\"\n",
    "kde_output = r\"E:\\stu1\\Projects\\POI2023\\POI2023.gdb\\kde_output\"\n",
    "binary_raster = r\"E:\\stu1\\Projects\\POI2023\\POI2023.gdb\\binary_raster\"\n",
    "output_polygon = r\"E:\\stu1\\Projects\\POI2023\\POI2023.gdb\\output_polygon\"\n",
    "convex_hull_output = r\"E:\\stu1\\Projects\\POI2023\\POI2023.gdb\\convex_hull_output\""
   ]
  },
  {
   "cell_type": "code",
   "execution_count": 13,
   "metadata": {
    "hidden": true
   },
   "outputs": [
    {
     "data": {
      "text/html": [
       "<div class='gpresult'><h2>Messages</h2><div id='messages' data-messages='[\"Start Time: 2023年12月15日 19:34:27\",\"Succeeded at 2023年12月15日 19:34:28 (Elapsed Time: 1.29 seconds)\"]' data-show='true'><div id = 'default' /></div></div>"
      ],
      "text/plain": [
       "<Result 'E:\\\\stu1\\\\Projects\\\\POI2023\\\\POI2023.gdb\\\\projected_kde'>"
      ]
     },
     "execution_count": 13,
     "metadata": {},
     "output_type": "execute_result"
    }
   ],
   "source": []
  },
  {
   "cell_type": "markdown",
   "metadata": {
    "hidden": true
   },
   "source": [
    "## BINARY RASTER"
   ]
  },
  {
   "cell_type": "code",
   "execution_count": 16,
   "metadata": {
    "hidden": true
   },
   "outputs": [],
   "source": []
  },
  {
   "cell_type": "code",
   "execution_count": 17,
   "metadata": {
    "hidden": true
   },
   "outputs": [],
   "source": []
  },
  {
   "cell_type": "code",
   "execution_count": 18,
   "metadata": {
    "hidden": true
   },
   "outputs": [],
   "source": []
  },
  {
   "cell_type": "code",
   "execution_count": 5,
   "metadata": {
    "hidden": true
   },
   "outputs": [],
   "source": [
    "# 保留值为1的栅格区域\n",
    "binary_raster_filtered = Con(Raster(binary_raster) == 1, 1)"
   ]
  },
  {
   "cell_type": "code",
   "execution_count": 6,
   "metadata": {
    "hidden": true
   },
   "outputs": [
    {
     "data": {
      "text/html": [
       "<div class='gpresult'><h2>Messages</h2><div id='messages' data-messages='[\"Start Time: 2023年12月15日 21:51:13\",\"Succeeded at 2023年12月15日 21:51:14 (Elapsed Time: 1.04 seconds)\"]' data-show='true'><div id = 'default' /></div></div>"
      ],
      "text/plain": [
       "<Result 'E:\\\\stu1\\\\Projects\\\\POI2023\\\\POI2023.gdb\\\\output_polygon'>"
      ]
     },
     "execution_count": 6,
     "metadata": {},
     "output_type": "execute_result"
    }
   ],
   "source": [
    "# Raster to Polygon\n",
    "arcpy.RasterToPolygon_conversion(binary_raster_filtered, output_polygon, \"NO_SIMPLIFY\")"
   ]
  },
  {
   "cell_type": "code",
   "execution_count": null,
   "metadata": {
    "hidden": true
   },
   "outputs": [],
   "source": [
    "# 去除过小斑块，选择重点斑块，并将选中的斑块导出"
   ]
  },
  {
   "cell_type": "code",
   "execution_count": 7,
   "metadata": {
    "hidden": true
   },
   "outputs": [],
   "source": [
    "input_polygon = r\"E:\\stu1\\Projects\\POI2023\\POI2023.gdb\\selected_polygon\"\n",
    "dissolved_polygon = r\"E:\\stu1\\Projects\\POI2023\\POI2023.gdb\\dissolved_polygon\""
   ]
  },
  {
   "cell_type": "code",
   "execution_count": 8,
   "metadata": {
    "hidden": true
   },
   "outputs": [
    {
     "data": {
      "text/html": [
       "<div class='gpresult'><h2>Messages</h2><div id='messages' data-messages='[\"Start Time: 2023年12月16日 9:53:20\",\"Dissolving...\",\"Succeeded at 2023年12月16日 9:53:20 (Elapsed Time: 0.57 seconds)\"]' data-show='true'><div id = 'default' /></div></div>"
      ],
      "text/plain": [
       "<Result 'E:\\\\stu1\\\\Projects\\\\POI2023\\\\POI2023.gdb\\\\dissolved_polygon'>"
      ]
     },
     "execution_count": 8,
     "metadata": {},
     "output_type": "execute_result"
    }
   ],
   "source": [
    "# Dissolve all polygons into a single feature\n",
    "arcpy.Dissolve_management(input_polygon, dissolved_polygon)"
   ]
  },
  {
   "cell_type": "code",
   "execution_count": 9,
   "metadata": {
    "hidden": true
   },
   "outputs": [
    {
     "data": {
      "text/html": [
       "<div class='gpresult'><h2>Messages</h2><div id='messages' data-messages='[\"Start Time: 2023年12月16日 9:53:24\",\"Succeeded at 2023年12月16日 9:53:24 (Elapsed Time: 0.53 seconds)\"]' data-show='true'><div id = 'default' /></div></div>"
      ],
      "text/plain": [
       "<Result 'E:\\\\stu1\\\\Projects\\\\POI2023\\\\POI2023.gdb\\\\convex_hull_output'>"
      ]
     },
     "execution_count": 9,
     "metadata": {},
     "output_type": "execute_result"
    }
   ],
   "source": [
    "# Generate a single convex hull for the dissolved feature\n",
    "arcpy.MinimumBoundingGeometry_management(dissolved_polygon, convex_hull_output, \"CONVEX_HULL\")"
   ]
  },
  {
   "cell_type": "markdown",
   "metadata": {
    "heading_collapsed": true
   },
   "source": [
    "# 裁剪研究区域数据"
   ]
  },
  {
   "cell_type": "code",
   "execution_count": 6,
   "metadata": {
    "hidden": true
   },
   "outputs": [],
   "source": [
    "# Define the paths to your datasets\n",
    "convex_hull = r\"E:\\stu1\\Projects\\POI2023\\POI2023.gdb\\convex_hull_output\"\n",
    "poi_data = r\"E:\\stu1\\Projects\\POI2023\\POI2023.gdb\\MergedPOI23\"\n",
    "road_network_data = r\"E:\\stu1\\Projects\\POI2023\\POI2023.gdb\\UFZs23\\road23\"\n",
    "land_use_data = r\"E:\\stu1\\UFZs\\lucc\\2020.tif\"\n",
    "\n",
    "# Define the output paths\n",
    "clipped_poi = r\"E:\\stu1\\Projects\\POI2023\\POI2023.gdb\\clipped_poi\"\n",
    "clipped_road_network = r\"E:\\stu1\\Projects\\POI2023\\POI2023.gdb\\clipped_road\"\n",
    "clipped_land_use = r\"E:\\stu1\\Projects\\POI2023\\POI2023.gdb\\clipped_lucc\""
   ]
  },
  {
   "cell_type": "code",
   "execution_count": 7,
   "metadata": {
    "hidden": true
   },
   "outputs": [
    {
     "data": {
      "text/html": [
       "<div class='gpresult'><h2>Messages</h2><div id='messages' data-messages='[\"Start Time: 2023年12月16日 13:05:46\",\"Analyzing input features...\",\"Dissolving clip features...\",\"Clipping input features...\",\"Succeeded at 2023年12月16日 13:06:02 (Elapsed Time: 15.68 seconds)\"]' data-show='true'><div id = 'default' /></div></div>"
      ],
      "text/plain": [
       "<Result 'E:\\\\stu1\\\\Projects\\\\POI2023\\\\POI2023.gdb\\\\clipped_poi'>"
      ]
     },
     "execution_count": 7,
     "metadata": {},
     "output_type": "execute_result"
    }
   ],
   "source": [
    "# Clip the datasets\n",
    "arcpy.Clip_analysis(poi_data, convex_hull, clipped_poi)"
   ]
  },
  {
   "cell_type": "code",
   "execution_count": 5,
   "metadata": {
    "hidden": true
   },
   "outputs": [
    {
     "data": {
      "text/html": [
       "<div class='gpresult'><h2>Messages</h2><div id='messages' data-messages='[\"Start Time: 2023年12月16日 13:04:31\",\"Analyzing input features...\",\"Dissolving clip features...\",\"Clipping input features...\",\"Succeeded at 2023年12月16日 13:04:37 (Elapsed Time: 5.93 seconds)\"]' data-show='true'><div id = 'default' /></div></div>"
      ],
      "text/plain": [
       "<Result 'E:\\\\stu1\\\\Projects\\\\POI2023\\\\POI2023.gdb\\\\clipped_road'>"
      ]
     },
     "execution_count": 5,
     "metadata": {},
     "output_type": "execute_result"
    }
   ],
   "source": [
    "# Clip the datasets\n",
    "arcpy.Clip_analysis(road_network_data, convex_hull, clipped_road_network)"
   ]
  },
  {
   "cell_type": "code",
   "execution_count": 10,
   "metadata": {
    "hidden": true
   },
   "outputs": [
    {
     "data": {
      "text/html": [
       "<div class='gpresult'><h2>Messages</h2><div id='messages' data-messages='[\"Start Time: 2023年12月16日 13:21:35\",\"Building Pyramids...\",\"Succeeded at 2023年12月16日 13:21:36 (Elapsed Time: 1.70 seconds)\"]' data-show='true'><div id = 'default' /></div></div>"
      ],
      "text/plain": [
       "<Result 'E:\\\\stu1\\\\Projects\\\\POI2023\\\\POI2023.gdb\\\\clipped_lucc'>"
      ]
     },
     "execution_count": 10,
     "metadata": {},
     "output_type": "execute_result"
    }
   ],
   "source": [
    "# Clip the raster\n",
    "# arcpy.Clip_management(land_use_data, \"#\", clipped_land_use, convex_hull,\"#\", \"NONE\")"
   ]
  },
  {
   "cell_type": "code",
   "execution_count": 11,
   "metadata": {
    "hidden": true
   },
   "outputs": [],
   "source": [
    "# Perform the extract by mask operation\n",
    "masked_raster = ExtractByMask(land_use_data,convex_hull)\n",
    "masked_raster.save(clipped_land_use)"
   ]
  },
  {
   "cell_type": "markdown",
   "metadata": {
    "heading_collapsed": true
   },
   "source": [
    "# 统一空间坐标系"
   ]
  },
  {
   "cell_type": "code",
   "execution_count": 13,
   "metadata": {
    "hidden": true
   },
   "outputs": [],
   "source": [
    "# Output datasets\n",
    "projected_poi = r\"E:\\stu1\\Projects\\POI2023\\POI2023.gdb\\projected_poi\"\n",
    "projected_road = r\"E:\\stu1\\Projects\\POI2023\\POI2023.gdb\\projected_road\""
   ]
  },
  {
   "cell_type": "code",
   "execution_count": 14,
   "metadata": {
    "hidden": true
   },
   "outputs": [],
   "source": [
    "# UTM Zone 50N spatial reference (EPSG: 32650)\n",
    "utm50n_sr = arcpy.SpatialReference(32650)"
   ]
  },
  {
   "cell_type": "code",
   "execution_count": 15,
   "metadata": {
    "hidden": true
   },
   "outputs": [
    {
     "data": {
      "text/html": [
       "<div class='gpresult'><h2>Messages</h2><div id='messages' data-messages='[\"Start Time: 2023年12月16日 13:33:35\",\"Succeeded at 2023年12月16日 13:33:37 (Elapsed Time: 2.12 seconds)\"]' data-show='true'><div id = 'default' /></div></div>"
      ],
      "text/plain": [
       "<Result 'E:\\\\stu1\\\\Projects\\\\POI2023\\\\POI2023.gdb\\\\projected_road'>"
      ]
     },
     "execution_count": 15,
     "metadata": {},
     "output_type": "execute_result"
    }
   ],
   "source": [
    "# Reproject datasets\n",
    "arcpy.Project_management(clipped_poi, projected_poi, utm50n_sr)\n",
    "arcpy.Project_management(clipped_road_network, projected_road, utm50n_sr)"
   ]
  },
  {
   "cell_type": "markdown",
   "metadata": {},
   "source": [
    "# 处理2023年POI数据"
   ]
  },
  {
   "cell_type": "markdown",
   "metadata": {},
   "source": [
    "#### 步骤一：用ring3裁剪23年的POI数据"
   ]
  },
  {
   "cell_type": "code",
   "execution_count": 3,
   "metadata": {},
   "outputs": [],
   "source": [
    "ring3 = r\"E:\\stu1\\Projects\\POI2023\\POI2023.gdb\\ring3\"\n",
    "poi = r\"E:\\stu1\\Projects\\POI2023\\POIs.gdb\\POI23\"\n",
    "ring3_poi = r\"E:\\stu1\\Projects\\POI2023\\POIs.gdb\\Ring3_POI\""
   ]
  },
  {
   "cell_type": "code",
   "execution_count": 4,
   "metadata": {},
   "outputs": [
    {
     "data": {
      "text/html": [
       "<div class='gpresult'><h2>Messages</h2><div id='messages' data-messages='[\"Start Time: 2024年3月2日 15:41:33\",\"Analyzing input features...\",\"Dissolving clip features...\",\"Clipping input features...\",\"Succeeded at 2024年3月2日 15:41:44 (Elapsed Time: 11.21 seconds)\"]' data-show='true'><div id = 'default' /></div></div>"
      ],
      "text/plain": [
       "<Result 'E:\\\\stu1\\\\Projects\\\\POI2023\\\\POIs.gdb\\\\Ring3_POI'>"
      ]
     },
     "execution_count": 4,
     "metadata": {},
     "output_type": "execute_result"
    }
   ],
   "source": [
    "arcpy.Clip_analysis(poi, ring3, ring3_poi)"
   ]
  },
  {
   "cell_type": "markdown",
   "metadata": {},
   "source": [
    "#### 步骤二：分类抽取并存储不同类别的POI"
   ]
  },
  {
   "cell_type": "code",
   "execution_count": 2,
   "metadata": {},
   "outputs": [],
   "source": [
    "# 输入的POI要素类\n",
    "input_feature_class = r\"E:\\stu1\\Projects\\POI2023\\POIs.gdb\\Ring3_POI\""
   ]
  },
  {
   "cell_type": "code",
   "execution_count": 8,
   "metadata": {},
   "outputs": [
    {
     "ename": "NameError",
     "evalue": "name 'input_poi_layer' is not defined",
     "output_type": "error",
     "traceback": [
      "\u001b[0;31m---------------------------------------------------------------------------\u001b[0m\n\u001b[0;31mNameError\u001b[0m                                 Traceback (most recent call last)",
      "In  \u001b[0;34m[8]\u001b[0m:\nLine \u001b[0;34m1\u001b[0m:     arcpy.Delete_management(input_poi_layer)\n",
      "\u001b[0;31mNameError\u001b[0m: name 'input_poi_layer' is not defined\n\u001b[0;31m---------------------------------------------------------------------------\u001b[0m"
     ]
    }
   ],
   "source": [
    "arcpy.Delete_management(input_poi_layer)"
   ]
  },
  {
   "cell_type": "code",
   "execution_count": 10,
   "metadata": {},
   "outputs": [],
   "source": [
    "if arcpy.Exists(\"inputPoiLayer\"):  # 检查图层是否存在\n",
    "    arcpy.management.Delete(\"inputPoiLayer\")  # 如果存在，则删除\n",
    "\n",
    "# 之后再创建图层\n",
    "input_poi_layer = arcpy.MakeFeatureLayer_management(input_feature_class, \"inputPoiLayer\").getOutput(0)\n"
   ]
  },
  {
   "cell_type": "code",
   "execution_count": 11,
   "metadata": {},
   "outputs": [],
   "source": [
    "# 定义不同功能区对应的POI类型\n",
    "typecode_ranges = {\n",
    "    'R': [str(num) for num in range(120300, 120305)] + # 住宅区\n",
    "        [\"120000\"],   # 商务住宅相关\n",
    "    \n",
    "    'A': [\"080400\", \"080401\", \"080402\"] + # 度假疗养场所\n",
    "        [\"080600\", \"080601\", \"080602\", \"080603\"] + # 影剧院\n",
    "        [\"090100\", \"090101\", \"090102\"] + # 综合医院\n",
    "        [f\"{num:06d}\" for num in range(90200, 90212)] +  # 专科医院\n",
    "        [\"090000\", \"090400\", \"090500\"] +\n",
    "        [f\"{num:06d}\" for num in range(130100, 130108)] +  # 政府机关\n",
    "        [f\"{num:06d}\" for num in range(130400, 130410)] +  # 社会团体\n",
    "        [\"130200\", \"130201\", \"130202\"] + # 外国机构\n",
    "        [\"130700\", \"130701\", \"130702\", \"130703\"] + # 工商税务机构\n",
    "        [f\"{num:06d}\" for num in range(130600, 130607)] +  # 交通车辆管理\n",
    "        [\"140100\", \"140101\", \"140102\"] + # 博物馆\n",
    "        [\"140200\", \"140201\"] + # 展览馆\n",
    "        [\"140300\", \"140400\", \"140500\", \"140600\", \"140800\", \"140900\", \"141000\"] +\n",
    "        [f\"{num:06d}\" for num in range(141100, 141106 )] + # 传媒机构\n",
    "        [f\"{num:06d}\" for num in range(141200, 141208 )] + # 学校\n",
    "        [\"141300\", \"141400\"],    # 公共管理与公共服务设施用地\n",
    "    \n",
    "    'B': [f\"{num:06d}\" for num in range(50100, 50124)] +  # 中餐厅\n",
    "        [f\"{num:06d}\" for num in range(50200, 50218)] +  # 外国餐厅\n",
    "        [f\"{num:06d}\" for num in range(60100, 60104)] +  # 商场\n",
    "        [f\"{num:06d}\" for num in range(60400, 60416)] +  # 超级市场\n",
    "        [\"061000\", \"061001\"] + # 特色商业街\n",
    "        [f\"{num:06d}\" for num in range(100100, 100106)] +  # 宾馆酒店\n",
    "        [f\"{num:06d}\" for num in range(160100, 160153)] +  # 银行\n",
    "        [f\"{num:06d}\" for num in range(160400, 160409)] +  # 保险公司\n",
    "        [f\"{num:06d}\" for num in range(160500, 160502)] + # 证券公司\n",
    "        [\"120201\", \"120203\"], #楼宇     # 商业服务业设施用地\n",
    "    \n",
    "    'M': [\"120100\"] +  # 产业园区\n",
    "        [\"170300\"] + # 工厂\n",
    "        [f\"{num:06d}\" for num in range(170200, 170210)],   # 公司   # 工业用地\n",
    "    \n",
    "    'S': [\"150200\"] + # 火车站\n",
    "        [\"150104\"] + # 飞机场\n",
    "        [\"150300\"] + # 港口相关\n",
    "        [\"180200\"] + # 收费站\n",
    "        [\"180300\"], # 服务区 # 交通与道路设施用地\n",
    "    \n",
    "    'G': [f\"{num:06d}\" for num in range(110100, 110106)] +  # 公园广场\n",
    "        [f\"{num:06d}\" for num in range(110200, 110211)]    # 风景名胜 # 绿地与广场用地\n",
    "}"
   ]
  },
  {
   "cell_type": "code",
   "execution_count": 12,
   "metadata": {},
   "outputs": [
    {
     "name": "stdout",
     "output_type": "stream",
     "text": [
      "分类保存完成： E:/stu1/Projects/POI2023/POI2023.gdb/poi23/POI_R\n",
      "分类保存完成： E:/stu1/Projects/POI2023/POI2023.gdb/poi23/POI_A\n",
      "分类保存完成： E:/stu1/Projects/POI2023/POI2023.gdb/poi23/POI_B\n",
      "分类保存完成： E:/stu1/Projects/POI2023/POI2023.gdb/poi23/POI_M\n",
      "分类保存完成： E:/stu1/Projects/POI2023/POI2023.gdb/poi23/POI_S\n",
      "分类保存完成： E:/stu1/Projects/POI2023/POI2023.gdb/poi23/POI_G\n",
      "所有分类完成\n"
     ]
    }
   ],
   "source": [
    "for category, codes in typecode_ranges.items():\n",
    "    # 创建查询\n",
    "    query = \"typecode IN ('{}')\".format(\"', '\".join(codes))\n",
    "\n",
    "    # 按类型代码筛选POI\n",
    "    arcpy.SelectLayerByAttribute_management(input_poi_layer, \"NEW_SELECTION\", query)\n",
    "\n",
    "    # 保存筛选结果为新的要素类\n",
    "    output_feature_class = \"E:/stu1/Projects/POI2023/POI2023.gdb/poi23/POI_{}\".format(category)\n",
    "    arcpy.CopyFeatures_management(input_poi_layer, output_feature_class)\n",
    "\n",
    "    print(\"分类保存完成：\", output_feature_class)\n",
    "\n",
    "    # 清除当前的选择\n",
    "    arcpy.SelectLayerByAttribute_management(input_poi_layer, \"CLEAR_SELECTION\")\n",
    "\n",
    "print(\"所有分类完成\")"
   ]
  },
  {
   "cell_type": "markdown",
   "metadata": {},
   "source": [
    "#### 步骤三：构建POI的影响因子赋分调整字段"
   ]
  },
  {
   "cell_type": "markdown",
   "metadata": {},
   "source": [
    "面积权重和公众认知度权重都在0到1之间，然后两者按照5：5的比例，确定最终的影响因子值"
   ]
  },
  {
   "cell_type": "markdown",
   "metadata": {},
   "source": []
  },
  {
   "cell_type": "markdown",
   "metadata": {},
   "source": [
    "##### 居住用地R"
   ]
  },
  {
   "cell_type": "code",
   "execution_count": 13,
   "metadata": {},
   "outputs": [],
   "source": [
    "shapefile_R = r\"E:\\stu1\\Projects\\POI2023\\POI2023.gdb\\poi23\\POI_R\""
   ]
  },
  {
   "cell_type": "code",
   "execution_count": 14,
   "metadata": {},
   "outputs": [
    {
     "name": "stdout",
     "output_type": "stream",
     "text": [
      "完成字段添加 for 类型 R\n"
     ]
    }
   ],
   "source": [
    "# 添加字段\n",
    "fields_to_add = [\n",
    "    ('Area_Rate', 'FLOAT'),\n",
    "    ('Popularity_Rate', 'FLOAT'),\n",
    "    ('Weight', 'FLOAT')\n",
    "]\n",
    "\n",
    "for field_name, field_type in fields_to_add:\n",
    "    arcpy.AddField_management(shapefile_R, field_name, field_type)\n",
    "    \n",
    "print(\"完成字段添加 for 类型 R\")"
   ]
  },
  {
   "cell_type": "code",
   "execution_count": 15,
   "metadata": {},
   "outputs": [
    {
     "name": "stdout",
     "output_type": "stream",
     "text": [
      "面积评分更新完成 for 类型 R\n"
     ]
    }
   ],
   "source": [
    "# 更新面积评分字段\n",
    "\n",
    "# 定义一个字典，映射 typecode 值到相应的 Area_Rate 评分\n",
    "typecode_to_arearate = {\n",
    "    \"120300\": 1.0,\n",
    "    \"120302\": 0.5,\n",
    "    \"120000\": 0.5,\n",
    "    \"120301\": 0.1,\n",
    "    \"120303\": 0.1,\n",
    "    \"120304\": 0.1,\n",
    "}\n",
    "\n",
    "# 使用 arcpy.da.UpdateCursor 遍历要素类\n",
    "fields = ['typecode', 'Area_Rate']  # 指定要更新的字段和依据的字段\n",
    "with arcpy.da.UpdateCursor(shapefile_R, fields) as cursor:\n",
    "    for row in cursor:\n",
    "        typecode = row[0]  # 获取当前记录的 typecode 值\n",
    "        if typecode in typecode_to_arearate:\n",
    "            row[1] = typecode_to_arearate[typecode]  # 根据映射字典更新 Area_Rate 值\n",
    "        else:\n",
    "            row[1] = 0  # 如果 typecode 不在字典中，可以选择赋予一个默认值\n",
    "        cursor.updateRow(row)  # 更新记录\n",
    "\n",
    "print(\"面积评分更新完成 for 类型 R\")"
   ]
  },
  {
   "cell_type": "code",
   "execution_count": 16,
   "metadata": {},
   "outputs": [
    {
     "name": "stdout",
     "output_type": "stream",
     "text": [
      "公众认知度更新完成 for 类型 R\n"
     ]
    }
   ],
   "source": [
    "# 更新公众认知度评分字段\n",
    "with arcpy.da.UpdateCursor(shapefile_R, [\"Popularity_Rate\"]) as cursor:\n",
    "    for row in cursor:\n",
    "        row[0] = 0.1  \n",
    "        cursor.updateRow(row)\n",
    "\n",
    "print(\"公众认知度更新完成 for 类型 R\")"
   ]
  },
  {
   "cell_type": "code",
   "execution_count": 18,
   "metadata": {},
   "outputs": [
    {
     "data": {
      "text/html": [
       "<div class='gpresult'><h2>Messages</h2><div id='messages' data-messages='[\"Start Time: 2024年3月5日 11:18:17\",\"Succeeded at 2024年3月5日 11:18:18 (Elapsed Time: 0.57 seconds)\"]' data-show='true'><div id = 'default' /></div></div>"
      ],
      "text/plain": [
       "<Result 'E:\\\\stu1\\\\Projects\\\\POI2023\\\\POI2023.gdb\\\\poi23\\\\POI_R'>"
      ]
     },
     "execution_count": 18,
     "metadata": {},
     "output_type": "execute_result"
    }
   ],
   "source": [
    "# 计算权重字段\n",
    "expression = \"(!Area_Rate! + !Popularity_Rate!) / 2\"  \n",
    "arcpy.CalculateField_management(shapefile_R, 'Weight', expression, \"PYTHON3\")\n",
    "print(\"权重字段更新完成 for 类型 R\")"
   ]
  },
  {
   "cell_type": "markdown",
   "metadata": {},
   "source": [
    "##### 公服用地A"
   ]
  },
  {
   "cell_type": "code",
   "execution_count": 19,
   "metadata": {},
   "outputs": [],
   "source": [
    "shapefile_A = r\"E:\\stu1\\Projects\\POI2023\\POI2023.gdb\\poi23\\POI_A\""
   ]
  },
  {
   "cell_type": "code",
   "execution_count": 20,
   "metadata": {},
   "outputs": [
    {
     "name": "stdout",
     "output_type": "stream",
     "text": [
      "完成字段添加 for 类型 A\n"
     ]
    }
   ],
   "source": [
    "# 添加字段\n",
    "fields_to_add = [\n",
    "    ('Area_Rate', 'FLOAT'),\n",
    "    ('Popularity_Rate', 'FLOAT'),\n",
    "    ('Weight', 'FLOAT')\n",
    "]\n",
    "\n",
    "for field_name, field_type in fields_to_add:\n",
    "    arcpy.AddField_management(shapefile_A, field_name, field_type)\n",
    "    \n",
    "print(\"完成字段添加 for 类型 A\")"
   ]
  },
  {
   "cell_type": "code",
   "execution_count": 21,
   "metadata": {},
   "outputs": [
    {
     "name": "stdout",
     "output_type": "stream",
     "text": [
      "Area_Rate字段更新完成\n"
     ]
    }
   ],
   "source": [
    "# 更新面积评分字段\n",
    "\n",
    "# 定义映射，将typecode范围与评分值关联\n",
    "typecode_to_arearate = {\n",
    "    tuple([f\"{num:06d}\" for num in range(130700, 130704)]): 0.01,\n",
    "    tuple([f\"{num:06d}\" for num in range(130600, 130607)]): 0.01,\n",
    "    \"141000\": 0.1,\n",
    "    tuple([f\"{num:06d}\" for num in range(141100, 141106)]): 0.1,\n",
    "    \"141400\": 0.1,\n",
    "    \"090000\": 0.1,\n",
    "    \"090400\": 0.1,\n",
    "    \"090500\": 0.1,\n",
    "    tuple([f\"{num:06d}\" for num in range(130400, 130410)]): 0.1,\n",
    "    tuple([f\"{num:06d}\" for num in range(130200, 130203)]): 0.1,\n",
    "    tuple([f\"{num:06d}\" for num in range(140200, 140202)]): 0.3,\n",
    "    \"140300\": 0.3,\n",
    "    \"140400\": 0.3,\n",
    "    \"140500\": 0.3,\n",
    "    \"140600\": 0.3,\n",
    "    \"140800\": 0.3,\n",
    "    \"140900\": 0.3,\n",
    "    \"141300\": 0.3,\n",
    "    tuple([f\"{num:06d}\" for num in range(80400, 80403)]): 0.3,\n",
    "    tuple([f\"{num:06d}\" for num in range(80600, 80604)]): 0.3,\n",
    "    tuple([f\"{num:06d}\" for num in range(140100, 140103)]): 0.5,\n",
    "    tuple([f\"{num:06d}\" for num in range(90200, 90212)]): 0.8,\n",
    "    tuple([f\"{num:06d}\" for num in range(130100, 130108)]): 0.8,\n",
    "    tuple([f\"{num:06d}\" for num in range(141200, 141208)]): 1,\n",
    "    tuple([f\"{num:06d}\" for num in range(90100, 90103)]): 1,\n",
    "}\n",
    "\n",
    "\n",
    "# 使用 arcpy.da.UpdateCursor 更新Area_Rate字段\n",
    "fields = ['typecode', 'Area_Rate']  # 需要处理的字段\n",
    "with arcpy.da.UpdateCursor(shapefile_A, fields) as cursor:\n",
    "    for row in cursor:\n",
    "        typecode = row[0]\n",
    "        area_rate_updated = False\n",
    "        \n",
    "        # 遍历映射规则\n",
    "        for key, rate in typecode_to_arearate.items():\n",
    "            if isinstance(key, tuple):  # 如果键是元组（即范围）\n",
    "                if typecode in key:\n",
    "                    row[1] = rate\n",
    "                    area_rate_updated = True\n",
    "                    break  # 更新后退出循环\n",
    "            elif typecode == key:  # 如果键是单个值\n",
    "                row[1] = rate\n",
    "                area_rate_updated = True\n",
    "                break  # 更新后退出循环\n",
    "        \n",
    "        if not area_rate_updated:\n",
    "            # 如果typecode没有匹配任何规则，可以选择设置一个默认值\n",
    "            row[1] = 0  # 或者保留原始值，根据需要决定\n",
    "        \n",
    "        cursor.updateRow(row)\n",
    "\n",
    "print(\"Area_Rate字段更新完成\")\n"
   ]
  },
  {
   "cell_type": "code",
   "execution_count": 22,
   "metadata": {},
   "outputs": [
    {
     "name": "stdout",
     "output_type": "stream",
     "text": [
      "Popularity_Rate更新完成 for 类型 A\n"
     ]
    }
   ],
   "source": [
    "# 更新公众认知度评分字段\n",
    "with arcpy.da.UpdateCursor(shapefile_A, [\"typecode\", \"Popularity_Rate\"]) as cursor:\n",
    "    for row in cursor:\n",
    "        typecode = row[0]\n",
    "        if typecode.startswith('14'):\n",
    "            row[1] = 0.6706\n",
    "        elif typecode.startswith('08'):\n",
    "            row[1] = 0.501\n",
    "        elif typecode.startswith('09'):\n",
    "            row[1] = 0.5069\n",
    "        elif typecode.startswith('13'):\n",
    "            row[1] = 0.355\n",
    "        cursor.updateRow(row)\n",
    "\n",
    "print(\"Popularity_Rate更新完成 for 类型 A\")"
   ]
  },
  {
   "cell_type": "code",
   "execution_count": 23,
   "metadata": {},
   "outputs": [
    {
     "name": "stdout",
     "output_type": "stream",
     "text": [
      "权重字段更新完成 for 类型 A\n"
     ]
    }
   ],
   "source": [
    "# 计算权重字段\n",
    "expression = \"(!Area_Rate! + !Popularity_Rate!) / 2\"  \n",
    "arcpy.CalculateField_management(shapefile_A, 'Weight', expression, \"PYTHON3\")\n",
    "print(\"权重字段更新完成 for 类型 A\")"
   ]
  },
  {
   "cell_type": "markdown",
   "metadata": {},
   "source": [
    "##### 商业用地B"
   ]
  },
  {
   "cell_type": "code",
   "execution_count": 1,
   "metadata": {},
   "outputs": [],
   "source": [
    "shapefile_B = r\"E:\\stu1\\Projects\\POI2023\\POI2023.gdb\\poi23\\POI_B\""
   ]
  },
  {
   "cell_type": "code",
   "execution_count": 2,
   "metadata": {},
   "outputs": [
    {
     "name": "stdout",
     "output_type": "stream",
     "text": [
      "完成字段添加 for 类型 B\n"
     ]
    }
   ],
   "source": [
    "# 添加字段\n",
    "fields_to_add = [\n",
    "    ('Area_Rate', 'FLOAT'),\n",
    "    ('Popularity_Rate', 'FLOAT'),\n",
    "    ('Weight', 'FLOAT')\n",
    "]\n",
    "\n",
    "for field_name, field_type in fields_to_add:\n",
    "    arcpy.AddField_management(shapefile_B, field_name, field_type)\n",
    "    \n",
    "print(\"完成字段添加 for 类型 B\")"
   ]
  },
  {
   "cell_type": "code",
   "execution_count": 3,
   "metadata": {},
   "outputs": [
    {
     "name": "stdout",
     "output_type": "stream",
     "text": [
      "Area_Rate字段更新完成\n"
     ]
    }
   ],
   "source": [
    "# 更新面积评分字段\n",
    "\n",
    "# 定义映射，将typecode范围与评分值关联\n",
    "typecode_to_arearate = {\n",
    "    tuple([f\"{num:06d}\" for num in range(50200, 50218)]): 0.01,\n",
    "    tuple([f\"{num:06d}\" for num in range(50100, 50124)]): 0.01,\n",
    "    tuple([f\"{num:06d}\" for num in range(100100, 100106)]): 0.1,\n",
    "    tuple([f\"{num:06d}\" for num in range(160100, 160153)]): 0.1,\n",
    "    tuple([f\"{num:06d}\" for num in range(160500, 160502)]): 0.1,\n",
    "    tuple([f\"{num:06d}\" for num in range(160400, 160409)]): 0.1,\n",
    "    tuple([f\"{num:06d}\" for num in range(60400, 60416)]): 0.8,\n",
    "    tuple([f\"{num:06d}\" for num in range(60100, 60104)]): 0.8,\n",
    "    tuple([f\"{num:06d}\" for num in range(61000, 61002)]): 0.8,\n",
    "    \"120201\": 1,\n",
    "    \"120203\": 1\n",
    "}\n",
    "\n",
    "\n",
    "# 使用 arcpy.da.UpdateCursor 更新Area_Rate字段\n",
    "fields = ['typecode', 'Area_Rate']  # 需要处理的字段\n",
    "with arcpy.da.UpdateCursor(shapefile_B, fields) as cursor:\n",
    "    for row in cursor:\n",
    "        typecode = row[0]\n",
    "        area_rate_updated = False\n",
    "        \n",
    "        # 遍历映射规则\n",
    "        for key, rate in typecode_to_arearate.items():\n",
    "            if isinstance(key, tuple):  # 如果键是元组（即范围）\n",
    "                if typecode in key:\n",
    "                    row[1] = rate\n",
    "                    area_rate_updated = True\n",
    "                    break  # 更新后退出循环\n",
    "            elif typecode == key:  # 如果键是单个值\n",
    "                row[1] = rate\n",
    "                area_rate_updated = True\n",
    "                break  # 更新后退出循环\n",
    "        \n",
    "        if not area_rate_updated:\n",
    "            # 如果typecode没有匹配任何规则，可以选择设置一个默认值\n",
    "            row[1] = 0  # 或者保留原始值，根据需要决定\n",
    "        \n",
    "        cursor.updateRow(row)\n",
    "\n",
    "print(\"Area_Rate字段更新完成\")\n"
   ]
  },
  {
   "cell_type": "code",
   "execution_count": 4,
   "metadata": {},
   "outputs": [
    {
     "name": "stdout",
     "output_type": "stream",
     "text": [
      "Popularity_Rate更新完成 for 类型 B\n"
     ]
    }
   ],
   "source": [
    "with arcpy.da.UpdateCursor(shapefile_B, [\"typecode\", \"Popularity_Rate\"]) as cursor:\n",
    "    for row in cursor:\n",
    "        typecode = row[0]\n",
    "        if typecode.startswith('05') or typecode.startswith('10'):\n",
    "            row[1] = 0.5562\n",
    "        elif typecode.startswith('06'):\n",
    "            row[1] = 0.8146\n",
    "        elif typecode.startswith('16') or typecode.startswith('12'):\n",
    "            row[1] = 0.3057\n",
    "        cursor.updateRow(row)\n",
    "\n",
    "print(\"Popularity_Rate更新完成 for 类型 B\")"
   ]
  },
  {
   "cell_type": "code",
   "execution_count": 5,
   "metadata": {},
   "outputs": [
    {
     "name": "stdout",
     "output_type": "stream",
     "text": [
      "权重字段更新完成 for 类型 B\n"
     ]
    }
   ],
   "source": [
    "# 计算权重字段\n",
    "expression = \"(!Area_Rate! + !Popularity_Rate!) / 2\"  \n",
    "arcpy.CalculateField_management(shapefile_B, 'Weight', expression, \"PYTHON3\")\n",
    "print(\"权重字段更新完成 for 类型 B\")"
   ]
  },
  {
   "cell_type": "markdown",
   "metadata": {},
   "source": [
    "#####  工业用地M"
   ]
  },
  {
   "cell_type": "code",
   "execution_count": 6,
   "metadata": {},
   "outputs": [],
   "source": [
    "shapefile_M = r\"E:\\stu1\\Projects\\POI2023\\POI2023.gdb\\poi23\\POI_M\""
   ]
  },
  {
   "cell_type": "code",
   "execution_count": 9,
   "metadata": {},
   "outputs": [
    {
     "name": "stdout",
     "output_type": "stream",
     "text": [
      "完成字段添加 for 类型 M\n"
     ]
    }
   ],
   "source": [
    "# 添加字段\n",
    "fields_to_add = [\n",
    "    ('Area_Rate', 'FLOAT'),\n",
    "    ('Popularity_Rate', 'FLOAT'),\n",
    "    ('Weight', 'FLOAT')\n",
    "]\n",
    "\n",
    "for field_name, field_type in fields_to_add:\n",
    "    arcpy.AddField_management(shapefile_M, field_name, field_type)\n",
    "    \n",
    "print(\"完成字段添加 for 类型 M\")"
   ]
  },
  {
   "cell_type": "code",
   "execution_count": 10,
   "metadata": {},
   "outputs": [
    {
     "name": "stdout",
     "output_type": "stream",
     "text": [
      "Area_Rate字段更新完成\n"
     ]
    }
   ],
   "source": [
    "# 更新面积评分字段\n",
    "\n",
    "# 定义映射，将typecode范围与评分值关联\n",
    "typecode_to_arearate = {\n",
    "    tuple([f\"{num:06d}\" for num in range(170200, 170210)]): 0.8,\n",
    "    \"170300\": 0.8,\n",
    "    \"120100\": 1\n",
    "}\n",
    "\n",
    "\n",
    "# 使用 arcpy.da.UpdateCursor 更新Area_Rate字段\n",
    "fields = ['typecode', 'Area_Rate']  # 需要处理的字段\n",
    "with arcpy.da.UpdateCursor(shapefile_M, fields) as cursor:\n",
    "    for row in cursor:\n",
    "        typecode = row[0]\n",
    "        area_rate_updated = False\n",
    "        \n",
    "        # 遍历映射规则\n",
    "        for key, rate in typecode_to_arearate.items():\n",
    "            if isinstance(key, tuple):  # 如果键是元组（即范围）\n",
    "                if typecode in key:\n",
    "                    row[1] = rate\n",
    "                    area_rate_updated = True\n",
    "                    break  # 更新后退出循环\n",
    "            elif typecode == key:  # 如果键是单个值\n",
    "                row[1] = rate\n",
    "                area_rate_updated = True\n",
    "                break  # 更新后退出循环\n",
    "        \n",
    "        if not area_rate_updated:\n",
    "            # 如果typecode没有匹配任何规则，可以选择设置一个默认值\n",
    "            row[1] = 0  # 或者保留原始值，根据需要决定\n",
    "        \n",
    "        cursor.updateRow(row)\n",
    "\n",
    "print(\"Area_Rate字段更新完成\")\n"
   ]
  },
  {
   "cell_type": "code",
   "execution_count": 11,
   "metadata": {},
   "outputs": [
    {
     "name": "stdout",
     "output_type": "stream",
     "text": [
      "Popularity_Rate更新完成 for 类型 M\n"
     ]
    }
   ],
   "source": [
    "with arcpy.da.UpdateCursor(shapefile_M, [\"Popularity_Rate\"]) as cursor:\n",
    "    for row in cursor:\n",
    "        row[0] = 0.3057  # M类型的权重为0.3057\n",
    "        cursor.updateRow(row)\n",
    "\n",
    "print(\"Popularity_Rate更新完成 for 类型 M\")"
   ]
  },
  {
   "cell_type": "code",
   "execution_count": 12,
   "metadata": {},
   "outputs": [
    {
     "name": "stdout",
     "output_type": "stream",
     "text": [
      "权重字段更新完成 for 类型 M\n"
     ]
    }
   ],
   "source": [
    "# 计算权重字段\n",
    "expression = \"(!Area_Rate! + !Popularity_Rate!) / 2\"  \n",
    "arcpy.CalculateField_management(shapefile_M, 'Weight', expression, \"PYTHON3\")\n",
    "print(\"权重字段更新完成 for 类型 M\")"
   ]
  },
  {
   "cell_type": "markdown",
   "metadata": {},
   "source": [
    "##### 交通用地S"
   ]
  },
  {
   "cell_type": "code",
   "execution_count": 13,
   "metadata": {},
   "outputs": [],
   "source": [
    "shapefile_S = r\"E:\\stu1\\Projects\\POI2023\\POI2023.gdb\\poi23\\POI_S\""
   ]
  },
  {
   "cell_type": "code",
   "execution_count": 14,
   "metadata": {},
   "outputs": [
    {
     "name": "stdout",
     "output_type": "stream",
     "text": [
      "完成字段添加 for 类型 S\n"
     ]
    }
   ],
   "source": [
    "# 添加字段\n",
    "fields_to_add = [\n",
    "    ('Area_Rate', 'FLOAT'),\n",
    "    ('Popularity_Rate', 'FLOAT'),\n",
    "    ('Weight', 'FLOAT')\n",
    "]\n",
    "\n",
    "for field_name, field_type in fields_to_add:\n",
    "    arcpy.AddField_management(shapefile_S, field_name, field_type)\n",
    "    \n",
    "print(\"完成字段添加 for 类型 S\")"
   ]
  },
  {
   "cell_type": "code",
   "execution_count": 15,
   "metadata": {},
   "outputs": [
    {
     "name": "stdout",
     "output_type": "stream",
     "text": [
      "Area_Rate字段更新完成\n"
     ]
    }
   ],
   "source": [
    "# 更新面积评分字段\n",
    "\n",
    "# 定义映射，将typecode范围与评分值关联\n",
    "typecode_to_arearate = {\n",
    "    \"150200\": 1,\n",
    "    \"150104\": 1,\n",
    "    \"150300\": 1,\n",
    "    \"180200\": 0.1,\n",
    "    \"180300\": 0.3\n",
    "}\n",
    "\n",
    "\n",
    "# 使用 arcpy.da.UpdateCursor 更新Area_Rate字段\n",
    "fields = ['typecode', 'Area_Rate']  # 需要处理的字段\n",
    "with arcpy.da.UpdateCursor(shapefile_S, fields) as cursor:\n",
    "    for row in cursor:\n",
    "        typecode = row[0]\n",
    "        area_rate_updated = False\n",
    "        \n",
    "        # 遍历映射规则\n",
    "        for key, rate in typecode_to_arearate.items():\n",
    "            if isinstance(key, tuple):  # 如果键是元组（即范围）\n",
    "                if typecode in key:\n",
    "                    row[1] = rate\n",
    "                    area_rate_updated = True\n",
    "                    break  # 更新后退出循环\n",
    "            elif typecode == key:  # 如果键是单个值\n",
    "                row[1] = rate\n",
    "                area_rate_updated = True\n",
    "                break  # 更新后退出循环\n",
    "        \n",
    "        if not area_rate_updated:\n",
    "            # 如果typecode没有匹配任何规则，可以选择设置一个默认值\n",
    "            row[1] = 0  # 或者保留原始值，根据需要决定\n",
    "        \n",
    "        cursor.updateRow(row)\n",
    "\n",
    "print(\"Area_Rate字段更新完成\")"
   ]
  },
  {
   "cell_type": "code",
   "execution_count": 16,
   "metadata": {},
   "outputs": [
    {
     "name": "stdout",
     "output_type": "stream",
     "text": [
      "Popularity_Rate更新完成 for 类型 S\n"
     ]
    }
   ],
   "source": [
    "with arcpy.da.UpdateCursor(shapefile_S, [\"typecode\", \"Popularity_Rate\"]) as cursor:\n",
    "    for row in cursor:\n",
    "        typecode = row[0]\n",
    "        if typecode.startswith('15'):\n",
    "            row[1] = 1.0\n",
    "        elif typecode.startswith('18'):\n",
    "            row[1] = 0.01\n",
    "        cursor.updateRow(row)\n",
    "\n",
    "print(\"Popularity_Rate更新完成 for 类型 S\")"
   ]
  },
  {
   "cell_type": "code",
   "execution_count": 17,
   "metadata": {},
   "outputs": [
    {
     "name": "stdout",
     "output_type": "stream",
     "text": [
      "权重字段更新完成 for 类型 S\n"
     ]
    }
   ],
   "source": [
    "# 计算权重字段\n",
    "expression = \"(!Area_Rate! + !Popularity_Rate!) / 2\"  \n",
    "arcpy.CalculateField_management(shapefile_S, 'Weight', expression, \"PYTHON3\")\n",
    "print(\"权重字段更新完成 for 类型 S\")"
   ]
  },
  {
   "cell_type": "markdown",
   "metadata": {},
   "source": [
    "##### 公园绿地G"
   ]
  },
  {
   "cell_type": "code",
   "execution_count": 19,
   "metadata": {},
   "outputs": [],
   "source": [
    "shapefile_G = r\"E:\\stu1\\Projects\\POI2023\\POI2023.gdb\\poi23\\POI_G\""
   ]
  },
  {
   "cell_type": "code",
   "execution_count": 20,
   "metadata": {},
   "outputs": [
    {
     "name": "stdout",
     "output_type": "stream",
     "text": [
      "完成字段添加 for 类型 G\n"
     ]
    }
   ],
   "source": [
    "# 添加字段\n",
    "fields_to_add = [\n",
    "    ('Area_Rate', 'FLOAT'),\n",
    "    ('Popularity_Rate', 'FLOAT'),\n",
    "    ('Weight', 'FLOAT')\n",
    "]\n",
    "\n",
    "for field_name, field_type in fields_to_add:\n",
    "    arcpy.AddField_management(shapefile_G, field_name, field_type)\n",
    "    \n",
    "print(\"完成字段添加 for 类型 G\")"
   ]
  },
  {
   "cell_type": "code",
   "execution_count": 21,
   "metadata": {},
   "outputs": [
    {
     "name": "stdout",
     "output_type": "stream",
     "text": [
      "Area_Rate字段更新完成\n"
     ]
    }
   ],
   "source": [
    "# 更新面积评分字段\n",
    "\n",
    "# 定义映射，将typecode范围与评分值关联\n",
    "typecode_to_arearate = {\n",
    "    tuple([f\"{num:06d}\" for num in range(110100, 110106)]): 0.8,\n",
    "    tuple([f\"{num:06d}\" for num in range(110200, 110211)]): 1\n",
    "}\n",
    "\n",
    "\n",
    "# 使用 arcpy.da.UpdateCursor 更新Area_Rate字段\n",
    "fields = ['typecode', 'Area_Rate']  # 需要处理的字段\n",
    "with arcpy.da.UpdateCursor(shapefile_G, fields) as cursor:\n",
    "    for row in cursor:\n",
    "        typecode = row[0]\n",
    "        area_rate_updated = False\n",
    "        \n",
    "        # 遍历映射规则\n",
    "        for key, rate in typecode_to_arearate.items():\n",
    "            if isinstance(key, tuple):  # 如果键是元组（即范围）\n",
    "                if typecode in key:\n",
    "                    row[1] = rate\n",
    "                    area_rate_updated = True\n",
    "                    break  # 更新后退出循环\n",
    "            elif typecode == key:  # 如果键是单个值\n",
    "                row[1] = rate\n",
    "                area_rate_updated = True\n",
    "                break  # 更新后退出循环\n",
    "        \n",
    "        if not area_rate_updated:\n",
    "            # 如果typecode没有匹配任何规则，可以选择设置一个默认值\n",
    "            row[1] = 0  # 或者保留原始值，根据需要决定\n",
    "        \n",
    "        cursor.updateRow(row)\n",
    "\n",
    "print(\"Area_Rate字段更新完成\")"
   ]
  },
  {
   "cell_type": "code",
   "execution_count": 22,
   "metadata": {},
   "outputs": [
    {
     "name": "stdout",
     "output_type": "stream",
     "text": [
      "Popularity_Rate更新完成 for 类型 G\n"
     ]
    }
   ],
   "source": [
    "with arcpy.da.UpdateCursor(shapefile_G, [\"typecode\", \"Popularity_Rate\"]) as cursor:\n",
    "    for row in cursor:\n",
    "        typecode = row[0]\n",
    "        if typecode.startswith('1101'):\n",
    "            row[1] = 0.6548\n",
    "        elif typecode.startswith('1102'):\n",
    "            row[1] = 0.8245\n",
    "        cursor.updateRow(row)\n",
    "\n",
    "print(\"Popularity_Rate更新完成 for 类型 G\")"
   ]
  },
  {
   "cell_type": "code",
   "execution_count": 23,
   "metadata": {},
   "outputs": [
    {
     "name": "stdout",
     "output_type": "stream",
     "text": [
      "权重字段更新完成 for 类型 G\n"
     ]
    }
   ],
   "source": [
    "# 计算权重字段\n",
    "expression = \"(!Area_Rate! + !Popularity_Rate!) / 2\"  \n",
    "arcpy.CalculateField_management(shapefile_G, 'Weight', expression, \"PYTHON3\")\n",
    "print(\"权重字段更新完成 for 类型 G\")"
   ]
  },
  {
   "cell_type": "markdown",
   "metadata": {},
   "source": [
    "#### 步骤四：构建POI密度字段"
   ]
  },
  {
   "cell_type": "markdown",
   "metadata": {},
   "source": [
    "#### 空间联结"
   ]
  },
  {
   "cell_type": "code",
   "execution_count": 26,
   "metadata": {},
   "outputs": [],
   "source": [
    "block_layer = r\"E:\\stu1\\Projects\\POI2023\\POI2023.gdb\\blocks_initial\""
   ]
  },
  {
   "cell_type": "markdown",
   "metadata": {},
   "source": [
    "##### 居住用地R"
   ]
  },
  {
   "cell_type": "code",
   "execution_count": 27,
   "metadata": {},
   "outputs": [
    {
     "name": "stdout",
     "output_type": "stream",
     "text": [
      "空间连接完成 for 类型 R\n"
     ]
    }
   ],
   "source": [
    "# 对类型 R 的 POI 进行空间连接\n",
    "poi_layer_R = r\"E:\\stu1\\Projects\\POI2023\\POI2023.gdb\\poi23\\POI_R\"  # 类型 R 的 POI 图层\n",
    "output_layer_R = r\"E:\\stu1\\Projects\\POI2023\\POI2023.gdb\\poi23\\JOIN_R\"  # 输出图层\n",
    "\n",
    "# 执行空间连接\n",
    "arcpy.SpatialJoin_analysis(target_features=poi_layer_R, \n",
    "                           join_features=block_layer, \n",
    "                           out_feature_class=output_layer_R, \n",
    "                           join_operation=\"JOIN_ONE_TO_ONE\", \n",
    "                           join_type=\"KEEP_ALL\")\n",
    "\n",
    "print(\"空间连接完成 for 类型 R\")"
   ]
  },
  {
   "cell_type": "markdown",
   "metadata": {},
   "source": [
    "对于错误落在路网空间上的点，要将离其最近的街区ID与之对应"
   ]
  },
  {
   "cell_type": "code",
   "execution_count": 32,
   "metadata": {},
   "outputs": [
    {
     "name": "stdout",
     "output_type": "stream",
     "text": [
      "更新 BlockID 完成 FOR R\n"
     ]
    }
   ],
   "source": [
    "# 创建一个 BlockID 为 Null 的 POI 点的图层\n",
    "poi_layer_null_blockid_R = \"Null_BlockID_Layer_R\"\n",
    "join_layer_R = r\"E:\\stu1\\Projects\\POI2023\\POI2023.gdb\\poi23\\JOIN_R\"\n",
    "arcpy.MakeFeatureLayer_management(join_layer_R, poi_layer_null_blockid_R,'\"Join_Count\" = 0')\n",
    "\n",
    "# 使用 Near Analysis 找到最近的街区\n",
    "arcpy.analysis.Near(poi_layer_null_blockid_R, block_layer)\n",
    "\n",
    "# 更新 BlockID 为最近街区的 BlockID\n",
    "with arcpy.da.UpdateCursor(poi_layer_null_blockid_R, [\"NEAR_FID\", \"Block_ID\"]) as cursor:\n",
    "    for row in cursor:\n",
    "        # 获取最近街区的 FID\n",
    "        near_fid = row[0]\n",
    "\n",
    "        # 查找对应街区的 BlockID\n",
    "        with arcpy.da.SearchCursor(block_layer, [\"OBJECTID\", \"Block_ID\"]) as block_cursor:\n",
    "            for block_row in block_cursor:\n",
    "                if block_row[0] == near_fid:\n",
    "                    row[1] = block_row[1]\n",
    "                    cursor.updateRow(row)\n",
    "                    break\n",
    "\n",
    "print(\"更新 BlockID 完成 FOR R\")"
   ]
  },
  {
   "cell_type": "code",
   "execution_count": 35,
   "metadata": {},
   "outputs": [
    {
     "name": "stdout",
     "output_type": "stream",
     "text": [
      "图层已保存到 E:\\stu1\\Projects\\POI2023\\POI2023.gdb\\poi23\\Null_R\n"
     ]
    }
   ],
   "source": [
    "# 保存临时图层\n",
    "# 指定保存新图层的路径和文件名\n",
    "output_feature_class = r\"E:\\stu1\\Projects\\POI2023\\POI2023.gdb\\poi23\\Null_R\"\n",
    "\n",
    "# 使用CopyFeatures_management函数保存图层\n",
    "arcpy.CopyFeatures_management(\"Null_BlockID_Layer_R\", output_feature_class)\n",
    "\n",
    "print(f\"图层已保存到 {output_feature_class}\")\n"
   ]
  },
  {
   "cell_type": "markdown",
   "metadata": {
    "heading_collapsed": true
   },
   "source": [
    "##### 公服用地A"
   ]
  },
  {
   "cell_type": "code",
   "execution_count": 36,
   "metadata": {
    "hidden": true
   },
   "outputs": [
    {
     "name": "stdout",
     "output_type": "stream",
     "text": [
      "空间连接完成 for 类型 A\n"
     ]
    }
   ],
   "source": [
    "# 对类型 A 的 POI 进行空间连接\n",
    "poi_layer_A = r\"E:\\stu1\\Projects\\POI2023\\POI2023.gdb\\poi23\\POI_A\"  # 类型 A 的 POI 图层\n",
    "output_layer_A = r\"E:\\stu1\\Projects\\POI2023\\POI2023.gdb\\poi23\\JOIN_A\"  # 输出图层\n",
    "\n",
    "# 执行空间连接\n",
    "arcpy.SpatialJoin_analysis(target_features=poi_layer_A, \n",
    "                           join_features=block_layer, \n",
    "                           out_feature_class=output_layer_A, \n",
    "                           join_operation=\"JOIN_ONE_TO_ONE\", \n",
    "                           join_type=\"KEEP_ALL\")\n",
    "\n",
    "print(\"空间连接完成 for 类型 A\")"
   ]
  },
  {
   "cell_type": "code",
   "execution_count": 37,
   "metadata": {
    "hidden": true
   },
   "outputs": [
    {
     "name": "stdout",
     "output_type": "stream",
     "text": [
      "更新 BlockID 完成 FOR A\n"
     ]
    }
   ],
   "source": [
    "# 创建一个 BlockID 为 Null 的 POI 点的图层\n",
    "poi_layer_null_blockid_A = \"Null_BlockID_Layer_A\"\n",
    "join_layer_A = r\"E:\\stu1\\Projects\\POI2023\\POI2023.gdb\\poi23\\JOIN_A\"\n",
    "arcpy.MakeFeatureLayer_management(join_layer_A, poi_layer_null_blockid_A,'\"Join_Count\" = 0')\n",
    "\n",
    "# 使用 Near Analysis 找到最近的街区\n",
    "arcpy.analysis.Near(poi_layer_null_blockid_A, block_layer)\n",
    "\n",
    "# 更新 BlockID 为最近街区的 BlockID\n",
    "with arcpy.da.UpdateCursor(poi_layer_null_blockid_A, [\"NEAR_FID\", \"Block_ID\"]) as cursor:\n",
    "    for row in cursor:\n",
    "        # 获取最近街区的 FID\n",
    "        near_fid = row[0]\n",
    "\n",
    "        # 查找对应街区的 BlockID\n",
    "        with arcpy.da.SearchCursor(block_layer, [\"OBJECTID\", \"Block_ID\"]) as block_cursor:\n",
    "            for block_row in block_cursor:\n",
    "                if block_row[0] == near_fid:\n",
    "                    row[1] = block_row[1]\n",
    "                    cursor.updateRow(row)\n",
    "                    break\n",
    "\n",
    "print(\"更新 BlockID 完成 FOR A\")"
   ]
  },
  {
   "cell_type": "code",
   "execution_count": 38,
   "metadata": {
    "hidden": true
   },
   "outputs": [
    {
     "name": "stdout",
     "output_type": "stream",
     "text": [
      "图层已保存到 E:\\stu1\\Projects\\POI2023\\POI2023.gdb\\poi23\\Null_A\n"
     ]
    }
   ],
   "source": [
    "# 保存临时图层\n",
    "# 指定保存新图层的路径和文件名\n",
    "output_feature_class = r\"E:\\stu1\\Projects\\POI2023\\POI2023.gdb\\poi23\\Null_A\"\n",
    "\n",
    "# 使用CopyFeatures_management函数保存图层\n",
    "arcpy.CopyFeatures_management(\"Null_BlockID_Layer_A\", output_feature_class)\n",
    "\n",
    "print(f\"图层已保存到 {output_feature_class}\")\n"
   ]
  },
  {
   "cell_type": "markdown",
   "metadata": {
    "heading_collapsed": true
   },
   "source": [
    "##### 商业用地B"
   ]
  },
  {
   "cell_type": "code",
   "execution_count": 39,
   "metadata": {
    "hidden": true
   },
   "outputs": [
    {
     "name": "stdout",
     "output_type": "stream",
     "text": [
      "空间连接完成 for 类型 B\n"
     ]
    }
   ],
   "source": [
    "# 对类型 B 的 POI 进行空间连接\n",
    "poi_layer_B = r\"E:\\stu1\\Projects\\POI2023\\POI2023.gdb\\poi23\\POI_B\"  # 类型 B 的 POI 图层\n",
    "output_layer_B = r\"E:\\stu1\\Projects\\POI2023\\POI2023.gdb\\poi23\\JOIN_B\"  # 输出图层\n",
    "\n",
    "# 执行空间连接\n",
    "arcpy.SpatialJoin_analysis(target_features=poi_layer_B, \n",
    "                           join_features=block_layer, \n",
    "                           out_feature_class=output_layer_B, \n",
    "                           join_operation=\"JOIN_ONE_TO_ONE\", \n",
    "                           join_type=\"KEEP_ALL\")\n",
    "\n",
    "print(\"空间连接完成 for 类型 B\")"
   ]
  },
  {
   "cell_type": "code",
   "execution_count": 40,
   "metadata": {
    "hidden": true
   },
   "outputs": [
    {
     "name": "stdout",
     "output_type": "stream",
     "text": [
      "更新 BlockID 完成 FOR B\n"
     ]
    }
   ],
   "source": [
    "# 创建一个 BlockID 为 Null 的 POI 点的图层\n",
    "poi_layer_null_blockid_B = \"Null_BlockID_Layer_B\"\n",
    "join_layer_B = r\"E:\\stu1\\Projects\\POI2023\\POI2023.gdb\\poi23\\JOIN_B\"\n",
    "arcpy.MakeFeatureLayer_management(join_layer_B, poi_layer_null_blockid_B,'\"Join_Count\" = 0')\n",
    "\n",
    "# 使用 Near Analysis 找到最近的街区\n",
    "arcpy.analysis.Near(poi_layer_null_blockid_B, block_layer)\n",
    "\n",
    "# 更新 BlockID 为最近街区的 BlockID\n",
    "with arcpy.da.UpdateCursor(poi_layer_null_blockid_B, [\"NEAR_FID\", \"Block_ID\"]) as cursor:\n",
    "    for row in cursor:\n",
    "        # 获取最近街区的 FID\n",
    "        near_fid = row[0]\n",
    "\n",
    "        # 查找对应街区的 BlockID\n",
    "        with arcpy.da.SearchCursor(block_layer, [\"OBJECTID\", \"Block_ID\"]) as block_cursor:\n",
    "            for block_row in block_cursor:\n",
    "                if block_row[0] == near_fid:\n",
    "                    row[1] = block_row[1]\n",
    "                    cursor.updateRow(row)\n",
    "                    break\n",
    "\n",
    "print(\"更新 BlockID 完成 FOR B\")"
   ]
  },
  {
   "cell_type": "code",
   "execution_count": 41,
   "metadata": {
    "hidden": true
   },
   "outputs": [
    {
     "name": "stdout",
     "output_type": "stream",
     "text": [
      "图层已保存到 E:\\stu1\\Projects\\POI2023\\POI2023.gdb\\poi23\\Null_B\n"
     ]
    }
   ],
   "source": [
    "# 保存临时图层\n",
    "# 指定保存新图层的路径和文件名\n",
    "output_feature_class = r\"E:\\stu1\\Projects\\POI2023\\POI2023.gdb\\poi23\\Null_B\"\n",
    "\n",
    "# 使用CopyFeatures_management函数保存图层\n",
    "arcpy.CopyFeatures_management(\"Null_BlockID_Layer_B\", output_feature_class)\n",
    "\n",
    "print(f\"图层已保存到 {output_feature_class}\")\n"
   ]
  },
  {
   "cell_type": "markdown",
   "metadata": {
    "heading_collapsed": true
   },
   "source": [
    "##### 工业用地M"
   ]
  },
  {
   "cell_type": "code",
   "execution_count": 42,
   "metadata": {
    "hidden": true
   },
   "outputs": [
    {
     "name": "stdout",
     "output_type": "stream",
     "text": [
      "空间连接完成 for 类型 M\n"
     ]
    }
   ],
   "source": [
    "# 对类型 M 的 POI 进行空间连接\n",
    "poi_layer_M = r\"E:\\stu1\\Projects\\POI2023\\POI2023.gdb\\poi23\\POI_M\"  # 类型 M 的 POI 图层\n",
    "output_layer_M = r\"E:\\stu1\\Projects\\POI2023\\POI2023.gdb\\poi23\\JOIN_M\"  # 输出图层\n",
    "\n",
    "# 执行空间连接\n",
    "arcpy.SpatialJoin_analysis(target_features=poi_layer_M, \n",
    "                           join_features=block_layer, \n",
    "                           out_feature_class=output_layer_M, \n",
    "                           join_operation=\"JOIN_ONE_TO_ONE\", \n",
    "                           join_type=\"KEEP_ALL\")\n",
    "\n",
    "print(\"空间连接完成 for 类型 M\")"
   ]
  },
  {
   "cell_type": "code",
   "execution_count": 43,
   "metadata": {
    "hidden": true
   },
   "outputs": [
    {
     "name": "stdout",
     "output_type": "stream",
     "text": [
      "更新 BlockID 完成 FOR M\n"
     ]
    }
   ],
   "source": [
    "# 创建一个 BlockID 为 Null 的 POI 点的图层\n",
    "poi_layer_null_blockid_M = \"Null_BlockID_Layer_M\"\n",
    "join_layer_M = r\"E:\\stu1\\Projects\\POI2023\\POI2023.gdb\\poi23\\JOIN_M\"\n",
    "arcpy.MakeFeatureLayer_management(join_layer_M, poi_layer_null_blockid_M,'\"Join_Count\" = 0')\n",
    "\n",
    "# 使用 Near Analysis 找到最近的街区\n",
    "arcpy.analysis.Near(poi_layer_null_blockid_M, block_layer)\n",
    "\n",
    "# 更新 BlockID 为最近街区的 BlockID\n",
    "with arcpy.da.UpdateCursor(poi_layer_null_blockid_M, [\"NEAR_FID\", \"Block_ID\"]) as cursor:\n",
    "    for row in cursor:\n",
    "        # 获取最近街区的 FID\n",
    "        near_fid = row[0]\n",
    "\n",
    "        # 查找对应街区的 BlockID\n",
    "        with arcpy.da.SearchCursor(block_layer, [\"OBJECTID\", \"Block_ID\"]) as block_cursor:\n",
    "            for block_row in block_cursor:\n",
    "                if block_row[0] == near_fid:\n",
    "                    row[1] = block_row[1]\n",
    "                    cursor.updateRow(row)\n",
    "                    break\n",
    "\n",
    "print(\"更新 BlockID 完成 FOR M\")"
   ]
  },
  {
   "cell_type": "code",
   "execution_count": 44,
   "metadata": {
    "hidden": true
   },
   "outputs": [
    {
     "name": "stdout",
     "output_type": "stream",
     "text": [
      "图层已保存到 E:\\stu1\\Projects\\POI2023\\POI2023.gdb\\poi23\\Null_M\n"
     ]
    }
   ],
   "source": [
    "# 保存临时图层\n",
    "# 指定保存新图层的路径和文件名\n",
    "output_feature_class = r\"E:\\stu1\\Projects\\POI2023\\POI2023.gdb\\poi23\\Null_M\"\n",
    "\n",
    "# 使用CopyFeatures_management函数保存图层\n",
    "arcpy.CopyFeatures_management(\"Null_BlockID_Layer_M\", output_feature_class)\n",
    "\n",
    "print(f\"图层已保存到 {output_feature_class}\")\n"
   ]
  },
  {
   "cell_type": "markdown",
   "metadata": {
    "heading_collapsed": true
   },
   "source": [
    "##### 公园绿地G"
   ]
  },
  {
   "cell_type": "code",
   "execution_count": 45,
   "metadata": {
    "hidden": true
   },
   "outputs": [
    {
     "name": "stdout",
     "output_type": "stream",
     "text": [
      "空间连接完成 for 类型 G\n"
     ]
    }
   ],
   "source": [
    "# 对类型 G 的 POI 进行空间连接\n",
    "poi_layer_G = r\"E:\\stu1\\Projects\\POI2023\\POI2023.gdb\\poi23\\POI_G\"  # 类型 G 的 POI 图层\n",
    "output_layer_G = r\"E:\\stu1\\Projects\\POI2023\\POI2023.gdb\\poi23\\JOIN_G\"  # 输出图层\n",
    "\n",
    "# 执行空间连接\n",
    "arcpy.SpatialJoin_analysis(target_features=poi_layer_G, \n",
    "                           join_features=block_layer, \n",
    "                           out_feature_class=output_layer_G, \n",
    "                           join_operation=\"JOIN_ONE_TO_ONE\", \n",
    "                           join_type=\"KEEP_ALL\")\n",
    "\n",
    "print(\"空间连接完成 for 类型 G\")"
   ]
  },
  {
   "cell_type": "code",
   "execution_count": 49,
   "metadata": {
    "hidden": true
   },
   "outputs": [
    {
     "name": "stdout",
     "output_type": "stream",
     "text": [
      "图层已保存到 E:\\stu1\\Projects\\POI2023\\POI2023.gdb\\poi23\\Null_G\n",
      "已删除 Join_Count 为 0 的记录\n"
     ]
    }
   ],
   "source": [
    "# 创建一个 BlockID 为 Null 的 POI 点的图层\n",
    "poi_layer_null_blockid_G = \"Null_BlockID_Layer_G\"\n",
    "join_layer_G = r\"E:\\stu1\\Projects\\POI2023\\POI2023.gdb\\poi23\\JOIN_G\"\n",
    "arcpy.MakeFeatureLayer_management(join_layer_G, poi_layer_null_blockid_G,'\"Join_Count\" = 0')\n",
    "\n",
    "# 指定保存新图层的路径和文件名\n",
    "output_feature_class = r\"E:\\stu1\\Projects\\POI2023\\POI2023.gdb\\poi23\\Null_G\"\n",
    "\n",
    "# 使用CopyFeatures_management函数保存图层\n",
    "arcpy.CopyFeatures_management(\"Null_BlockID_Layer_G\", output_feature_class)\n",
    "\n",
    "print(f\"图层已保存到 {output_feature_class}\")\n",
    "\n",
    "# 删除这个临时图层中的所有要素\n",
    "arcpy.DeleteFeatures_management(poi_layer_null_blockid_G)\n",
    "\n",
    "print(\"已删除 Join_Count 为 0 的记录\")\n"
   ]
  },
  {
   "cell_type": "markdown",
   "metadata": {
    "heading_collapsed": true
   },
   "source": [
    "##### 交通用地S"
   ]
  },
  {
   "cell_type": "code",
   "execution_count": 47,
   "metadata": {
    "hidden": true
   },
   "outputs": [
    {
     "name": "stdout",
     "output_type": "stream",
     "text": [
      "空间连接完成 for 类型 S\n"
     ]
    }
   ],
   "source": [
    "# 对类型 S 的 POI 进行空间连接\n",
    "poi_layer_S = r\"E:\\stu1\\Projects\\POI2023\\POI2023.gdb\\poi23\\POI_S\"  # 类型 S 的 POI 图层\n",
    "output_layer_S = r\"E:\\stu1\\Projects\\POI2023\\POI2023.gdb\\poi23\\JOIN_S\"  # 输出图层\n",
    "\n",
    "# 执行空间连接\n",
    "arcpy.SpatialJoin_analysis(target_features=poi_layer_S, \n",
    "                           join_features=block_layer, \n",
    "                           out_feature_class=output_layer_S, \n",
    "                           join_operation=\"JOIN_ONE_TO_ONE\", \n",
    "                           join_type=\"KEEP_ALL\")\n",
    "\n",
    "print(\"空间连接完成 for 类型 S\")"
   ]
  },
  {
   "cell_type": "code",
   "execution_count": 48,
   "metadata": {
    "hidden": true
   },
   "outputs": [
    {
     "name": "stdout",
     "output_type": "stream",
     "text": [
      "更新 BlockID 完成 FOR S\n"
     ]
    }
   ],
   "source": [
    "# 创建一个 BlockID 为 Null 的 POI 点的图层\n",
    "poi_layer_null_blockid_S = \"Null_BlockID_Layer_S\"\n",
    "join_layer_S = r\"E:\\stu1\\Projects\\POI2023\\POI2023.gdb\\poi23\\JOIN_S\"\n",
    "arcpy.MakeFeatureLayer_management(join_layer_S, poi_layer_null_blockid_S,'\"Join_Count\" = 0')\n",
    "\n",
    "# 使用 Near Analysis 找到最近的街区\n",
    "arcpy.analysis.Near(poi_layer_null_blockid_S, block_layer)\n",
    "\n",
    "# 更新 BlockID 为最近街区的 BlockID\n",
    "with arcpy.da.UpdateCursor(poi_layer_null_blockid_S, [\"NEAR_FID\", \"Block_ID\"]) as cursor:\n",
    "    for row in cursor:\n",
    "        # 获取最近街区的 FID\n",
    "        near_fid = row[0]\n",
    "\n",
    "        # 查找对应街区的 BlockID\n",
    "        with arcpy.da.SearchCursor(block_layer, [\"OBJECTID\", \"Block_ID\"]) as block_cursor:\n",
    "            for block_row in block_cursor:\n",
    "                if block_row[0] == near_fid:\n",
    "                    row[1] = block_row[1]\n",
    "                    cursor.updateRow(row)\n",
    "                    break\n",
    "\n",
    "print(\"更新 BlockID 完成 FOR S\")"
   ]
  },
  {
   "cell_type": "markdown",
   "metadata": {
    "heading_collapsed": true
   },
   "source": [
    "#### 频率密度字段(未加权）"
   ]
  },
  {
   "cell_type": "code",
   "execution_count": 50,
   "metadata": {
    "hidden": true
   },
   "outputs": [
    {
     "name": "stdout",
     "output_type": "stream",
     "text": [
      "频率密度表R创建并填充完成\n"
     ]
    }
   ],
   "source": [
    "# 准备工作：定义街区图层和POI图层\n",
    "block_layer = r\"E:\\stu1\\Projects\\POI2023\\POI2023.gdb\\blocks_initial\"\n",
    "poi_R = r\"E:\\stu1\\Projects\\POI2023\\POI2023.gdb\\poi23\\JOIN_R\"\n",
    "\n",
    "# 第1步：计算每个街区内的POI点个数\n",
    "block_poi_count = {}\n",
    "with arcpy.da.SearchCursor(poi_R, [\"Block_ID\"]) as cursor:\n",
    "    for row in cursor:\n",
    "        block_id = row[0]\n",
    "        if block_id in block_poi_count:\n",
    "            block_poi_count[block_id] += 1\n",
    "        else:\n",
    "            block_poi_count[block_id] = 1\n",
    "\n",
    "# 第2步：计算总的POI点个数\n",
    "total_poi_count = sum(block_poi_count.values())\n",
    "\n",
    "# 第3步：创建新表格来存储街区的频率密度\n",
    "output_table = r\"E:\\stu1\\Projects\\POI2023\\POI2023.gdb\\R_Frequency_Density\"\n",
    "arcpy.CreateTable_management(r\"E:\\stu1\\Projects\\POI2023\\POI2023.gdb\", \"R_Frequency_Density\")\n",
    "arcpy.AddField_management(output_table, \"Block_ID\", \"LONG\")\n",
    "arcpy.AddField_management(output_table, \"Frequency_Density\", \"FLOAT\")\n",
    "\n",
    "# 第4步：填充新表格\n",
    "with arcpy.da.InsertCursor(output_table, [\"Block_ID\", \"Frequency_Density\"]) as insert_cursor:\n",
    "    for block_id, poi_count in block_poi_count.items():\n",
    "        frequency_density = poi_count / total_poi_count\n",
    "        insert_cursor.insertRow([block_id, frequency_density])\n",
    "\n",
    "print(\"频率密度表R创建并填充完成\")\n"
   ]
  },
  {
   "cell_type": "code",
   "execution_count": 51,
   "metadata": {
    "hidden": true
   },
   "outputs": [
    {
     "name": "stdout",
     "output_type": "stream",
     "text": [
      "频率密度表A创建并填充完成\n"
     ]
    }
   ],
   "source": [
    "poi_A = r\"E:\\stu1\\Projects\\POI2023\\POI2023.gdb\\poi23\\JOIN_A\"\n",
    "\n",
    "# 第1步：计算每个街区内的POI点个数\n",
    "block_poi_count = {}\n",
    "with arcpy.da.SearchCursor(poi_A, [\"Block_ID\"]) as cursor:\n",
    "    for row in cursor:\n",
    "        block_id = row[0]\n",
    "        if block_id in block_poi_count:\n",
    "            block_poi_count[block_id] += 1\n",
    "        else:\n",
    "            block_poi_count[block_id] = 1\n",
    "\n",
    "# 第2步：计算总的POI点个数\n",
    "total_poi_count = sum(block_poi_count.values())\n",
    "\n",
    "# 第3步：创建新表格来存储街区的频率密度\n",
    "output_table = r\"E:\\stu1\\Projects\\POI2023\\POI2023.gdb\\A_Frequency_Density\"\n",
    "arcpy.CreateTable_management(r\"E:\\stu1\\Projects\\POI2023\\POI2023.gdb\", \"A_Frequency_Density\")\n",
    "arcpy.AddField_management(output_table, \"Block_ID\", \"LONG\")\n",
    "arcpy.AddField_management(output_table, \"Frequency_Density\", \"FLOAT\")\n",
    "\n",
    "# 第4步：填充新表格\n",
    "with arcpy.da.InsertCursor(output_table, [\"Block_ID\", \"Frequency_Density\"]) as insert_cursor:\n",
    "    for block_id, poi_count in block_poi_count.items():\n",
    "        frequency_density = poi_count / total_poi_count\n",
    "        insert_cursor.insertRow([block_id, frequency_density])\n",
    "\n",
    "print(\"频率密度表A创建并填充完成\")\n"
   ]
  },
  {
   "cell_type": "code",
   "execution_count": 52,
   "metadata": {
    "hidden": true
   },
   "outputs": [
    {
     "name": "stdout",
     "output_type": "stream",
     "text": [
      "频率密度表B创建并填充完成\n"
     ]
    }
   ],
   "source": [
    "poi_B = r\"E:\\stu1\\Projects\\POI2023\\POI2023.gdb\\poi23\\JOIN_B\"\n",
    "\n",
    "# 第1步：计算每个街区内的POI点个数\n",
    "block_poi_count = {}\n",
    "with arcpy.da.SearchCursor(poi_B, [\"Block_ID\"]) as cursor:\n",
    "    for row in cursor:\n",
    "        block_id = row[0]\n",
    "        if block_id in block_poi_count:\n",
    "            block_poi_count[block_id] += 1\n",
    "        else:\n",
    "            block_poi_count[block_id] = 1\n",
    "\n",
    "# 第2步：计算总的POI点个数\n",
    "total_poi_count = sum(block_poi_count.values())\n",
    "\n",
    "# 第3步：创建新表格来存储街区的频率密度\n",
    "output_table = r\"E:\\stu1\\Projects\\POI2023\\POI2023.gdb\\B_Frequency_Density\"\n",
    "arcpy.CreateTable_management(r\"E:\\stu1\\Projects\\POI2023\\POI2023.gdb\", \"B_Frequency_Density\")\n",
    "arcpy.AddField_management(output_table, \"Block_ID\", \"LONG\")\n",
    "arcpy.AddField_management(output_table, \"Frequency_Density\", \"FLOAT\")\n",
    "\n",
    "# 第4步：填充新表格\n",
    "with arcpy.da.InsertCursor(output_table, [\"Block_ID\", \"Frequency_Density\"]) as insert_cursor:\n",
    "    for block_id, poi_count in block_poi_count.items():\n",
    "        frequency_density = poi_count / total_poi_count\n",
    "        insert_cursor.insertRow([block_id, frequency_density])\n",
    "\n",
    "print(\"频率密度表B创建并填充完成\")\n"
   ]
  },
  {
   "cell_type": "code",
   "execution_count": 53,
   "metadata": {
    "hidden": true
   },
   "outputs": [
    {
     "name": "stdout",
     "output_type": "stream",
     "text": [
      "频率密度表M创建并填充完成\n"
     ]
    }
   ],
   "source": [
    "poi_M = r\"E:\\stu1\\Projects\\POI2023\\POI2023.gdb\\poi23\\JOIN_M\"\n",
    "\n",
    "# 第1步：计算每个街区内的POI点个数\n",
    "block_poi_count = {}\n",
    "with arcpy.da.SearchCursor(poi_M, [\"Block_ID\"]) as cursor:\n",
    "    for row in cursor:\n",
    "        block_id = row[0]\n",
    "        if block_id in block_poi_count:\n",
    "            block_poi_count[block_id] += 1\n",
    "        else:\n",
    "            block_poi_count[block_id] = 1\n",
    "\n",
    "# 第2步：计算总的POI点个数\n",
    "total_poi_count = sum(block_poi_count.values())\n",
    "\n",
    "# 第3步：创建新表格来存储街区的频率密度\n",
    "output_table = r\"E:\\stu1\\Projects\\POI2023\\POI2023.gdb\\M_Frequency_Density\"\n",
    "arcpy.CreateTable_management(r\"E:\\stu1\\Projects\\POI2023\\POI2023.gdb\", \"M_Frequency_Density\")\n",
    "arcpy.AddField_management(output_table, \"Block_ID\", \"LONG\")\n",
    "arcpy.AddField_management(output_table, \"Frequency_Density\", \"FLOAT\")\n",
    "\n",
    "# 第4步：填充新表格\n",
    "with arcpy.da.InsertCursor(output_table, [\"Block_ID\", \"Frequency_Density\"]) as insert_cursor:\n",
    "    for block_id, poi_count in block_poi_count.items():\n",
    "        frequency_density = poi_count / total_poi_count\n",
    "        insert_cursor.insertRow([block_id, frequency_density])\n",
    "\n",
    "print(\"频率密度表M创建并填充完成\")\n"
   ]
  },
  {
   "cell_type": "code",
   "execution_count": 54,
   "metadata": {
    "hidden": true
   },
   "outputs": [
    {
     "name": "stdout",
     "output_type": "stream",
     "text": [
      "频率密度表G创建并填充完成\n"
     ]
    }
   ],
   "source": [
    "poi_G = r\"E:\\stu1\\Projects\\POI2023\\POI2023.gdb\\poi23\\JOIN_G\"\n",
    "\n",
    "# 第1步：计算每个街区内的POI点个数\n",
    "block_poi_count = {}\n",
    "with arcpy.da.SearchCursor(poi_G, [\"Block_ID\"]) as cursor:\n",
    "    for row in cursor:\n",
    "        block_id = row[0]\n",
    "        if block_id in block_poi_count:\n",
    "            block_poi_count[block_id] += 1\n",
    "        else:\n",
    "            block_poi_count[block_id] = 1\n",
    "\n",
    "# 第2步：计算总的POI点个数\n",
    "total_poi_count = sum(block_poi_count.values())\n",
    "\n",
    "# 第3步：创建新表格来存储街区的频率密度\n",
    "output_table = r\"E:\\stu1\\Projects\\POI2023\\POI2023.gdb\\G_Frequency_Density\"\n",
    "arcpy.CreateTable_management(r\"E:\\stu1\\Projects\\POI2023\\POI2023.gdb\", \"G_Frequency_Density\")\n",
    "arcpy.AddField_management(output_table, \"Block_ID\", \"LONG\")\n",
    "arcpy.AddField_management(output_table, \"Frequency_Density\", \"FLOAT\")\n",
    "\n",
    "# 第4步：填充新表格\n",
    "with arcpy.da.InsertCursor(output_table, [\"Block_ID\", \"Frequency_Density\"]) as insert_cursor:\n",
    "    for block_id, poi_count in block_poi_count.items():\n",
    "        frequency_density = poi_count / total_poi_count\n",
    "        insert_cursor.insertRow([block_id, frequency_density])\n",
    "\n",
    "print(\"频率密度表G创建并填充完成\")\n"
   ]
  },
  {
   "cell_type": "code",
   "execution_count": 55,
   "metadata": {
    "hidden": true
   },
   "outputs": [
    {
     "name": "stdout",
     "output_type": "stream",
     "text": [
      "频率密度表S创建并填充完成\n"
     ]
    }
   ],
   "source": [
    "poi_S = r\"E:\\stu1\\Projects\\POI2023\\POI2023.gdb\\poi23\\JOIN_S\"\n",
    "\n",
    "# 第1步：计算每个街区内的POI点个数\n",
    "block_poi_count = {}\n",
    "with arcpy.da.SearchCursor(poi_S, [\"Block_ID\"]) as cursor:\n",
    "    for row in cursor:\n",
    "        block_id = row[0]\n",
    "        if block_id in block_poi_count:\n",
    "            block_poi_count[block_id] += 1\n",
    "        else:\n",
    "            block_poi_count[block_id] = 1\n",
    "\n",
    "# 第2步：计算总的POI点个数\n",
    "total_poi_count = sum(block_poi_count.values())\n",
    "\n",
    "# 第3步：创建新表格来存储街区的频率密度\n",
    "output_table = r\"E:\\stu1\\Projects\\POI2023\\POI2023.gdb\\S_Frequency_Density\"\n",
    "arcpy.CreateTable_management(r\"E:\\stu1\\Projects\\POI2023\\POI2023.gdb\", \"S_Frequency_Density\")\n",
    "arcpy.AddField_management(output_table, \"Block_ID\", \"LONG\")\n",
    "arcpy.AddField_management(output_table, \"Frequency_Density\", \"FLOAT\")\n",
    "\n",
    "# 第4步：填充新表格\n",
    "with arcpy.da.InsertCursor(output_table, [\"Block_ID\", \"Frequency_Density\"]) as insert_cursor:\n",
    "    for block_id, poi_count in block_poi_count.items():\n",
    "        frequency_density = poi_count / total_poi_count\n",
    "        insert_cursor.insertRow([block_id, frequency_density])\n",
    "\n",
    "print(\"频率密度表S创建并填充完成\")\n"
   ]
  },
  {
   "cell_type": "markdown",
   "metadata": {
    "heading_collapsed": true
   },
   "source": [
    "#### 频率密度字段（用权重调整点数后）"
   ]
  },
  {
   "cell_type": "code",
   "execution_count": 1,
   "metadata": {
    "hidden": true
   },
   "outputs": [],
   "source": [
    "import arcpy\n",
    "\n",
    "# 设置环境\n",
    "arcpy.env.workspace = r'E:\\stu1\\Projects\\POI2023\\POI2023.gdb'\n",
    "arcpy.env.overwriteOutput = True"
   ]
  },
  {
   "cell_type": "markdown",
   "metadata": {
    "hidden": true
   },
   "source": [
    "**首先对于类型A**"
   ]
  },
  {
   "cell_type": "code",
   "execution_count": 2,
   "metadata": {
    "hidden": true
   },
   "outputs": [],
   "source": [
    "# 定义输入和输出\n",
    "input_poi_layer = 'JOIN_A'\n",
    "weight_field = 'Weight'  # POI的权重字段\n",
    "block_id_field = 'Block_ID'  # 街区标识字段"
   ]
  },
  {
   "cell_type": "code",
   "execution_count": 7,
   "metadata": {
    "hidden": true
   },
   "outputs": [],
   "source": [
    "# 街区要素类\n",
    "block_layer = 'blocks_initial'\n",
    "frequency_density_field = 'FD_A' # 将要创建的频率密度字段"
   ]
  },
  {
   "cell_type": "code",
   "execution_count": 11,
   "metadata": {
    "hidden": true
   },
   "outputs": [],
   "source": [
    "# 初始化用于汇总每个街区加权POI点数的字典\n",
    "block_weights = {}\n",
    "total_weight = 0"
   ]
  },
  {
   "cell_type": "code",
   "execution_count": 12,
   "metadata": {
    "hidden": true
   },
   "outputs": [],
   "source": [
    "# 第1步：按街区代码汇总POI的权重\n",
    "with arcpy.da.SearchCursor(input_poi_layer, [block_id_field, weight_field]) as cursor:\n",
    "    for row in cursor:\n",
    "        block_id, weight = row\n",
    "        block_weights[block_id] = block_weights.get(block_id, 0) + weight\n",
    "        total_weight += weight"
   ]
  },
  {
   "cell_type": "code",
   "execution_count": 13,
   "metadata": {
    "hidden": true
   },
   "outputs": [
    {
     "name": "stdout",
     "output_type": "stream",
     "text": [
      "Block weights: {726: 1569.6450080871582, 841: 4096.515033721924, 482: 2696.670021057129, 644: 2700.7650623321533, 575: 1155.7800025939941, 565: 6142.800136566162, 257: 2767.6750984191895, 250: 8624.289974212646, 525: 4036.810031890869, 359: 6264.965118408203, 766: 3107.430013656616, 800: 1390.02001953125, 944: 2294.2650146484375, 298: 4775.1700439453125, 348: 3448.2350940704346, 330: 11351.0202293396, 491: 3587.7950744628906, 681: 4916.285022735596, 271: 10289.085037231445, 214: 4023.149990081787, 723: 3889.345069885254, 642: 461.9850044250488, 690: 2252.260019302368, 329: 2137.3900260925293, 441: 1702.4350128173828, 240: 29781.14017677307, 918: 2590.7651138305664, 821: 439.8250160217285, 836: 3126.955135345459, 159: 194.1700096130371, 220: 2054.3450241088867, 666: 563.2249984741211, 511: 2051.7500171661377, 173: 2875.505100250244, 657: 6340.620067596436, 399: 4508.510025024414, 896: 6456.265022277832, 364: 2244.195095062256, 419: 40.04999923706055, 560: 370.700008392334, 49: 1790.345058441162, 793: 2619.8800258636475, 717: 8761.559991836548, 691: 179.07999801635742, 302: 163.92499923706055, 229: 1141.1450119018555, 345: 533.75, 286: 3535.3100910186768, 474: 6051.780059814453, 1032: 827.5999984741211, 150: 1066.4900131225586, 373: 1701.5400085449219, 480: 7340.920167922974, 275: 2761.62003326416, 436: 1091.3150367736816, 395: 14140.120113372803, 765: 3699.900053024292, 518: 7994.845050811768, 634: 3607.0700187683105, 439: 2141.3550720214844, 64: 13504.75008392334, 1003: 730.8050079345703, 955: 2822.5800399780273, 768: 1158.555061340332, 878: 1721.9401016235352, 389: 70.39500045776367, 700: 1374.2400093078613, 1046: 4566.230129241943, 866: 5944.245090484619, 502: 1579.1100158691406, 477: 5572.790029525757, 420: 239.08000946044922, 305: 3183.470001220703, 790: 3873.6600131988525, 621: 4299.125053405762, 139: 2915.7500648498535, 550: 1390.575065612793, 174: 3160.105052947998, 168: 2223.1550254821777, 400: 7599.875118255615, 851: 846.820011138916, 635: 2848.620071411133, 692: 592.3299980163574, 1036: 5609.485004425049, 829: 10903.214904785156, 510: 1371.3899993896484, 368: 1219.4200019836426, 230: 2602.6949882507324, 331: 945.3650207519531, 125: 2850.7250633239746, 340: 30769.439670562744, 215: 1209.970012664795, 950: 1725.3900241851807, 814: 1996.5500221252441, 462: 2500.0550498962402, 274: 2374.874988555908, 417: 1800.4500102996826, 12: 242.02000045776367, 73: 2741.910093307495, 591: 1080.6300201416016, 658: 503.36500549316406, 397: 2070.175079345703, 977: 1248.2400150299072, 227: 2967.005054473877, 758: 599.1099967956543, 791: 861.0800018310547, 614: 10138.185077667236, 806: 3899.6350326538086, 648: 2042.9450225830078, 961: 1288.8950157165527, 763: 5073.025064468384, 153: 3962.370029449463, 236: 14800.169925689697, 893: 2088.6900215148926, 455: 440.2200050354004, 394: 2576.540096282959, 907: 1843.7250633239746, 573: 447.5200004577637, 1049: 3113.0850563049316, 453: 4024.4151306152344, 418: 4778.955089569092, 211: 10694.48027420044, 853: 1530.6049976348877, 123: 2025.5300064086914, 238: 924.6500015258789, 718: 3587.460069656372, 14: 2037.1100997924805, 495: 4209.195041656494, 872: 6188.210084915161, 858: 4785.760042190552, 830: 1656.6000061035156, 1008: 619.885009765625, 356: 97.79999923706055, 353: 1282.6150093078613, 479: 2038.9950256347656, 80: 1362.5949897766113, 115: 3411.3451080322266, 826: 584.6700210571289, 624: 747.7050132751465, 888: 641.9750328063965, 426: 1740.9550552368164, 693: 4329.040058135986, 967: 4375.670125961304, 647: 667.3950004577637, 538: 1280.9450187683105, 1034: 1658.0700340270996, 694: 1585.785047531128, 265: 689.7350158691406, 287: 4023.580062866211, 803: 305.4099998474121, 941: 3110.9300117492676, 757: 2193.9850997924805, 540: 328.79999923706055, 106: 2131.1750679016113, 100: 1421.3150482177734, 937: 2091.130023956299, 902: 593.0700073242188, 998: 402.0200080871582, 111: 2449.730110168457, 640: 1524.0800476074219, 598: 324.86001205444336, 535: 346.4850044250488, 740: 2057.9000148773193, 446: 2681.360034942627, 953: 309.6700096130371, 136: 3052.570037841797, 327: 2794.510066986084, 586: 1549.5100555419922, 288: 458.4400062561035, 304: 2890.270086288452, 729: 3273.230037689209, 600: 523.5450019836426, 162: 1757.6600742340088, 646: 1392.0750045776367, 566: 388.4550018310547, 701: 1793.1550407409668, 847: 1044.590015411377, 601: 1301.6500549316406, 569: 1479.2200202941895, 616: 751.0100021362305, 497: 694.8899955749512, 172: 1222.9350357055664, 155: 3971.4100227355957, 939: 6370.60507774353, 630: 898.0350074768066, 780: 1910.8550300598145, 943: 2582.995029449463, 548: 1483.6400260925293, 992: 1366.3800086975098, 122: 7492.629959106445, 684: 460.2700004577637, 925: 1658.3600311279297, 337: 1613.4900093078613, 905: 1387.645013809204, 335: 794.200008392334, 605: 143.9250030517578, 1022: 653.8650054931641, 66: 2764.720039367676, 742: 584.6700210571289, 141: 4044.900203704834, 416: 2202.6550903320312, 832: 4989.745058059692, 660: 1787.605052947998, 606: 3790.3200607299805, 372: 3163.9751014709473, 90: 3569.3550148010254, 579: 214.17000579833984, 166: 690.1450042724609, 320: 453.8000068664551, 661: 1037.7550048828125, 93: 4784.035053253174, 422: 1367.4750213623047, 444: 284.1700019836426, 956: 1428.9550666809082, 656: 2929.8200454711914, 629: 2174.5650329589844, 294: 2701.455093383789, 911: 352.74999237060547, 1039: 6134.77522277832, 78: 5071.955101013184, 278: 607.830005645752, 994: 747.9700012207031, 226: 1659.0950317382812, 707: 1038.4500160217285, 241: 1127.4750022888184, 874: 3266.265033721924, 407: 895.1600112915039, 617: 2183.3650035858154, 520: 2144.765106201172, 507: 502.3300018310547, 261: 2051.8850173950195, 95: 951.0800094604492, 861: 906.3600006103516, 311: 4366.185176849365, 928: 808.4850044250488, 654: 1815.265037536621, 899: 1510.6850128173828, 802: 719.4800262451172, 531: 878.7000350952148, 680: 984.2650260925293, 71: 2430.920078277588, 456: 40.04999923706055, 756: 314.13000869750977, 1047: 2088.2000160217285, 506: 1668.7450256347656, 524: 128.14500045776367, 259: 3943.8300380706787, 597: 646.1050033569336, 39: 367.70000076293945, 891: 1650.9150199890137, 924: 4926.9549922943115, 269: 1541.345027923584, 539: 4205.405046463013, 354: 155.54999923706055, 186: 4753.330057144165, 563: 1917.5500030517578, 628: 608.6100006103516, 254: 8750.285083770752, 1006: 2641.620048522949, 83: 6292.294967651367, 734: 261.33000564575195, 813: 4367.295112609863, 549: 2968.744993209839, 336: 4012.1450119018555, 133: 3406.4301261901855, 147: 7794.600154876709, 1028: 1807.4900016784668, 51: 231.43000411987305, 82: 1283.1599979400635, 185: 2299.275104522705, 255: 530.3600158691406, 263: 3484.535099029541, 946: 1506.0900497436523, 934: 782.9849967956543, 57: 1279.5900192260742, 485: 1830.8400344848633, 810: 40.04999923706055, 685: 559.7999992370605, 964: 505.6700096130371, 985: 2506.9150009155273, 682: 1764.3899955749512, 89: 2521.1450729370117, 752: 1338.825023651123, 667: 1055.545009613037, 745: 1311.725040435791, 627: 3654.8650283813477, 306: 2613.6300296783447, 385: 1002.8450012207031, 751: 1755.39501953125, 639: 1038.6350173950195, 570: 1571.52001953125, 421: 7743.095012664795, 307: 5037.905082702637, 809: 920.7650184631348, 365: 854.2950134277344, 920: 2160.2550201416016, 207: 2049.6849975585938, 543: 309.2850036621094, 588: 1888.5650253295898, 879: 1869.4650192260742, 808: 1222.1850090026855, 688: 624.5300140380859, 979: 3164.3250579833984, 519: 1556.5050086975098, 834: 631.6000061035156, 904: 3267.410047531128, 272: 1447.3750381469727, 750: 1633.9100303649902, 332: 1514.5700302124023, 754: 1978.6600151062012, 496: 2091.500015258789, 171: 2726.190092086792, 247: 5169.839981079102, 794: 3051.5700244903564, 974: 5411.305028915405, 767: 3821.080041885376, 333: 895.4700050354004, 163: 1499.3050231933594, 440: 1939.210018157959, 659: 596.3450164794922, 942: 1874.410011291504, 189: 1541.620044708252, 843: 3286.875045776367, 881: 727.1000061035156, 900: 2883.8550243377686, 532: 534.0950012207031, 972: 1840.025001525879, 522: 2782.4550437927246, 849: 921.4750099182129, 774: 1044.0500183105469, 958: 3245.285057067871, 382: 3400.1050338745117, 310: 2417.5900592803955, 487: 1769.9450225830078, 308: 6211.000045776367, 148: 5672.5700607299805, 933: 2716.8900260925293, 1005: 1171.0600051879883, 932: 1584.8950576782227, 842: 337.3449993133545, 423: 516.635009765625, 500: 1914.9350280761719, 328: 2020.2350425720215, 835: 2116.325029373169, 801: 1531.345006942749, 178: 1371.730037689209, 554: 1031.4100227355957, 670: 1037.1650199890137, 702: 966.5299987792969, 796: 623.6500015258789, 799: 1948.865032196045, 408: 2256.2900199890137, 996: 1778.960012435913, 894: 603.0600166320801, 568: 5447.159950256348, 846: 965.340015411377, 863: 5507.750186920166, 429: 517.1250152587891, 741: 499.63001251220703, 838: 906.2500133514404, 683: 867.9700241088867, 797: 1943.0199966430664, 198: 1832.3400268554688, 759: 1854.1600151062012, 448: 1186.965030670166, 58: 934.7449951171875, 1004: 345.6549987792969, 523: 1077.9100036621094, 289: 1244.705005645752, 424: 547.470027923584, 85: 12437.194910049438, 901: 820.9400100708008, 959: 434.37500381469727, 266: 461.7800102233887, 177: 2284.6750106811523, 134: 1219.4600372314453, 167: 1815.6500282287598, 722: 1246.2700157165527, 652: 854.6850204467773, 498: 637.3450050354004, 727: 414.5299987792969, 165: 1420.735013961792, 807: 482.5350036621094, 643: 663.7500038146973, 1020: 268.4400100708008, 948: 866.1300048828125, 827: 825.8100242614746, 869: 1051.2200164794922, 81: 1448.9000205993652, 949: 3074.3300800323486, 107: 1025.8750228881836, 260: 529.5300025939941, 157: 1875.9250526428223, 54: 2127.1300506591797, 673: 1300.075065612793, 128: 403.9300231933594, 583: 1061.1650161743164, 753: 344.87500381469727, 816: 1092.965000152588, 982: 217.75000381469727, 669: 588.4349994659424, 906: 1334.550033569336, 980: 4764.835056304932, 926: 415.6550064086914, 1023: 1357.250015258789, 930: 1428.1950073242188, 993: 907.6800231933594, 984: 672.9700050354004, 986: 1540.3050346374512, 472: 466.43500900268555, 490: 2522.994997024536, 206: 1258.7450103759766, 886: 1069.4450073242188, 339: 1131.7100448608398, 935: 1165.695011138916, 705: 2708.2850799560547, 954: 2039.0950050354004, 845: 3003.545045852661, 483: 1359.4400005340576, 581: 1764.3450393676758, 140: 2927.7750663757324, 677: 2631.185007095337, 553: 779.1500244140625, 1038: 678.1250038146973, 362: 1260.7050170898438, 489: 850.5600147247314, 862: 511.7550048828125, 350: 255.6000099182129, 154: 1307.3650207519531, 338: 792.0000038146973, 152: 2731.145009994507, 101: 965.5850028991699, 175: 2748.9250411987305, 618: 845.9400100708008, 738: 903.1550025939941, 770: 2560.8000621795654, 219: 2902.5600776672363, 631: 126.62500381469727, 917: 360.65500259399414, 662: 237.5600128173828, 113: 1658.9250717163086, 228: 597.8050193786621, 31: 2091.499984741211, 48: 1553.100025177002, 322: 1734.9950141906738, 442: 964.1150283813477, 130: 1199.6400451660156, 527: 4564.660140991211, 856: 2534.995012283325, 555: 569.2850036621094, 706: 4423.925071716309, 737: 964.0700187683105, 1064: 2921.7700004577637, 1055: 503.1600036621094, 1014: 670.0300140380859, 374: 3329.3600463867188, 258: 12524.584926605225, 632: 973.4350051879883, 613: 464.7200164794922, 200: 2129.7849731445312, 923: 713.3050308227539, 243: 699.75, 983: 1545.290018081665, 655: 714.585018157959, 712: 1978.3400344848633, 545: 1143.7150077819824, 625: 209.56500625610352, 349: 872.0000267028809, 981: 1064.5600051879883, 119: 1526.6300373077393, 50: 1195.920021057129, 999: 1881.2600212097168, 145: 624.5950088500977, 72: 613.0500297546387, 132: 793.0000038146973, 370: 1455.390037536621, 209: 554.4950065612793, 824: 2211.13002204895, 822: 1167.1850090026855, 775: 1787.0850448608398, 191: 1028.8050079345703, 580: 659.8500099182129, 619: 641.8550186157227, 499: 118.44000244140625, 79: 2596.8450145721436, 87: 524.7750129699707, 357: 725.0300140380859, 1026: 767.5250282287598, 556: 1064.1550006866455, 222: 2541.8150787353516, 142: 1090.2850379943848, 396: 1811.4850463867188, 390: 856.900016784668, 1011: 370.1550064086914, 1053: 1286.9850158691406, 699: 668.1250076293945, 952: 1715.025016784668, 109: 1066.5850009918213, 1041: 469.4400043487549, 903: 1672.3850135803223, 1025: 764.085033416748, 20: 705.0300140380859, 405: 1855.7800254821777, 46: 103.87500381469727, 514: 1104.7400169372559, 687: 982.3200054168701, 62: 3605.7900562286377, 922: 540.4750175476074, 143: 1281.1750450134277, 526: 759.5850028991699, 55: 287.1250114440918, 746: 1420.8050117492676, 146: 645.5300025939941, 492: 136.625, 761: 1409.9250164031982, 989: 404.7750072479248, 481: 2511.8149909973145, 398: 2408.7350273132324, 164: 550.6200084686279, 27: 514.0950050354004, 242: 943.7250061035156, 969: 1978.7000617980957, 668: 951.275016784668, 703: 5397.49010848999, 369: 1483.4650115966797, 676: 1622.1550827026367, 504: 2253.055009841919, 1010: 1241.700038909912, 56: 107.4050064086914, 410: 169.2200050354004, 897: 723.6250076293945, 351: 591.6000099182129, 295: 976.9550285339355, 23: 3748.8100662231445, 516: 833.3700218200684, 182: 576.6800308227539, 24: 2061.6300086975098, 74: 825.2150135040283, 383: 458.9050121307373, 1017: 352.56002044677734, 461: 821.0100250244141, 303: 1151.8750286102295, 1013: 2314.355089187622, 270: 2063.61501121521, 873: 1687.0600128173828, 653: 1189.8700065612793, 129: 1387.4650230407715, 253: 1256.610050201416, 391: 1425.445011138916, 2: 1501.1850395202637, 341: 2125.705020904541, 945: 3029.700035095215, 131: 741.5650081634521, 488: 1337.8100090026855, 1012: 1481.0950050354004, 509: 1163.5200157165527, 585: 1120.4650039672852, 486: 1152.5550422668457, 571: 1721.515037536621, 725: 862.6900062561035, 96: 740.2650299072266, 877: 488.59500885009766, 231: 382.4150085449219, 733: 496.1549987792969, 715: 1356.6600036621094, 788: 1637.7150058746338, 160: 1228.555030822754, 1015: 421.9350051879883, 784: 2260.865016937256, 551: 1585.4300956726074, 503: 744.7750282287598, 649: 428.4049987792969, 728: 380.5550193786621, 460: 1455.6549987792969, 697: 220.65500259399414, 314: 2212.185012817383, 528: 1609.1849975585938, 98: 1523.8250045776367, 476: 344.9650077819824, 425: 760.8550186157227, 508: 2296.005012512207, 819: 2901.8250579833984, 1007: 1093.6250190734863, 415: 487.19000244140625, 892: 502.93500900268555, 672: 576.5000152587891, 533: 1008.0250205993652, 457: 1570.7050170898438, 884: 967.6550025939941, 991: 577.2799987792969, 52: 269.1300048828125, 393: 1567.305019378662, 674: 698.1150207519531, 1035: 368.75000762939453, 724: 594.0050163269043, 65: 964.4300231933594, 1016: 439.4400062561035, 114: 950.0200157165527, 144: 486.88001251220703, 325: 222.9050064086914, 633: 929.4350051879883, 771: 567.4049797058105, 431: 221.72500610351562, 909: 1112.275016784668, 208: 1729.2600479125977, 1019: 534.685001373291, 284: 298.34001541137695, 882: 457.1150207519531, 743: 2952.9050941467285, 161: 495.375, 744: 515.7200050354004, 112: 845.220027923584, 731: 299.87500381469727, 795: 1665.835039138794, 1029: 839.89501953125, 376: 944.3050193786621, 358: 1182.0600090026855, 187: 2489.5400581359863, 494: 242.12500381469727, 179: 2644.990077972412, 854: 922.180046081543, 889: 75.34500122070312, 156: 759.1750068664551, 978: 367.625, 1024: 594.385009765625, 38: 242.40499877929688, 852: 659.2149982452393, 384: 863.8950271606445, 285: 473.58501052856445, 782: 236.62500381469727, 584: 1630.1050148010254, 542: 182.125, 352: 123.09500122070312, 239: 410.31000900268555, 105: 1116.110034942627, 812: 435.0550079345703, 473: 2089.8650283813477, 787: 1206.340015411377, 968: 1587.9700012207031, 929: 650.1300048828125, 434: 403.7850112915039, 975: 428.5850143432617, 435: 313.4400062561035, 636: 678.715015411377, 651: 326.8800048828125, 68: 217.75000381469727, 76: 229.46500778198242, 708: 665.9650039672852, 1030: 1073.5050659179688, 386: 617.9350051879883, 783: 477.9700050354004, 218: 746.8350219726562, 63: 826.545036315918, 170: 444.27500915527344, 663: 2204.2351036071777, 530: 559.5950050354004, 973: 935.7650260925293, 323: 1321.9600067138672, 711: 840.3400077819824, 75: 831.8000259399414, 912: 1020.0600166320801, 347: 743.1150283813477, 127: 431.49499893188477, 665: 334.3750114440918, 366: 211.97000122070312, 602: 88.09500122070312, 190: 789.2400169372559, 13: 958.2450141906738, 557: 30.345001220703125, 1063: 574.620002746582, 837: 1158.4000091552734, 804: 441.15500259399414, 264: 940.420036315918, 8: 723.3050155639648, 120: 862.0000152587891, 88: 396.2450141906738, 121: 669.6200141906738, 371: 1215.295036315918, 466: 156.9700050354004, 515: 626.310001373291, 478: 660.5549926757812, 921: 954.1849899291992, 534: 661.8100051879883, 180: 575.4050045013428, 377: 60.69000244140625, 467: 732.2750015258789, 957: 107.4050064086914, 558: 764.9050025939941, 898: 399.1850051879883, 158: 688.0250244140625, 378: 423.8400115966797, 70: 394.80999755859375, 589: 306.8450012207031, 883: 83.59499931335449, 537: 658.3950347900391, 927: 1460.1450233459473, 607: 863.8050193786621, 104: 1536.9450073242188, 267: 99.22000503540039, 938: 878.1150131225586, 622: 180.93500900268555, 411: 1705.2149963378906, 221: 341.9700126647949, 544: 591.7450103759766, 116: 338.58502197265625, 988: 606.400016784668, 698: 65.34500122070312, 1000: 701.2350234985352, 268: 835.8650131225586, 990: 1267.4300155639648, 792: 334.9650115966797, 273: 1764.2050037384033, 963: 439.53000259399414, 84: 775.1750221252441, 312: 171.62500381469727, 517: 910.1600036621094, 620: 174.56500244140625, 1042: 821.1200218200684, 210: 989.3950233459473, 135: 459.96501541137695, 181: 559.685001373291, 412: 749.0350036621094, 876: 779.9300079345703, 865: 309.9650077819824, 361: 535.9000129699707, 604: 356.0900115966797, 176: 1450.9600067138672, 110: 65.34500122070312, 195: 341.5250129699707, 747: 68.87500381469727, 608: 361.935001373291, 610: 175.15500259399414, 28: 389.96500396728516, 281: 144.22000122070312, 97: 490.0550003051758, 825: 900.495002746582, 363: 1347.1650390625, 22: 283.0600128173828, 895: 30.345001220703125, 755: 856.6849975585938, 151: 53.095001220703125, 430: 103.87500381469727, 138: 88.09500122070312, 559: 478.62499809265137, 867: 656.9650115966797, 831: 1208.875, 375: 238.68500900268555, 235: 126.62500381469727, 451: 649.4050025939941, 9: 123.09500122070312, 77: 808.64501953125, 137: 505.64501953125, 777: 30.345001220703125, 678: 518.2150077819824, 546: 1024.8650093078613, 512: 240.09499740600586, 464: 184.37500381469727, 594: 697.935001373291, 334: 595.2750129699707, 689: 197.40499877929688, 860: 261.3450012207031, 367: 1141.1549797058105, 475: 359.8099937438965, 313: 414.75, 561: 382.8700065612793, 675: 57.75, 1002: 257.28000259399414, 603: 713.0900001525879, 484: 634.6499977111816, 567: 141.78000259399414, 773: 96.28000259399414, 850: 115.5, 696: 476.03000259399414, 541: 357.7799987792969, 612: 248.56000518798828, 709: 222.55999755859375, 875: 167.56000137329102, 409: 212.55999755859375, 637: 173.25, 710: 154.03000259399414, 37: 597.180004119873, 599: 106.27999877929688, 438: 1206.6500053405762, 716: 442.78000259399414, 995: 346.5, 413: 166.2799892425537, 432: 850.8399963378906, 202: 455.80999755859375, 1048: 410.27999114990234, 103: 577.1799907684326, 1043: 252.5900001525879, 458: 697.4000053405762, 823: 75.99999809265137, 839: 369.25, 324: 333.9300117492676, 1040: 360.0299987792969, 203: 10499.799896240234, 437: 119.03000259399414, 536: 831.25, 552: 841.6199951171875, 513: 649.1499977111816, 779: 953.310001373291, 936: 237.56000137329102, 641: 666.6200008392334, 402: 57.75, 582: 873.3999919891357, 29: 1033.4000053405762, 916: 435.4299964904785, 919: 365.3099880218506, 1062: 295.310001373291, 1044: 133.74999809265137, 547: 231.0, 577: 757.310001373291, 343: 236.59000205993652, 887: 96.28000259399414, 471: 328.8399963378906, 828: 377.3699951171875, 256: 211.87001037597656, 32: 2308.9599609375, 578: 115.5, 686: 57.75, 443: 57.75, 871: 141.27999877929688, 970: 115.5, 319: 57.75, 789: 372.2799987792969, 428: 423.8399963378906, 493: 22.75, 449: 57.75, 1001: 450.6200065612793, 126: 224.80999755859375, 638: 133.55999374389648, 248: 658.7399978637695, 433: 1086.8300132751465, 450: 80.5, 908: 270.30999755859375, 292: 372.2799987792969, 1056: 863.9599990844727, 445: 332.77999687194824, 169: 224.80999755859375, 1009: 115.5, 776: 179.81000137329102, 848: 828.0899963378906, 590: 109.81000137329102, 772: 301.87000274658203, 205: 109.81000137329102, 572: 199.02999877929688, 316: 154.03000259399414, 94: 501.580020904541, 290: 621.7100124359131, 459: 22.75, 342: 57.75, 623: 442.87001037597656, 764: 173.25, 1027: 796.2900428771973, 596: 269.53000259399414, 3: 99.81000518798828, 976: 22.75, 931: 57.75, 521: 115.5, 99: 378.9300079345703, 199: 507.1800117492676, 61: 577.9600067138672, 196: 1429.9199848175049, 859: 57.75, 468: 173.25, 282: 155.52999877929688, 387: 57.75, 592: 293.05999755859375, 576: 115.5, 36: 57.75, 403: 22.75, 463: 96.28000259399414, 67: 295.40000915527344, 465: 96.28000259399414, 280: 203.55999374389648, 232: 144.81000137329102, 299: 292.460018157959, 360: 113.56000137329102, 183: 199.02999877929688, 997: 481.68000411987305, 30: 231.0, 315: 333.84000396728516, 381: 57.75, 283: 196.8700065612793, 317: 57.75, 25: 353.15000915527344, 213: 391.6800117492676, 719: 96.28000259399414, 469: 96.28000259399414, 246: 141.27999877929688, 19: 301.87000274658203, 279: 173.34000778198242, 1058: 57.75, 626: 250.58999633789062, 33: 160.59000396728516, 965: 237.65000915527344, 505: 83.52999877929688, 564: 565.890022277832, 26: 107.05999755859375, 380: 83.52999877929688, 92: 167.05999755859375, 45: 48.529998779296875, 224: 456.1799964904785, 44: 215.58999633789062, 664: 48.529998779296875, 217: 132.05999755859375, 966: 77.06000518798828, 16: 250.58999633789062, 817: 468.8300247192383, 529: 83.52999877929688, 645: 411.1800003051758, 574: 219.12000274658203, 611: 97.06000137329102, 736: 48.529998779296875, 309: 83.52999877929688, 118: 160.59000396728516, 401: 251.1800079345703, 427: 83.52999877929688, 5: 97.05999755859375, 42: 199.1200065612793, 192: 122.06000137329102, 762: 38.53000259399414, 40: 231.18001556396484, 1037: 276.1800117492676, 212: 83.52999877929688, 47: 167.05999755859375, 225: 366.18000411987305, 595: 77.06000518798828, 6: 87.06000137329102, 204: 83.52999877929688, 233: 115.59000778198242, 910: 38.53000259399414, 392: 48.529998779296875, 915: 83.52999877929688, 379: 38.53000259399414, 679: 125.59000396728516, 34: 205.5900001525879, 244: 83.52999877929688, 1033: 132.05999755859375, 102: 83.52999877929688, 11: 77.06000518798828, 223: 83.52999877929688, 201: 38.53000259399414, 344: 48.529998779296875, 10: 83.52999877929688, 885: 38.53000259399414, 326: 117.05999755859375, 1060: 38.53000259399414, 971: 83.52999877929688, 781: 83.52999877929688, 277: 38.53000259399414, 704: 38.53000259399414}"
     ]
    },
    {
     "name": "stdout",
     "output_type": "stream",
     "text": [
      "\n",
      "Total weight: 1431806.0685749054\n"
     ]
    }
   ],
   "source": [
    "# 调试输出：汇总后的权重和总权重\n",
    "print(\"Block weights:\", block_weights)\n",
    "print(\"Total weight:\", total_weight)"
   ]
  },
  {
   "cell_type": "code",
   "execution_count": 14,
   "metadata": {
    "hidden": true
   },
   "outputs": [],
   "source": [
    "# 第2步：计算每个街区的频率密度\n",
    "block_freq_density = {block: weight / total_weight for block, weight in block_weights.items()}"
   ]
  },
  {
   "cell_type": "code",
   "execution_count": 15,
   "metadata": {
    "hidden": true
   },
   "outputs": [
    {
     "name": "stdout",
     "output_type": "stream",
     "text": [
      "Block ID: 726, Frequency Density: 0.0010962692801333392\n",
      "Block ID: 841, Frequency Density: 0.00286108232366918\n",
      "Block ID: 482, Frequency Density: 0.001883404519818217\n",
      "Block ID: 644, Frequency Density: 0.0018862645728413897\n",
      "Block ID: 575, Frequency Density: 0.0008072182594842306\n",
      "Block ID: 565, Frequency Density: 0.004290245914853656\n",
      "Block ID: 257, Frequency Density: 0.0019329957870439056\n",
      "Block ID: 250, Frequency Density: 0.006023364590706415\n",
      "Block ID: 525, Frequency Density: 0.002819383239455576\n",
      "Block ID: 359, Frequency Density: 0.004375568211303785\n",
      "Block ID: 766, Frequency Density: 0.002170286941687208\n",
      "Block ID: 800, Frequency Density: 0.0009708158458322184\n",
      "Block ID: 944, Frequency Density: 0.0016023573757666415\n",
      "Block ID: 298, Frequency Density: 0.003335067610586467\n",
      "Block ID: 348, Frequency Density: 0.0024083115512301932\n",
      "Block ID: 330, Frequency Density: 0.0079277637373317\n",
      "Block ID: 491, Frequency Density: 0.0025057828383377844\n",
      "Block ID: 681, Frequency Density: 0.0034336249375090553\n",
      "Block ID: 271, Frequency Density: 0.007186088439667183\n",
      "Block ID: 214, Frequency Density: 0.0028098428120828397\n",
      "Block ID: 723, Frequency Density: 0.0027163909661008546\n",
      "Block ID: 642, Frequency Density: 0.00032265892327504125\n",
      "Block ID: 690, Frequency Density: 0.0015730203054273061\n",
      "Block ID: 329, Frequency Density: 0.0014927929647762287\n",
      "Block ID: 441, Frequency Density: 0.001189012290269057\n",
      "Block ID: 240, Frequency Density: 0.02079970243904233\n",
      "Block ID: 918, Frequency Density: 0.0018094385620317894\n",
      "Block ID: 821, Frequency Density: 0.0003071819750418378\n",
      "Block ID: 836, Frequency Density: 0.0021839236499798863\n",
      "Block ID: 159, Frequency Density: 0.00013561194764755884\n",
      "Block ID: 220, Frequency Density: 0.0014347927901671783\n",
      "Block ID: 666, Frequency Density: 0.0003933668188979713\n",
      "Block ID: 511, Frequency Density: 0.001432980389032902\n",
      "Block ID: 173, Frequency Density: 0.0020083062667224693\n",
      "Block ID: 657, Frequency Density: 0.004428407035533335\n",
      "Block ID: 399, Frequency Density: 0.003148827291612048\n",
      "Block ID: 896, Frequency Density: 0.0045091756236959055\n",
      "Block ID: 364, Frequency Density: 0.0015673876122734496\n",
      "Block ID: 419, Frequency Density: 2.7971664680065796e-05\n",
      "Block ID: 560, Frequency Density: 0.0002589037835000213\n",
      "Block ID: 49, Frequency Density: 0.0012504103018805579\n",
      "Block ID: 793, Frequency Density: 0.0018297729583387275\n",
      "Block ID: 717, Frequency Density: 0.006119236525206964\n",
      "Block ID: 691, Frequency Density: 0.0001250728027676248\n",
      "Block ID: 302, Frequency Density: 0.00011448826963013027\n",
      "Block ID: 229, Frequency Density: 0.0007969969096706313\n",
      "Block ID: 345, Frequency Density: 0.0003727809315204594\n",
      "Block ID: 286, Frequency Density: 0.0024691263493088946\n",
      "Block ID: 474, Frequency Density: 0.004226675799633861\n",
      "Block ID: 1032, Frequency Density: 0.0005780112381405407\n",
      "Block ID: 150, Frequency Density: 0.0007448564694128232\n",
      "Block ID: 373, Frequency Density: 0.0011883872026317685\n",
      "Block ID: 480, Frequency Density: 0.005127035238249467\n",
      "Block ID: 275, Frequency Density: 0.0019287668168726476\n",
      "Block ID: 436, Frequency Density: 0.0007621947278515737\n",
      "Block ID: 395, Frequency Density: 0.00987572299330079\n",
      "Block ID: 765, Frequency Density: 0.002584079041309588\n",
      "Block ID: 518, Frequency Density: 0.005583748544081209\n",
      "Block ID: 634, Frequency Density: 0.0025192448180908138\n",
      "Block ID: 439, Frequency Density: 0.0014955622266308746\n",
      "Block ID: 64, Frequency Density: 0.009431968742362426\n",
      "Block ID: 1003, Frequency Density: 0.0005104078156771257\n",
      "Block ID: 955, Frequency Density: 0.0019713424198483645\n",
      "Block ID: 768, Frequency Density: 0.000809156412148369\n",
      "Block ID: 878, Frequency Density: 0.0012026350072237113\n",
      "Block ID: 389, Frequency Density: 4.9165178163987464e-05\n",
      "Block ID: 700, Frequency Density: 0.0009597947930725421\n",
      "Block ID: 1046, Frequency Density: 0.0031891400863992493\n",
      "Block ID: 866, Frequency Density: 0.004151571376143838\n",
      "Block ID: 502, Frequency Density: 0.0011028798176842822\n",
      "Block ID: 477, Frequency Density: 0.0038921402498820422\n",
      "Block ID: 420, Frequency Density: 0.000166977927184237\n",
      "Block ID: 305, Frequency Density: 0.0022233946838828883\n",
      "Block ID: 790, Frequency Density: 0.002705436230658217\n",
      "Block ID: 621, Frequency Density: 0.0030025889313939945\n",
      "Block ID: 139, Frequency Density: 0.002036414098839472\n",
      "Block ID: 550, Frequency Density: 0.000971203500343346\n",
      "Block ID: 174, Frequency Density: 0.0022070761692561413\n",
      "Block ID: 168, Frequency Density: 0.0015526928361847998\n",
      "Block ID: 400, Frequency Density: 0.005307894193953142\n",
      "Block ID: 851, Frequency Density: 0.0005914348526136411\n",
      "Block ID: 635, Frequency Density: 0.0019895292623297793\n",
      "Block ID: 692, Frequency Density: 0.0004136942921368611\n",
      "Block ID: 1036, Frequency Density: 0.003917768703137457\n",
      "Block ID: 829, Frequency Density: 0.007615008166320501\n",
      "Block ID: 510, Frequency Density: 0.000957804293115345\n",
      "Block ID: 368, Frequency Density: 0.0008516656192115086\n",
      "Block ID: 230, Frequency Density: 0.0018177706083067713\n",
      "Block ID: 331, Frequency Density: 0.000660260520960696\n",
      "Block ID: 125, Frequency Density: 0.0019909994278494276\n",
      "Block ID: 340, Frequency Density: 0.021489949194857062\n",
      "Block ID: 215, Frequency Density: 0.0008450655708346685\n",
      "Block ID: 950, Frequency Density: 0.0012050444973336948\n",
      "Block ID: 814, Frequency Density: 0.0013944276853864962\n",
      "Block ID: 462, Frequency Density: 0.0017460849655320824\n",
      "Block ID: 274, Frequency Density: 0.00165865688145857\n",
      "Block ID: 417, Frequency Density: 0.0012574677882820353\n",
      "Block ID: 12, Frequency Density: 0.00016903127160136235\n",
      "Block ID: 73, Frequency Density: 0.0019150010280627968\n",
      "Block ID: 591, Frequency Density: 0.0007547321134189396\n",
      "Block ID: 658, Frequency Density: 0.00035155948598134494\n",
      "Block ID: 397, Frequency Density: 0.0014458487952954233\n",
      "Block ID: 977, Frequency Density: 0.0008717940525788498\n",
      "Block ID: 227, Frequency Density: 0.002072211537297767\n",
      "Block ID: 758, Frequency Density: 0.00041842956944019384\n",
      "Block ID: 791, Frequency Density: 0.0006013942954495914\n",
      "Block ID: 614, Frequency Density: 0.00708069710010232\n",
      "Block ID: 806, Frequency Density: 0.00272357766756441\n",
      "Block ID: 648, Frequency Density: 0.0014268308169809454\n",
      "Block ID: 961, Frequency Density: 0.0009001882615286064\n",
      "Block ID: 763, Frequency Density: 0.003543095099127237\n",
      "Block ID: 153, Frequency Density: 0.0027673929566406014\n",
      "Block ID: 236, Frequency Density: 0.010336714063812072\n",
      "Block ID: 893, Frequency Density: 0.0014587799754151008\n",
      "Block ID: 455, Frequency Density: 0.00030745784271857214\n",
      "Block ID: 394, Frequency Density: 0.0017995035450907272\n",
      "Block ID: 907, Frequency Density: 0.0012876918905358862\n",
      "Block ID: 573, Frequency Density: 0.00031255629535303334\n",
      "Block ID: 1049, Frequency Density: 0.0021742365286965323\n",
      "Block ID: 453, Frequency Density: 0.0028107264097719502\n",
      "Block ID: 418, Frequency Density: 0.0033377111568787007\n",
      "Block ID: 211, Frequency Density: 0.007469224016381486\n",
      "Block ID: 853, Frequency Density: 0.001069003010413497\n",
      "Block ID: 123, Frequency Density: 0.0014146678456424806\n",
      "Block ID: 238, Frequency Density: 0.0006457927660875154\n",
      "Block ID: 718, Frequency Density: 0.0025055488647474557\n",
      "Block ID: 14, Frequency Density: 0.0014227555983332587\n",
      "Block ID: 495, Frequency Density: 0.002939780137854814\n",
      "Block ID: 872, Frequency Density: 0.0043219610677264165\n",
      "Block ID: 858, Frequency Density: 0.003342463862409718\n",
      "Block ID: 830, Frequency Density: 0.0011570002687251845\n",
      "Block ID: 1008, Frequency Density: 0.0004329392250604192\n",
      "Block ID: 356, Frequency Density: 6.830533923801714e-05\n",
      "Block ID: 353, Frequency Density: 0.0008958021882002946\n",
      "Block ID: 479, Frequency Density: 0.0014240720656144468\n",
      "Block ID: 80, Frequency Density: 0.0009516616947522923\n",
      "Block ID: 115, Frequency Density: 0.002382546898566774\n",
      "Block ID: 826, Frequency Density: 0.0004083444216988536\n",
      "Block ID: 624, Frequency Density: 0.0005222110938664666\n",
      "Block ID: 888, Frequency Density: 0.0004483673081825686\n",
      "Block ID: 426, Frequency Density: 0.0012159154046396876\n",
      "Block ID: 693, Frequency Density: 0.0030234821273279937\n",
      "Block ID: 967, Frequency Density: 0.003056049434345856\n",
      "Block ID: 647, Frequency Density: 0.0004661210865812507\n",
      "Block ID: 538, Frequency Density: 0.0008946358357338513\n",
      "Block ID: 1034, Frequency Density: 0.0011580269635799193\n",
      "Block ID: 694, Frequency Density: 0.0011075417839997563\n",
      "Block ID: 265, Frequency Density: 0.00048172376902665495\n",
      "Block ID: 287, Frequency Density: 0.002810143182917873\n",
      "Block ID: 803, Frequency Density: 0.0002133040266768743\n",
      "Block ID: 941, Frequency Density: 0.0021727314054798045\n",
      "Block ID: 757, Frequency Density: 0.0015323200173164382\n",
      "Block ID: 540, Frequency Density: 0.00022964003746982252\n",
      "Block ID: 106, Frequency Density: 0.0014884523223335662\n",
      "Block ID: 100, Frequency Density: 0.0009926728761754909\n",
      "Block ID: 937, Frequency Density: 0.0014604841185214606\n",
      "Block ID: 902, Frequency Density: 0.00041421112840687204\n",
      "Block ID: 998, Frequency Density: 0.00028077825406012827\n",
      "Block ID: 111, Frequency Density: 0.0017109370912268198\n",
      "Block ID: 640, Frequency Density: 0.0010644458639041514\n",
      "Block ID: 598, Frequency Density: 0.00022688827710988865\n",
      "Block ID: 535, Frequency Density: 0.00024199157415913855\n",
      "Block ID: 740, Frequency Density: 0.0014372756618677928\n",
      "Block ID: 446, Frequency Density: 0.001872711740641956\n",
      "Block ID: 953, Frequency Density: 0.00021627929676346154\n",
      "Block ID: 136, Frequency Density: 0.002131971713795052\n",
      "Block ID: 327, Frequency Density: 0.0019517378284110048\n",
      "Block ID: 586, Frequency Density: 0.001082206654623443\n",
      "Block ID: 288, Frequency Density: 0.0003201830305918417\n",
      "Block ID: 304, Frequency Density: 0.002018618407704595\n",
      "Block ID: 729, Frequency Density: 0.0022860847635232445\n",
      "Block ID: 600, Frequency Density: 0.0003656535710207832\n",
      "Block ID: 162, Frequency Density: 0.0012275825007386858\n",
      "Block ID: 646, Frequency Density: 0.0009722510856258533\n",
      "Block ID: 566, Frequency Density: 0.0002713042012859247\n",
      "Block ID: 701, Frequency Density: 0.0012523728458042622\n",
      "Block ID: 847, Frequency Density: 0.0007295611035166729\n",
      "Block ID: 601, Frequency Density: 0.000909096618250256\n",
      "Block ID: 569, Frequency Density: 0.0010331147861151865\n",
      "Block ID: 616, Frequency Density: 0.0005245193595831872\n",
      "Block ID: 497, Frequency Density: 0.0004853241027722308\n",
      "Block ID: 172, Frequency Density: 0.0008541205841673579\n",
      "Block ID: 155, Frequency Density: 0.0027737066561593707\n",
      "Block ID: 939, Frequency Density: 0.004449349124553071\n",
      "Block ID: 630, Frequency Density: 0.0006272043590167432\n",
      "Block ID: 780, Frequency Density: 0.0013345767083957902\n",
      "Block ID: 943, Frequency Density: 0.0018040117905215687\n",
      "Block ID: 548, Frequency Density: 0.0010362018004080782\n",
      "Block ID: 992, Frequency Density: 0.0009543052223947374\n",
      "Block ID: 122, Frequency Density: 0.0052329921792858124\n",
      "Block ID: 684, Frequency Density: 0.00032146113259310055\n",
      "Block ID: 925, Frequency Density: 0.0011582295029511339\n",
      "Block ID: 337, Frequency Density: 0.0011268914448126263\n",
      "Block ID: 905, Frequency Density: 0.0009691570976440578\n",
      "Block ID: 335, Frequency Density: 0.0005546840635916645\n",
      "Block ID: 605, Frequency Density: 0.00010051990015310396\n",
      "Block ID: 1022, Frequency Density: 0.00045667148634449085\n",
      "Block ID: 66, Frequency Density: 0.0019309319188173552\n",
      "Block ID: 742, Frequency Density: 0.0004083444216988536\n",
      "Block ID: 141, Frequency Density: 0.0028250335659847944\n",
      "Block ID: 416, Frequency Density: 0.0015383753000323302\n",
      "Block ID: 832, Frequency Density: 0.00348493079305499\n",
      "Block ID: 660, Frequency Density: 0.0012484966310606742\n",
      "Block ID: 606, Frequency Density: 0.0026472300571421196\n",
      "Block ID: 372, Frequency Density: 0.0022097790831548097\n",
      "Block ID: 90, Frequency Density: 0.0024929039575545655\n",
      "Block ID: 579, Frequency Density: 0.00014958031712458515\n",
      "Block ID: 166, Frequency Density: 0.00048201011255621435\n",
      "Block ID: 320, Frequency Density: 0.0003169423686813452\n",
      "Block ID: 661, Frequency Density: 0.0007247874049840444\n",
      "Block ID: 93, Frequency Density: 0.0033412590980388735\n",
      "Block ID: 422, Frequency Density: 0.000955069999614801\n",
      "Block ID: 444, Frequency Density: 0.00019846961695481607\n",
      "Block ID: 956, Frequency Density: 0.0009980088072284574\n",
      "Block ID: 656, Frequency Density: 0.0020462408351064458\n",
      "Block ID: 629, Frequency Density: 0.0015187566812894964\n",
      "Block ID: 294, Frequency Density: 0.001886746503367304\n",
      "Block ID: 911, Frequency Density: 0.00024636715831334756\n",
      "Block ID: 1039, Frequency Density: 0.004284641165744143\n",
      "Block ID: 78, Frequency Density: 0.0035423478167412466\n",
      "Block ID: 278, Frequency Density: 0.0004245197858748656\n",
      "Block ID: 994, Frequency Density: 0.0005223961663782911\n",
      "Block ID: 226, Frequency Density: 0.001158742841053607\n",
      "Block ID: 707, Frequency Density: 0.0007252728136955802\n",
      "Block ID: 241, Frequency Density: 0.0007874495205981411\n",
      "Block ID: 874, Frequency Density: 0.002281220275154217\n",
      "Block ID: 407, Frequency Density: 0.0006251964081856895\n",
      "Block ID: 617, Frequency Density: 0.0015249027445168927\n",
      "Block ID: 520, Frequency Density: 0.001497943857952693\n",
      "Block ID: 507, Frequency Density: 0.00035083662016534826\n",
      "Block ID: 261, Frequency Density: 0.0014330746757047108\n",
      "Block ID: 95, Frequency Density: 0.0006642519754138709\n",
      "Block ID: 861, Frequency Density: 0.0006330186891248918\n",
      "Block ID: 311, Frequency Density: 0.0030494249693990222\n",
      "Block ID: 928, Frequency Density: 0.0005646609706227493\n",
      "Block ID: 654, Frequency Density: 0.0012678148789684745\n",
      "Block ID: 899, Frequency Density: 0.0010550905223645174\n",
      "Block ID: 802, Frequency Density: 0.0005024982377405515\n",
      "Block ID: 531, Frequency Density: 0.0006137004545383692\n",
      "Block ID: 680, Frequency Density: 0.000687429008505447\n",
      "Block ID: 71, Frequency Density: 0.0016977998149547678\n",
      "Block ID: 456, Frequency Density: 2.7971664680065796e-05\n",
      "Block ID: 756, Frequency Density: 0.00021939424311154604\n",
      "Block ID: 1047, Frequency Density: 0.0014584377464611114\n",
      "Block ID: 506, Frequency Density: 0.0011654825763489664\n",
      "Block ID: 524, Frequency Density: 8.949885272193881e-05\n",
      "Block ID: 259, Frequency Density: 0.0027544442816868505\n",
      "Block ID: 597, Frequency Density: 0.0004512517564616904\n",
      "Block ID: 39, Frequency Density: 0.0002568085223503179\n",
      "Block ID: 891, Frequency Density: 0.0011530297686419154\n",
      "Block ID: 924, Frequency Density: 0.00344107704278567\n",
      "Block ID: 269, Frequency Density: 0.0010765040474075543\n",
      "Block ID: 539, Frequency Density: 0.002937133134691003\n",
      "Block ID: 354, Frequency Density: 0.00010863901379596849\n",
      "Block ID: 186, Frequency Density: 0.003319814157426511\n",
      "Block ID: 563, Frequency Density: 0.0013392526021071551\n",
      "Block ID: 628, Frequency Density: 0.00042506454887155824\n",
      "Block ID: 254, Frequency Density: 0.006111361919620875\n",
      "Block ID: 1006, Frequency Density: 0.0018449565946819788\n",
      "Block ID: 83, Frequency Density: 0.004394655886543467\n",
      "Block ID: 734, Frequency Density: 0.00018251773852715752\n",
      "Block ID: 813, Frequency Density: 0.0030502001691868\n",
      "Block ID: 549, Frequency Density: 0.0020734267428861143\n",
      "Block ID: 336, Frequency Density: 0.002802156730551641\n",
      "Block ID: 133, Frequency Density: 0.0023791141837949106\n",
      "Block ID: 147, Frequency Density: 0.005443893782790551\n",
      "Block ID: 1028, Frequency Density: 0.001262384649254549\n",
      "Block ID: 51, Frequency Density: 0.00016163502111023894\n",
      "Block ID: 82, Frequency Density: 0.000896182818401663\n",
      "Block ID: 185, Frequency Density: 0.0016058565157578935\n",
      "Block ID: 255, Frequency Density: 0.0003704133035258152\n",
      "Block ID: 263, Frequency Density: 0.0024336641501301517\n",
      "Block ID: 946, Frequency Density: 0.0010518813146550515\n",
      "Block ID: 934, Frequency Density: 0.0005468512908141038\n",
      "Block ID: 57, Frequency Density: 0.0008936894788409901\n",
      "Block ID: 485, Frequency Density: 0.0012786927466420933\n",
      "Block ID: 810, Frequency Density: 2.7971664680065796e-05\n",
      "Block ID: 685, Frequency Density: 0.0003909747357016279\n",
      "Block ID: 964, Frequency Density: 0.00035316934374802366\n",
      "Block ID: 985, Frequency Density: 0.0017508760829675009\n",
      "Block ID: 682, Frequency Density: 0.0012322828030272778\n",
      "Block ID: 89, Frequency Density: 0.0017608146300471677\n",
      "Block ID: 752, Frequency Density: 0.0009350603081209681\n",
      "Block ID: 667, Frequency Density: 0.0007372122753073916\n",
      "Block ID: 745, Frequency Density: 0.0009161331755922557\n",
      "Block ID: 627, Frequency Density: 0.002552625742129366\n",
      "Block ID: 306, Frequency Density: 0.0018254078447088324\n",
      "Block ID: 385, Frequency Density: 0.0007004056088537517\n",
      "Block ID: 751, Frequency Density: 0.0012260005443882611\n",
      "Block ID: 639, Frequency Density: 0.0007254020220970191\n",
      "Block ID: 570, Frequency Density: 0.0010975788230143512\n",
      "Block ID: 421, Frequency Density: 0.005407921633110268\n",
      "Block ID: 307, Frequency Density: 0.0035185666503822874\n"
     ]
    },
    {
     "name": "stdout",
     "output_type": "stream",
     "text": [
      "Block ID: 809, Frequency Density: 0.0006430794216283661\n",
      "Block ID: 365, Frequency Density: 0.0005966555332999985\n",
      "Block ID: 920, Frequency Density: 0.0015087623020705106\n",
      "Block ID: 207, Frequency Density: 0.001431538140915041\n",
      "Block ID: 543, Frequency Density: 0.00021601040144350318\n",
      "Block ID: 588, Frequency Density: 0.0013190089543406549\n",
      "Block ID: 879, Frequency Density: 0.0013056691546829218\n",
      "Block ID: 808, Frequency Density: 0.000853596751562271\n",
      "Block ID: 688, Frequency Density: 0.0004361833824741981\n",
      "Block ID: 979, Frequency Density: 0.002210023499294769\n",
      "Block ID: 519, Frequency Density: 0.001087092060062798\n",
      "Block ID: 834, Frequency Density: 0.00044112119648448975\n",
      "Block ID: 904, Frequency Density: 0.002282019974103911\n",
      "Block ID: 272, Frequency Density: 0.0010108736580419465\n",
      "Block ID: 750, Frequency Density: 0.0011411531674755655\n",
      "Block ID: 332, Frequency Density: 0.0010578038908019667\n",
      "Block ID: 754, Frequency Density: 0.0013819329716038894\n",
      "Block ID: 496, Frequency Density: 0.0014607425273315718\n",
      "Block ID: 171, Frequency Density: 0.0019040218867071874\n",
      "Block ID: 247, Frequency Density: 0.0036107124383295205\n",
      "Block ID: 794, Frequency Density: 0.0021312732858630935\n",
      "Block ID: 974, Frequency Density: 0.003779356120694016\n",
      "Block ID: 767, Frequency Density: 0.0026687134003339887\n",
      "Block ID: 333, Frequency Density: 0.0006254129135845003\n",
      "Block ID: 163, Frequency Density: 0.001047142525862903\n",
      "Block ID: 440, Frequency Density: 0.0013543803596866154\n",
      "Block ID: 659, Frequency Density: 0.00041649845573922024\n",
      "Block ID: 942, Frequency Density: 0.001309122829153202\n",
      "Block ID: 189, Frequency Density: 0.0010766961242472215\n",
      "Block ID: 843, Frequency Density: 0.0022956146910648556\n",
      "Block ID: 881, Frequency Density: 0.0005078201734591105\n",
      "Block ID: 900, Frequency Density: 0.002014138009072769\n",
      "Block ID: 532, Frequency Density: 0.0003730218867924583\n",
      "Block ID: 972, Frequency Density: 0.0012851076985288092\n",
      "Block ID: 522, Frequency Density: 0.0019433183759041733\n",
      "Block ID: 849, Frequency Density: 0.0006435752928714491\n",
      "Block ID: 774, Frequency Density: 0.0007291839594936925\n",
      "Block ID: 958, Frequency Density: 0.0022665674690832568\n",
      "Block ID: 382, Frequency Density: 0.0023746966216302455\n",
      "Block ID: 310, Frequency Density: 0.0016884898816546107\n",
      "Block ID: 487, Frequency Density: 0.0012361625372524481\n",
      "Block ID: 308, Frequency Density: 0.004337878000446146\n",
      "Block ID: 148, Frequency Density: 0.0039618284802885075\n",
      "Block ID: 933, Frequency Density: 0.0018975265475698704\n",
      "Block ID: 1005, Frequency Density: 0.0008178900976118637\n",
      "Block ID: 932, Frequency Density: 0.0011069201985263889\n",
      "Block ID: 842, Frequency Density: 0.00023560802452047031\n",
      "Block ID: 423, Frequency Density: 0.00036082750388105166\n",
      "Block ID: 500, Frequency Density: 0.001337426254927199\n",
      "Block ID: 328, Frequency Density: 0.001410969744375219\n",
      "Block ID: 835, Frequency Density: 0.0014780807791096833\n",
      "Block ID: 801, Frequency Density: 0.001069519846683508\n",
      "Block ID: 178, Frequency Density: 0.0009580417821908725\n",
      "Block ID: 554, Frequency Density: 0.0007203559513909388\n",
      "Block ID: 670, Frequency Density: 0.0007243753485563286\n",
      "Block ID: 702, Frequency Density: 0.0006750425354330956\n",
      "Block ID: 796, Frequency Density: 0.00043556876536122356\n",
      "Block ID: 799, Frequency Density: 0.0013611236011422795\n",
      "Block ID: 408, Frequency Density: 0.0015758349328933404\n",
      "Block ID: 996, Frequency Density: 0.0012424587739082113\n",
      "Block ID: 894, Frequency Density: 0.00042118833679222586\n",
      "Block ID: 568, Frequency Density: 0.00380439786491335\n",
      "Block ID: 846, Frequency Density: 0.0006742114289068435\n",
      "Block ID: 863, Frequency Density: 0.0038467152136057777\n",
      "Block ID: 429, Frequency Density: 0.0003611697328350411\n",
      "Block ID: 741, Frequency Density: 0.00034895089738619075\n",
      "Block ID: 838, Frequency Density: 0.0006329418719767283\n",
      "Block ID: 683, Frequency Density: 0.0006062064152115155\n",
      "Block ID: 797, Frequency Density: 0.0013570413195531281\n",
      "Block ID: 198, Frequency Density: 0.0012797403692241785\n",
      "Block ID: 759, Frequency Density: 0.00129497985502441\n",
      "Block ID: 448, Frequency Density: 0.0008289984633544453\n",
      "Block ID: 58, Frequency Density: 0.000652843297449878\n",
      "Block ID: 1004, Frequency Density: 0.00024141188277217713\n",
      "Block ID: 523, Frequency Density: 0.0007528324032981413\n",
      "Block ID: 289, Frequency Density: 0.0008693251362488095\n",
      "Block ID: 424, Frequency Density: 0.0003823632543117294\n",
      "Block ID: 85, Frequency Density: 0.008686368344861351\n",
      "Block ID: 901, Frequency Density: 0.0005733597783168308\n",
      "Block ID: 959, Frequency Density: 0.0003033755851077207\n",
      "Block ID: 266, Frequency Density: 0.0003225157515102615\n",
      "Block ID: 177, Frequency Density: 0.0015956595385540713\n",
      "Block ID: 134, Frequency Density: 0.0008516935805735125\n",
      "Block ID: 167, Frequency Density: 0.0012680837636314106\n",
      "Block ID: 722, Frequency Density: 0.0008704181684024995\n",
      "Block ID: 652, Frequency Density: 0.0005969279214589837\n",
      "Block ID: 498, Frequency Density: 0.00044513361063608137\n",
      "Block ID: 727, Frequency Density: 0.0002895154643337165\n",
      "Block ID: 165, Frequency Density: 0.0009922677694583788\n",
      "Block ID: 807, Frequency Density: 0.00033701142511735724\n",
      "Block ID: 643, Frequency Density: 0.000463575353103047\n",
      "Block ID: 1020, Frequency Density: 0.00018748349791391966\n",
      "Block ID: 948, Frequency Density: 0.0006049213115466696\n",
      "Block ID: 827, Frequency Density: 0.0005767610868442636\n",
      "Block ID: 869, Frequency Density: 0.0007341916196274993\n",
      "Block ID: 81, Frequency Density: 0.0010119387341621436\n",
      "Block ID: 949, Frequency Density: 0.002147169332151433\n",
      "Block ID: 107, Frequency Density: 0.0007164902045074092\n",
      "Block ID: 260, Frequency Density: 0.0003698336068103427\n",
      "Block ID: 157, Frequency Density: 0.0013101809622234344\n",
      "Block ID: 54, Frequency Density: 0.0014856272070255569\n",
      "Block ID: 673, Frequency Density: 0.0009079966164040456\n",
      "Block ID: 128, Frequency Density: 0.00028211224415007266\n",
      "Block ID: 583, Frequency Density: 0.0007411373924616113\n",
      "Block ID: 753, Frequency Density: 0.00024086711977548448\n",
      "Block ID: 816, Frequency Density: 0.0007633470929763761\n",
      "Block ID: 982, Frequency Density: 0.0001520806543524617\n",
      "Block ID: 669, Frequency Density: 0.00041097395267476354\n",
      "Block ID: 906, Frequency Density: 0.0009320745755028335\n",
      "Block ID: 980, Frequency Density: 0.0033278494629146475\n",
      "Block ID: 926, Frequency Density: 0.0002903011905951747\n",
      "Block ID: 1023, Frequency Density: 0.0009479286650947618\n",
      "Block ID: 930, Frequency Density: 0.0009974779676312723\n",
      "Block ID: 993, Frequency Density: 0.0006339406174586092\n",
      "Block ID: 984, Frequency Density: 0.0004700147735127397\n",
      "Block ID: 986, Frequency Density: 0.0010757776967452975\n",
      "Block ID: 472, Frequency Density: 0.0003257668892735831\n",
      "Block ID: 490, Frequency Density: 0.001762106651451551\n",
      "Block ID: 206, Frequency Density: 0.0008791309367956663\n",
      "Block ID: 886, Frequency Density: 0.0007469202923470292\n",
      "Block ID: 339, Frequency Density: 0.0007904073531321494\n",
      "Block ID: 935, Frequency Density: 0.0008141430859412036\n",
      "Block ID: 705, Frequency Density: 0.0018915166930753723\n",
      "Block ID: 954, Frequency Density: 0.0014241418930881732\n",
      "Block ID: 845, Frequency Density: 0.0020977317471786716\n",
      "Block ID: 483, Frequency Density: 0.0009494581915602058\n",
      "Block ID: 581, Frequency Density: 0.0012322514047756136\n",
      "Block ID: 140, Frequency Density: 0.0020448125836551203\n",
      "Block ID: 677, Frequency Density: 0.0018376685675834496\n",
      "Block ID: 553, Frequency Density: 0.0005441728747452232\n",
      "Block ID: 1038, Frequency Density: 0.00047361512057959333\n",
      "Block ID: 362, Frequency Density: 0.0008804998419546017\n",
      "Block ID: 489, Frequency Density: 0.000594046940708461\n",
      "Block ID: 862, Frequency Density: 0.0003574192176683318\n",
      "Block ID: 350, Frequency Density: 0.00017851580289264649\n",
      "Block ID: 154, Frequency Density: 0.0009130880567178976\n",
      "Block ID: 338, Frequency Density: 0.0005531475394590169\n",
      "Block ID: 152, Frequency Density: 0.0019074824935704105\n",
      "Block ID: 101, Frequency Density: 0.0006743825327268161\n",
      "Block ID: 175, Frequency Density: 0.0019199003981976205\n",
      "Block ID: 618, Frequency Density: 0.0005908202434934331\n",
      "Block ID: 738, Frequency Density: 0.0006307802588746643\n",
      "Block ID: 770, Frequency Density: 0.0017885104123970936\n",
      "Block ID: 219, Frequency Density: 0.0020272019663641954\n",
      "Block ID: 631, Frequency Density: 8.843725878374627e-05\n",
      "Block ID: 917, Frequency Density: 0.00025188816454239406\n",
      "Block ID: 662, Frequency Density: 0.00016591633324604448\n",
      "Block ID: 113, Frequency Density: 0.001158624137811804\n",
      "Block ID: 228, Frequency Density: 0.00041751814893036806\n",
      "Block ID: 31, Frequency Density: 0.0014607425060175273\n",
      "Block ID: 48, Frequency Density: 0.0010847139562153289\n",
      "Block ID: 322, Frequency Density: 0.0012117528010741959\n",
      "Block ID: 442, Frequency Density: 0.0006733558751716589\n",
      "Block ID: 130, Frequency Density: 0.0008378509293231537\n",
      "Block ID: 527, Frequency Density: 0.003188043577392066\n",
      "Block ID: 856, Frequency Density: 0.0017704876853933422\n",
      "Block ID: 555, Frequency Density: 0.00039759923928016724\n",
      "Block ID: 706, Frequency Density: 0.00308975158634402\n",
      "Block ID: 737, Frequency Density: 0.000673324439620417\n",
      "Block ID: 1064, Frequency Density: 0.002040618533881364\n",
      "Block ID: 1055, Frequency Density: 0.00035141630888805414\n",
      "Block ID: 1014, Frequency Density: 0.0004679614290956144\n",
      "Block ID: 374, Frequency Density: 0.0023252870060122546\n",
      "Block ID: 258, Frequency Density: 0.00874740315849555\n",
      "Block ID: 632, Frequency Density: 0.0006798651203908225\n",
      "Block ID: 613, Frequency Density: 0.0003245691065844091\n",
      "Block ID: 200, Frequency Density: 0.0014874814542896392\n",
      "Block ID: 923, Frequency Density: 0.0004981855060390373\n",
      "Block ID: 243, Frequency Density: 0.0004887184202930988\n",
      "Block ID: 983, Frequency Density: 0.0010792593019386429\n",
      "Block ID: 655, Frequency Density: 0.000499079473010751\n",
      "Block ID: 712, Frequency Density: 0.001381709491184047\n",
      "Block ID: 545, Frequency Density: 0.00079879184261339\n",
      "Block ID: 625, Frequency Density: 0.00014636409975876566\n",
      "Block ID: 349, Frequency Density: 0.0006090210440096776\n",
      "Block ID: 981, Frequency Density: 0.0007435085159595379\n",
      "Block ID: 119, Frequency Density: 0.0010662268241586749\n",
      "Block ID: 50, Frequency Density: 0.0008352527952667802\n",
      "Block ID: 999, Frequency Density: 0.0013139070035386557\n",
      "Block ID: 145, Frequency Density: 0.00043622877606026974\n",
      "Block ID: 72, Frequency Density: 0.00042816554784183526\n",
      "Block ID: 132, Frequency Density: 0.000553845958066081\n",
      "Block ID: 370, Frequency Density: 0.0010164714827512842\n",
      "Block ID: 209, Frequency Density: 0.0003872696301065235\n",
      "Block ID: 824, Frequency Density: 0.001544294350037024\n",
      "Block ID: 822, Frequency Density: 0.0008151837281737459\n",
      "Block ID: 775, Frequency Density: 0.001248133447736779\n",
      "Block ID: 191, Frequency Density: 0.0007185365605822253\n",
      "Block ID: 580, Frequency Density: 0.0004608515247983059\n",
      "Block ID: 619, Frequency Density: 0.0004482834880386902\n",
      "Block ID: 499, Frequency Density: 8.272070152579467e-05\n",
      "Block ID: 79, Frequency Density: 0.0018136848778388095\n",
      "Block ID: 87, Frequency Density: 0.00036651263358052804\n",
      "Block ID: 357, Frequency Density: 0.0005063744524841394\n",
      "Block ID: 1026, Frequency Density: 0.0005360537611023587\n",
      "Block ID: 556, Frequency Density: 0.0007432256532798554\n",
      "Block ID: 222, Frequency Density: 0.001775250946704851\n",
      "Block ID: 142, Frequency Density: 0.0007614753575388595\n",
      "Block ID: 396, Frequency Density: 0.0012651748628148452\n",
      "Block ID: 390, Frequency Density: 0.0005984749161159454\n",
      "Block ID: 1011, Frequency Density: 0.0002585231439737585\n",
      "Block ID: 1053, Frequency Density: 0.0008988542820956842\n",
      "Block ID: 699, Frequency Density: 0.00046663093717320796\n",
      "Block ID: 952, Frequency Density: 0.0011978053833028197\n",
      "Block ID: 109, Frequency Density: 0.0007449228107081616\n",
      "Block ID: 1041, Frequency Density: 0.00032786563393741894\n",
      "Block ID: 903, Frequency Density: 0.0011680248116596322\n",
      "Block ID: 1025, Frequency Density: 0.0005336512047174458\n",
      "Block ID: 20, Frequency Density: 0.0004924060803428576\n",
      "Block ID: 405, Frequency Density: 0.0012961113004146287\n",
      "Block ID: 46, Frequency Density: 7.254823547303816e-05\n",
      "Block ID: 514, Frequency Density: 0.0007715709837972803\n",
      "Block ID: 687, Frequency Density: 0.0006860705698744422\n",
      "Block ID: 62, Frequency Density: 0.0025183508684367612\n",
      "Block ID: 922, Frequency Density: 0.00037747780890854093\n",
      "Block ID: 143, Frequency Density: 0.0008947964903435543\n",
      "Block ID: 526, Frequency Density: 0.000530508299671613\n",
      "Block ID: 55, Frequency Density: 0.0002005334505460442\n",
      "Block ID: 746, Frequency Density: 0.000992316657215605\n",
      "Block ID: 146, Frequency Density: 0.00045085016522977743\n",
      "Block ID: 492, Frequency Density: 9.542144219013164e-05\n",
      "Block ID: 761, Frequency Density: 0.0009847178660211395\n",
      "Block ID: 989, Frequency Density: 0.0002827023967364536\n",
      "Block ID: 481, Frequency Density: 0.0017542983272150505\n",
      "Block ID: 398, Frequency Density: 0.0016823053625625967\n",
      "Block ID: 164, Frequency Density: 0.00038456325933627797\n",
      "Block ID: 27, Frequency Density: 0.000359053517315432\n",
      "Block ID: 242, Frequency Density: 0.0006591151042143696\n",
      "Block ID: 969, Frequency Density: 0.00138196094095866\n",
      "Block ID: 668, Frequency Density: 0.000664388172157619\n",
      "Block ID: 703, Frequency Density: 0.0037697075232137967\n",
      "Block ID: 369, Frequency Density: 0.001036079567027671\n",
      "Block ID: 676, Frequency Density: 0.0011329432933031133\n",
      "Block ID: 504, Frequency Density: 0.0015735755416125684\n",
      "Block ID: 1010, Frequency Density: 0.0008672264115668903\n",
      "Block ID: 56, Frequency Density: 7.501365496766819e-05\n",
      "Block ID: 410, Frequency Density: 0.00011818640020420307\n",
      "Block ID: 897, Frequency Density: 0.0005053931698652651\n",
      "Block ID: 351, Frequency Density: 0.0004131844548661816\n",
      "Block ID: 295, Frequency Density: 0.000682323570192932\n",
      "Block ID: 23, Frequency Density: 0.002618238704599417\n",
      "Block ID: 516, Frequency Density: 0.0005820411298085446\n",
      "Block ID: 182, Frequency Density: 0.0004027640638489057\n",
      "Block ID: 24, Frequency Density: 0.0014398807589560477\n",
      "Block ID: 74, Frequency Density: 0.0005763455202598597\n",
      "Block ID: 383, Frequency Density: 0.00032050779934708005\n",
      "Block ID: 1017, Frequency Density: 0.0002462344783869262\n",
      "Block ID: 461, Frequency Density: 0.000573408678063207\n",
      "Block ID: 303, Frequency Density: 0.0008044909529938682\n",
      "Block ID: 1013, Frequency Density: 0.0016163886576421127\n",
      "Block ID: 270, Frequency Density: 0.0014412671216494787\n",
      "Block ID: 873, Frequency Density: 0.0011782741041854467\n",
      "Block ID: 653, Frequency Density: 0.0008310273525698713\n",
      "Block ID: 129, Frequency Density: 0.0009690313887422846\n",
      "Block ID: 253, Frequency Density: 0.0008776398408844124\n",
      "Block ID: 391, Frequency Density: 0.0009955573191261016\n",
      "Block ID: 2, Frequency Density: 0.0010484555642471974\n",
      "Block ID: 341, Frequency Density: 0.0014846319397292973\n",
      "Block ID: 945, Frequency Density: 0.002115998878333232\n",
      "Block ID: 131, Frequency Density: 0.0005179228000489907\n",
      "Block ID: 488, Frequency Density: 0.0009343514030040567\n",
      "Block ID: 1012, Frequency Density: 0.0010344243103464095\n",
      "Block ID: 509, Frequency Density: 0.0008126240286679458\n",
      "Block ID: 585, Frequency Density: 0.0007825536073348942\n",
      "Block ID: 486, Frequency Density: 0.0008049658871847067\n",
      "Block ID: 571, Frequency Density: 0.0012023381345562158\n",
      "Block ID: 725, Frequency Density: 0.0006025187524975011\n",
      "Block ID: 96, Frequency Density: 0.0005170148710460639\n",
      "Block ID: 877, Frequency Density: 0.00034124384549955315\n",
      "Block ID: 231, Frequency Density: 0.0002670857575883474\n",
      "Block ID: 733, Frequency Density: 0.00034652388313532307\n",
      "Block ID: 715, Frequency Density: 0.0009475165900172571\n",
      "Block ID: 788, Frequency Density: 0.0011438106331709238\n",
      "Block ID: 160, Frequency Density: 0.000858045693328811\n",
      "Block ID: 1015, Frequency Density: 0.0002946872585949754\n",
      "Block ID: 784, Frequency Density: 0.0015790301958892542\n",
      "Block ID: 551, Frequency Density: 0.0011072938790171534\n",
      "Block ID: 503, Frequency Density: 0.0005201647377916506\n",
      "Block ID: 649, Frequency Density: 0.0002992060225067308\n",
      "Block ID: 728, Frequency Density: 0.0002657867065456939\n",
      "Block ID: 460, Frequency Density: 0.0010166565366133199\n",
      "Block ID: 697, Frequency Density: 0.0001541095595534211\n",
      "Block ID: 314, Frequency Density: 0.0015450311752199782\n",
      "Block ID: 528, Frequency Density: 0.0011238847445033083\n",
      "Block ID: 98, Frequency Density: 0.0010642677371065475\n",
      "Block ID: 476, Frequency Density: 0.00024092998022094602\n",
      "Block ID: 425, Frequency Density: 0.0005313953022793172\n",
      "Block ID: 508, Frequency Density: 0.00160357262265095\n",
      "Block ID: 819, Frequency Density: 0.002026688614940445\n",
      "Block ID: 1007, Frequency Density: 0.0007638080624717459\n",
      "Block ID: 415, Frequency Density: 0.0003402625628806788\n",
      "Block ID: 892, Frequency Density: 0.0003512591684314225\n"
     ]
    },
    {
     "name": "stdout",
     "output_type": "stream",
     "text": [
      "Block ID: 672, Frequency Density: 0.00040263833762947156\n",
      "Block ID: 533, Frequency Density: 0.0007040234307727619\n",
      "Block ID: 457, Frequency Density: 0.0010970096101444705\n",
      "Block ID: 884, Frequency Density: 0.0006758282590302982\n",
      "Block ID: 991, Frequency Density: 0.0004031830926333976\n",
      "Block ID: 52, Frequency Density: 0.00018796540312940633\n",
      "Block ID: 393, Frequency Density: 0.0010946349884790058\n",
      "Block ID: 674, Frequency Density: 0.0004875765203640992\n",
      "Block ID: 1035, Frequency Density: 0.0002575418666833952\n",
      "Block ID: 724, Frequency Density: 0.00041486415609212006\n",
      "Block ID: 65, Frequency Density: 0.0006735758734094966\n",
      "Block ID: 1016, Frequency Density: 0.0003069130770576239\n",
      "Block ID: 114, Frequency Density: 0.0006635116560597621\n",
      "Block ID: 144, Frequency Density: 0.0003400460601461236\n",
      "Block ID: 325, Frequency Density: 0.00015568100408357087\n",
      "Block ID: 633, Frequency Density: 0.0006491347016800024\n",
      "Block ID: 771, Frequency Density: 0.0003962861955673619\n",
      "Block ID: 431, Frequency Density: 0.0001548568699140948\n",
      "Block ID: 909, Frequency Density: 0.000776833567894938\n",
      "Block ID: 208, Frequency Density: 0.0012077473939147024\n",
      "Block ID: 1019, Frequency Density: 0.0003734339538771963\n",
      "Block ID: 284, Frequency Density: 0.0002083662179950938\n",
      "Block ID: 882, Frequency Density: 0.0003192576360616529\n",
      "Block ID: 743, Frequency Density: 0.002062363862646421\n",
      "Block ID: 161, Frequency Density: 0.00034597911747437485\n",
      "Block ID: 744, Frequency Density: 0.0003601884475519111\n",
      "Block ID: 112, Frequency Density: 0.000590317394565063\n",
      "Block ID: 731, Frequency Density: 0.0002094382824576003\n",
      "Block ID: 795, Frequency Density: 0.0011634501876338745\n",
      "Block ID: 1029, Frequency Density: 0.0005865983096210844\n",
      "Block ID: 376, Frequency Density: 0.0006595201962780761\n",
      "Block ID: 358, Frequency Density: 0.0008255727049538244\n",
      "Block ID: 187, Frequency Density: 0.0017387410996335955\n",
      "Block ID: 494, Frequency Density: 0.00016910460789964897\n",
      "Block ID: 179, Frequency Density: 0.0018473102859558376\n",
      "Block ID: 854, Frequency Density: 0.0006440677032465719\n",
      "Block ID: 889, Frequency Density: 5.262235080180583e-05\n",
      "Block ID: 156, Frequency Density: 0.0005302219508135425\n",
      "Block ID: 978, Frequency Density: 0.000256756140421937\n",
      "Block ID: 1024, Frequency Density: 0.00041512955058028484\n",
      "Block ID: 38, Frequency Density: 0.00016930016159280958\n",
      "Block ID: 852, Frequency Density: 0.00046040802083019823\n",
      "Block ID: 384, Frequency Density: 0.0006033603615191338\n",
      "Block ID: 285, Frequency Density: 0.00033076058337979357\n",
      "Block ID: 782, Frequency Density: 0.00016526330556079644\n",
      "Block ID: 584, Frequency Density: 0.0011384956738055242\n",
      "Block ID: 542, Frequency Density: 0.00012719948881154787\n",
      "Block ID: 352, Frequency Density: 8.597183928911625e-05\n",
      "Block ID: 239, Frequency Density: 0.0002865681449521109\n",
      "Block ID: 105, Frequency Density: 0.0007795120159348851\n",
      "Block ID: 812, Frequency Density: 0.0003038505126379203\n",
      "Block ID: 473, Frequency Density: 0.001459600622074061\n",
      "Block ID: 787, Frequency Density: 0.0008425303132092899\n",
      "Block ID: 968, Frequency Density: 0.001109067796312129\n",
      "Block ID: 929, Frequency Density: 0.0004540628924208256\n",
      "Block ID: 434, Frequency Density: 0.00028201096513957104\n",
      "Block ID: 975, Frequency Density: 0.00029933174872616495\n",
      "Block ID: 435, Frequency Density: 0.00021891233256754827\n",
      "Block ID: 636, Frequency Density: 0.000474027195657098\n",
      "Block ID: 651, Frequency Density: 0.0002282990776873577\n",
      "Block ID: 68, Frequency Density: 0.0001520806543524617\n",
      "Block ID: 76, Frequency Density: 0.00016026263110504332\n",
      "Block ID: 708, Frequency Density: 0.00046512235042426415\n",
      "Block ID: 1030, Frequency Density: 0.0007497559128146746\n",
      "Block ID: 386, Frequency Density: 0.0004315773055795376\n",
      "Block ID: 783, Frequency Density: 0.0003338231451352416\n",
      "Block ID: 218, Frequency Density: 0.0005216034757528236\n",
      "Block ID: 63, Frequency Density: 0.0005772744329395032\n",
      "Block ID: 170, Frequency Density: 0.000310289933047613\n",
      "Block ID: 663, Frequency Density: 0.0015394788107031007\n",
      "Block ID: 530, Frequency Density: 0.0003908315639368482\n",
      "Block ID: 973, Frequency Density: 0.0006535557060628385\n",
      "Block ID: 323, Frequency Density: 0.0009232814664835375\n",
      "Block ID: 711, Frequency Density: 0.0005869090976953208\n",
      "Block ID: 75, Frequency Density: 0.0005809446154728499\n",
      "Block ID: 912, Frequency Density: 0.0007124288959379525\n",
      "Block ID: 347, Frequency Density: 0.0005190053630104944\n",
      "Block ID: 127, Frequency Density: 0.00030136413610912905\n",
      "Block ID: 665, Frequency Density: 0.0002335337297298226\n",
      "Block ID: 366, Frequency Density: 0.00014804379299193746\n",
      "Block ID: 602, Frequency Density: 6.1527188041873e-05\n",
      "Block ID: 190, Frequency Density: 0.000551219913268559\n",
      "Block ID: 13, Frequency Density: 0.000669256148037162\n",
      "Block ID: 557, Frequency Density: 2.1193513483921665e-05\n",
      "Block ID: 1063, Frequency Density: 0.00040132530190943285\n",
      "Block ID: 837, Frequency Density: 0.0008090481208172581\n",
      "Block ID: 804, Frequency Density: 0.00030811086241105354\n",
      "Block ID: 264, Frequency Density: 0.0006568068518189267\n",
      "Block ID: 8, Frequency Density: 0.0005051696814526561\n",
      "Block ID: 120, Frequency Density: 0.00060203684994627\n",
      "Block ID: 88, Frequency Density: 0.000276744890867142\n",
      "Block ID: 121, Frequency Density: 0.0004676750775732883\n",
      "Block ID: 371, Frequency Density: 0.0008487846664356692\n",
      "Block ID: 466, Frequency Density: 0.00010963077226766794\n",
      "Block ID: 515, Frequency Density: 0.0004374265587494438\n",
      "Block ID: 478, Frequency Density: 0.00046134389787385097\n",
      "Block ID: 921, Frequency Density: 0.0006664205515478165\n",
      "Block ID: 534, Frequency Density: 0.00046222042196447465\n",
      "Block ID: 180, Frequency Density: 0.00040187356174153574\n",
      "Block ID: 377, Frequency Density: 4.238702696784333e-05\n",
      "Block ID: 467, Frequency Density: 0.0005114344865535606\n",
      "Block ID: 957, Frequency Density: 7.501365496766819e-05\n",
      "Block ID: 558, Frequency Density: 0.0005342238864480535\n",
      "Block ID: 898, Frequency Density: 0.00027879823528426735\n",
      "Block ID: 158, Frequency Density: 0.0004805294791765078\n",
      "Block ID: 378, Frequency Density: 0.00029601775051738184\n",
      "Block ID: 70, Frequency Density: 0.0002757426485498508\n",
      "Block ID: 589, Frequency Density: 0.00021430625833714325\n",
      "Block ID: 883, Frequency Density: 5.838430297795682e-05\n",
      "Block ID: 537, Frequency Density: 0.00045983534309597385\n",
      "Block ID: 927, Frequency Density: 0.0010197924533168433\n",
      "Block ID: 607, Frequency Density: 0.0006032974984094166\n",
      "Block ID: 104, Frequency Density: 0.0010734309911494923\n",
      "Block ID: 267, Frequency Density: 6.929709770971659e-05\n",
      "Block ID: 938, Frequency Density: 0.0006132918643071248\n",
      "Block ID: 622, Frequency Density: 0.00012636837695678468\n",
      "Block ID: 411, Frequency Density: 0.0011909538824871112\n",
      "Block ID: 221, Frequency Density: 0.00023883821990303616\n",
      "Block ID: 544, Frequency Density: 0.00041328572588391656\n",
      "Block ID: 116, Frequency Density: 0.00023647407941890776\n",
      "Block ID: 988, Frequency Density: 0.00042352105504639013\n",
      "Block ID: 698, Frequency Density: 4.5638164731164906e-05\n",
      "Block ID: 1000, Frequency Density: 0.0004897555883364032\n",
      "Block ID: 268, Frequency Density: 0.0005837836781586669\n",
      "Block ID: 990, Frequency Density: 0.0008851967060214055\n",
      "Block ID: 792, Frequency Density: 0.00023394579681456065\n",
      "Block ID: 273, Frequency Density: 0.0012321536012864778\n",
      "Block ID: 963, Frequency Density: 0.00030697593217457437\n",
      "Block ID: 84, Frequency Density: 0.0005413966591835902\n",
      "Block ID: 312, Frequency Density: 0.00011986609610163043\n",
      "Block ID: 517, Frequency Density: 0.0006356726819631398\n",
      "Block ID: 620, Frequency Density: 0.00012191944584726687\n",
      "Block ID: 1042, Frequency Density: 0.0005734855018720094\n",
      "Block ID: 210, Frequency Density: 0.0006910118940414218\n",
      "Block ID: 135, Frequency Density: 0.00032124812536182774\n",
      "Block ID: 181, Frequency Density: 0.00039089441905379863\n",
      "Block ID: 412, Frequency Density: 0.0005231399838999379\n",
      "Block ID: 876, Frequency Density: 0.0005447176297491492\n",
      "Block ID: 865, Frequency Density: 0.00021648532897370278\n",
      "Block ID: 361, Frequency Density: 0.0003742825405841161\n",
      "Block ID: 604, Frequency Density: 0.00024869988988878957\n",
      "Block ID: 176, Frequency Density: 0.0010133774667948055\n",
      "Block ID: 110, Frequency Density: 4.5638164731164906e-05\n",
      "Block ID: 195, Frequency Density: 0.00023852742383603307\n",
      "Block ID: 747, Frequency Density: 4.810358422579492e-05\n",
      "Block ID: 608, Frequency Density: 0.0002527821395068743\n",
      "Block ID: 610, Frequency Density: 0.0001223315129320049\n",
      "Block ID: 28, Frequency Density: 0.0002723588148745746\n",
      "Block ID: 281, Frequency Density: 0.0001007259323633452\n",
      "Block ID: 97, Frequency Density: 0.0003422635306979343\n",
      "Block ID: 825, Frequency Density: 0.0006289224654864441\n",
      "Block ID: 363, Frequency Density: 0.000940885130067475\n",
      "Block ID: 22, Frequency Density: 0.0001976943798674607\n",
      "Block ID: 895, Frequency Density: 2.1193513483921665e-05\n",
      "Block ID: 755, Frequency Density: 0.0005983247426875786\n",
      "Block ID: 151, Frequency Density: 3.708253679462977e-05\n",
      "Block ID: 430, Frequency Density: 7.254823547303816e-05\n",
      "Block ID: 138, Frequency Density: 6.1527188041873e-05\n",
      "Block ID: 559, Frequency Density: 0.0003342806044739235\n",
      "Block ID: 867, Frequency Density: 0.00045883658828919845\n",
      "Block ID: 831, Frequency Density: 0.0008443007936146049\n",
      "Block ID: 375, Frequency Density: 0.00016670205151473602\n",
      "Block ID: 235, Frequency Density: 8.843725878374627e-05\n",
      "Block ID: 451, Frequency Density: 0.0004535565373321508\n",
      "Block ID: 9, Frequency Density: 8.597183928911625e-05\n",
      "Block ID: 77, Frequency Density: 0.0005647727281503315\n",
      "Block ID: 137, Frequency Density: 0.0003531518902099115\n",
      "Block ID: 777, Frequency Density: 2.1193513483921665e-05\n",
      "Block ID: 678, Frequency Density: 0.0003619310038948\n",
      "Block ID: 546, Frequency Density: 0.0007157847922295247\n",
      "Block ID: 512, Frequency Density: 0.00016768681365135954\n",
      "Block ID: 464, Frequency Density: 0.0001287709333416976\n",
      "Block ID: 594, Frequency Density: 0.00048745079148040943\n",
      "Block ID: 334, Frequency Density: 0.00041575114537854656\n",
      "Block ID: 689, Frequency Density: 0.0001378713242749254\n",
      "Block ID: 860, Frequency Density: 0.00018252821171572703\n",
      "Block ID: 367, Frequency Density: 0.000797003871370385\n",
      "Block ID: 475, Frequency Density: 0.00025129799463835203\n",
      "Block ID: 313, Frequency Density: 0.0002896691172798324\n",
      "Block ID: 561, Frequency Density: 0.00026740353666914867\n",
      "Block ID: 675, Frequency Density: 4.033367455795134e-05\n",
      "Block ID: 1002, Frequency Density: 0.0001796891410371435\n",
      "Block ID: 603, Frequency Density: 0.0004980353246179039\n",
      "Block ID: 484, Frequency Density: 0.00044325136737467303\n",
      "Block ID: 567, Frequency Density: 9.902179192124081e-05\n",
      "Block ID: 773, Frequency Density: 6.72437452998246e-05\n",
      "Block ID: 850, Frequency Density: 8.066734911590268e-05\n",
      "Block ID: 696, Frequency Density: 0.00033246821133241374\n",
      "Block ID: 541, Frequency Density: 0.00024988020838282923\n",
      "Block ID: 612, Frequency Density: 0.00017359893259523838\n",
      "Block ID: 709, Frequency Density: 0.0001554400434830609\n",
      "Block ID: 875, Frequency Density: 0.00011702702275879134\n",
      "Block ID: 409, Frequency Density: 0.00014845585741241995\n",
      "Block ID: 637, Frequency Density: 0.00012100102367385403\n",
      "Block ID: 710, Frequency Density: 0.00010757741985777595\n",
      "Block ID: 37, Frequency Density: 0.0004170816266439308\n",
      "Block ID: 599, Frequency Density: 7.422792870620998e-05\n",
      "Block ID: 438, Frequency Density: 0.000842746815943845\n",
      "Block ID: 716, Frequency Density: 0.00030924579264753266\n",
      "Block ID: 995, Frequency Density: 0.00024200204734770806\n",
      "Block ID: 413, Frequency Density: 0.00011613303846941665\n",
      "Block ID: 432, Frequency Density: 0.0005942424850767272\n",
      "Block ID: 202, Frequency Density: 0.00031834618358076046\n",
      "Block ID: 1048, Frequency Density: 0.000286547179925183\n",
      "Block ID: 103, Frequency Density: 0.0004031132451777545\n",
      "Block ID: 1043, Frequency Density: 0.00017641355606488936\n",
      "Block ID: 458, Frequency Density: 0.0004870771402964559\n",
      "Block ID: 823, Frequency Density: 5.307981280474326e-05\n",
      "Block ID: 839, Frequency Density: 0.0002578910706584162\n",
      "Block ID: 324, Frequency Density: 0.00023322293366281953\n",
      "Block ID: 1040, Frequency Density: 0.00025145165024872344\n",
      "Block ID: 203, Frequency Density: 0.007333255617983808\n",
      "Block ID: 437, Frequency Density: 8.313276861053271e-05\n",
      "Block ID: 536, Frequency Density: 0.000580560467122027\n",
      "Block ID: 552, Frequency Density: 0.0005878030646670344\n",
      "Block ID: 513, Frequency Density: 0.00045337843717710235\n",
      "Block ID: 779, Frequency Density: 0.0006658094432594021\n",
      "Block ID: 936, Frequency Density: 0.00016591632525327782\n",
      "Block ID: 641, Frequency Density: 0.0004655798124272016\n",
      "Block ID: 402, Frequency Density: 4.033367455795134e-05\n",
      "Block ID: 582, Frequency Density: 0.0006099988058148418\n",
      "Block ID: 29, Frequency Density: 0.000721745792269991\n",
      "Block ID: 916, Frequency Density: 0.00030411241162280273\n",
      "Block ID: 919, Frequency Density: 0.00025513929298082123\n",
      "Block ID: 1062, Frequency Density: 0.00020624999981122918\n",
      "Block ID: 1044, Frequency Density: 9.34134873626946e-05\n",
      "Block ID: 547, Frequency Density: 0.00016133469823180537\n",
      "Block ID: 577, Frequency Density: 0.00052891939627484\n",
      "Block ID: 343, Frequency Density: 0.00016523885968399164\n",
      "Block ID: 887, Frequency Density: 6.72437452998246e-05\n",
      "Block ID: 471, Frequency Density: 0.00022966797218927087\n",
      "Block ID: 828, Frequency Density: 0.0002635622263375295\n",
      "Block ID: 256, Frequency Density: 0.00014797395752544438\n",
      "Block ID: 32, Frequency Density: 0.0016126205996847302\n",
      "Block ID: 578, Frequency Density: 8.066734911590268e-05\n",
      "Block ID: 686, Frequency Density: 4.033367455795134e-05\n",
      "Block ID: 443, Frequency Density: 4.033367455795134e-05\n",
      "Block ID: 871, Frequency Density: 9.867257995345322e-05\n",
      "Block ID: 970, Frequency Density: 8.066734911590268e-05\n",
      "Block ID: 319, Frequency Density: 4.033367455795134e-05\n",
      "Block ID: 789, Frequency Density: 0.0002600072781852586\n",
      "Block ID: 428, Frequency Density: 0.00029601773986035965\n",
      "Block ID: 493, Frequency Density: 1.5889023310708107e-05\n",
      "Block ID: 449, Frequency Density: 4.033367455795134e-05\n",
      "Block ID: 1001, Frequency Density: 0.00031472139729774094\n",
      "Block ID: 126, Frequency Density: 0.0001570114853489551\n",
      "Block ID: 638, Frequency Density: 9.32807847901011e-05\n",
      "Block ID: 248, Frequency Density: 0.0004600762717254172\n",
      "Block ID: 433, Frequency Density: 0.0007590623039870771\n",
      "Block ID: 450, Frequency Density: 5.622269786865945e-05\n",
      "Block ID: 908, Frequency Density: 0.00018878953197037132\n",
      "Block ID: 292, Frequency Density: 0.0002600072781852586\n",
      "Block ID: 1056, Frequency Density: 0.000603405739119672\n",
      "Block ID: 445, Frequency Density: 0.00023241974187409917\n",
      "Block ID: 169, Frequency Density: 0.0001570114853489551\n",
      "Block ID: 1009, Frequency Density: 8.066734911590268e-05\n",
      "Block ID: 776, Frequency Density: 0.00012558265069532648\n",
      "Block ID: 848, Frequency Density: 0.0005783534617660191\n",
      "Block ID: 590, Frequency Density: 7.669334820084001e-05\n",
      "Block ID: 772, Frequency Density: 0.0002108316268327016\n",
      "Block ID: 205, Frequency Density: 7.669334820084001e-05\n",
      "Block ID: 572, Frequency Density: 0.00013900625451140458\n",
      "Block ID: 316, Frequency Density: 0.00010757741985777595\n",
      "Block ID: 94, Frequency Density: 0.000350312819531328\n",
      "Block ID: 290, Frequency Density: 0.00043421384088329005\n",
      "Block ID: 459, Frequency Density: 1.5889023310708107e-05\n",
      "Block ID: 342, Frequency Density: 4.033367455795134e-05\n",
      "Block ID: 623, Frequency Density: 0.00030930865575724977\n",
      "Block ID: 764, Frequency Density: 0.00012100102367385403\n",
      "Block ID: 1027, Frequency Density: 0.0005561437825652986\n",
      "Block ID: 596, Frequency Density: 0.00018824476897367863\n",
      "Block ID: 3, Frequency Density: 6.970916479445463e-05\n",
      "Block ID: 976, Frequency Density: 1.5889023310708107e-05\n",
      "Block ID: 931, Frequency Density: 4.033367455795134e-05\n",
      "Block ID: 521, Frequency Density: 8.066734911590268e-05\n",
      "Block ID: 99, Frequency Density: 0.00026465176831644814\n",
      "Block ID: 199, Frequency Density: 0.00035422395733667356\n",
      "Block ID: 61, Frequency Density: 0.0004036580228278527\n",
      "Block ID: 196, Frequency Density: 0.0009986827240093502\n",
      "Block ID: 859, Frequency Density: 4.033367455795134e-05\n",
      "Block ID: 468, Frequency Density: 0.00012100102367385403\n",
      "Block ID: 282, Frequency Density: 0.00010862504510411654\n",
      "Block ID: 387, Frequency Density: 4.033367455795134e-05\n",
      "Block ID: 592, Frequency Density: 0.0002046785552810794\n",
      "Block ID: 576, Frequency Density: 8.066734911590268e-05\n",
      "Block ID: 36, Frequency Density: 4.033367455795134e-05\n",
      "Block ID: 403, Frequency Density: 1.5889023310708107e-05\n",
      "Block ID: 463, Frequency Density: 6.72437452998246e-05\n",
      "Block ID: 67, Frequency Density: 0.00020631286292094626\n",
      "Block ID: 465, Frequency Density: 6.72437452998246e-05\n"
     ]
    },
    {
     "name": "stdout",
     "output_type": "stream",
     "text": [
      "Block ID: 280, Frequency Density: 0.00014217008728458757\n",
      "Block ID: 232, Frequency Density: 0.00010113799944808324\n",
      "Block ID: 299, Frequency Density: 0.00020425951850382092\n",
      "Block ID: 360, Frequency Density: 7.931241797733035e-05\n",
      "Block ID: 183, Frequency Density: 0.00013900625451140458\n",
      "Block ID: 997, Frequency Density: 0.0003364142775280281\n",
      "Block ID: 30, Frequency Density: 0.00016133469823180537\n",
      "Block ID: 315, Frequency Density: 0.00023316007055310242\n",
      "Block ID: 381, Frequency Density: 4.033367455795134e-05\n",
      "Block ID: 283, Frequency Density: 0.00013749767575522745\n",
      "Block ID: 317, Frequency Density: 4.033367455795134e-05\n",
      "Block ID: 25, Frequency Density: 0.0002466465374788976\n",
      "Block ID: 213, Frequency Density: 0.0002735566082207709\n",
      "Block ID: 719, Frequency Density: 6.72437452998246e-05\n",
      "Block ID: 469, Frequency Density: 6.72437452998246e-05\n",
      "Block ID: 246, Frequency Density: 9.867257995345322e-05\n",
      "Block ID: 19, Frequency Density: 0.0002108316268327016\n",
      "Block ID: 279, Frequency Density: 0.00012106388678357112\n",
      "Block ID: 1058, Frequency Density: 4.033367455795134e-05\n",
      "Block ID: 626, Frequency Density: 0.00017501671618650561\n",
      "Block ID: 33, Frequency Density: 0.00011215904687924839\n",
      "Block ID: 965, Frequency Density: 0.00016597918836299492\n",
      "Block ID: 505, Frequency Density: 5.8338905395501874e-05\n",
      "Block ID: 564, Frequency Density: 0.00039522812111075176\n",
      "Block ID: 26, Frequency Density: 7.47726943671582e-05\n",
      "Block ID: 380, Frequency Density: 5.8338905395501874e-05\n",
      "Block ID: 92, Frequency Density: 0.00011667781079100375\n",
      "Block ID: 45, Frequency Density: 3.3894254148258636e-05\n",
      "Block ID: 224, Frequency Density: 0.0003186045977193826\n",
      "Block ID: 44, Frequency Density: 0.00015057206493926238\n",
      "Block ID: 664, Frequency Density: 3.3894254148258636e-05\n",
      "Block ID: 217, Frequency Density: 9.223315954376051e-05\n",
      "Block ID: 966, Frequency Density: 5.382014148374652e-05\n",
      "Block ID: 16, Frequency Density: 0.00017501671618650561\n",
      "Block ID: 817, Frequency Density: 0.0003274396128142345\n",
      "Block ID: 529, Frequency Density: 5.8338905395501874e-05\n",
      "Block ID: 645, Frequency Density: 0.000287175763065754\n",
      "Block ID: 574, Frequency Density: 0.00015303748709814797\n",
      "Block ID: 611, Frequency Density: 6.778851096077282e-05\n",
      "Block ID: 736, Frequency Density: 3.3894254148258636e-05\n",
      "Block ID: 309, Frequency Density: 5.8338905395501874e-05\n",
      "Block ID: 118, Frequency Density: 0.00011215904687924839\n",
      "Block ID: 401, Frequency Density: 0.0001754287912640103\n",
      "Block ID: 427, Frequency Density: 5.8338905395501874e-05\n",
      "Block ID: 5, Frequency Density: 6.778850829651727e-05\n",
      "Block ID: 42, Frequency Density: 0.00013906911762112166\n",
      "Block ID: 192, Frequency Density: 8.524897613737513e-05\n",
      "Block ID: 762, Frequency Density: 2.691007074187326e-05\n",
      "Block ID: 40, Frequency Density: 0.00016146042445123955\n",
      "Block ID: 1037, Frequency Density: 0.00019288925910486817\n",
      "Block ID: 212, Frequency Density: 5.8338905395501874e-05\n",
      "Block ID: 47, Frequency Density: 0.00011667781079100375\n",
      "Block ID: 225, Frequency Density: 0.0002557469284121254\n",
      "Block ID: 595, Frequency Density: 5.382014148374652e-05\n",
      "Block ID: 6, Frequency Density: 6.08043248901319e-05\n",
      "Block ID: 204, Frequency Density: 5.8338905395501874e-05\n",
      "Block ID: 233, Frequency Density: 8.073021222561978e-05\n",
      "Block ID: 910, Frequency Density: 2.691007074187326e-05\n",
      "Block ID: 392, Frequency Density: 3.3894254148258636e-05\n",
      "Block ID: 915, Frequency Density: 5.8338905395501874e-05\n",
      "Block ID: 379, Frequency Density: 2.691007074187326e-05\n",
      "Block ID: 679, Frequency Density: 8.771439563200515e-05\n",
      "Block ID: 34, Frequency Density: 0.000143587881532877\n",
      "Block ID: 244, Frequency Density: 5.8338905395501874e-05\n",
      "Block ID: 1033, Frequency Density: 9.223315954376051e-05\n",
      "Block ID: 102, Frequency Density: 5.8338905395501874e-05\n",
      "Block ID: 11, Frequency Density: 5.382014148374652e-05\n",
      "Block ID: 223, Frequency Density: 5.8338905395501874e-05\n",
      "Block ID: 201, Frequency Density: 2.691007074187326e-05\n",
      "Block ID: 344, Frequency Density: 3.3894254148258636e-05\n",
      "Block ID: 10, Frequency Density: 5.8338905395501874e-05\n",
      "Block ID: 885, Frequency Density: 2.691007074187326e-05\n",
      "Block ID: 326, Frequency Density: 8.175688043779912e-05\n",
      "Block ID: 1060, Frequency Density: 2.691007074187326e-05\n",
      "Block ID: 971, Frequency Density: 5.8338905395501874e-05\n",
      "Block ID: 781, Frequency Density: 5.8338905395501874e-05\n",
      "Block ID: 277, Frequency Density: 2.691007074187326e-05\n",
      "Block ID: 704, Frequency Density: 2.691007074187326e-05\n"
     ]
    }
   ],
   "source": [
    "# 调试输出：计算出的频率密度值\n",
    "for block_id, freq_density in block_freq_density.items():\n",
    "    print(f\"Block ID: {block_id}, Frequency Density: {freq_density}\")"
   ]
  },
  {
   "cell_type": "code",
   "execution_count": 16,
   "metadata": {
    "hidden": true
   },
   "outputs": [],
   "source": [
    "# 第3步：在街区要素类中创建频率密度字段（如果尚不存在）\n",
    "if len(arcpy.ListFields(block_layer, frequency_density_field)) == 0:\n",
    "    arcpy.AddField_management(block_layer, frequency_density_field, \"DOUBLE\")"
   ]
  },
  {
   "cell_type": "code",
   "execution_count": 17,
   "metadata": {
    "hidden": true
   },
   "outputs": [
    {
     "name": "stdout",
     "output_type": "stream",
     "text": [
      "街区要素类中的频率密度字段更新完成。\n"
     ]
    }
   ],
   "source": [
    "# 更新街区要素类中的频率密度字段\n",
    "with arcpy.da.UpdateCursor(block_layer, [block_id_field, frequency_density_field]) as cursor:\n",
    "    for row in cursor:\n",
    "        block_id = row[0]\n",
    "        if block_id in block_freq_density:\n",
    "            row[1] = block_freq_density[block_id]  # 更新频率密度\n",
    "        else:\n",
    "            row[1] = 0  # 对于没有POI点的街区，频率密度设置为0\n",
    "        cursor.updateRow(row)\n",
    "\n",
    "print(\"街区要素类中的频率密度字段更新完成。\")"
   ]
  },
  {
   "cell_type": "markdown",
   "metadata": {
    "hidden": true
   },
   "source": [
    "**尝试定义函数**"
   ]
  },
  {
   "cell_type": "code",
   "execution_count": 18,
   "metadata": {
    "hidden": true
   },
   "outputs": [],
   "source": [
    "def calculate_and_update_frequency_density(input_poi_layer, weight_field, block_id_field, block_layer, frequency_density_field):\n",
    "    # 初始化用于汇总每个街区加权POI点数的字典\n",
    "    block_weights = {}\n",
    "    total_weight = 0\n",
    "\n",
    "    # 第1步：按街区代码汇总POI的权重\n",
    "    with arcpy.da.SearchCursor(input_poi_layer, [block_id_field, weight_field]) as cursor:\n",
    "        for row in cursor:\n",
    "            block_id, weight = row\n",
    "            block_weights[block_id] = block_weights.get(block_id, 0) + weight\n",
    "            total_weight += weight\n",
    "\n",
    "    # 第2步：计算每个街区的频率密度\n",
    "    block_freq_density = {block: weight / total_weight for block, weight in block_weights.items()}\n",
    "\n",
    "    # 第3步：在街区要素类中创建频率密度字段（如果尚不存在）\n",
    "    if len(arcpy.ListFields(block_layer, frequency_density_field)) == 0:\n",
    "        arcpy.AddField_management(block_layer, frequency_density_field, \"DOUBLE\")\n",
    "\n",
    "    # 更新街区要素类中的频率密度字段\n",
    "    with arcpy.da.UpdateCursor(block_layer, [block_id_field, frequency_density_field]) as cursor:\n",
    "        for row in cursor:\n",
    "            block_id = row[0]\n",
    "            if block_id in block_freq_density:\n",
    "                row[1] = block_freq_density[block_id]  # 更新频率密度\n",
    "            else:\n",
    "                row[1] = 0  # 对于没有POI点的街区，频率密度设置为0\n",
    "            cursor.updateRow(row)\n",
    "\n",
    "    print(\"街区要素类中的频率密度字段更新完成。\")"
   ]
  },
  {
   "cell_type": "code",
   "execution_count": 19,
   "metadata": {
    "hidden": true
   },
   "outputs": [
    {
     "name": "stdout",
     "output_type": "stream",
     "text": [
      "街区要素类中的频率密度字段更新完成。\n"
     ]
    }
   ],
   "source": [
    "# 使用定义的函数处理数据\n",
    "calculate_and_update_frequency_density('JOIN_R', 'Weight', 'Block_ID', 'blocks_initial', 'FD_R')"
   ]
  },
  {
   "cell_type": "markdown",
   "metadata": {
    "hidden": true
   },
   "source": [
    "**此处，权重的调整影响因子并重要**"
   ]
  },
  {
   "cell_type": "code",
   "execution_count": 20,
   "metadata": {
    "hidden": true
   },
   "outputs": [
    {
     "name": "stdout",
     "output_type": "stream",
     "text": [
      "街区要素类中的频率密度字段更新完成。\n"
     ]
    }
   ],
   "source": [
    "calculate_and_update_frequency_density('JOIN_B', 'Weight', 'Block_ID', 'blocks_initial', 'FD_B')"
   ]
  },
  {
   "cell_type": "code",
   "execution_count": 21,
   "metadata": {
    "hidden": true
   },
   "outputs": [
    {
     "name": "stdout",
     "output_type": "stream",
     "text": [
      "街区要素类中的频率密度字段更新完成。\n"
     ]
    }
   ],
   "source": [
    "calculate_and_update_frequency_density('JOIN_M', 'Weight', 'Block_ID', 'blocks_initial', 'FD_M')"
   ]
  },
  {
   "cell_type": "code",
   "execution_count": 22,
   "metadata": {
    "hidden": true
   },
   "outputs": [
    {
     "name": "stdout",
     "output_type": "stream",
     "text": [
      "街区要素类中的频率密度字段更新完成。\n"
     ]
    }
   ],
   "source": [
    "calculate_and_update_frequency_density('JOIN_G', 'Weight', 'Block_ID', 'blocks_initial', 'FD_G')"
   ]
  },
  {
   "cell_type": "code",
   "execution_count": 23,
   "metadata": {
    "hidden": true
   },
   "outputs": [
    {
     "name": "stdout",
     "output_type": "stream",
     "text": [
      "街区要素类中的频率密度字段更新完成。\n"
     ]
    }
   ],
   "source": [
    "calculate_and_update_frequency_density('JOIN_S', 'Weight', 'Block_ID', 'blocks_initial', 'FD_S')"
   ]
  },
  {
   "cell_type": "code",
   "execution_count": null,
   "metadata": {
    "hidden": true
   },
   "outputs": [],
   "source": []
  },
  {
   "cell_type": "code",
   "execution_count": null,
   "metadata": {
    "hidden": true
   },
   "outputs": [],
   "source": []
  },
  {
   "cell_type": "code",
   "execution_count": null,
   "metadata": {
    "hidden": true
   },
   "outputs": [],
   "source": []
  },
  {
   "cell_type": "code",
   "execution_count": null,
   "metadata": {
    "hidden": true
   },
   "outputs": [],
   "source": [
    "\n"
   ]
  },
  {
   "cell_type": "code",
   "execution_count": null,
   "metadata": {
    "hidden": true
   },
   "outputs": [],
   "source": []
  },
  {
   "cell_type": "markdown",
   "metadata": {},
   "source": [
    "#### 核密度字段"
   ]
  },
  {
   "cell_type": "markdown",
   "metadata": {},
   "source": [
    "**首先要投影POI数据**"
   ]
  },
  {
   "cell_type": "code",
   "execution_count": 30,
   "metadata": {},
   "outputs": [],
   "source": [
    "input_features = \"JOIN_S\""
   ]
  },
  {
   "cell_type": "code",
   "execution_count": 31,
   "metadata": {},
   "outputs": [
    {
     "data": {
      "text/html": [
       "<div class='gpresult'><h2>Messages</h2><div id='messages' data-messages='[\"Start Time: 2024年3月7日 21:20:31\",\"Succeeded at 2024年3月7日 21:20:31 (Elapsed Time: 0.14 seconds)\"]' data-show='true'><div id = 'default' /></div></div>"
      ],
      "text/plain": [
       "<Result 'JOIN_S'>"
      ]
     },
     "execution_count": 31,
     "metadata": {},
     "output_type": "execute_result"
    }
   ],
   "source": [
    "factor = 100\n",
    "arcpy.CalculateField_management(input_features, \"Weight\", f\"!Weight! * {factor}\", \"PYTHON3\")"
   ]
  },
  {
   "cell_type": "markdown",
   "metadata": {},
   "source": []
  },
  {
   "cell_type": "markdown",
   "metadata": {},
   "source": [
    "###### 步骤1：核密度分析"
   ]
  },
  {
   "cell_type": "code",
   "execution_count": 1,
   "metadata": {},
   "outputs": [],
   "source": [
    "import arcpy\n",
    "from arcpy.sa import *\n",
    "\n",
    "# 检查空间分析扩展是否可用\n",
    "arcpy.CheckOutExtension(\"Spatial\")\n",
    "\n",
    "# 设置环境变量\n",
    "arcpy.env.workspace = r\"E:\\stu1\\Projects\\POI2023\\POI2023.gdb\"  # 替换为您的工作空间路径\n",
    "arcpy.env.overwriteOutput = True"
   ]
  },
  {
   "cell_type": "markdown",
   "metadata": {},
   "source": [
    "调整权重字段"
   ]
  },
  {
   "cell_type": "code",
   "execution_count": 6,
   "metadata": {},
   "outputs": [],
   "source": [
    "input_features = \"JOIN_A\" "
   ]
  },
  {
   "cell_type": "markdown",
   "metadata": {},
   "source": [
    "为POI数据投影"
   ]
  },
  {
   "cell_type": "code",
   "execution_count": 12,
   "metadata": {},
   "outputs": [
    {
     "name": "stdout",
     "output_type": "stream",
     "text": [
      "核密度分析完成，输出保存至 KernelDensity_Output_A\n"
     ]
    }
   ],
   "source": [
    "# 输入POI图层\n",
    "input_features = \"JOIN_A_Project\"\n",
    "population_field = \"Weight\"  # 若存在权重字段则替换，否则设置为None\n",
    "# 设置搜索半径（带宽）和输出栅格的单元格尺寸（输出分辨率）\n",
    "search_radius = \"500 Meters\"  # 减小带宽，例如设置为500米\n",
    "cell_size = \"10\"  # 减小栅格单元格尺寸，例如设置为10米\n",
    "\n",
    "output_raster = \"KernelDensity_Output_A\"  # 输出核密度栅格图层的名称\n",
    "\n",
    "# 执行核密度分析\n",
    "kd_result = KernelDensity(input_features, population_field, cell_size, search_radius, area_unit_scale_factor=\"SQUARE_METERS\")\n",
    "kd_result.save(output_raster)\n",
    "\n",
    "print(\"核密度分析完成，输出保存至\", output_raster)"
   ]
  },
  {
   "cell_type": "code",
   "execution_count": null,
   "metadata": {},
   "outputs": [],
   "source": []
  },
  {
   "cell_type": "code",
   "execution_count": 4,
   "metadata": {},
   "outputs": [],
   "source": []
  },
  {
   "cell_type": "code",
   "execution_count": null,
   "metadata": {},
   "outputs": [],
   "source": []
  },
  {
   "cell_type": "markdown",
   "metadata": {},
   "source": []
  },
  {
   "cell_type": "code",
   "execution_count": 13,
   "metadata": {},
   "outputs": [],
   "source": []
  },
  {
   "cell_type": "code",
   "execution_count": 14,
   "metadata": {},
   "outputs": [
    {
     "data": {
      "text/html": [
       "<div class='gpresult'><h2>Messages</h2><div id='messages' data-messages='[\"Start Time: 2024年3月7日 12:22:17\",\"Succeeded at 2024年3月7日 12:22:20 (Elapsed Time: 2.75 seconds)\"]' data-show='true'><div id = 'default' /></div></div>"
      ],
      "text/plain": [
       "<geoprocessing server result object object at 0x0000025368368090>"
      ]
     },
     "execution_count": 14,
     "metadata": {},
     "output_type": "execute_result"
    }
   ],
   "source": []
  },
  {
   "cell_type": "markdown",
   "metadata": {},
   "source": []
  },
  {
   "cell_type": "code",
   "execution_count": null,
   "metadata": {},
   "outputs": [],
   "source": []
  },
  {
   "cell_type": "markdown",
   "metadata": {},
   "source": []
  },
  {
   "cell_type": "markdown",
   "metadata": {},
   "source": [
    "##### 核密度估计"
   ]
  },
  {
   "cell_type": "code",
   "execution_count": 1,
   "metadata": {},
   "outputs": [
    {
     "data": {
      "text/plain": [
       "'CheckedOut'"
      ]
     },
     "execution_count": 1,
     "metadata": {},
     "output_type": "execute_result"
    }
   ],
   "source": [
    "import arcpy\n",
    "from arcpy.sa import *\n",
    "\n",
    "# 确保空间分析扩展可用\n",
    "arcpy.CheckOutExtension(\"Spatial\")"
   ]
  },
  {
   "cell_type": "code",
   "execution_count": 2,
   "metadata": {},
   "outputs": [],
   "source": [
    "# 设置环境\n",
    "arcpy.env.workspace = r\"E:\\stu1\\Projects\\POI2023\\POI2023.gdb\"  # 指定工作空间路径\n",
    "arcpy.env.overwriteOutput = True"
   ]
  },
  {
   "cell_type": "markdown",
   "metadata": {},
   "source": [
    "###### 以居住用地R为例"
   ]
  },
  {
   "cell_type": "code",
   "execution_count": 36,
   "metadata": {},
   "outputs": [],
   "source": [
    "# 核密度分析\n",
    "input_features = \"JOIN_R_Project\"  # 指定输入的POI图层\n",
    "population_field = \"Weight\"  # 使用Weight字段作为权重\n",
    "search_radius = 1000  # 居住用地的服务半径为1000米\n",
    "output_raster = \"KernelDensity_R\"  # 输出栅格图层的名称"
   ]
  },
  {
   "cell_type": "code",
   "execution_count": 37,
   "metadata": {},
   "outputs": [
    {
     "name": "stdout",
     "output_type": "stream",
     "text": [
      "R类核密度分析完成\n"
     ]
    }
   ],
   "source": [
    "# 执行核密度分析\n",
    "kd_result = KernelDensity(input_features, population_field=\"Weight\",cell_size=10, search_radius=search_radius, area_unit_scale_factor=\"SQUARE_METERS\")\n",
    "kd_result.save(output_raster)\n",
    "\n",
    "print(\"R类核密度分析完成\")"
   ]
  },
  {
   "cell_type": "code",
   "execution_count": 3,
   "metadata": {},
   "outputs": [],
   "source": [
    "# 街区要素类\n",
    "block_feature_class = \"blocks_initial\""
   ]
  },
  {
   "cell_type": "code",
   "execution_count": 4,
   "metadata": {},
   "outputs": [],
   "source": [
    "# 新字段名称\n",
    "new_field_name = \"KD_R\""
   ]
  },
  {
   "cell_type": "code",
   "execution_count": 5,
   "metadata": {},
   "outputs": [
    {
     "data": {
      "text/html": [
       "<div class='gpresult'><h2>Messages</h2><div id='messages' data-messages='[\"Start Time: 2024年3月8日 8:34:05\",\"Adding KD_R to blocks_initial...\",\"Succeeded at 2024年3月8日 8:34:05 (Elapsed Time: 0.28 seconds)\"]' data-show='true'><div id = 'default' /></div></div>"
      ],
      "text/plain": [
       "<Result 'blocks_initial'>"
      ]
     },
     "execution_count": 5,
     "metadata": {},
     "output_type": "execute_result"
    }
   ],
   "source": [
    "# 添加新字段\n",
    "arcpy.AddField_management(block_feature_class, new_field_name, \"DOUBLE\")"
   ]
  },
  {
   "cell_type": "code",
   "execution_count": 7,
   "metadata": {},
   "outputs": [],
   "source": [
    "# 核密度分析结果栅格\n",
    "kd_raster = \"KernelDensity_R\"\n",
    "\n",
    "# 街区要素类\n",
    "block_feature_class = \"blocks_initial\"\n",
    "zone_field = \"Block_ID\"  # 街区要素类中用来标识每个街区的唯一字段\n",
    "\n",
    "# 输出统计表格路径\n",
    "out_table = \"ZonalStatistics_R\""
   ]
  },
  {
   "cell_type": "code",
   "execution_count": 39,
   "metadata": {},
   "outputs": [
    {
     "data": {
      "text/html": [
       "<div class='gpresult'><h2>Messages</h2><div id='messages' data-messages='[\"Start Time: 2024年3月7日 21:24:48\",\"Value raster being used as snap raster; this is new default behavior.\",\"Succeeded at 2024年3月7日 21:24:52 (Elapsed Time: 3.87 seconds)\"]' data-show='true'><div id = 'default' /></div></div>"
      ],
      "text/plain": [
       "<geoprocessing server result object object at 0x0000021E1D511120>"
      ]
     },
     "execution_count": 39,
     "metadata": {},
     "output_type": "execute_result"
    }
   ],
   "source": [
    "# 执行区域统计作为表格\n",
    "ZonalStatisticsAsTable(block_feature_class, zone_field, kd_raster, out_table, \"DATA\", \"SUM\")"
   ]
  },
  {
   "cell_type": "code",
   "execution_count": 10,
   "metadata": {},
   "outputs": [
    {
     "data": {
      "text/html": [
       "<div class='gpresult'><h2>Messages</h2><div id='messages' data-messages='[\"Start Time: 2024年3月8日 8:55:12\",\"Succeeded at 2024年3月8日 8:55:13 (Elapsed Time: 0.43 seconds)\"]' data-show='true'><div id = 'default' /></div></div>"
      ],
      "text/plain": [
       "<Result 'blocks_initial'>"
      ]
     },
     "execution_count": 10,
     "metadata": {},
     "output_type": "execute_result"
    }
   ],
   "source": [
    "# 使用 JoinField 将统计表格的SUM字段添加到街区要素类的属性表中\n",
    "# 此时字段名称保持为 SUM\n",
    "arcpy.JoinField_management(block_feature_class, \"Block_ID\", out_table, \"OBJECTID\", [\"SUM\"])\n"
   ]
  },
  {
   "cell_type": "code",
   "execution_count": 9,
   "metadata": {},
   "outputs": [
    {
     "name": "stdout",
     "output_type": "stream",
     "text": [
      "在街区要素类中未匹配的Block_ID： set()\n",
      "在统计表中未匹配的Block_ID： set()\n"
     ]
    }
   ],
   "source": [
    "# 获取并打印两个数据集中Block_ID的唯一值\n",
    "block_ids_feature_class = set([row[0] for row in arcpy.da.SearchCursor(block_feature_class, [\"Block_ID\"]) if row[0] is not None])\n",
    "block_ids_out_table = set([row[0] for row in arcpy.da.SearchCursor(out_table, [\"Block_ID\"]) if row[0] is not None])\n",
    "\n",
    "# 检查两个集合的差异\n",
    "unmatched_feature_class = block_ids_feature_class.difference(block_ids_out_table)\n",
    "unmatched_out_table = block_ids_out_table.difference(block_ids_feature_class)\n",
    "\n",
    "print(\"在街区要素类中未匹配的Block_ID：\", unmatched_feature_class)\n",
    "print(\"在统计表中未匹配的Block_ID：\", unmatched_out_table)\n"
   ]
  },
  {
   "cell_type": "code",
   "execution_count": 11,
   "metadata": {},
   "outputs": [
    {
     "data": {
      "text/html": [
       "<div class='gpresult'><h2>Messages</h2><div id='messages' data-messages='[\"Start Time: 2024年3月8日 8:56:19\",\"Succeeded at 2024年3月8日 8:56:19 (Elapsed Time: 0.26 seconds)\"]' data-show='true'><div id = 'default' /></div></div>"
      ],
      "text/plain": [
       "<Result 'blocks_initial'>"
      ]
     },
     "execution_count": 11,
     "metadata": {},
     "output_type": "execute_result"
    }
   ],
   "source": [
    "# 复制 SUM 字段的值到新字段\n",
    "with arcpy.da.UpdateCursor(block_feature_class, [\"SUM\", new_field_name]) as cursor:\n",
    "    for row in cursor:\n",
    "        row[1] = row[0]  # 将 SUM 字段的值复制到新字段\n",
    "        cursor.updateRow(row)\n",
    "\n",
    "# 如果您不再需要 SUM 字段，可以将其删除\n",
    "arcpy.DeleteField_management(block_feature_class, \"SUM\")\n"
   ]
  },
  {
   "cell_type": "markdown",
   "metadata": {},
   "source": [
    "##### 定义函数完成"
   ]
  },
  {
   "cell_type": "code",
   "execution_count": 12,
   "metadata": {},
   "outputs": [],
   "source": [
    "import arcpy\n",
    "from arcpy.sa import *\n",
    "\n",
    "def perform_kernel_density_and_update_blocks(input_features, population_field, search_radius, cell_size, output_raster_name, block_feature_class, zone_field, new_field_name):\n",
    "    \"\"\"\n",
    "    执行核密度分析，并将结果按街区汇总，最后更新到街区要素类的新字段中。\n",
    "\n",
    "    参数:\n",
    "    - input_features: 输入的POI图层路径。\n",
    "    - population_field: 使用的权重字段名。\n",
    "    - search_radius: 核密度分析的搜索半径。\n",
    "    - cell_size: 核密度分析的栅格单元大小。\n",
    "    - output_raster_name: 输出核密度栅格图层的名称。\n",
    "    - block_feature_class: 街区要素类路径。\n",
    "    - zone_field: 街区要素类中用于标识每个街区的字段名。\n",
    "    - new_field_name: 更新到街区要素类中的新字段名。\n",
    "    \"\"\"\n",
    "    # 确保空间分析扩展可用\n",
    "    arcpy.CheckOutExtension(\"Spatial\")\n",
    "    \n",
    "    # 核密度分析\n",
    "    kd_result = KernelDensity(input_features, population_field, cell_size, search_radius, area_unit_scale_factor=\"SQUARE_METERS\")\n",
    "    kd_result.save(output_raster_name)\n",
    "    print(f\"{output_raster_name} 核密度分析完成\")\n",
    "    \n",
    "    # 执行区域统计作为表格\n",
    "    out_table = output_raster_name + \"_ZonalStats\"\n",
    "    ZonalStatisticsAsTable(block_feature_class, zone_field, output_raster_name, out_table, \"DATA\", \"SUM\")\n",
    "    \n",
    "    # 使用 JoinField 将统计表格的 SUM 字段添加到街区要素类的属性表中\n",
    "    arcpy.JoinField_management(block_feature_class, zone_field, out_table, \"OBJECTID\", [\"SUM\"])\n",
    "    \n",
    "    # 添加新字段（如果尚未存在）\n",
    "    if len(arcpy.ListFields(block_feature_class, new_field_name)) == 0:\n",
    "        arcpy.AddField_management(block_feature_class, new_field_name, \"DOUBLE\")\n",
    "    \n",
    "    # 复制 SUM 字段的值到新字段，并删除 SUM 字段\n",
    "    with arcpy.da.UpdateCursor(block_feature_class, [\"SUM\", new_field_name]) as cursor:\n",
    "        for row in cursor:\n",
    "            row[1] = row[0]  # 将 SUM 字段的值复制到新字段\n",
    "            cursor.updateRow(row)\n",
    "    arcpy.DeleteField_management(block_feature_class, \"SUM\")\n",
    "    print(f\"{new_field_name} 字段已更新\")\n"
   ]
  },
  {
   "cell_type": "markdown",
   "metadata": {},
   "source": [
    "##### 调用函数"
   ]
  },
  {
   "cell_type": "code",
   "execution_count": 13,
   "metadata": {},
   "outputs": [
    {
     "name": "stdout",
     "output_type": "stream",
     "text": [
      "KernelDensity_A 核密度分析完成\n",
      "KD_A 字段已更新\n"
     ]
    }
   ],
   "source": [
    "perform_kernel_density_and_update_blocks(\n",
    "    input_features=\"JOIN_A_Project\",\n",
    "    population_field=\"Weight\",\n",
    "    search_radius=2000,\n",
    "    cell_size=10,\n",
    "    output_raster_name=\"KernelDensity_A\",\n",
    "    block_feature_class=\"blocks_initial\",\n",
    "    zone_field=\"Block_ID\",\n",
    "    new_field_name=\"KD_A\"\n",
    ")"
   ]
  },
  {
   "cell_type": "code",
   "execution_count": 14,
   "metadata": {},
   "outputs": [
    {
     "name": "stdout",
     "output_type": "stream",
     "text": [
      "KernelDensity_B 核密度分析完成\n",
      "KD_B 字段已更新\n"
     ]
    }
   ],
   "source": [
    "perform_kernel_density_and_update_blocks(\n",
    "    input_features=\"JOIN_B_Project\",\n",
    "    population_field=\"Weight\",\n",
    "    search_radius=1500,\n",
    "    cell_size=10,\n",
    "    output_raster_name=\"KernelDensity_B\",\n",
    "    block_feature_class=\"blocks_initial\",\n",
    "    zone_field=\"Block_ID\",\n",
    "    new_field_name=\"KD_B\"\n",
    ")\n"
   ]
  },
  {
   "cell_type": "code",
   "execution_count": 15,
   "metadata": {},
   "outputs": [
    {
     "name": "stdout",
     "output_type": "stream",
     "text": [
      "KernelDensity_G 核密度分析完成\n",
      "KD_G 字段已更新\n"
     ]
    }
   ],
   "source": [
    "perform_kernel_density_and_update_blocks(\n",
    "    input_features=\"JOIN_G_Project\",\n",
    "    population_field=\"Weight\",\n",
    "    search_radius=2000,\n",
    "    cell_size=10,\n",
    "    output_raster_name=\"KernelDensity_G\",\n",
    "    block_feature_class=\"blocks_initial\",\n",
    "    zone_field=\"Block_ID\",\n",
    "    new_field_name=\"KD_G\"\n",
    ")\n"
   ]
  },
  {
   "cell_type": "code",
   "execution_count": 16,
   "metadata": {},
   "outputs": [
    {
     "name": "stdout",
     "output_type": "stream",
     "text": [
      "KernelDensity_M 核密度分析完成\n",
      "KD_M 字段已更新\n"
     ]
    }
   ],
   "source": [
    "perform_kernel_density_and_update_blocks(\n",
    "    input_features=\"JOIN_M_Project\",\n",
    "    population_field=\"Weight\",\n",
    "    search_radius=1500,\n",
    "    cell_size=10,\n",
    "    output_raster_name=\"KernelDensity_M\",\n",
    "    block_feature_class=\"blocks_initial\",\n",
    "    zone_field=\"Block_ID\",\n",
    "    new_field_name=\"KD_M\"\n",
    ")\n"
   ]
  },
  {
   "cell_type": "code",
   "execution_count": 17,
   "metadata": {},
   "outputs": [
    {
     "name": "stdout",
     "output_type": "stream",
     "text": [
      "KernelDensity_S 核密度分析完成\n",
      "KD_S 字段已更新\n"
     ]
    }
   ],
   "source": [
    "perform_kernel_density_and_update_blocks(\n",
    "    input_features=\"JOIN_S_Project\",\n",
    "    population_field=\"Weight\",\n",
    "    search_radius=3000,\n",
    "    cell_size=10,\n",
    "    output_raster_name=\"KernelDensity_S\",\n",
    "    block_feature_class=\"blocks_initial\",\n",
    "    zone_field=\"Block_ID\",\n",
    "    new_field_name=\"KD_S\"\n",
    ")\n"
   ]
  },
  {
   "cell_type": "markdown",
   "metadata": {
    "heading_collapsed": true
   },
   "source": [
    "###### 使用 ZonalStatistics 统计每个多边形区域的栅格总值"
   ]
  },
  {
   "cell_type": "code",
   "execution_count": 7,
   "metadata": {
    "hidden": true
   },
   "outputs": [],
   "source": [
    "# 街区单元图层（包含多个零散的多边形）\n",
    "zone_features = \"blocks_initial\"\n",
    "zone_field = \"Block_ID\"  # 街区单元的唯一标识字段\n",
    "\n",
    "# 输出栅格，保存每个区域的统计结果\n",
    "out_zonal_stats = \"ZonalStatistics_R\"\n",
    "\n",
    "# 执行ZonalStatistics\n",
    "zs_result = ZonalStatistics(zone_features, zone_field, output_raster, \"SUM\")\n",
    "zs_result.save(out_zonal_stats)\n"
   ]
  },
  {
   "cell_type": "markdown",
   "metadata": {},
   "source": [
    "###### 统计每个街区内的栅格总值"
   ]
  },
  {
   "cell_type": "markdown",
   "metadata": {
    "heading_collapsed": true
   },
   "source": [
    "###### 将结果添加到BLOCKS的字段中"
   ]
  },
  {
   "cell_type": "code",
   "execution_count": 14,
   "metadata": {
    "hidden": true
   },
   "outputs": [
    {
     "name": "stdout",
     "output_type": "stream",
     "text": [
      "Number of <Null> values in field 'KD_R': 1022\n"
     ]
    }
   ],
   "source": [
    "# 检查<NULL>字段\n",
    "\n",
    "field_to_check = \"KD_R\"\n",
    "\n",
    "# 初始化计数器\n",
    "null_count = 0\n",
    "\n",
    "# 使用 SearchCursor 遍历字段\n",
    "with arcpy.da.SearchCursor(block_feature_class, [field_to_check]) as cursor:\n",
    "    for row in cursor:\n",
    "        # 如果字段值为 None（即在ArcGIS中显示为 <Null>），计数器加一\n",
    "        if row[0] is None:\n",
    "            null_count += 1\n",
    "\n",
    "# 输出结果\n",
    "print(f\"Number of <Null> values in field '{field_to_check}': {null_count}\")\n"
   ]
  },
  {
   "cell_type": "code",
   "execution_count": null,
   "metadata": {
    "hidden": true
   },
   "outputs": [],
   "source": []
  },
  {
   "cell_type": "code",
   "execution_count": null,
   "metadata": {
    "hidden": true
   },
   "outputs": [],
   "source": [
    "# 输入POI图层和街区单元图层\n",
    "poi_R = r\"E:\\stu1\\Projects\\POI2023\\POI2023.gdb\\poi23\\JOIN_R\"\n",
    "block_layer = r\"E:\\stu1\\Projects\\POI2023\\POI2023.gdb\\blocks_initial\"\n",
    "\n",
    "# 输出核密度图层路径\n",
    "kernel_R = r\"E:\\stu1\\Projects\\POI2023\\POI2023.gdb\\kd_R1\""
   ]
  },
  {
   "cell_type": "code",
   "execution_count": null,
   "metadata": {
    "hidden": true
   },
   "outputs": [],
   "source": [
    "# 执行核密度分析，使用Weight字段作为权重\n",
    "kernel_density = KernelDensity(poi_R, population_field=\"Weight\")\n",
    "kernel_density.save(kernel_R)\n",
    "\n",
    "print(\"核密度分析完成\")"
   ]
  },
  {
   "cell_type": "code",
   "execution_count": null,
   "metadata": {
    "hidden": true
   },
   "outputs": [],
   "source": []
  },
  {
   "cell_type": "code",
   "execution_count": null,
   "metadata": {
    "hidden": true
   },
   "outputs": [],
   "source": [
    "# 输出统计表格路径\n",
    "output_stats_table = r\"E:\\stu1\\Projects\\POI2023\\POI2023.gdb\\KD_R\"\n",
    "\n",
    "# 对每个街区单元进行统计，计算栅格总值\n",
    "ZonalStatisticsAsTable(block_layer, \"Block_ID\", clipped_density, output_stats_table, \"DATA\", \"SUM\")\n",
    "\n",
    "print(\"每个街区单元内的栅格总值统计完成\")\n"
   ]
  },
  {
   "cell_type": "markdown",
   "metadata": {},
   "source": [
    "#### 网络核密度字段"
   ]
  },
  {
   "cell_type": "code",
   "execution_count": 1,
   "metadata": {},
   "outputs": [],
   "source": [
    "import arcpy\n",
    "from arcpy.sa import *\n",
    "\n",
    "def KDB2blocks(raster_name, block_feature_class, zone_field, new_field_name):\n",
    "    \"\"\"\n",
    "    执行核密度分析，并将结果按街区汇总，最后更新到街区要素类的新字段中。\n",
    "\n",
    "    参数:\n",
    "    - raster_name: 核密度栅格图层的名称。\n",
    "    - block_feature_class: 街区要素类路径。\n",
    "    - zone_field: 街区要素类中用于标识每个街区的字段名。\n",
    "    - new_field_name: 更新到街区要素类中的新字段名。\n",
    "    \"\"\"\n",
    "    \n",
    "    # 执行区域统计作为表格\n",
    "    out_table = raster_name + \"_ZonalStats_BARR\"\n",
    "    ZonalStatisticsAsTable(block_feature_class, zone_field, raster_name, out_table, \"DATA\", \"SUM\")\n",
    "    \n",
    "    # 使用 JoinField 将统计表格的 SUM 字段添加到街区要素类的属性表中\n",
    "    arcpy.JoinField_management(block_feature_class, zone_field, out_table, \"OBJECTID\", [\"SUM\"])\n",
    "    \n",
    "    # 添加新字段（如果尚未存在）\n",
    "    if len(arcpy.ListFields(block_feature_class, new_field_name)) == 0:\n",
    "        arcpy.AddField_management(block_feature_class, new_field_name, \"DOUBLE\")\n",
    "    \n",
    "    # 复制 SUM 字段的值到新字段，并删除 SUM 字段\n",
    "    with arcpy.da.UpdateCursor(block_feature_class, [\"SUM\", new_field_name]) as cursor:\n",
    "        for row in cursor:\n",
    "            row[1] = row[0]  # 将 SUM 字段的值复制到新字段\n",
    "            cursor.updateRow(row)\n",
    "    arcpy.DeleteField_management(block_feature_class, \"SUM\")\n",
    "    print(f\"{new_field_name} 字段已更新\")"
   ]
  },
  {
   "cell_type": "code",
   "execution_count": 3,
   "metadata": {},
   "outputs": [
    {
     "name": "stdout",
     "output_type": "stream",
     "text": [
      "KDB_M 字段已更新\n"
     ]
    }
   ],
   "source": [
    "KDB2blocks(\n",
    "    raster_name=\"KDB_M1\",\n",
    "    block_feature_class=\"blocks_initial\",\n",
    "    zone_field=\"Block_ID\",\n",
    "    new_field_name=\"KDB_M\"\n",
    ")"
   ]
  },
  {
   "cell_type": "code",
   "execution_count": 4,
   "metadata": {},
   "outputs": [
    {
     "name": "stdout",
     "output_type": "stream",
     "text": [
      "KDB_G 字段已更新\n"
     ]
    }
   ],
   "source": [
    "KDB2blocks(\n",
    "    raster_name=\"KDB_G1\",\n",
    "    block_feature_class=\"blocks_initial\",\n",
    "    zone_field=\"Block_ID\",\n",
    "    new_field_name=\"KDB_G\"\n",
    ")"
   ]
  },
  {
   "cell_type": "code",
   "execution_count": 5,
   "metadata": {},
   "outputs": [
    {
     "name": "stdout",
     "output_type": "stream",
     "text": [
      "KDB_S 字段已更新\n"
     ]
    }
   ],
   "source": [
    "KDB2blocks(\n",
    "    raster_name=\"KDB_S1\",\n",
    "    block_feature_class=\"blocks_initial\",\n",
    "    zone_field=\"Block_ID\",\n",
    "    new_field_name=\"KDB_S\"\n",
    ")"
   ]
  },
  {
   "cell_type": "code",
   "execution_count": 6,
   "metadata": {},
   "outputs": [
    {
     "name": "stdout",
     "output_type": "stream",
     "text": [
      "KDB_B 字段已更新\n"
     ]
    }
   ],
   "source": [
    "KDB2blocks(\n",
    "    raster_name=\"KDB_B1\",\n",
    "    block_feature_class=\"blocks_initial\",\n",
    "    zone_field=\"Block_ID\",\n",
    "    new_field_name=\"KDB_B\"\n",
    ")"
   ]
  },
  {
   "cell_type": "code",
   "execution_count": 7,
   "metadata": {},
   "outputs": [
    {
     "name": "stdout",
     "output_type": "stream",
     "text": [
      "KDB_R 字段已更新\n"
     ]
    }
   ],
   "source": [
    "KDB2blocks(\n",
    "    raster_name=\"KDB_R1\",\n",
    "    block_feature_class=\"blocks_initial\",\n",
    "    zone_field=\"Block_ID\",\n",
    "    new_field_name=\"KDB_R\"\n",
    ")"
   ]
  },
  {
   "cell_type": "code",
   "execution_count": 8,
   "metadata": {},
   "outputs": [
    {
     "name": "stdout",
     "output_type": "stream",
     "text": [
      "KDB_A 字段已更新\n"
     ]
    }
   ],
   "source": [
    "KDB2blocks(\n",
    "    raster_name=\"KDB_A1\",\n",
    "    block_feature_class=\"blocks_initial\",\n",
    "    zone_field=\"Block_ID\",\n",
    "    new_field_name=\"KDB_A\"\n",
    ")"
   ]
  },
  {
   "cell_type": "markdown",
   "metadata": {},
   "source": [
    "#### 步骤五：构建POI去从聚调整字段"
   ]
  },
  {
   "cell_type": "markdown",
   "metadata": {},
   "source": [
    "##### 四叉树自适应划分格网"
   ]
  },
  {
   "cell_type": "code",
   "execution_count": 20,
   "metadata": {},
   "outputs": [],
   "source": [
    "# 四叉树节点类\n",
    "class QuadTreeNode:\n",
    "    node_count = 0  # 用于生成唯一的格网ID\n",
    "    \n",
    "    def __init__(self, extent, max_points=1000, max_depth=5, depth=0):\n",
    "        self.extent = extent  # 节点的空间范围\n",
    "        self.children = []  # 子节点列表\n",
    "        self.max_points = max_points  # 每个节点能包含的最大点数\n",
    "        self.max_depth = max_depth  # 树的最大深度\n",
    "        self.depth = depth  # 当前节点的深度\n",
    "        self.points = []  # 此节点包含的POI点列表\n",
    "        self.grid_id = QuadTreeNode.node_count  # 唯一的格网ID\n",
    "        QuadTreeNode.node_count += 1\n",
    "        \n",
    "    # 分割当前节点为四个子节点\n",
    "    def split(self):\n",
    "        xmin, ymin, xmax, ymax = self.extent\n",
    "        xmid, ymid = (xmin + xmax) / 2, (ymin + ymax) / 2\n",
    "        \n",
    "        # 定义四个子区域的空间范围\n",
    "        extents = [\n",
    "            (xmin, ymin, xmid, ymid),  # 西南\n",
    "            (xmid, ymin, xmax, ymid),  # 东南\n",
    "            (xmin, ymid, xmid, ymax),  # 西北\n",
    "            (xmid, ymid, xmax, ymax)   # 东北\n",
    "        ]\n",
    "    \n",
    "        # 为每个子区域创建一个新的四叉树节点\n",
    "        for extent in extents:\n",
    "            self.children.append(QuadTreeNode(extent, max_points=self.max_points, max_depth=self.max_depth, depth=self.depth + 1))\n",
    "            \n",
    "    # 将一个点插入四叉树中，并存储格网ID或节点引用\n",
    "    def insert(self, point):\n",
    "        if not self._contains(point):\n",
    "            return False  # 点不在当前节点的范围内\n",
    "\n",
    "        if len(self.points) < self.max_points or self.depth == self.max_depth:\n",
    "            self.points.append(point)  # 如果节点未满，或达到最大深度，直接添加点\n",
    "            return True\n",
    "\n",
    "        if not self.children:\n",
    "            self.split()  # 如果子节点不存在，先分割当前节点\n",
    "\n",
    "        return any(child.insert(point) for child in self.children)\n",
    "    \n",
    "    # 检查点是否在当前节点的范围内\n",
    "    def _contains(self, point):\n",
    "        x, y = point\n",
    "        xmin, ymin, xmax, ymax = self.extent\n",
    "        return xmin <= x < xmax and ymin <= y < ymax"
   ]
  },
  {
   "cell_type": "code",
   "execution_count": 21,
   "metadata": {},
   "outputs": [],
   "source": [
    "# 构建四叉树并为每个POI点分配格网ID\n",
    "def build_quadtree_and_assign_grid_ids(poi_layer, root):\n",
    "    with arcpy.da.UpdateCursor(poi_layer, [\"SHAPE@XY\", \"GridID\"]) as cursor:\n",
    "        for row in cursor:\n",
    "            point = row[0]\n",
    "            if root.insert(point):\n",
    "                # 如果点被插入到四叉树，更新其格网ID\n",
    "                row[1] = find_grid_id(root, point)\n",
    "                cursor.updateRow(row)"
   ]
  },
  {
   "cell_type": "code",
   "execution_count": 22,
   "metadata": {},
   "outputs": [],
   "source": [
    "# 递归查找包含给定点的节点的格网ID\n",
    "def find_grid_id(node, point):\n",
    "    if node._contains(point):\n",
    "        if not node.children or node.depth == node.max_depth:\n",
    "            return node.grid_id\n",
    "        for child in node.children:\n",
    "            grid_id = find_grid_id(child, point)\n",
    "            if grid_id is not None:\n",
    "                return grid_id\n",
    "    return None"
   ]
  },
  {
   "cell_type": "markdown",
   "metadata": {},
   "source": [
    "##### 定义基本参数"
   ]
  },
  {
   "cell_type": "code",
   "execution_count": 24,
   "metadata": {},
   "outputs": [],
   "source": [
    "# 根据研究区域边界矢量数据生成四叉树覆盖的空间范围\n",
    "ring3 = r\"E:\\stu1\\Projects\\POI2023\\POI2023.gdb\\ring3\"\n",
    "boundary_extent = arcpy.Describe(ring3).extent\n",
    "tree_extent = (boundary_extent.XMin, boundary_extent.YMin, boundary_extent.XMax, boundary_extent.YMax)"
   ]
  },
  {
   "cell_type": "code",
   "execution_count": 25,
   "metadata": {},
   "outputs": [],
   "source": [
    "# 创建四叉树的根节点\n",
    "max_points_per_node = 100\n",
    "max_depth = 7\n",
    "root = QuadTreeNode(tree_extent, max_points=max_points_per_node, max_depth=max_depth)"
   ]
  },
  {
   "cell_type": "markdown",
   "metadata": {},
   "source": [
    "##### 去从聚调整"
   ]
  },
  {
   "cell_type": "code",
   "execution_count": 26,
   "metadata": {},
   "outputs": [],
   "source": [
    "# 计算每个格网内POI的数量\n",
    "def calculate_grid_poi_counts(poi_layer):\n",
    "    grid_poi_counts = {}\n",
    "    with arcpy.da.SearchCursor(poi_layer, [\"GridID\"]) as cursor:\n",
    "        for row in cursor:\n",
    "            grid_id = row[0]\n",
    "            grid_poi_counts[grid_id] = grid_poi_counts.get(grid_id, 0) + 1\n",
    "    return grid_poi_counts"
   ]
  },
  {
   "cell_type": "code",
   "execution_count": 31,
   "metadata": {},
   "outputs": [],
   "source": [
    "# 为每个POI点分配权重\n",
    "def assign_weights_to_pois(poi_layer, grid_poi_counts):\n",
    "    # 计算有POI的格网总数\n",
    "    total_occupied_grids = len(grid_poi_counts)\n",
    "    # 计算每个格网的权重\n",
    "    grid_weight = 1.0 / total_occupied_grids if total_occupied_grids else 0\n",
    "    \n",
    "    with arcpy.da.UpdateCursor(poi_layer, [\"GridID\", \"Decluster\"]) as cursor:\n",
    "        for row in cursor:\n",
    "            grid_id = row[0]\n",
    "            poi_count = grid_poi_counts.get(grid_id, 0)\n",
    "            Decluster = grid_weight / poi_count if poi_count > 0 else 0\n",
    "            row[1] = Decluster\n",
    "            cursor.updateRow(row)"
   ]
  },
  {
   "cell_type": "markdown",
   "metadata": {},
   "source": [
    "##### 遍历不同类型POI"
   ]
  },
  {
   "cell_type": "code",
   "execution_count": 32,
   "metadata": {},
   "outputs": [],
   "source": [
    "def process_poi_layer(poi_layer_name, poi_layer):\n",
    "    print(f\"开始处理图层: {poi_layer_name}\")\n",
    "    arcpy.AddField_management(poi_layer, \"GridID\", \"LONG\")\n",
    "    arcpy.AddField_management(poi_layer, \"Decluster\", \"FLOAT\")\n",
    "    build_quadtree_and_assign_grid_ids(poi_layer, root)\n",
    "    grid_poi_counts = calculate_grid_poi_counts(poi_layer)\n",
    "    assign_weights_to_pois(poi_layer, grid_poi_counts)\n",
    "    print(f\"图层处理完成: {poi_layer_name}\")"
   ]
  },
  {
   "cell_type": "code",
   "execution_count": 33,
   "metadata": {},
   "outputs": [
    {
     "name": "stdout",
     "output_type": "stream",
     "text": [
      "开始处理图层: shapefile_R\n",
      "图层处理完成: shapefile_R\n",
      "开始处理图层: shapefile_A\n",
      "图层处理完成: shapefile_A\n",
      "开始处理图层: shapefile_B\n",
      "图层处理完成: shapefile_B\n",
      "开始处理图层: shapefile_M\n",
      "图层处理完成: shapefile_M\n",
      "开始处理图层: shapefile_S\n",
      "图层处理完成: shapefile_S\n",
      "开始处理图层: shapefile_G\n",
      "图层处理完成: shapefile_G\n"
     ]
    }
   ],
   "source": [
    "# 列出所有待处理的 POI 图层名称及其对应的图层对象\n",
    "poi_layers = {\n",
    "    \"shapefile_R\": shapefile_R,\n",
    "    \"shapefile_A\": shapefile_A,\n",
    "    \"shapefile_B\": shapefile_B,\n",
    "    \"shapefile_M\": shapefile_M,\n",
    "    \"shapefile_S\": shapefile_S,\n",
    "    \"shapefile_G\": shapefile_G\n",
    "}\n",
    "\n",
    "# 对每个图层执行处理，并加上进度说明\n",
    "for poi_layer_name, poi_layer in poi_layers.items():\n",
    "    process_poi_layer(poi_layer_name, poi_layer)"
   ]
  },
  {
   "cell_type": "code",
   "execution_count": null,
   "metadata": {},
   "outputs": [],
   "source": [
    "# 列出所有待处理的 POI 图层名称及其对应的图层对象\n",
    "poi_layers = {\n",
    "    \"shapefile_R\": r\"E:\\stu1\\Projects\\POI2023\\POI2023.gdb\\JOIN_A_Project\",\n",
    "    \"shapefile_A\": r\"E:\\stu1\\Projects\\POI2023\\POI2023.gdb\\JOIN_A_Project\",\n",
    "    \"shapefile_B\": r\"E:\\stu1\\Projects\\POI2023\\POI2023.gdb\\JOIN_A_Project\",\n",
    "    \"shapefile_M\": r\"E:\\stu1\\Projects\\POI2023\\POI2023.gdb\\JOIN_A_Project\",\n",
    "    \"shapefile_S\": r\"E:\\stu1\\Projects\\POI2023\\POI2023.gdb\\JOIN_A_Project\",\n",
    "    \"shapefile_G\": r\"E:\\stu1\\Projects\\POI2023\\POI2023.gdb\\JOIN_A_Project\"\n",
    "}\n",
    "\n",
    "# 对每个图层执行处理，并加上进度说明\n",
    "for poi_layer_name, poi_layer in poi_layers.items():\n",
    "    process_poi_layer(poi_layer_name, poi_layer)"
   ]
  },
  {
   "cell_type": "code",
   "execution_count": null,
   "metadata": {},
   "outputs": [],
   "source": []
  },
  {
   "cell_type": "markdown",
   "metadata": {
    "heading_collapsed": true
   },
   "source": [
    "#### 其他"
   ]
  },
  {
   "cell_type": "code",
   "execution_count": null,
   "metadata": {
    "hidden": true
   },
   "outputs": [],
   "source": [
    "# 为POI图层中的每个点构建四叉树并分配格网ID\n",
    "build_quadtree_and_assign_grid_ids(poi_layer, root)"
   ]
  },
  {
   "cell_type": "code",
   "execution_count": null,
   "metadata": {
    "hidden": true
   },
   "outputs": [],
   "source": [
    "# 计算每个格网内POI的数量\n",
    "grid_poi_counts = calculate_grid_poi_counts(poi_layer)"
   ]
  },
  {
   "cell_type": "code",
   "execution_count": null,
   "metadata": {
    "hidden": true
   },
   "outputs": [],
   "source": [
    "# 为每个POI点分配权重\n",
    "assign_weights_to_pois(poi_layer, grid_poi_counts)"
   ]
  },
  {
   "cell_type": "code",
   "execution_count": null,
   "metadata": {
    "hidden": true
   },
   "outputs": [],
   "source": []
  }
 ],
 "metadata": {
  "kernelspec": {
   "display_name": "ArcGISPro",
   "language": "Python",
   "name": "python3"
  },
  "language_info": {
   "file_extension": ".py",
   "name": "python",
   "version": "3"
  }
 },
 "nbformat": 4,
 "nbformat_minor": 2
}
