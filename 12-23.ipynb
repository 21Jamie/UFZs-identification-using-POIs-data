{
 "cells": [
  {
   "cell_type": "code",
   "execution_count": 1,
   "metadata": {},
   "outputs": [],
   "source": [
    "# 12-22年的POI数据\n",
    "# 复制BLOCKS,增加年份信息\n",
    "# 默认工作环境\n",
    "import arcpy\n",
    "from arcpy.sa import *\n",
    "arcpy.env.workspace = r\"E:\\stu1\\Projects\\POI2023\\POIs.gdb\""
   ]
  },
  {
   "cell_type": "code",
   "execution_count": 2,
   "metadata": {},
   "outputs": [],
   "source": [
    "# 裁剪\n",
    "def clip_pois_by_range(start_year, end_year, base_folder):\n",
    "    \"\"\"\n",
    "    Clips POIs from start_year to end_year using a predefined ring.\n",
    "\n",
    "    Args:\n",
    "    - start_year: The starting year (inclusive).\n",
    "    - end_year: The ending year (inclusive).\n",
    "    - base_folder: The base folder where the GDBs are located.\n",
    "    \"\"\"\n",
    "    # 定义裁剪用的环形区域路径\n",
    "    ring_path = r\"E:\\stu1\\Projects\\POI2023\\POI2023.gdb\\ring3\"\n",
    "    \n",
    "    for year in range(start_year, end_year + 1):\n",
    "        # 定义待裁剪的POI路径和裁剪结果的路径\n",
    "        poi_path = fr\"{base_folder}\\POIs.gdb\\POI{year}\"\n",
    "        output_path = fr\"{base_folder}\\POIs.gdb\\Ring3_POI{year}\"\n",
    "        \n",
    "        # 执行裁剪操作\n",
    "        arcpy.Clip_analysis(poi_path, ring_path, output_path)\n",
    "        print(f\"Completed clipping for POI{year}\")"
   ]
  },
  {
   "cell_type": "code",
   "execution_count": 3,
   "metadata": {},
   "outputs": [
    {
     "name": "stdout",
     "output_type": "stream",
     "text": [
      "Completed clipping for POI12\n",
      "Completed clipping for POI13\n",
      "Completed clipping for POI14\n",
      "Completed clipping for POI15\n",
      "Completed clipping for POI16\n",
      "Completed clipping for POI17\n",
      "Completed clipping for POI18\n",
      "Completed clipping for POI19\n",
      "Completed clipping for POI20\n",
      "Completed clipping for POI21\n",
      "Completed clipping for POI22\n"
     ]
    }
   ],
   "source": [
    "# 使用函数示例\n",
    "base_folder = r\"E:\\stu1\\Projects\\POI2023\"\n",
    "clip_pois_by_range(12, 22, base_folder)"
   ]
  },
  {
   "cell_type": "code",
   "execution_count": 2,
   "metadata": {},
   "outputs": [],
   "source": [
    "# 定义不同功能区对应的POI类型\n",
    "typecode_ranges = {\n",
    "    'R': [str(num) for num in range(120300, 120305)] + # 住宅区\n",
    "        [\"120000\"],   # 商务住宅相关\n",
    "    \n",
    "    'A': [\"080400\", \"080401\", \"080402\"] + # 度假疗养场所\n",
    "        [\"080600\", \"080601\", \"080602\", \"080603\"] + # 影剧院\n",
    "        [\"090100\", \"090101\", \"090102\"] + # 综合医院\n",
    "        [f\"{num:06d}\" for num in range(90200, 90212)] +  # 专科医院\n",
    "        [\"090000\", \"090400\", \"090500\"] +\n",
    "        [f\"{num:06d}\" for num in range(130100, 130108)] +  # 政府机关\n",
    "        [f\"{num:06d}\" for num in range(130400, 130410)] +  # 社会团体\n",
    "        [\"130200\", \"130201\", \"130202\"] + # 外国机构\n",
    "        [\"130700\", \"130701\", \"130702\", \"130703\"] + # 工商税务机构\n",
    "        [f\"{num:06d}\" for num in range(130600, 130607)] +  # 交通车辆管理\n",
    "        [\"140100\", \"140101\", \"140102\"] + # 博物馆\n",
    "        [\"140200\", \"140201\"] + # 展览馆\n",
    "        [\"140300\", \"140400\", \"140500\", \"140600\", \"140800\", \"140900\", \"141000\"] +\n",
    "        [f\"{num:06d}\" for num in range(141100, 141106 )] + # 传媒机构\n",
    "        [f\"{num:06d}\" for num in range(141200, 141208 )] + # 学校\n",
    "        [\"141300\", \"141400\"],    # 公共管理与公共服务设施用地\n",
    "    \n",
    "    'B': [f\"{num:06d}\" for num in range(50100, 50124)] +  # 中餐厅\n",
    "        [f\"{num:06d}\" for num in range(50200, 50218)] +  # 外国餐厅\n",
    "        [f\"{num:06d}\" for num in range(60100, 60104)] +  # 商场\n",
    "        [f\"{num:06d}\" for num in range(60400, 60416)] +  # 超级市场\n",
    "        [\"061000\", \"061001\"] + # 特色商业街\n",
    "        [f\"{num:06d}\" for num in range(100100, 100106)] +  # 宾馆酒店\n",
    "        [f\"{num:06d}\" for num in range(160100, 160153)] +  # 银行\n",
    "        [f\"{num:06d}\" for num in range(160400, 160409)] +  # 保险公司\n",
    "        [f\"{num:06d}\" for num in range(160500, 160502)] + # 证券公司\n",
    "        [\"120201\", \"120203\"], #楼宇     # 商业服务业设施用地\n",
    "    \n",
    "    'M': [\"120100\"] +  # 产业园区\n",
    "        [\"170300\"] + # 工厂\n",
    "        [f\"{num:06d}\" for num in range(170200, 170210)],   # 公司   # 工业用地\n",
    "    \n",
    "    'S': [\"150200\"] + # 火车站\n",
    "        [\"150104\"] + # 飞机场\n",
    "        [\"150300\"] + # 港口相关\n",
    "        [\"180200\"] + # 收费站\n",
    "        [\"180300\"], # 服务区 # 交通与道路设施用地\n",
    "    \n",
    "    'G': [f\"{num:06d}\" for num in range(110100, 110106)] +  # 公园广场\n",
    "        [f\"{num:06d}\" for num in range(110200, 110211)]    # 风景名胜 # 绿地与广场用地\n",
    "}"
   ]
  },
  {
   "cell_type": "code",
   "execution_count": 9,
   "metadata": {},
   "outputs": [],
   "source": [
    "import arcpy\n",
    "\n",
    "def classify_and_save_pois_by_year_and_type(start_year, end_year, typecode_ranges, base_input_folder, base_output_folder):\n",
    "    \"\"\"\n",
    "    对指定年份范围内的POI进行分类，并根据类型代码保存至指定数据库中。\n",
    "\n",
    "    Args:\n",
    "    - start_year: 开始年份。\n",
    "    - end_year: 结束年份。\n",
    "    - typecode_ranges: 一个字典，键为分类名称，值为类型代码列表。\n",
    "    - base_input_folder: 输入的基本文件夹路径。\n",
    "    - base_output_folder: 输出的基本文件夹路径。\n",
    "    \"\"\"\n",
    "    for year in range(start_year, end_year + 1):\n",
    "        input_feature_class = fr\"{base_input_folder}\\POIs.gdb\\Ring3_POI{year}\"\n",
    "        layer_name = f\"inputPoiLayer_{year}\"\n",
    "\n",
    "        # 检查并删除现有图层\n",
    "        if arcpy.Exists(layer_name):\n",
    "            arcpy.management.Delete(layer_name)\n",
    "\n",
    "        # 创建新的图层\n",
    "        input_poi_layer = arcpy.MakeFeatureLayer_management(input_feature_class, layer_name).getOutput(0)\n",
    "        \n",
    "        # 添加一个新字段，用于存储转换为字符串的TYPECODE\n",
    "        new_field_name = \"TYPECODE_STR\"\n",
    "        arcpy.AddField_management(input_poi_layer, new_field_name, \"TEXT\")\n",
    "        \n",
    "        # 计算新字段的值，将TYPECODE的值转换为字符串\n",
    "        arcpy.CalculateField_management(input_poi_layer, new_field_name, \"!TYPECODE!\", \"PYTHON3\")\n",
    "\n",
    "        for category, codes in typecode_ranges.items():\n",
    "            # 创建查询表达式，使用新的字符串字段\n",
    "            codes_string = \"', '\".join([str(code) for code in codes])\n",
    "            query = f\"{new_field_name} IN ('{codes_string}')\"\n",
    "            \n",
    "            try:\n",
    "                # 按类型代码筛选POI\n",
    "                arcpy.SelectLayerByAttribute_management(input_poi_layer, \"NEW_SELECTION\", query)\n",
    "                \n",
    "                # 保存筛选结果为新的要素类\n",
    "                output_feature_class = fr\"{base_output_folder}\\POIs.gdb\\POI{year}_{category}\"\n",
    "                arcpy.CopyFeatures_management(input_poi_layer, output_feature_class)\n",
    "                \n",
    "                print(f\"分类保存完成：{output_feature_class}\")\n",
    "            except Exception as e:\n",
    "                print(f\"An error occurred while processing POI{year}_{category}: {e}\")\n",
    "\n",
    "            # 清除当前的选择\n",
    "            arcpy.SelectLayerByAttribute_management(input_poi_layer, \"CLEAR_SELECTION\")\n",
    "\n",
    "        # 删除用完的图层以避免名称冲突\n",
    "        arcpy.management.Delete(input_poi_layer)\n",
    "\n",
    "    print(\"所有分类完成\")\n"
   ]
  },
  {
   "cell_type": "code",
   "execution_count": 10,
   "metadata": {},
   "outputs": [
    {
     "name": "stdout",
     "output_type": "stream",
     "text": [
      "分类保存完成：E:\\stu1\\Projects\\POI2023\\POIs.gdb\\POI13_R\n",
      "分类保存完成：E:\\stu1\\Projects\\POI2023\\POIs.gdb\\POI13_A\n",
      "分类保存完成：E:\\stu1\\Projects\\POI2023\\POIs.gdb\\POI13_B\n",
      "分类保存完成：E:\\stu1\\Projects\\POI2023\\POIs.gdb\\POI13_M\n",
      "分类保存完成：E:\\stu1\\Projects\\POI2023\\POIs.gdb\\POI13_S\n",
      "分类保存完成：E:\\stu1\\Projects\\POI2023\\POIs.gdb\\POI13_G\n",
      "分类保存完成：E:\\stu1\\Projects\\POI2023\\POIs.gdb\\POI14_R\n",
      "分类保存完成：E:\\stu1\\Projects\\POI2023\\POIs.gdb\\POI14_A\n",
      "分类保存完成：E:\\stu1\\Projects\\POI2023\\POIs.gdb\\POI14_B\n",
      "分类保存完成：E:\\stu1\\Projects\\POI2023\\POIs.gdb\\POI14_M\n",
      "分类保存完成：E:\\stu1\\Projects\\POI2023\\POIs.gdb\\POI14_S\n",
      "分类保存完成：E:\\stu1\\Projects\\POI2023\\POIs.gdb\\POI14_G\n",
      "分类保存完成：E:\\stu1\\Projects\\POI2023\\POIs.gdb\\POI15_R\n",
      "分类保存完成：E:\\stu1\\Projects\\POI2023\\POIs.gdb\\POI15_A\n",
      "分类保存完成：E:\\stu1\\Projects\\POI2023\\POIs.gdb\\POI15_B\n",
      "分类保存完成：E:\\stu1\\Projects\\POI2023\\POIs.gdb\\POI15_M\n",
      "分类保存完成：E:\\stu1\\Projects\\POI2023\\POIs.gdb\\POI15_S\n",
      "分类保存完成：E:\\stu1\\Projects\\POI2023\\POIs.gdb\\POI15_G\n",
      "分类保存完成：E:\\stu1\\Projects\\POI2023\\POIs.gdb\\POI16_R\n",
      "分类保存完成：E:\\stu1\\Projects\\POI2023\\POIs.gdb\\POI16_A\n",
      "分类保存完成：E:\\stu1\\Projects\\POI2023\\POIs.gdb\\POI16_B\n",
      "分类保存完成：E:\\stu1\\Projects\\POI2023\\POIs.gdb\\POI16_M\n",
      "分类保存完成：E:\\stu1\\Projects\\POI2023\\POIs.gdb\\POI16_S\n",
      "分类保存完成：E:\\stu1\\Projects\\POI2023\\POIs.gdb\\POI16_G\n",
      "分类保存完成：E:\\stu1\\Projects\\POI2023\\POIs.gdb\\POI17_R\n",
      "分类保存完成：E:\\stu1\\Projects\\POI2023\\POIs.gdb\\POI17_A\n",
      "分类保存完成：E:\\stu1\\Projects\\POI2023\\POIs.gdb\\POI17_B\n",
      "分类保存完成：E:\\stu1\\Projects\\POI2023\\POIs.gdb\\POI17_M\n",
      "分类保存完成：E:\\stu1\\Projects\\POI2023\\POIs.gdb\\POI17_S\n",
      "分类保存完成：E:\\stu1\\Projects\\POI2023\\POIs.gdb\\POI17_G\n"
     ]
    },
    {
     "ename": "ExecuteError",
     "evalue": "ERROR 000539: Invalid field TYPECODE\nFailed to execute (CalculateField).\n",
     "output_type": "error",
     "traceback": [
      "\u001b[0;31m---------------------------------------------------------------------------\u001b[0m\n\u001b[0;31mExecuteError\u001b[0m                              Traceback (most recent call last)",
      "In  \u001b[0;34m[10]\u001b[0m:\nLine \u001b[0;34m6\u001b[0m:     classify_and_save_pois_by_year_and_type(start_year, end_year, typecode_ranges, base_input_folder, base_output_folder)\n",
      "In  \u001b[0;34m[9]\u001b[0m:\nLine \u001b[0;34m30\u001b[0m:    arcpy.CalculateField_management(input_poi_layer, new_field_name, \u001b[33m\"\u001b[39;49;00m\u001b[33m!TYPECODE!\u001b[39;49;00m\u001b[33m\"\u001b[39;49;00m, \u001b[33m\"\u001b[39;49;00m\u001b[33mPYTHON3\u001b[39;49;00m\u001b[33m\"\u001b[39;49;00m)\n",
      "File \u001b[0;34mC:\\Program Files\\ArcGIS\\Pro\\Resources\\ArcPy\\arcpy\\management.py\u001b[0m, in \u001b[0;32mCalculateField\u001b[0m:\nLine \u001b[0;34m5786\u001b[0m:  \u001b[34mraise\u001b[39;49;00m e\n",
      "File \u001b[0;34mC:\\Program Files\\ArcGIS\\Pro\\Resources\\ArcPy\\arcpy\\management.py\u001b[0m, in \u001b[0;32mCalculateField\u001b[0m:\nLine \u001b[0;34m5783\u001b[0m:  retval = convertArcObjectToPythonObject(gp.CalculateField_management(*gp_fixargs((in_table, field, expression, expression_type, code_block, field_type, enforce_domains), \u001b[34mTrue\u001b[39;49;00m)))\n",
      "File \u001b[0;34mC:\\Program Files\\ArcGIS\\Pro\\Resources\\ArcPy\\arcpy\\geoprocessing\\_base.py\u001b[0m, in \u001b[0;32m<lambda>\u001b[0m:\nLine \u001b[0;34m512\u001b[0m:   \u001b[34mreturn\u001b[39;49;00m \u001b[34mlambda\u001b[39;49;00m *args: val(*gp_fixargs(args, \u001b[34mTrue\u001b[39;49;00m))\n",
      "\u001b[0;31mExecuteError\u001b[0m: ERROR 000539: Invalid field TYPECODE\nFailed to execute (CalculateField).\n\n\u001b[0;31m---------------------------------------------------------------------------\u001b[0m"
     ]
    }
   ],
   "source": [
    "base_input_folder = r\"E:\\stu1\\Projects\\POI2023\"\n",
    "base_output_folder = r\"E:\\stu1\\Projects\\POI2023\"\n",
    "start_year = 13\n",
    "end_year = 22\n",
    "\n",
    "classify_and_save_pois_by_year_and_type(start_year, end_year, typecode_ranges, base_input_folder, base_output_folder)"
   ]
  },
  {
   "cell_type": "code",
   "execution_count": null,
   "metadata": {},
   "outputs": [],
   "source": []
  },
  {
   "cell_type": "code",
   "execution_count": null,
   "metadata": {},
   "outputs": [],
   "source": []
  },
  {
   "cell_type": "code",
   "execution_count": 6,
   "metadata": {},
   "outputs": [],
   "source": [
    "# 输入的POI要素类\n",
    "input_feature_class = r\"E:\\stu1\\Projects\\POI2023\\POIs.gdb\\POI13\""
   ]
  },
  {
   "cell_type": "code",
   "execution_count": 7,
   "metadata": {},
   "outputs": [],
   "source": [
    "if arcpy.Exists(\"inputPoiLayer\"):  # 检查图层是否存在\n",
    "    arcpy.management.Delete(\"inputPoiLayer\")  # 如果存在，则删除\n",
    "\n",
    "# 之后再创建图层\n",
    "input_poi_layer = arcpy.MakeFeatureLayer_management(input_feature_class, \"inputPoiLayer\").getOutput(0)"
   ]
  },
  {
   "cell_type": "code",
   "execution_count": 8,
   "metadata": {},
   "outputs": [
    {
     "ename": "ExecuteError",
     "evalue": "ERROR 000358: Invalid expression\nFailed to execute (SelectLayerByAttribute).\n",
     "output_type": "error",
     "traceback": [
      "\u001b[0;31m---------------------------------------------------------------------------\u001b[0m\n\u001b[0;31mExecuteError\u001b[0m                              Traceback (most recent call last)",
      "In  \u001b[0;34m[8]\u001b[0m:\nLine \u001b[0;34m6\u001b[0m:     arcpy.SelectLayerByAttribute_management(input_poi_layer, \u001b[33m\"\u001b[39;49;00m\u001b[33mNEW_SELECTION\u001b[39;49;00m\u001b[33m\"\u001b[39;49;00m, query)\n",
      "File \u001b[0;34mC:\\Program Files\\ArcGIS\\Pro\\Resources\\ArcPy\\arcpy\\management.py\u001b[0m, in \u001b[0;32mSelectLayerByAttribute\u001b[0m:\nLine \u001b[0;34m10780\u001b[0m: \u001b[34mraise\u001b[39;49;00m e\n",
      "File \u001b[0;34mC:\\Program Files\\ArcGIS\\Pro\\Resources\\ArcPy\\arcpy\\management.py\u001b[0m, in \u001b[0;32mSelectLayerByAttribute\u001b[0m:\nLine \u001b[0;34m10777\u001b[0m: retval = convertArcObjectToPythonObject(gp.SelectLayerByAttribute_management(*gp_fixargs((in_layer_or_view, selection_type, where_clause, invert_where_clause), \u001b[34mTrue\u001b[39;49;00m)))\n",
      "File \u001b[0;34mC:\\Program Files\\ArcGIS\\Pro\\Resources\\ArcPy\\arcpy\\geoprocessing\\_base.py\u001b[0m, in \u001b[0;32m<lambda>\u001b[0m:\nLine \u001b[0;34m512\u001b[0m:   \u001b[34mreturn\u001b[39;49;00m \u001b[34mlambda\u001b[39;49;00m *args: val(*gp_fixargs(args, \u001b[34mTrue\u001b[39;49;00m))\n",
      "\u001b[0;31mExecuteError\u001b[0m: ERROR 000358: Invalid expression\nFailed to execute (SelectLayerByAttribute).\n\n\u001b[0;31m---------------------------------------------------------------------------\u001b[0m"
     ]
    }
   ],
   "source": [
    "for category, codes in typecode_ranges.items():\n",
    "    # 创建查询\n",
    "    query = \"typecode IN ('{}')\".format(\"', '\".join(codes))\n",
    "\n",
    "    # 按类型代码筛选POI\n",
    "    arcpy.SelectLayerByAttribute_management(input_poi_layer, \"NEW_SELECTION\", query)\n",
    "\n",
    "    # 保存筛选结果为新的要素类\n",
    "    output_feature_class = \"E:\\stu1\\Projects\\POI2023\\POIs.gdb\\POI13_{}\".format(category)\n",
    "    arcpy.CopyFeatures_management(input_poi_layer, output_feature_class)\n",
    "\n",
    "    print(\"分类保存完成：\", output_feature_class)\n",
    "\n",
    "    # 清除当前的选择\n",
    "    arcpy.SelectLayerByAttribute_management(input_poi_layer, \"CLEAR_SELECTION\")\n",
    "\n",
    "print(\"所有分类完成\")"
   ]
  },
  {
   "cell_type": "code",
   "execution_count": 3,
   "metadata": {},
   "outputs": [],
   "source": [
    "import arcpy\n",
    "\n",
    "def classify_and_save_pois_by_year_and_type(start_year, end_year, typecode_ranges, base_input_folder, base_output_folder):\n",
    "    \"\"\"\n",
    "    对指定年份范围内的POI进行分类，并根据类型代码保存至指定数据库中。\n",
    "\n",
    "    Args:\n",
    "    - start_year: 开始年份。\n",
    "    - end_year: 结束年份。\n",
    "    - typecode_ranges: 一个字典，键为分类名称，值为类型代码列表。\n",
    "    - base_input_folder: 输入的基本文件夹路径。\n",
    "    - base_output_folder: 输出的基本文件夹路径。\n",
    "    \"\"\"\n",
    "    for year in range(start_year, end_year + 1):\n",
    "        input_feature_class = fr\"{base_input_folder}\\POIs.gdb\\Ring3_POI{year}\"\n",
    "        \n",
    "        # 检查并删除现有图层\n",
    "        if arcpy.Exists(\"inputPoiLayer\"):\n",
    "            arcpy.management.Delete(\"inputPoiLayer\")\n",
    "        \n",
    "        # 创建新的图层\n",
    "        input_poi_layer = arcpy.MakeFeatureLayer_management(input_feature_class, \"inputPoiLayer\").getOutput(0)\n",
    "        \n",
    "        for category, codes in typecode_ranges.items():\n",
    "            # 创建查询\n",
    "            query = \"typecode IN ('{}')\".format(\"', '\".join(codes))\n",
    "            \n",
    "            # 按类型代码筛选POI\n",
    "            arcpy.SelectLayerByAttribute_management(input_poi_layer, \"NEW_SELECTION\", query)\n",
    "            \n",
    "            # 保存筛选结果为新的要素类\n",
    "            output_feature_class = fr\"{base_output_folder}\\POIs.gdb\\POI{year}_{category}\"\n",
    "            arcpy.CopyFeatures_management(input_poi_layer, output_feature_class)\n",
    "            \n",
    "            print(\"分类保存完成：\", output_feature_class)\n",
    "            \n",
    "            # 清除当前的选择\n",
    "            arcpy.SelectLayerByAttribute_management(input_poi_layer, \"CLEAR_SELECTION\")\n",
    "\n",
    "    print(\"所有分类完成\")"
   ]
  },
  {
   "cell_type": "code",
   "execution_count": null,
   "metadata": {},
   "outputs": [],
   "source": []
  },
  {
   "cell_type": "code",
   "execution_count": null,
   "metadata": {},
   "outputs": [],
   "source": []
  },
  {
   "cell_type": "code",
   "execution_count": null,
   "metadata": {},
   "outputs": [],
   "source": [
    "for category, codes in typecode_ranges.items():\n",
    "    # 创建查询\n",
    "    query = \"typecode IN ('{}')\".format(\"', '\".join(codes))\n",
    "\n",
    "    # 按类型代码筛选POI\n",
    "    arcpy.SelectLayerByAttribute_management(input_poi_layer, \"NEW_SELECTION\", query)\n",
    "\n",
    "    # 保存筛选结果为新的要素类\n",
    "    output_feature_class = \"E:/stu1/Projects/POI2023/POI2023.gdb/poi23/POI_{}\".format(category)\n",
    "    arcpy.CopyFeatures_management(input_poi_layer, output_feature_class)\n",
    "\n",
    "    print(\"分类保存完成：\", output_feature_class)\n",
    "\n",
    "    # 清除当前的选择\n",
    "    arcpy.SelectLayerByAttribute_management(input_poi_layer, \"CLEAR_SELECTION\")\n",
    "\n",
    "print(\"所有分类完成\")"
   ]
  },
  {
   "cell_type": "code",
   "execution_count": null,
   "metadata": {},
   "outputs": [],
   "source": [
    "# POI分类保存"
   ]
  },
  {
   "cell_type": "code",
   "execution_count": null,
   "metadata": {},
   "outputs": [],
   "source": [
    "# 构建影响因子"
   ]
  },
  {
   "cell_type": "code",
   "execution_count": null,
   "metadata": {},
   "outputs": [],
   "source": [
    "# 空间链接"
   ]
  },
  {
   "cell_type": "code",
   "execution_count": null,
   "metadata": {},
   "outputs": [],
   "source": [
    "# 去从聚"
   ]
  },
  {
   "cell_type": "code",
   "execution_count": null,
   "metadata": {},
   "outputs": [],
   "source": [
    "# 计算频数密度"
   ]
  },
  {
   "cell_type": "code",
   "execution_count": null,
   "metadata": {},
   "outputs": [],
   "source": [
    "# 计算网络约束的核密度"
   ]
  },
  {
   "cell_type": "code",
   "execution_count": null,
   "metadata": {},
   "outputs": [],
   "source": [
    "# 识别功能区结果"
   ]
  },
  {
   "cell_type": "code",
   "execution_count": null,
   "metadata": {},
   "outputs": [],
   "source": [
    "# 去丛聚频数密度\n"
   ]
  },
  {
   "cell_type": "code",
   "execution_count": null,
   "metadata": {},
   "outputs": [],
   "source": [
    "#"
   ]
  },
  {
   "cell_type": "code",
   "execution_count": null,
   "metadata": {},
   "outputs": [],
   "source": [
    "# 网络约束的核密度"
   ]
  }
 ],
 "metadata": {
  "kernelspec": {
   "display_name": "ArcGISPro",
   "language": "Python",
   "name": "python3"
  },
  "language_info": {
   "file_extension": ".py",
   "name": "python",
   "version": "3"
  }
 },
 "nbformat": 4,
 "nbformat_minor": 2
}
