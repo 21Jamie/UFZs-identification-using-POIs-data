{
 "cells": [
  {
   "cell_type": "code",
   "execution_count": 1,
   "metadata": {},
   "outputs": [],
   "source": [
    "# 导入所需模块\n",
    "import arcpy"
   ]
  },
  {
   "cell_type": "code",
   "execution_count": 1,
   "metadata": {},
   "outputs": [],
   "source": [
    "import pandas as pd\n",
    "import matplotlib.pyplot as plt"
   ]
  },
  {
   "cell_type": "code",
   "execution_count": 2,
   "metadata": {},
   "outputs": [],
   "source": [
    "# 设置环境\n",
    "arcpy.env.workspace = r\"E:\\stu1\\Projects\\POI2023\\POI2023.gdb\""
   ]
  },
  {
   "cell_type": "markdown",
   "metadata": {
    "heading_collapsed": true
   },
   "source": [
    "# 筛选POI"
   ]
  },
  {
   "cell_type": "code",
   "execution_count": 7,
   "metadata": {
    "hidden": true
   },
   "outputs": [],
   "source": [
    "# 输入的POI要素类\n",
    "input_feature_class = r\"E:\\stu1\\Projects\\POI2023\\POI2023.gdb\\clipped_poi\""
   ]
  },
  {
   "cell_type": "code",
   "execution_count": 8,
   "metadata": {
    "hidden": true
   },
   "outputs": [],
   "source": [
    "# 创建一个新的要素图层\n",
    "input_poi_layer = arcpy.MakeFeatureLayer_management(input_feature_class, \"inputPoiLayer\").getOutput(0)"
   ]
  },
  {
   "cell_type": "code",
   "execution_count": 5,
   "metadata": {
    "hidden": true
   },
   "outputs": [],
   "source": [
    "# 定义不同功能区对应的POI类型\n",
    "typecode_ranges = {\n",
    "    'R': [str(num) for num in range(120300, 120305)],   # 居住用地\n",
    "    'A': [f\"{num:06d}\" for num in range(80000, 80007)] +  # 从 080000 到 080006\n",
    "        [f\"{num:06d}\" for num in range(80100, 80120)] +  # 从 080100 到 080119\n",
    "        [f\"{num:06d}\" for num in range(80200, 80203)] +  # 从 080200 到 080202\n",
    "        [f\"{num:06d}\" for num in range(80300, 80309)] +  # 从 080300 到 080308\n",
    "        [f\"{num:06d}\" for num in range(141100, 141206)],  # 从 141100 到 141205  # 公共管理与公共服务设施用地\n",
    "    'B': [f\"{num:06d}\" for num in range(50100, 50124)] +  # 从 050100 到 050123\n",
    "        [f\"{num:06d}\" for num in range(50200, 50218)] +  # 从 050200 到 050217\n",
    "        [f\"{num:06d}\" for num in range(60100, 60104)] +  # 从 060100 到 060103\n",
    "        [f\"{num:06d}\" for num in range(60400, 60410)] +  # 从 060400 到 060409\n",
    "        [f\"{num:06d}\" for num in range(61000, 61002)] +  # 从 061000 到 061001\n",
    "        [f\"{num:06d}\" for num in range(160400, 160409)] +  # 从 160400 到 160408\n",
    "        [f\"{num:06d}\" for num in range(160500, 160502)],   # 从 160500 到 160501   # 商业服务业设施用地\n",
    "    'M': [\"120100\"] +  # 单独的值\n",
    "        [\"120202\"] +  # 单独的值\n",
    "        [\"170000\"] +  # 单独的值\n",
    "        [f\"{num:06d}\" for num in range(170100, 170101)] +  # 从 170100 到 170100\n",
    "        [f\"{num:06d}\" for num in range(170200, 170209)] +  # 从 170200 到 170208\n",
    "        [f\"{num:06d}\" for num in range(170300, 170301)] +  # 从 170300 到 170300\n",
    "        [f\"{num:06d}\" for num in range(170400, 170409)],   # 从 170400 到 170408    # 工业用地\n",
    "    'S': [f\"{num:06d}\" for num in range(150104, 150108)] +  # 从 150104 到 150107\n",
    "        [f\"{num:06d}\" for num in range(150200, 150211)] +  # 从 150200 到 150210\n",
    "        [f\"{num:06d}\" for num in range(150300, 150308)] +  # 从 150300 到 150307\n",
    "        [\"180000\"] +                                    # 单独的值\n",
    "        [f\"{num:06d}\" for num in range(180100, 180105)] +  # 从 180100 到 180104\n",
    "        [f\"{num:06d}\" for num in range(180200, 180204)] +  # 从 180200 到 180203\n",
    "        [f\"{num:06d}\" for num in range(180300, 180303)] +  # 从 180300 到 180302\n",
    "        [\"180400\", \"180500\"],                              # 单独的值 # 交通与道路设施用地\n",
    "    'G': [\"110000\"] +  # 单独的值\n",
    "        [f\"{num:06d}\" for num in range(110100, 110107)] +  # 从 110100 到 110106\n",
    "        [f\"{num:06d}\" for num in range(110200, 110211)]    # 从 110200 到 110210 # 绿地与广场用地\n",
    "}\n"
   ]
  },
  {
   "cell_type": "code",
   "execution_count": 9,
   "metadata": {
    "hidden": true
   },
   "outputs": [
    {
     "name": "stdout",
     "output_type": "stream",
     "text": [
      "分类保存完成： POI_R\n",
      "分类保存完成： POI_A\n",
      "分类保存完成： POI_B\n",
      "分类保存完成： POI_M\n",
      "分类保存完成： POI_S\n",
      "分类保存完成： POI_G\n",
      "所有分类完成\n"
     ]
    }
   ],
   "source": [
    "for category, codes in typecode_ranges.items():\n",
    "    # 创建查询\n",
    "    query = \"typecode IN ('{}')\".format(\"', '\".join(codes))\n",
    "\n",
    "    # 按类型代码筛选POI\n",
    "    arcpy.SelectLayerByAttribute_management(input_poi_layer, \"NEW_SELECTION\", query)\n",
    "\n",
    "    # 保存筛选结果为新的要素类\n",
    "    output_feature_class = \"POI_{}\".format(category)\n",
    "    arcpy.CopyFeatures_management(input_poi_layer, output_feature_class)\n",
    "\n",
    "    print(\"分类保存完成：\", output_feature_class)\n",
    "\n",
    "    # 清除当前的选择\n",
    "    arcpy.SelectLayerByAttribute_management(input_poi_layer, \"CLEAR_SELECTION\")\n",
    "\n",
    "print(\"所有分类完成\")"
   ]
  },
  {
   "cell_type": "markdown",
   "metadata": {
    "heading_collapsed": true
   },
   "source": [
    "# 权重赋值"
   ]
  },
  {
   "cell_type": "code",
   "execution_count": 10,
   "metadata": {
    "hidden": true
   },
   "outputs": [],
   "source": [
    "# R类型的Shapefile路径\n",
    "shapefile_R = r\"E:\\stu1\\Projects\\POI2023\\POI2023.gdb\\POI_R\""
   ]
  },
  {
   "cell_type": "code",
   "execution_count": 11,
   "metadata": {
    "hidden": true
   },
   "outputs": [
    {
     "name": "stdout",
     "output_type": "stream",
     "text": [
      "权重更新完成 for 类型 R\n"
     ]
    }
   ],
   "source": [
    "# 添加权重字段\n",
    "arcpy.AddField_management(shapefile_R, \"Weight\", \"DOUBLE\")\n",
    "\n",
    "# 更新权重\n",
    "with arcpy.da.UpdateCursor(shapefile_R, [\"Weight\"]) as cursor:\n",
    "    for row in cursor:\n",
    "        row[0] = 0.01  # R类型的权重为0.01\n",
    "        cursor.updateRow(row)\n",
    "\n",
    "print(\"权重更新完成 for 类型 R\")"
   ]
  },
  {
   "cell_type": "code",
   "execution_count": 12,
   "metadata": {
    "hidden": true
   },
   "outputs": [],
   "source": [
    "# A类型的Shapefile路径\n",
    "shapefile_A = r\"E:\\stu1\\Projects\\POI2023\\POI2023.gdb\\POI_A\""
   ]
  },
  {
   "cell_type": "code",
   "execution_count": 13,
   "metadata": {
    "hidden": true
   },
   "outputs": [
    {
     "name": "stdout",
     "output_type": "stream",
     "text": [
      "权重更新完成 for 类型 A\n"
     ]
    }
   ],
   "source": [
    "# 添加权重字段\n",
    "arcpy.AddField_management(shapefile_A, \"Weight\", \"DOUBLE\")\n",
    "\n",
    "# 更新权重\n",
    "with arcpy.da.UpdateCursor(shapefile_A, [\"typecode\", \"Weight\"]) as cursor:\n",
    "    for row in cursor:\n",
    "        typecode = row[0]\n",
    "        if typecode.startswith('14'):\n",
    "            row[1] = 0.6706\n",
    "        elif typecode.startswith('08'):\n",
    "            row[1] = 0.501\n",
    "        elif typecode.startswith('09'):\n",
    "            row[1] = 0.5069\n",
    "        elif typecode.startswith('13'):\n",
    "            row[1] = 0.355\n",
    "        cursor.updateRow(row)\n",
    "\n",
    "print(\"权重更新完成 for 类型 A\")"
   ]
  },
  {
   "cell_type": "code",
   "execution_count": 14,
   "metadata": {
    "hidden": true
   },
   "outputs": [],
   "source": [
    "# B类型的Shapefile路径\n",
    "shapefile_B = r\"E:\\stu1\\Projects\\POI2023\\POI2023.gdb\\POI_B\""
   ]
  },
  {
   "cell_type": "code",
   "execution_count": 15,
   "metadata": {
    "hidden": true
   },
   "outputs": [
    {
     "name": "stdout",
     "output_type": "stream",
     "text": [
      "权重更新完成 for 类型 B\n"
     ]
    }
   ],
   "source": [
    "# 添加权重字段\n",
    "arcpy.AddField_management(shapefile_B, \"Weight\", \"DOUBLE\")\n",
    "\n",
    "# 更新权重\n",
    "with arcpy.da.UpdateCursor(shapefile_B, [\"typecode\", \"Weight\"]) as cursor:\n",
    "    for row in cursor:\n",
    "        typecode = row[0]\n",
    "        if typecode.startswith('05') or typecode.startswith('10'):\n",
    "            row[1] = 0.5562\n",
    "        elif typecode.startswith('06'):\n",
    "            row[1] = 0.8146\n",
    "        elif typecode.startswith('16') or typecode.startswith('12'):\n",
    "            row[1] = 0.3057\n",
    "        cursor.updateRow(row)\n",
    "\n",
    "print(\"权重更新完成 for 类型 B\")"
   ]
  },
  {
   "cell_type": "code",
   "execution_count": 16,
   "metadata": {
    "hidden": true
   },
   "outputs": [],
   "source": [
    "# M类型的Shapefile路径\n",
    "shapefile_M = r\"E:\\stu1\\Projects\\POI2023\\POI2023.gdb\\POI_M\""
   ]
  },
  {
   "cell_type": "code",
   "execution_count": 17,
   "metadata": {
    "hidden": true
   },
   "outputs": [
    {
     "name": "stdout",
     "output_type": "stream",
     "text": [
      "权重更新完成 for 类型 M\n"
     ]
    }
   ],
   "source": [
    "# 添加权重字段\n",
    "arcpy.AddField_management(shapefile_M, \"Weight\", \"DOUBLE\")\n",
    "\n",
    "# 更新权重\n",
    "with arcpy.da.UpdateCursor(shapefile_M, [\"Weight\"]) as cursor:\n",
    "    for row in cursor:\n",
    "        row[0] = 0.3057  # M类型的权重为0.3057\n",
    "        cursor.updateRow(row)\n",
    "\n",
    "print(\"权重更新完成 for 类型 M\")"
   ]
  },
  {
   "cell_type": "code",
   "execution_count": 18,
   "metadata": {
    "hidden": true
   },
   "outputs": [],
   "source": [
    "# S类型的Shapefile路径\n",
    "shapefile_S = r\"E:\\stu1\\Projects\\POI2023\\POI2023.gdb\\POI_S\""
   ]
  },
  {
   "cell_type": "code",
   "execution_count": 19,
   "metadata": {
    "hidden": true
   },
   "outputs": [
    {
     "name": "stdout",
     "output_type": "stream",
     "text": [
      "权重更新完成 for 类型 S\n"
     ]
    }
   ],
   "source": [
    "# 添加权重字段\n",
    "arcpy.AddField_management(shapefile_S, \"Weight\", \"DOUBLE\")\n",
    "\n",
    "# 更新权重\n",
    "with arcpy.da.UpdateCursor(shapefile_S, [\"typecode\", \"Weight\"]) as cursor:\n",
    "    for row in cursor:\n",
    "        typecode = row[0]\n",
    "        if typecode.startswith('15'):\n",
    "            row[1] = 1.0\n",
    "        elif typecode.startswith('18'):\n",
    "            row[1] = 0.01\n",
    "        cursor.updateRow(row)\n",
    "\n",
    "print(\"权重更新完成 for 类型 S\")"
   ]
  },
  {
   "cell_type": "code",
   "execution_count": 20,
   "metadata": {
    "hidden": true
   },
   "outputs": [],
   "source": [
    "# G类型的Shapefile路径\n",
    "shapefile_G = r\"E:\\stu1\\Projects\\POI2023\\POI2023.gdb\\POI_G\""
   ]
  },
  {
   "cell_type": "code",
   "execution_count": 21,
   "metadata": {
    "hidden": true
   },
   "outputs": [
    {
     "name": "stdout",
     "output_type": "stream",
     "text": [
      "权重更新完成 for 类型 G\n"
     ]
    }
   ],
   "source": [
    "# 添加权重字段\n",
    "arcpy.AddField_management(shapefile_G, \"Weight\", \"DOUBLE\")\n",
    "\n",
    "# 更新权重\n",
    "with arcpy.da.UpdateCursor(shapefile_G, [\"typecode\", \"Weight\"]) as cursor:\n",
    "    for row in cursor:\n",
    "        typecode = row[0]\n",
    "        if typecode.startswith('1101'):\n",
    "            row[1] = 0.6548\n",
    "        elif typecode.startswith('1102'):\n",
    "            row[1] = 0.8245\n",
    "        cursor.updateRow(row)\n",
    "\n",
    "print(\"权重更新完成 for 类型 G\")"
   ]
  },
  {
   "cell_type": "markdown",
   "metadata": {
    "heading_collapsed": true
   },
   "source": [
    "# 空间连接"
   ]
  },
  {
   "cell_type": "code",
   "execution_count": 3,
   "metadata": {
    "hidden": true
   },
   "outputs": [],
   "source": [
    "# 街区图层路径\n",
    "block_layer = r\"E:\\stu1\\Projects\\POI2023\\POI2023.gdb\\block23\\block23\""
   ]
  },
  {
   "cell_type": "code",
   "execution_count": 3,
   "metadata": {
    "hidden": true
   },
   "outputs": [
    {
     "name": "stdout",
     "output_type": "stream",
     "text": [
      "街区编码完成\n"
     ]
    }
   ],
   "source": [
    "# 添加 BlockID 字段\n",
    "arcpy.AddField_management(block_layer, \"BlockID\", \"LONG\")\n",
    "\n",
    "# 为每个街区赋予独特编码\n",
    "counter = 1\n",
    "with arcpy.da.UpdateCursor(block_layer, [\"BlockID\"]) as cursor:\n",
    "    for row in cursor:\n",
    "        row[0] = counter\n",
    "        counter += 1\n",
    "        cursor.updateRow(row)\n",
    "\n",
    "print(\"街区编码完成\")"
   ]
  },
  {
   "cell_type": "code",
   "execution_count": 5,
   "metadata": {
    "hidden": true
   },
   "outputs": [
    {
     "name": "stdout",
     "output_type": "stream",
     "text": [
      "空间连接完成 for 类型 R\n"
     ]
    }
   ],
   "source": [
    "# 对类型 R 的 POI 进行空间连接\n",
    "poi_layer_R = r\"E:\\stu1\\Projects\\POI2023\\POI2023.gdb\\POI_R\"  # 类型 R 的 POI 图层\n",
    "output_layer_R = r\"E:\\stu1\\Projects\\POI2023\\POI2023.gdb\\block23\\join_poiR\"  # 输出图层\n",
    "\n",
    "# 执行空间连接\n",
    "arcpy.SpatialJoin_analysis(target_features=poi_layer_R, \n",
    "                           join_features=block_layer, \n",
    "                           out_feature_class=output_layer_R, \n",
    "                           join_operation=\"JOIN_ONE_TO_ONE\", \n",
    "                           join_type=\"KEEP_ALL\")\n",
    "\n",
    "print(\"空间连接完成 for 类型 R\")\n"
   ]
  },
  {
   "cell_type": "code",
   "execution_count": 8,
   "metadata": {
    "hidden": true
   },
   "outputs": [
    {
     "name": "stdout",
     "output_type": "stream",
     "text": [
      "空间连接完成 for 类型 A\n"
     ]
    }
   ],
   "source": [
    "# 对类型 A 的 POI 进行空间连接\n",
    "poi_layer_A = r\"E:\\stu1\\Projects\\POI2023\\POI2023.gdb\\POI_A\"  # 类型 A 的 POI 图层\n",
    "output_layer_A = r\"E:\\stu1\\Projects\\POI2023\\POI2023.gdb\\block23\\join_poiA\"  # 输出图层\n",
    "\n",
    "# 执行空间连接\n",
    "arcpy.SpatialJoin_analysis(target_features=poi_layer_A, \n",
    "                           join_features=block_layer, \n",
    "                           out_feature_class=output_layer_A, \n",
    "                           join_operation=\"JOIN_ONE_TO_ONE\", \n",
    "                           join_type=\"KEEP_ALL\")\n",
    "\n",
    "print(\"空间连接完成 for 类型 A\")"
   ]
  },
  {
   "cell_type": "code",
   "execution_count": 10,
   "metadata": {
    "hidden": true
   },
   "outputs": [
    {
     "name": "stdout",
     "output_type": "stream",
     "text": [
      "空间连接完成 for 类型 B\n"
     ]
    }
   ],
   "source": [
    "# 对类型 B 的 POI 进行空间连接\n",
    "poi_layer_B = r\"E:\\stu1\\Projects\\POI2023\\POI2023.gdb\\POI_B\"  # 类型 B 的 POI 图层\n",
    "output_layer_B = r\"E:\\stu1\\Projects\\POI2023\\POI2023.gdb\\block23\\join_poiB\"  # 输出图层\n",
    "\n",
    "# 执行空间连接\n",
    "arcpy.SpatialJoin_analysis(target_features=poi_layer_B, \n",
    "                           join_features=block_layer, \n",
    "                           out_feature_class=output_layer_B, \n",
    "                           join_operation=\"JOIN_ONE_TO_ONE\", \n",
    "                           join_type=\"KEEP_ALL\")\n",
    "\n",
    "print(\"空间连接完成 for 类型 B\")"
   ]
  },
  {
   "cell_type": "code",
   "execution_count": 11,
   "metadata": {
    "hidden": true
   },
   "outputs": [
    {
     "name": "stdout",
     "output_type": "stream",
     "text": [
      "空间连接完成 for 类型 M\n"
     ]
    }
   ],
   "source": [
    "# 对类型 M 的 POI 进行空间连接\n",
    "poi_layer_M = r\"E:\\stu1\\Projects\\POI2023\\POI2023.gdb\\POI_M\"  # 类型 M 的 POI 图层\n",
    "output_layer_M = r\"E:\\stu1\\Projects\\POI2023\\POI2023.gdb\\block23\\join_poiM\"  # 输出图层\n",
    "\n",
    "# 执行空间连接\n",
    "arcpy.SpatialJoin_analysis(target_features=poi_layer_M, \n",
    "                           join_features=block_layer, \n",
    "                           out_feature_class=output_layer_M, \n",
    "                           join_operation=\"JOIN_ONE_TO_ONE\", \n",
    "                           join_type=\"KEEP_ALL\")\n",
    "\n",
    "print(\"空间连接完成 for 类型 M\")"
   ]
  },
  {
   "cell_type": "code",
   "execution_count": 12,
   "metadata": {
    "hidden": true
   },
   "outputs": [
    {
     "name": "stdout",
     "output_type": "stream",
     "text": [
      "空间连接完成 for 类型 S\n"
     ]
    }
   ],
   "source": [
    "# 对类型 S 的 POI 进行空间连接\n",
    "poi_layer_S = r\"E:\\stu1\\Projects\\POI2023\\POI2023.gdb\\POI_S\"  # 类型 S 的 POI 图层\n",
    "output_layer_S = r\"E:\\stu1\\Projects\\POI2023\\POI2023.gdb\\block23\\join_poiS\"  # 输出图层\n",
    "\n",
    "# 执行空间连接\n",
    "arcpy.SpatialJoin_analysis(target_features=poi_layer_S, \n",
    "                           join_features=block_layer, \n",
    "                           out_feature_class=output_layer_S, \n",
    "                           join_operation=\"JOIN_ONE_TO_ONE\", \n",
    "                           join_type=\"KEEP_ALL\")\n",
    "\n",
    "print(\"空间连接完成 for 类型 S\")"
   ]
  },
  {
   "cell_type": "code",
   "execution_count": 13,
   "metadata": {
    "hidden": true
   },
   "outputs": [
    {
     "name": "stdout",
     "output_type": "stream",
     "text": [
      "空间连接完成 for 类型 G\n"
     ]
    }
   ],
   "source": [
    "# 对类型 G 的 POI 进行空间连接\n",
    "poi_layer_G = r\"E:\\stu1\\Projects\\POI2023\\POI2023.gdb\\POI_G\"  # 类型 G 的 POI 图层\n",
    "output_layer_G = r\"E:\\stu1\\Projects\\POI2023\\POI2023.gdb\\block23\\join_poiG\"  # 输出图层\n",
    "\n",
    "# 执行空间连接\n",
    "arcpy.SpatialJoin_analysis(target_features=poi_layer_G, \n",
    "                           join_features=block_layer, \n",
    "                           out_feature_class=output_layer_G, \n",
    "                           join_operation=\"JOIN_ONE_TO_ONE\", \n",
    "                           join_type=\"KEEP_ALL\")\n",
    "\n",
    "print(\"空间连接完成 for 类型 G\")"
   ]
  },
  {
   "cell_type": "markdown",
   "metadata": {
    "hidden": true
   },
   "source": [
    "## 将路网空间内的点归类到距离最近的街区单元中"
   ]
  },
  {
   "cell_type": "code",
   "execution_count": 4,
   "metadata": {
    "hidden": true
   },
   "outputs": [],
   "source": [
    "# 创建一个 BlockID 为 Null 的 POI 点的图层\n",
    "poi_layer= r\"E:\\stu1\\Projects\\POI2023\\POI2023.gdb\\block23\\join_poiR\"\n",
    "poi_layer_null_blockid = \"Null_BlockID_Layer\""
   ]
  },
  {
   "cell_type": "code",
   "execution_count": 15,
   "metadata": {
    "hidden": true
   },
   "outputs": [
    {
     "data": {
      "text/html": [
       "<div class='gpresult'><h2>Messages</h2><div id='messages' data-messages='[\"Start Time: 2024年1月11日 11:56:11\",\"Succeeded at 2024年1月11日 11:56:11 (Elapsed Time: 0.03 seconds)\"]' data-show='true'><div id = 'default' /></div></div>"
      ],
      "text/plain": [
       "<Result 'Null_BlockID_Layer'>"
      ]
     },
     "execution_count": 15,
     "metadata": {},
     "output_type": "execute_result"
    }
   ],
   "source": [
    "arcpy.MakeFeatureLayer_management(poi_layer, poi_layer_null_blockid,'\"Join_Count\" = 0')"
   ]
  },
  {
   "cell_type": "code",
   "execution_count": 5,
   "metadata": {
    "hidden": true
   },
   "outputs": [
    {
     "data": {
      "text/html": [
       "<div class='gpresult'><h2>Messages</h2><div id='messages' data-messages='[\"Start Time: 2024年1月11日 12:01:42\",\"Determining data processing extents...\",\"Adding NEAR_FID to join_poiR...\",\"Adding NEAR_DIST to join_poiR...\",\"Building a neighborhood index from the Near Features...\",\"Generating Near Table...\",\"Found 299 feature(s)\",\"Succeeded at 2024年1月11日 12:01:43 (Elapsed Time: 0.99 seconds)\"]' data-show='true'><div id = 'default' /></div></div>"
      ],
      "text/plain": [
       "<Result 'Null_BlockID_Layer'>"
      ]
     },
     "execution_count": 5,
     "metadata": {},
     "output_type": "execute_result"
    }
   ],
   "source": [
    "\n",
    "# 使用 Near Analysis 找到最近的街区\n",
    "arcpy.analysis.Near(poi_layer_null_blockid, block_layer)\n",
    "\n",
    "# Near Analysis 将添加两个字段：NEAR_FID 和 NEAR_DIST\n"
   ]
  },
  {
   "cell_type": "code",
   "execution_count": 7,
   "metadata": {
    "hidden": true
   },
   "outputs": [
    {
     "name": "stdout",
     "output_type": "stream",
     "text": [
      "更新 BlockID 完成\n"
     ]
    }
   ],
   "source": [
    "# 更新 BlockID 为最近街区的 BlockID\n",
    "with arcpy.da.UpdateCursor(poi_layer_null_blockid, [\"NEAR_FID\", \"BlockID\"]) as cursor:\n",
    "    for row in cursor:\n",
    "        # 获取最近街区的 FID\n",
    "        near_fid = row[0]\n",
    "\n",
    "        # 查找对应街区的 BlockID\n",
    "        with arcpy.da.SearchCursor(block_layer, [\"OBJECTID\", \"BlockID\"]) as block_cursor:\n",
    "            for block_row in block_cursor:\n",
    "                if block_row[0] == near_fid:\n",
    "                    row[1] = block_row[1]\n",
    "                    cursor.updateRow(row)\n",
    "                    break\n",
    "\n",
    "print(\"更新 BlockID 完成\")\n"
   ]
  },
  {
   "cell_type": "code",
   "execution_count": 9,
   "metadata": {
    "hidden": true
   },
   "outputs": [
    {
     "name": "stdout",
     "output_type": "stream",
     "text": [
      "更新 BlockID 完成 FOR A\n"
     ]
    }
   ],
   "source": [
    "# 创建一个 BlockID 为 Null 的 POI 点的图层\n",
    "poi_layer_A= r\"E:\\stu1\\Projects\\POI2023\\POI2023.gdb\\block23\\join_poiA\"\n",
    "poi_layer_null_blockid_A = \"Null_BlockID_Layer_A\"\n",
    "\n",
    "arcpy.MakeFeatureLayer_management(poi_layer_A, poi_layer_null_blockid_A,'\"Join_Count\" = 0')\n",
    "\n",
    "# 使用 Near Analysis 找到最近的街区\n",
    "arcpy.analysis.Near(poi_layer_null_blockid_A, block_layer)\n",
    "\n",
    "# 更新 BlockID 为最近街区的 BlockID\n",
    "with arcpy.da.UpdateCursor(poi_layer_null_blockid_A, [\"NEAR_FID\", \"BlockID\"]) as cursor:\n",
    "    for row in cursor:\n",
    "        # 获取最近街区的 FID\n",
    "        near_fid = row[0]\n",
    "\n",
    "        # 查找对应街区的 BlockID\n",
    "        with arcpy.da.SearchCursor(block_layer, [\"OBJECTID\", \"BlockID\"]) as block_cursor:\n",
    "            for block_row in block_cursor:\n",
    "                if block_row[0] == near_fid:\n",
    "                    row[1] = block_row[1]\n",
    "                    cursor.updateRow(row)\n",
    "                    break\n",
    "\n",
    "print(\"更新 BlockID 完成 FOR A\")"
   ]
  },
  {
   "cell_type": "code",
   "execution_count": 14,
   "metadata": {
    "hidden": true
   },
   "outputs": [
    {
     "name": "stdout",
     "output_type": "stream",
     "text": [
      "更新 BlockID 完成 FOR B\n"
     ]
    }
   ],
   "source": [
    "# 创建一个 BlockID 为 Null 的 POI 点的图层\n",
    "poi_layer_B= r\"E:\\stu1\\Projects\\POI2023\\POI2023.gdb\\block23\\join_poiB\"\n",
    "poi_layer_null_blockid_B = \"Null_BlockID_Layer_B\"\n",
    "\n",
    "arcpy.MakeFeatureLayer_management(poi_layer_B, poi_layer_null_blockid_B,'\"Join_Count\" = 0')\n",
    "\n",
    "# 使用 Near Analysis 找到最近的街区\n",
    "arcpy.analysis.Near(poi_layer_null_blockid_B, block_layer)\n",
    "\n",
    "# 更新 BlockID 为最近街区的 BlockID\n",
    "with arcpy.da.UpdateCursor(poi_layer_null_blockid_B, [\"NEAR_FID\", \"BlockID\"]) as cursor:\n",
    "    for row in cursor:\n",
    "        # 获取最近街区的 FID\n",
    "        near_fid = row[0]\n",
    "\n",
    "        # 查找对应街区的 BlockID\n",
    "        with arcpy.da.SearchCursor(block_layer, [\"OBJECTID\", \"BlockID\"]) as block_cursor:\n",
    "            for block_row in block_cursor:\n",
    "                if block_row[0] == near_fid:\n",
    "                    row[1] = block_row[1]\n",
    "                    cursor.updateRow(row)\n",
    "                    break\n",
    "\n",
    "print(\"更新 BlockID 完成 FOR B\")"
   ]
  },
  {
   "cell_type": "code",
   "execution_count": 15,
   "metadata": {
    "hidden": true
   },
   "outputs": [
    {
     "name": "stdout",
     "output_type": "stream",
     "text": [
      "更新 BlockID 完成 FOR M\n"
     ]
    }
   ],
   "source": [
    "# 创建一个 BlockID 为 Null 的 POI 点的图层\n",
    "poi_layer_M= r\"E:\\stu1\\Projects\\POI2023\\POI2023.gdb\\block23\\join_poiM\"\n",
    "poi_layer_null_blockid_M = \"Null_BlockID_Layer_M\"\n",
    "\n",
    "arcpy.MakeFeatureLayer_management(poi_layer_M, poi_layer_null_blockid_M,'\"Join_Count\" = 0')\n",
    "\n",
    "# 使用 Near Analysis 找到最近的街区\n",
    "arcpy.analysis.Near(poi_layer_null_blockid_M, block_layer)\n",
    "\n",
    "# 更新 BlockID 为最近街区的 BlockID\n",
    "with arcpy.da.UpdateCursor(poi_layer_null_blockid_M, [\"NEAR_FID\", \"BlockID\"]) as cursor:\n",
    "    for row in cursor:\n",
    "        # 获取最近街区的 FID\n",
    "        near_fid = row[0]\n",
    "\n",
    "        # 查找对应街区的 BlockID\n",
    "        with arcpy.da.SearchCursor(block_layer, [\"OBJECTID\", \"BlockID\"]) as block_cursor:\n",
    "            for block_row in block_cursor:\n",
    "                if block_row[0] == near_fid:\n",
    "                    row[1] = block_row[1]\n",
    "                    cursor.updateRow(row)\n",
    "                    break\n",
    "\n",
    "print(\"更新 BlockID 完成 FOR M\")"
   ]
  },
  {
   "cell_type": "code",
   "execution_count": 16,
   "metadata": {
    "hidden": true
   },
   "outputs": [
    {
     "name": "stdout",
     "output_type": "stream",
     "text": [
      "更新 BlockID 完成 FOR S\n"
     ]
    }
   ],
   "source": [
    "# 创建一个 BlockID 为 Null 的 POI 点的图层\n",
    "poi_layer_S= r\"E:\\stu1\\Projects\\POI2023\\POI2023.gdb\\block23\\join_poiS\"\n",
    "poi_layer_null_blockid_S = \"Null_BlockID_Layer_S\"\n",
    "\n",
    "arcpy.MakeFeatureLayer_management(poi_layer_S, poi_layer_null_blockid_S,'\"Join_Count\" = 0')\n",
    "\n",
    "# 使用 Near Analysis 找到最近的街区\n",
    "arcpy.analysis.Near(poi_layer_null_blockid_S, block_layer)\n",
    "\n",
    "# 更新 BlockID 为最近街区的 BlockID\n",
    "with arcpy.da.UpdateCursor(poi_layer_null_blockid_S, [\"NEAR_FID\", \"BlockID\"]) as cursor:\n",
    "    for row in cursor:\n",
    "        # 获取最近街区的 FID\n",
    "        near_fid = row[0]\n",
    "\n",
    "        # 查找对应街区的 BlockID\n",
    "        with arcpy.da.SearchCursor(block_layer, [\"OBJECTID\", \"BlockID\"]) as block_cursor:\n",
    "            for block_row in block_cursor:\n",
    "                if block_row[0] == near_fid:\n",
    "                    row[1] = block_row[1]\n",
    "                    cursor.updateRow(row)\n",
    "                    break\n",
    "\n",
    "print(\"更新 BlockID 完成 FOR S\")"
   ]
  },
  {
   "cell_type": "code",
   "execution_count": 17,
   "metadata": {
    "hidden": true
   },
   "outputs": [
    {
     "name": "stdout",
     "output_type": "stream",
     "text": [
      "更新 BlockID 完成 FOR G\n"
     ]
    }
   ],
   "source": [
    "# 创建一个 BlockID 为 Null 的 POI 点的图层\n",
    "poi_layer_G= r\"E:\\stu1\\Projects\\POI2023\\POI2023.gdb\\block23\\join_poiG\"\n",
    "poi_layer_null_blockid_G = \"Null_BlockID_Layer_G\"\n",
    "\n",
    "arcpy.MakeFeatureLayer_management(poi_layer_G, poi_layer_null_blockid_G,'\"Join_Count\" = 0')\n",
    "\n",
    "# 使用 Near Analysis 找到最近的街区\n",
    "arcpy.analysis.Near(poi_layer_null_blockid_G, block_layer)\n",
    "\n",
    "# 更新 BlockID 为最近街区的 BlockID\n",
    "with arcpy.da.UpdateCursor(poi_layer_null_blockid_G, [\"NEAR_FID\", \"BlockID\"]) as cursor:\n",
    "    for row in cursor:\n",
    "        # 获取最近街区的 FID\n",
    "        near_fid = row[0]\n",
    "\n",
    "        # 查找对应街区的 BlockID\n",
    "        with arcpy.da.SearchCursor(block_layer, [\"OBJECTID\", \"BlockID\"]) as block_cursor:\n",
    "            for block_row in block_cursor:\n",
    "                if block_row[0] == near_fid:\n",
    "                    row[1] = block_row[1]\n",
    "                    cursor.updateRow(row)\n",
    "                    break\n",
    "\n",
    "print(\"更新 BlockID 完成 FOR G\")"
   ]
  },
  {
   "cell_type": "markdown",
   "metadata": {
    "heading_collapsed": true
   },
   "source": [
    "# 将所有的POI汇总为poi23"
   ]
  },
  {
   "cell_type": "code",
   "execution_count": 20,
   "metadata": {
    "hidden": true
   },
   "outputs": [],
   "source": [
    "import arcpy\n",
    "\n",
    "# POI 文件列表及其对应的类别\n",
    "poi_files_and_types = {\n",
    "    r\"E:\\stu1\\Projects\\POI2023\\POI2023.gdb\\block23\\join_poiR\": \"R\",\n",
    "    r\"E:\\stu1\\Projects\\POI2023\\POI2023.gdb\\block23\\join_poiA\": \"A\",\n",
    "    r\"E:\\stu1\\Projects\\POI2023\\POI2023.gdb\\block23\\join_poiB\": \"B\",\n",
    "    r\"E:\\stu1\\Projects\\POI2023\\POI2023.gdb\\block23\\join_poiM\": \"M\",\n",
    "    r\"E:\\stu1\\Projects\\POI2023\\POI2023.gdb\\block23\\join_poiS\": \"S\",\n",
    "    r\"E:\\stu1\\Projects\\POI2023\\POI2023.gdb\\block23\\join_poiG\": \"G\"\n",
    "    \n",
    "}\n",
    "\n",
    "for poi_file, poi_type in poi_files_and_types.items():\n",
    "    # 添加新字段\n",
    "    arcpy.AddField_management(poi_file, \"Type\", \"TEXT\")\n",
    "\n",
    "    # 填充新字段的值\n",
    "    with arcpy.da.UpdateCursor(poi_file, [\"Type\"]) as cursor:\n",
    "        for row in cursor:\n",
    "            row[0] = poi_type\n",
    "            cursor.updateRow(row)"
   ]
  },
  {
   "cell_type": "code",
   "execution_count": 4,
   "metadata": {
    "hidden": true
   },
   "outputs": [],
   "source": [
    "# 要合并的要素类列表\n",
    "poi_files = [r\"E:\\stu1\\Projects\\POI2023\\POI2023.gdb\\block23\\join_poiR\",\n",
    "                   r\"E:\\stu1\\Projects\\POI2023\\POI2023.gdb\\block23\\join_poiA\",\n",
    "                   r\"E:\\stu1\\Projects\\POI2023\\POI2023.gdb\\block23\\join_poiB\",\n",
    "                   r\"E:\\stu1\\Projects\\POI2023\\POI2023.gdb\\block23\\join_poiM\",\n",
    "                   r\"E:\\stu1\\Projects\\POI2023\\POI2023.gdb\\block23\\join_poiS\",\n",
    "                   r\"E:\\stu1\\Projects\\POI2023\\POI2023.gdb\\block23\\join_poiG\"]"
   ]
  },
  {
   "cell_type": "code",
   "execution_count": 5,
   "metadata": {
    "hidden": true
   },
   "outputs": [
    {
     "name": "stdout",
     "output_type": "stream",
     "text": [
      "POI 文件合并完成\n"
     ]
    }
   ],
   "source": [
    "# 合并后的要素类输出路径\n",
    "output_merged_poi = r\"E:\\stu1\\Projects\\POI2023\\POI2023.gdb\\block23\\poi23\"\n",
    "\n",
    "# 合并操作\n",
    "arcpy.Merge_management(inputs=poi_files, output=output_merged_poi)\n",
    "\n",
    "print(\"POI 文件合并完成\")"
   ]
  },
  {
   "cell_type": "code",
   "execution_count": 6,
   "metadata": {
    "hidden": true
   },
   "outputs": [
    {
     "name": "stdout",
     "output_type": "stream",
     "text": [
      "不需要的字段已删除\n"
     ]
    }
   ],
   "source": [
    "# 列出要保留的字段\n",
    "fields_to_keep = [\"name\", \"typecode\", \"wgs84x\", \"wgs84y\", \"weight\", \"BlockID\", \"type\"]\n",
    "\n",
    "# 获取合并后要素类的所有字段\n",
    "fields = arcpy.ListFields(output_merged_poi)\n",
    "\n",
    "# 删除不在保留列表中的字段\n",
    "fields_to_delete = [f.name for f in fields if f.name not in fields_to_keep and not f.required]\n",
    "\n",
    "if fields_to_delete:\n",
    "    arcpy.DeleteField_management(output_merged_poi, fields_to_delete)\n",
    "\n",
    "print(\"不需要的字段已删除\")"
   ]
  },
  {
   "cell_type": "markdown",
   "metadata": {},
   "source": [
    "# 计算指标值"
   ]
  },
  {
   "cell_type": "code",
   "execution_count": null,
   "metadata": {},
   "outputs": [],
   "source": [
    "# 合并后的 POI 要素类\n",
    "merged_poi = r\"E:\\stu1\\Projects\\POI2023\\POI2023.gdb\\block23\\poi23\""
   ]
  },
  {
   "cell_type": "code",
   "execution_count": 3,
   "metadata": {},
   "outputs": [],
   "source": [
    "# 用于存储统计信息的表\n",
    "temp_stats_table = r\"E:\\stu1\\Projects\\POI2023\\POI2023.gdb\\temp_stats\""
   ]
  },
  {
   "cell_type": "code",
   "execution_count": 16,
   "metadata": {},
   "outputs": [
    {
     "data": {
      "text/html": [
       "<div class='gpresult'><h2>Messages</h2><div id='messages' data-messages='[\"Start Time: 2024年1月11日 13:34:17\",\"Succeeded at 2024年1月11日 13:34:22 (Elapsed Time: 5.18 seconds)\"]' data-show='true'><div id = 'default' /></div></div>"
      ],
      "text/plain": [
       "<Result 'E:\\\\stu1\\\\Projects\\\\POI2023\\\\POI2023.gdb\\\\temp_stats'>"
      ]
     },
     "execution_count": 16,
     "metadata": {},
     "output_type": "execute_result"
    }
   ],
   "source": [
    "# 计算每个街区中每类 POI 的数量\n",
    "arcpy.analysis.Statistics(merged_poi, temp_stats_table, [[\"type\", \"COUNT\"]], [\"BlockID\", \"type\"])"
   ]
  },
  {
   "cell_type": "code",
   "execution_count": 4,
   "metadata": {},
   "outputs": [],
   "source": [
    "# 用于存储每类 POI 总数的表\n",
    "total_counts_table = r\"E:\\stu1\\Projects\\POI2023\\POI2023.gdb\\total_counts\""
   ]
  },
  {
   "cell_type": "code",
   "execution_count": 17,
   "metadata": {},
   "outputs": [
    {
     "data": {
      "text/html": [
       "<div class='gpresult'><h2>Messages</h2><div id='messages' data-messages='[\"Start Time: 2024年1月11日 13:35:02\",\"Succeeded at 2024年1月11日 13:35:07 (Elapsed Time: 4.37 seconds)\"]' data-show='true'><div id = 'default' /></div></div>"
      ],
      "text/plain": [
       "<Result 'E:\\\\stu1\\\\Projects\\\\POI2023\\\\POI2023.gdb\\\\total_counts'>"
      ]
     },
     "execution_count": 17,
     "metadata": {},
     "output_type": "execute_result"
    }
   ],
   "source": [
    "# 计算每类 POI 的总数\n",
    "arcpy.analysis.Statistics(merged_poi, total_counts_table, [[\"type\", \"COUNT\"]], [\"type\"])"
   ]
  },
  {
   "cell_type": "markdown",
   "metadata": {},
   "source": [
    "## 为统计表添加所需字段"
   ]
  },
  {
   "cell_type": "code",
   "execution_count": 5,
   "metadata": {},
   "outputs": [
    {
     "name": "stdout",
     "output_type": "stream",
     "text": [
      "字段添加完成\n"
     ]
    }
   ],
   "source": [
    "# 添加 Frequency_Density 字段\n",
    "arcpy.AddField_management(temp_stats_table, \"Frequency_Density\", \"DOUBLE\")\n",
    "\n",
    "# 添加 Type_Ratio 字段\n",
    "arcpy.AddField_management(temp_stats_table, \"Type_Ratio\", \"DOUBLE\")\n",
    "\n",
    "print(\"字段添加完成\")"
   ]
  },
  {
   "cell_type": "code",
   "execution_count": null,
   "metadata": {},
   "outputs": [],
   "source": []
  },
  {
   "cell_type": "markdown",
   "metadata": {},
   "source": [
    "## 计算频率密度"
   ]
  },
  {
   "cell_type": "code",
   "execution_count": 6,
   "metadata": {},
   "outputs": [],
   "source": [
    "# 读取每类 POI 的总数\n",
    "total_counts = {}\n",
    "with arcpy.da.SearchCursor(total_counts_table, [\"type\", \"FREQUENCY\"]) as cursor:\n",
    "    for row in cursor:\n",
    "        total_counts[row[0]] = row[1]\n",
    "\n",
    "# 更新每个街区中每类 POI 的频率密度\n",
    "with arcpy.da.UpdateCursor(temp_stats_table, [\"type\", \"FREQUENCY\", \"Frequency_Density\"]) as cursor:\n",
    "    for row in cursor:\n",
    "        type = row[0]\n",
    "        count = row[1]\n",
    "        # 计算频率密度\n",
    "        row[2] = count / total_counts[type] if type in total_counts else 0\n",
    "        cursor.updateRow(row)\n"
   ]
  },
  {
   "cell_type": "markdown",
   "metadata": {},
   "source": [
    "## 计算类型比例"
   ]
  },
  {
   "cell_type": "code",
   "execution_count": 7,
   "metadata": {},
   "outputs": [],
   "source": [
    "# 计算每个街区的总频率密度\n",
    "block_total_density = {}\n",
    "with arcpy.da.SearchCursor(temp_stats_table, [\"BlockID\", \"Frequency_Density\"]) as cursor:\n",
    "    for row in cursor:\n",
    "        block_id = row[0]\n",
    "        density = row[1]\n",
    "        if block_id not in block_total_density:\n",
    "            block_total_density[block_id] = 0\n",
    "        block_total_density[block_id] += density\n",
    "\n",
    "# 计算类型比例\n",
    "with arcpy.da.UpdateCursor(temp_stats_table, [\"BlockID\", \"type\", \"Frequency_Density\", \"Type_Ratio\"]) as cursor:\n",
    "    for row in cursor:\n",
    "        block_id = row[0]\n",
    "        density = row[2]\n",
    "        # 计算类型比例\n",
    "        row[3] = density / block_total_density[block_id] if block_id in block_total_density else 0\n",
    "        cursor.updateRow(row)\n"
   ]
  },
  {
   "cell_type": "code",
   "execution_count": null,
   "metadata": {},
   "outputs": [],
   "source": []
  },
  {
   "cell_type": "code",
   "execution_count": null,
   "metadata": {},
   "outputs": [],
   "source": []
  },
  {
   "cell_type": "code",
   "execution_count": 13,
   "metadata": {},
   "outputs": [],
   "source": []
  },
  {
   "cell_type": "markdown",
   "metadata": {
    "heading_collapsed": true
   },
   "source": [
    "# tf-idf"
   ]
  },
  {
   "cell_type": "code",
   "execution_count": 9,
   "metadata": {
    "hidden": true
   },
   "outputs": [],
   "source": [
    "arcpy.env.workspace = r\"E:\\stu1\\Projects\\POI2023\\POI2023.gdb\""
   ]
  },
  {
   "cell_type": "code",
   "execution_count": null,
   "metadata": {
    "hidden": true
   },
   "outputs": [],
   "source": [
    "poi_layer = \"POI_2023.shp\" # POI图层\n",
    "land_use_layer = \"LUCC2023.shp\" # 用地功能图层\n",
    "output_layer = \"SpatialJoinOutput.shp\" # 输出图层"
   ]
  },
  {
   "cell_type": "code",
   "execution_count": null,
   "metadata": {
    "hidden": true
   },
   "outputs": [],
   "source": [
    "# 空间连接\n",
    "arcpy.analysis.SpatialJoin(target_features = poi_layer,\n",
    "                          join_features = land_use_layer,\n",
    "                          out_feature_class = output_layer,\n",
    "                          join_operation = \"JOIN_ONE_TO_ONE\",\n",
    "                          join_type = \"KEEP_ALL\",\n",
    "                          match_option = \"INTERSECT\")"
   ]
  },
  {
   "cell_type": "code",
   "execution_count": null,
   "metadata": {
    "hidden": true
   },
   "outputs": [],
   "source": [
    "# 将空间连接的结果转换为DataFrame\n",
    "fields = ['POI_Type', 'LandUse_Type', 'Shape_Area']\n",
    "data_frame = pd.DataFrame.spatial.from_featureclass(output_layer)[fields]\n",
    "\n",
    "# 计算频数\n",
    "frequency = data_frame.groupby(['POI_Type', 'LandUse_Type']).size().reset_index(name = 'Frequency')\n",
    "\n",
    "# 计算密度\n",
    "density = data_frame.groupby(['POI_Type', 'LandUse_Type']).sum().reset_index()\n",
    "density['Density'] = density['Frequency'] / density['Shape_Area']\n",
    "\n",
    "# 计算类型比例\n",
    "type_count = data_frame.gourpby('LandUse_Type').size().reset_index(name = 'Total_Count')\n",
    "type_ratio = frequency.merge(type_count, on = 'LandUse_Type')\n",
    "type_ratio['Type_Ratio'] = type_ratio['Frequency'] / type_ratio['Total_Count']"
   ]
  },
  {
   "cell_type": "code",
   "execution_count": null,
   "metadata": {
    "hidden": true
   },
   "outputs": [],
   "source": [
    "# 核密度估计\n",
    "kernel_density_output = \"KernelDensityOutput\"\n",
    "arcpy.sa.KernelDensity(output_layer, \"Count\", kernel_density_output)"
   ]
  },
  {
   "cell_type": "code",
   "execution_count": null,
   "metadata": {
    "hidden": true
   },
   "outputs": [],
   "source": [
    "plt.bar(type_ratio['POI_Type'],\n",
    "       type_ratio['Type_Ratio'])\n",
    "plt.xlabel('POI Type')\n",
    "plt.ylabel('Type Ratio')\n",
    "plt.title('POI Type Ratio in Different Land Use Areas')\n",
    "plt.xticks(rotation = 45)\n",
    "plt.show()"
   ]
  },
  {
   "cell_type": "code",
   "execution_count": 11,
   "metadata": {
    "hidden": true
   },
   "outputs": [
    {
     "ename": "ModuleNotFoundError",
     "evalue": "No module named 'sklearn'",
     "output_type": "error",
     "traceback": [
      "\u001b[0;31m---------------------------------------------------------------------------\u001b[0m\n\u001b[0;31mModuleNotFoundError\u001b[0m                       Traceback (most recent call last)",
      "In  \u001b[0;34m[11]\u001b[0m:\nLine \u001b[0;34m1\u001b[0m:     \u001b[34mfrom\u001b[39;49;00m \u001b[04m\u001b[36msklearn\u001b[39;49;00m\u001b[04m\u001b[36m.\u001b[39;49;00m\u001b[04m\u001b[36mfeature_extraction\u001b[39;49;00m\u001b[04m\u001b[36m.\u001b[39;49;00m\u001b[04m\u001b[36mtext\u001b[39;49;00m \u001b[34mimport\u001b[39;49;00m TfidfVectorizer\n",
      "\u001b[0;31mModuleNotFoundError\u001b[0m: No module named 'sklearn'\n\u001b[0;31m---------------------------------------------------------------------------\u001b[0m"
     ]
    }
   ],
   "source": [
    "from sklearn.feature_extraction.text import TfidfVectorizer"
   ]
  },
  {
   "cell_type": "code",
   "execution_count": null,
   "metadata": {
    "hidden": true
   },
   "outputs": [],
   "source": [
    "# 转换数据类型，每个城市功能区为一个“文档”，POI类型为“词汇”\n",
    "data_frame['POI_Type'] = data_frame['POI_Type'].astype(str)\n",
    "documents = data_frame.groupby('LandUse_Type')['POI_Type'].apply(lambda x: ''.join(x))\n",
    "\n",
    "# 计算TF-IDF\n",
    "tfidf_vectorizer = TfidfVectorizer()\n",
    "tfidf_matrix = tfidf_vectorizer.fit_transform(documents)\n",
    "\n",
    "# 将TF-IDF结果转换为DataFrame\n",
    "tfidf_df = pd.DataFrame(tfidf_matrix.toarray(), columns = tfidf_vectorizer.get_feature_names(), index = documents.index)"
   ]
  }
 ],
 "metadata": {
  "kernelspec": {
   "display_name": "ArcGISPro",
   "language": "Python",
   "name": "python3"
  },
  "language_info": {
   "file_extension": ".py",
   "name": "python",
   "version": "3"
  }
 },
 "nbformat": 4,
 "nbformat_minor": 2
}
