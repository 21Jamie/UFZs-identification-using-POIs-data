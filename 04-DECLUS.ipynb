{
 "cells": [
  {
   "cell_type": "markdown",
   "metadata": {},
   "source": [
    "**POI分类构建去从聚字段，以类型总点数为调整因子，乘上去从聚字段，以和不进行去从聚调整的各项均为1形成对比，在此基础上，用去丛聚调整项来乘上权重项，以实现抽稀的功能**"
   ]
  },
  {
   "cell_type": "markdown",
   "metadata": {
    "heading_collapsed": true
   },
   "source": [
    "# 去从聚"
   ]
  },
  {
   "cell_type": "code",
   "execution_count": 1,
   "metadata": {
    "hidden": true
   },
   "outputs": [],
   "source": [
    "# 四叉树节点类\n",
    "class QuadTreeNode:\n",
    "    node_count = 0  # 用于生成唯一的格网ID\n",
    "    \n",
    "    def __init__(self, extent, max_points=1000, max_depth=5, depth=0):\n",
    "        self.extent = extent  # 节点的空间范围\n",
    "        self.children = []  # 子节点列表\n",
    "        self.max_points = max_points  # 每个节点能包含的最大点数\n",
    "        self.max_depth = max_depth  # 树的最大深度\n",
    "        self.depth = depth  # 当前节点的深度\n",
    "        self.points = []  # 此节点包含的POI点列表\n",
    "        self.grid_id = QuadTreeNode.node_count  # 唯一的格网ID\n",
    "        QuadTreeNode.node_count += 1\n",
    "        \n",
    "    # 分割当前节点为四个子节点\n",
    "    def split(self):\n",
    "        xmin, ymin, xmax, ymax = self.extent\n",
    "        xmid, ymid = (xmin + xmax) / 2, (ymin + ymax) / 2\n",
    "        \n",
    "        # 定义四个子区域的空间范围\n",
    "        extents = [\n",
    "            (xmin, ymin, xmid, ymid),  # 西南\n",
    "            (xmid, ymin, xmax, ymid),  # 东南\n",
    "            (xmin, ymid, xmid, ymax),  # 西北\n",
    "            (xmid, ymid, xmax, ymax)   # 东北\n",
    "        ]\n",
    "    \n",
    "        # 为每个子区域创建一个新的四叉树节点\n",
    "        for extent in extents:\n",
    "            self.children.append(QuadTreeNode(extent, max_points=self.max_points, max_depth=self.max_depth, depth=self.depth + 1))\n",
    "            \n",
    "    # 将一个点插入四叉树中，并存储格网ID或节点引用\n",
    "    def insert(self, point):\n",
    "        if not self._contains(point):\n",
    "            return False  # 点不在当前节点的范围内\n",
    "\n",
    "        if len(self.points) < self.max_points or self.depth == self.max_depth:\n",
    "            self.points.append(point)  # 如果节点未满，或达到最大深度，直接添加点\n",
    "            return True\n",
    "\n",
    "        if not self.children:\n",
    "            self.split()  # 如果子节点不存在，先分割当前节点\n",
    "\n",
    "        return any(child.insert(point) for child in self.children)\n",
    "    \n",
    "    # 检查点是否在当前节点的范围内\n",
    "    def _contains(self, point):\n",
    "        x, y = point\n",
    "        xmin, ymin, xmax, ymax = self.extent\n",
    "        return xmin <= x < xmax and ymin <= y < ymax"
   ]
  },
  {
   "cell_type": "code",
   "execution_count": 2,
   "metadata": {
    "hidden": true
   },
   "outputs": [],
   "source": [
    "# 构建四叉树并为每个POI点分配格网ID\n",
    "def build_quadtree_and_assign_grid_ids(poi_layer, root):\n",
    "    with arcpy.da.UpdateCursor(poi_layer, [\"SHAPE@XY\", \"GridID\"]) as cursor:\n",
    "        for row in cursor:\n",
    "            point = row[0]\n",
    "            if root.insert(point):\n",
    "                # 如果点被插入到四叉树，更新其格网ID\n",
    "                row[1] = find_grid_id(root, point)\n",
    "                cursor.updateRow(row)"
   ]
  },
  {
   "cell_type": "code",
   "execution_count": 3,
   "metadata": {
    "hidden": true
   },
   "outputs": [],
   "source": [
    "# 递归查找包含给定点的节点的格网ID\n",
    "def find_grid_id(node, point):\n",
    "    if node._contains(point):\n",
    "        if not node.children or node.depth == node.max_depth:\n",
    "            return node.grid_id\n",
    "        for child in node.children:\n",
    "            grid_id = find_grid_id(child, point)\n",
    "            if grid_id is not None:\n",
    "                return grid_id\n",
    "    return None"
   ]
  },
  {
   "cell_type": "code",
   "execution_count": 4,
   "metadata": {
    "hidden": true
   },
   "outputs": [],
   "source": [
    "# 计算每个格网内POI的数量\n",
    "def calculate_grid_poi_counts(poi_layer):\n",
    "    grid_poi_counts = {}\n",
    "    with arcpy.da.SearchCursor(poi_layer, [\"GridID\"]) as cursor:\n",
    "        for row in cursor:\n",
    "            grid_id = row[0]\n",
    "            grid_poi_counts[grid_id] = grid_poi_counts.get(grid_id, 0) + 1\n",
    "    return grid_poi_counts"
   ]
  },
  {
   "cell_type": "code",
   "execution_count": 5,
   "metadata": {
    "hidden": true
   },
   "outputs": [],
   "source": [
    "# 为每个POI点分配权重\n",
    "def assign_weights_to_pois(poi_layer, grid_poi_counts):\n",
    "    # 计算有POI的格网总数\n",
    "    total_occupied_grids = len(grid_poi_counts)\n",
    "    # 计算每个格网的权重\n",
    "    grid_weight = 1.0 / total_occupied_grids if total_occupied_grids else 0\n",
    "    \n",
    "    with arcpy.da.UpdateCursor(poi_layer, [\"GridID\", \"Decluster\"]) as cursor:\n",
    "        for row in cursor:\n",
    "            grid_id = row[0]\n",
    "            poi_count = grid_poi_counts.get(grid_id, 0)\n",
    "            Decluster = grid_weight / poi_count if poi_count > 0 else 0\n",
    "            row[1] = Decluster\n",
    "            cursor.updateRow(row)"
   ]
  },
  {
   "cell_type": "markdown",
   "metadata": {
    "hidden": true
   },
   "source": [
    "**定义参数**"
   ]
  },
  {
   "cell_type": "code",
   "execution_count": 6,
   "metadata": {
    "hidden": true
   },
   "outputs": [],
   "source": [
    "# 根据研究区域边界矢量数据生成四叉树覆盖的空间范围\n",
    "ring3 = r\"E:\\stu1\\Projects\\POI2023\\POI2023.gdb\\ring3\"\n",
    "boundary_extent = arcpy.Describe(ring3).extent\n",
    "tree_extent = (boundary_extent.XMin, boundary_extent.YMin, boundary_extent.XMax, boundary_extent.YMax)"
   ]
  },
  {
   "cell_type": "code",
   "execution_count": 7,
   "metadata": {
    "hidden": true
   },
   "outputs": [],
   "source": [
    "# 创建四叉树的根节点\n",
    "max_points_per_node = 100\n",
    "max_depth = 7\n",
    "root = QuadTreeNode(tree_extent, max_points=max_points_per_node, max_depth=max_depth)"
   ]
  },
  {
   "cell_type": "markdown",
   "metadata": {
    "hidden": true
   },
   "source": [
    "**遍历POI**"
   ]
  },
  {
   "cell_type": "code",
   "execution_count": 8,
   "metadata": {
    "hidden": true
   },
   "outputs": [],
   "source": [
    "def process_poi_layer(poi_layer_name, poi_layer):\n",
    "    print(f\"开始处理图层: {poi_layer_name}\")\n",
    "    arcpy.AddField_management(poi_layer, \"GridID\", \"LONG\")\n",
    "    arcpy.AddField_management(poi_layer, \"Decluster\", \"FLOAT\")\n",
    "    build_quadtree_and_assign_grid_ids(poi_layer, root)\n",
    "    grid_poi_counts = calculate_grid_poi_counts(poi_layer)\n",
    "    assign_weights_to_pois(poi_layer, grid_poi_counts)\n",
    "    print(f\"图层处理完成: {poi_layer_name}\")"
   ]
  },
  {
   "cell_type": "code",
   "execution_count": 9,
   "metadata": {
    "hidden": true
   },
   "outputs": [
    {
     "name": "stdout",
     "output_type": "stream",
     "text": [
      "开始处理图层: shapefile_R\n",
      "图层处理完成: shapefile_R\n",
      "开始处理图层: shapefile_A\n",
      "图层处理完成: shapefile_A\n",
      "开始处理图层: shapefile_B\n",
      "图层处理完成: shapefile_B\n",
      "开始处理图层: shapefile_M\n",
      "图层处理完成: shapefile_M\n",
      "开始处理图层: shapefile_S\n",
      "图层处理完成: shapefile_S\n",
      "开始处理图层: shapefile_G\n",
      "图层处理完成: shapefile_G\n"
     ]
    }
   ],
   "source": [
    "# 列出所有待处理的 POI 图层名称及其对应的图层对象\n",
    "poi_layers = {\n",
    "    \"shapefile_R\": r\"E:\\stu1\\Projects\\POI2023\\POI2023.gdb\\poi23\\JOIN_R\",\n",
    "    \"shapefile_A\": r\"E:\\stu1\\Projects\\POI2023\\POI2023.gdb\\poi23\\JOIN_A\",\n",
    "    \"shapefile_B\": r\"E:\\stu1\\Projects\\POI2023\\POI2023.gdb\\poi23\\JOIN_B\",\n",
    "    \"shapefile_M\": r\"E:\\stu1\\Projects\\POI2023\\POI2023.gdb\\poi23\\JOIN_M\",\n",
    "    \"shapefile_S\": r\"E:\\stu1\\Projects\\POI2023\\POI2023.gdb\\poi23\\JOIN_s\",\n",
    "    \"shapefile_G\": r\"E:\\stu1\\Projects\\POI2023\\POI2023.gdb\\poi23\\JOIN_G\"\n",
    "}\n",
    "\n",
    "# 对每个图层执行处理，并加上进度说明\n",
    "for poi_layer_name, poi_layer in poi_layers.items():\n",
    "    process_poi_layer(poi_layer_name, poi_layer)"
   ]
  },
  {
   "cell_type": "markdown",
   "metadata": {
    "hidden": true
   },
   "source": [
    "**乘上总点数**"
   ]
  },
  {
   "cell_type": "code",
   "execution_count": 10,
   "metadata": {
    "hidden": true
   },
   "outputs": [],
   "source": [
    "def Adjust_Decluster(input_features, field_name, factor):\n",
    "    \"\"\"\n",
    "    Adjusts the values in a specified field by multiplying them by a given factor.\n",
    "\n",
    "    Args:\n",
    "    - input_features: Path to the feature class or table.\n",
    "    - field_name: Name of the field to be adjusted.\n",
    "    - factor: The factor by which to multiply the field's values.\n",
    "    \"\"\"\n",
    "    # Define the calculation expression\n",
    "    calculation_expression = f\"!{field_name}! * {factor}\"\n",
    "\n",
    "    # Perform the field calculation\n",
    "    arcpy.CalculateField_management(input_features, field_name, calculation_expression, \"PYTHON3\")\n",
    "\n",
    "    print(f\"Values in '{field_name}' have been adjusted by a factor of {factor}.\")"
   ]
  },
  {
   "cell_type": "code",
   "execution_count": 11,
   "metadata": {
    "hidden": true
   },
   "outputs": [
    {
     "name": "stdout",
     "output_type": "stream",
     "text": [
      "Values in 'Decluster' have been adjusted by a factor of 27797.\n"
     ]
    }
   ],
   "source": [
    "Adjust_Decluster(\"JOIN_A\", \"Decluster\", \"27797\")"
   ]
  },
  {
   "cell_type": "code",
   "execution_count": 12,
   "metadata": {
    "hidden": true
   },
   "outputs": [
    {
     "name": "stdout",
     "output_type": "stream",
     "text": [
      "Values in 'Decluster' have been adjusted by a factor of 37901.\n"
     ]
    }
   ],
   "source": [
    "Adjust_Decluster(\"JOIN_B\", \"Decluster\", \"37901\")"
   ]
  },
  {
   "cell_type": "code",
   "execution_count": 13,
   "metadata": {
    "hidden": true
   },
   "outputs": [
    {
     "name": "stdout",
     "output_type": "stream",
     "text": [
      "Values in 'Decluster' have been adjusted by a factor of 829.\n"
     ]
    }
   ],
   "source": [
    "Adjust_Decluster(\"JOIN_G\", \"Decluster\", \"829\")"
   ]
  },
  {
   "cell_type": "code",
   "execution_count": 14,
   "metadata": {
    "hidden": true
   },
   "outputs": [
    {
     "name": "stdout",
     "output_type": "stream",
     "text": [
      "Values in 'Decluster' have been adjusted by a factor of 21495.\n"
     ]
    }
   ],
   "source": [
    "Adjust_Decluster(\"JOIN_M\", \"Decluster\", \"21495\")"
   ]
  },
  {
   "cell_type": "code",
   "execution_count": 15,
   "metadata": {
    "hidden": true
   },
   "outputs": [
    {
     "name": "stdout",
     "output_type": "stream",
     "text": [
      "Values in 'Decluster' have been adjusted by a factor of 55.\n"
     ]
    }
   ],
   "source": [
    "Adjust_Decluster(\"JOIN_S\", \"Decluster\", \"55\")"
   ]
  },
  {
   "cell_type": "code",
   "execution_count": 19,
   "metadata": {
    "hidden": true
   },
   "outputs": [
    {
     "name": "stdout",
     "output_type": "stream",
     "text": [
      "Values in 'Decluster' have been adjusted by a factor of 7172.\n"
     ]
    }
   ],
   "source": [
    "Adjust_Decluster(\"JOIN_R\", \"Decluster\", \"7172\")"
   ]
  },
  {
   "cell_type": "markdown",
   "metadata": {
    "heading_collapsed": true
   },
   "source": [
    "# 计算调整后的权重"
   ]
  },
  {
   "cell_type": "code",
   "execution_count": 16,
   "metadata": {
    "hidden": true
   },
   "outputs": [],
   "source": [
    "def Adjust_Weight(input_features, new_field_name, weight_field, decluster_field):\n",
    "    \"\"\"\n",
    "    Creates a new field and populates it with the product of two existing fields.\n",
    "\n",
    "    Args:\n",
    "    - input_features: Path to the feature class or table.\n",
    "    - new_field_name: Name of the new field to be added and calculated.\n",
    "    - weight_field: Name of the weight field to be used in the calculation.\n",
    "    - decluster_field: Name of the decluster field to be used in the calculation.\n",
    "    \"\"\"\n",
    "    # Check if the new field already exists, and add it if not\n",
    "    field_list = [field.name for field in arcpy.ListFields(input_features)]\n",
    "    if new_field_name not in field_list:\n",
    "        arcpy.AddField_management(input_features, new_field_name, \"DOUBLE\")\n",
    "        print(f\"Field '{new_field_name}' added to {input_features}.\")\n",
    "    else:\n",
    "        print(f\"Field '{new_field_name}' already exists.\")\n",
    "\n",
    "    # Define the calculation expression\n",
    "    calculation_expression = f\"!{weight_field}! * !{decluster_field}!\"\n",
    "\n",
    "    # Perform the field calculation\n",
    "    arcpy.CalculateField_management(input_features, new_field_name, calculation_expression, \"PYTHON3\")\n",
    "\n",
    "    print(f\"Field '{new_field_name}' has been populated with calculated values.\")"
   ]
  },
  {
   "cell_type": "code",
   "execution_count": 18,
   "metadata": {
    "hidden": true
   },
   "outputs": [
    {
     "name": "stdout",
     "output_type": "stream",
     "text": [
      "Field 'DE_Weight' added to JOIN_A.\n",
      "Field 'DE_Weight' has been populated with calculated values.\n"
     ]
    }
   ],
   "source": [
    "Adjust_Weight(\"JOIN_A\", \"DE_Weight\", \"Weight\", \"Decluster\")"
   ]
  },
  {
   "cell_type": "code",
   "execution_count": 20,
   "metadata": {
    "hidden": true
   },
   "outputs": [
    {
     "name": "stdout",
     "output_type": "stream",
     "text": [
      "Field 'DE_Weight' added to JOIN_B.\n",
      "Field 'DE_Weight' has been populated with calculated values.\n"
     ]
    }
   ],
   "source": [
    "Adjust_Weight(\"JOIN_B\", \"DE_Weight\", \"Weight\", \"Decluster\")"
   ]
  },
  {
   "cell_type": "code",
   "execution_count": 21,
   "metadata": {
    "hidden": true
   },
   "outputs": [
    {
     "name": "stdout",
     "output_type": "stream",
     "text": [
      "Field 'DE_Weight' added to JOIN_G.\n",
      "Field 'DE_Weight' has been populated with calculated values.\n"
     ]
    }
   ],
   "source": [
    "Adjust_Weight(\"JOIN_G\", \"DE_Weight\", \"Weight\", \"Decluster\")"
   ]
  },
  {
   "cell_type": "code",
   "execution_count": 22,
   "metadata": {
    "hidden": true
   },
   "outputs": [
    {
     "name": "stdout",
     "output_type": "stream",
     "text": [
      "Field 'DE_Weight' added to JOIN_M.\n",
      "Field 'DE_Weight' has been populated with calculated values.\n"
     ]
    }
   ],
   "source": [
    "Adjust_Weight(\"JOIN_M\", \"DE_Weight\", \"Weight\", \"Decluster\")"
   ]
  },
  {
   "cell_type": "code",
   "execution_count": 23,
   "metadata": {
    "hidden": true
   },
   "outputs": [
    {
     "name": "stdout",
     "output_type": "stream",
     "text": [
      "Field 'DE_Weight' added to JOIN_S.\n",
      "Field 'DE_Weight' has been populated with calculated values.\n"
     ]
    }
   ],
   "source": [
    "Adjust_Weight(\"JOIN_S\", \"DE_Weight\", \"Weight\", \"Decluster\")"
   ]
  },
  {
   "cell_type": "code",
   "execution_count": 24,
   "metadata": {
    "hidden": true
   },
   "outputs": [
    {
     "name": "stdout",
     "output_type": "stream",
     "text": [
      "Field 'DE_Weight' added to JOIN_R.\n",
      "Field 'DE_Weight' has been populated with calculated values.\n"
     ]
    }
   ],
   "source": [
    "Adjust_Weight(\"JOIN_R\", \"DE_Weight\", \"Weight\", \"Decluster\")"
   ]
  },
  {
   "cell_type": "markdown",
   "metadata": {
    "heading_collapsed": true
   },
   "source": [
    "# 用调整后的权重计算频率密度"
   ]
  },
  {
   "cell_type": "code",
   "execution_count": 26,
   "metadata": {
    "hidden": true
   },
   "outputs": [],
   "source": [
    "def calculate_and_update_frequency_density(input_poi_layer, weight_field, block_id_field, block_layer, frequency_density_field):\n",
    "    # 初始化用于汇总每个街区加权POI点数的字典\n",
    "    block_weights = {}\n",
    "    total_weight = 0\n",
    "\n",
    "    # 第1步：按街区代码汇总POI的权重\n",
    "    with arcpy.da.SearchCursor(input_poi_layer, [block_id_field, weight_field]) as cursor:\n",
    "        for row in cursor:\n",
    "            block_id, weight = row\n",
    "            block_weights[block_id] = block_weights.get(block_id, 0) + weight\n",
    "            total_weight += weight\n",
    "\n",
    "    # 第2步：计算每个街区的频率密度\n",
    "    block_freq_density = {block: weight / total_weight for block, weight in block_weights.items()}\n",
    "\n",
    "    # 第3步：在街区要素类中创建频率密度字段（如果尚不存在）\n",
    "    if len(arcpy.ListFields(block_layer, frequency_density_field)) == 0:\n",
    "        arcpy.AddField_management(block_layer, frequency_density_field, \"DOUBLE\")\n",
    "\n",
    "    # 更新街区要素类中的频率密度字段\n",
    "    with arcpy.da.UpdateCursor(block_layer, [block_id_field, frequency_density_field]) as cursor:\n",
    "        for row in cursor:\n",
    "            block_id = row[0]\n",
    "            if block_id in block_freq_density:\n",
    "                row[1] = block_freq_density[block_id]  # 更新频率密度\n",
    "            else:\n",
    "                row[1] = 0  # 对于没有POI点的街区，频率密度设置为0\n",
    "            cursor.updateRow(row)\n",
    "\n",
    "    print(\"街区要素类中的频率密度字段更新完成。\")"
   ]
  },
  {
   "cell_type": "code",
   "execution_count": 27,
   "metadata": {
    "hidden": true
   },
   "outputs": [
    {
     "name": "stdout",
     "output_type": "stream",
     "text": [
      "街区要素类中的频率密度字段更新完成。\n"
     ]
    }
   ],
   "source": [
    "calculate_and_update_frequency_density('JOIN_A', 'DE_Weight', 'Block_ID', 'blocks_initial', 'DE_FD_A')"
   ]
  },
  {
   "cell_type": "code",
   "execution_count": 28,
   "metadata": {
    "hidden": true
   },
   "outputs": [
    {
     "name": "stdout",
     "output_type": "stream",
     "text": [
      "街区要素类中的频率密度字段更新完成。\n"
     ]
    }
   ],
   "source": [
    "calculate_and_update_frequency_density('JOIN_B', 'DE_Weight', 'Block_ID', 'blocks_initial', 'DE_FD_B')"
   ]
  },
  {
   "cell_type": "code",
   "execution_count": 29,
   "metadata": {
    "hidden": true
   },
   "outputs": [
    {
     "name": "stdout",
     "output_type": "stream",
     "text": [
      "街区要素类中的频率密度字段更新完成。\n"
     ]
    }
   ],
   "source": [
    "calculate_and_update_frequency_density('JOIN_R', 'DE_Weight', 'Block_ID', 'blocks_initial', 'DE_FD_R')"
   ]
  },
  {
   "cell_type": "code",
   "execution_count": 30,
   "metadata": {
    "hidden": true
   },
   "outputs": [
    {
     "name": "stdout",
     "output_type": "stream",
     "text": [
      "街区要素类中的频率密度字段更新完成。\n"
     ]
    }
   ],
   "source": [
    "calculate_and_update_frequency_density('JOIN_M', 'DE_Weight', 'Block_ID', 'blocks_initial', 'DE_FD_M')"
   ]
  },
  {
   "cell_type": "code",
   "execution_count": 31,
   "metadata": {
    "hidden": true
   },
   "outputs": [
    {
     "name": "stdout",
     "output_type": "stream",
     "text": [
      "街区要素类中的频率密度字段更新完成。\n"
     ]
    }
   ],
   "source": [
    "calculate_and_update_frequency_density('JOIN_G', 'DE_Weight', 'Block_ID', 'blocks_initial', 'DE_FD_G')"
   ]
  },
  {
   "cell_type": "code",
   "execution_count": 32,
   "metadata": {
    "hidden": true
   },
   "outputs": [
    {
     "name": "stdout",
     "output_type": "stream",
     "text": [
      "街区要素类中的频率密度字段更新完成。\n"
     ]
    }
   ],
   "source": [
    "calculate_and_update_frequency_density('JOIN_S', 'DE_Weight', 'Block_ID', 'blocks_initial', 'DE_FD_S')"
   ]
  },
  {
   "cell_type": "markdown",
   "metadata": {},
   "source": [
    "# 用调整后的权重计算核密度"
   ]
  },
  {
   "cell_type": "code",
   "execution_count": 35,
   "metadata": {},
   "outputs": [],
   "source": [
    "import arcpy\n",
    "from arcpy.sa import *\n",
    "\n",
    "def perform_kernel_density_and_update_blocks(input_features, population_field, search_radius, cell_size, output_raster_name, block_feature_class, zone_field, new_field_name):\n",
    "    \"\"\"\n",
    "    执行核密度分析，并将结果按街区汇总，最后更新到街区要素类的新字段中。\n",
    "\n",
    "    参数:\n",
    "    - input_features: 输入的POI图层路径。\n",
    "    - population_field: 使用的权重字段名。\n",
    "    - search_radius: 核密度分析的搜索半径。\n",
    "    - cell_size: 核密度分析的栅格单元大小。\n",
    "    - output_raster_name: 输出核密度栅格图层的名称。\n",
    "    - block_feature_class: 街区要素类路径。\n",
    "    - zone_field: 街区要素类中用于标识每个街区的字段名。\n",
    "    - new_field_name: 更新到街区要素类中的新字段名。\n",
    "    \"\"\"\n",
    "    # 确保空间分析扩展可用\n",
    "    arcpy.CheckOutExtension(\"Spatial\")\n",
    "    \n",
    "    # 核密度分析\n",
    "    kd_result = KernelDensity(input_features, population_field, cell_size, search_radius, area_unit_scale_factor=\"SQUARE_METERS\")\n",
    "    kd_result.save(output_raster_name)\n",
    "    print(f\"{output_raster_name} 核密度分析完成\")\n",
    "    \n",
    "    # 执行区域统计作为表格\n",
    "    out_table = output_raster_name + \"_ZonalStats\"\n",
    "    ZonalStatisticsAsTable(block_feature_class, zone_field, output_raster_name, out_table, \"DATA\", \"SUM\")\n",
    "    \n",
    "    # 使用 JoinField 将统计表格的 SUM 字段添加到街区要素类的属性表中\n",
    "    arcpy.JoinField_management(block_feature_class, zone_field, out_table, \"OBJECTID\", [\"SUM\"])\n",
    "    \n",
    "    # 添加新字段（如果尚未存在）\n",
    "    if len(arcpy.ListFields(block_feature_class, new_field_name)) == 0:\n",
    "        arcpy.AddField_management(block_feature_class, new_field_name, \"DOUBLE\")\n",
    "    \n",
    "    # 复制 SUM 字段的值到新字段，并删除 SUM 字段\n",
    "    with arcpy.da.UpdateCursor(block_feature_class, [\"SUM\", new_field_name]) as cursor:\n",
    "        for row in cursor:\n",
    "            row[1] = row[0]  # 将 SUM 字段的值复制到新字段\n",
    "            cursor.updateRow(row)\n",
    "    arcpy.DeleteField_management(block_feature_class, \"SUM\")\n",
    "    print(f\"{new_field_name} 字段已更新\")\n"
   ]
  },
  {
   "cell_type": "code",
   "execution_count": 52,
   "metadata": {},
   "outputs": [
    {
     "name": "stdout",
     "output_type": "stream",
     "text": [
      "DE_KernelDensity_A 核密度分析完成\n",
      "DE_KD_A 字段已更新\n"
     ]
    }
   ],
   "source": [
    "perform_kernel_density_and_update_blocks(\n",
    "    input_features=\"JOIN_A_Project\",\n",
    "    population_field=\"DE_Weight\",\n",
    "    search_radius=2000,\n",
    "    cell_size=10,\n",
    "    output_raster_name=\"DE_KernelDensity_A\",\n",
    "    block_feature_class=\"blocks_initial\",\n",
    "    zone_field=\"Block_ID\",\n",
    "    new_field_name=\"DE_KD_A\"\n",
    ")"
   ]
  },
  {
   "cell_type": "code",
   "execution_count": 53,
   "metadata": {},
   "outputs": [
    {
     "name": "stdout",
     "output_type": "stream",
     "text": [
      "DE_KernelDensity_B 核密度分析完成\n",
      "DE_KD_B 字段已更新\n"
     ]
    }
   ],
   "source": [
    "perform_kernel_density_and_update_blocks(\n",
    "    input_features=\"JOIN_B_Project\",\n",
    "    population_field=\"DE_Weight\",\n",
    "    search_radius=1500,\n",
    "    cell_size=10,\n",
    "    output_raster_name=\"DE_KernelDensity_B\",\n",
    "    block_feature_class=\"blocks_initial\",\n",
    "    zone_field=\"Block_ID\",\n",
    "    new_field_name=\"DE_KD_B\"\n",
    ")\n"
   ]
  },
  {
   "cell_type": "code",
   "execution_count": 54,
   "metadata": {},
   "outputs": [
    {
     "name": "stdout",
     "output_type": "stream",
     "text": [
      "DE_KernelDensity_G 核密度分析完成\n",
      "DE_KD_G 字段已更新\n"
     ]
    }
   ],
   "source": [
    "perform_kernel_density_and_update_blocks(\n",
    "    input_features=\"JOIN_G_Project\",\n",
    "    population_field=\"DE_Weight\",\n",
    "    search_radius=2000,\n",
    "    cell_size=10,\n",
    "    output_raster_name=\"DE_KernelDensity_G\",\n",
    "    block_feature_class=\"blocks_initial\",\n",
    "    zone_field=\"Block_ID\",\n",
    "    new_field_name=\"DE_KD_G\"\n",
    ")\n"
   ]
  },
  {
   "cell_type": "code",
   "execution_count": 55,
   "metadata": {},
   "outputs": [
    {
     "name": "stdout",
     "output_type": "stream",
     "text": [
      "DE_KernelDensity_M 核密度分析完成\n",
      "DE_KD_M 字段已更新\n"
     ]
    }
   ],
   "source": [
    "perform_kernel_density_and_update_blocks(\n",
    "    input_features=\"JOIN_M_Project\",\n",
    "    population_field=\"DE_Weight\",\n",
    "    search_radius=1500,\n",
    "    cell_size=10,\n",
    "    output_raster_name=\"DE_KernelDensity_M\",\n",
    "    block_feature_class=\"blocks_initial\",\n",
    "    zone_field=\"Block_ID\",\n",
    "    new_field_name=\"DE_KD_M\"\n",
    ")\n"
   ]
  },
  {
   "cell_type": "code",
   "execution_count": 56,
   "metadata": {},
   "outputs": [
    {
     "name": "stdout",
     "output_type": "stream",
     "text": [
      "DE_KernelDensity_S 核密度分析完成\n",
      "DE_KD_S 字段已更新\n"
     ]
    }
   ],
   "source": [
    "perform_kernel_density_and_update_blocks(\n",
    "    input_features=\"JOIN_S_Project\",\n",
    "    population_field=\"DE_Weight\",\n",
    "    search_radius=3000,\n",
    "    cell_size=10,\n",
    "    output_raster_name=\"DE_KernelDensity_S\",\n",
    "    block_feature_class=\"blocks_initial\",\n",
    "    zone_field=\"Block_ID\",\n",
    "    new_field_name=\"DE_KD_S\"\n",
    ")\n"
   ]
  },
  {
   "cell_type": "code",
   "execution_count": 57,
   "metadata": {},
   "outputs": [
    {
     "name": "stdout",
     "output_type": "stream",
     "text": [
      "DE_KernelDensity_R 核密度分析完成\n",
      "DE_KD_R 字段已更新\n"
     ]
    }
   ],
   "source": [
    "perform_kernel_density_and_update_blocks(\n",
    "    input_features=\"JOIN_R_Project\",\n",
    "    population_field=\"DE_Weight\",\n",
    "    search_radius=1000,\n",
    "    cell_size=10,\n",
    "    output_raster_name=\"DE_KernelDensity_R\",\n",
    "    block_feature_class=\"blocks_initial\",\n",
    "    zone_field=\"Block_ID\",\n",
    "    new_field_name=\"DE_KD_R\"\n",
    ")\n"
   ]
  },
  {
   "cell_type": "markdown",
   "metadata": {},
   "source": [
    "# 用调整后的权重计算网络约束的核密度"
   ]
  },
  {
   "cell_type": "code",
   "execution_count": 1,
   "metadata": {},
   "outputs": [],
   "source": [
    "import arcpy\n",
    "from arcpy.sa import *\n",
    "\n",
    "def KDB2blocks(raster_name, block_feature_class, zone_field, new_field_name):\n",
    "    \"\"\"\n",
    "    执行核密度分析，并将结果按街区汇总，最后更新到街区要素类的新字段中。\n",
    "\n",
    "    参数:\n",
    "    - raster_name: 核密度栅格图层的名称。\n",
    "    - block_feature_class: 街区要素类路径。\n",
    "    - zone_field: 街区要素类中用于标识每个街区的字段名。\n",
    "    - new_field_name: 更新到街区要素类中的新字段名。\n",
    "    \"\"\"\n",
    "    \n",
    "    # 执行区域统计作为表格\n",
    "    out_table = raster_name + \"_ZonalStats_BARR\"\n",
    "    ZonalStatisticsAsTable(block_feature_class, zone_field, raster_name, out_table, \"DATA\", \"SUM\")\n",
    "    \n",
    "    # 使用 JoinField 将统计表格的 SUM 字段添加到街区要素类的属性表中\n",
    "    arcpy.JoinField_management(block_feature_class, zone_field, out_table, \"OBJECTID\", [\"SUM\"])\n",
    "    \n",
    "    # 添加新字段（如果尚未存在）\n",
    "    if len(arcpy.ListFields(block_feature_class, new_field_name)) == 0:\n",
    "        arcpy.AddField_management(block_feature_class, new_field_name, \"DOUBLE\")\n",
    "    \n",
    "    # 复制 SUM 字段的值到新字段，并删除 SUM 字段\n",
    "    with arcpy.da.UpdateCursor(block_feature_class, [\"SUM\", new_field_name]) as cursor:\n",
    "        for row in cursor:\n",
    "            row[1] = row[0]  # 将 SUM 字段的值复制到新字段\n",
    "            cursor.updateRow(row)\n",
    "    arcpy.DeleteField_management(block_feature_class, \"SUM\")\n",
    "    print(f\"{new_field_name} 字段已更新\")"
   ]
  },
  {
   "cell_type": "code",
   "execution_count": 2,
   "metadata": {},
   "outputs": [],
   "source": [
    "# Copy Python command\n",
    "out_raster = arcpy.sa.KernelDensity(r\"E:\\stu1\\Projects\\POI2023\\POI2023.gdb\\JOIN_A_Project\", \n",
    "                        \"DE_Weight\", 10, 2000, \"SQUARE_METERS\", \"DENSITIES\", \n",
    "                        \"PLANAR\", \"高架及快速路_Centerline\"); out_raster.save(r\"E:\\stu1\\Projects\\POI2023\\POI2023.gdb\\DE_KDB_A\")"
   ]
  },
  {
   "cell_type": "code",
   "execution_count": 3,
   "metadata": {},
   "outputs": [
    {
     "name": "stdout",
     "output_type": "stream",
     "text": [
      "DE_KDB_A 字段已更新\n"
     ]
    }
   ],
   "source": [
    "KDB2blocks(\n",
    "    raster_name=\"DE_KDB_A\",\n",
    "    block_feature_class=\"blocks_initial\",\n",
    "    zone_field=\"Block_ID\",\n",
    "    new_field_name=\"DE_KDB_A\"\n",
    ")"
   ]
  },
  {
   "cell_type": "code",
   "execution_count": 14,
   "metadata": {},
   "outputs": [],
   "source": [
    "out_raster = arcpy.sa.KernelDensity(r\"E:\\stu1\\Projects\\POI2023\\POI2023.gdb\\JOIN_B_Project\", \n",
    "                        \"DE_Weight\", 10, 1500, \"SQUARE_METERS\", \"DENSITIES\", \n",
    "                        \"PLANAR\", \"高架及快速路_Centerline\"); out_raster.save(r\"E:\\stu1\\Projects\\POI2023\\POI2023.gdb\\DE_KDB_B\")"
   ]
  },
  {
   "cell_type": "code",
   "execution_count": 15,
   "metadata": {},
   "outputs": [
    {
     "name": "stdout",
     "output_type": "stream",
     "text": [
      "DE_KDB_B 字段已更新\n"
     ]
    }
   ],
   "source": [
    "KDB2blocks(\n",
    "    raster_name=\"DE_KDB_B\",\n",
    "    block_feature_class=\"blocks_initial\",\n",
    "    zone_field=\"Block_ID\",\n",
    "    new_field_name=\"DE_KDB_B\"\n",
    ")"
   ]
  },
  {
   "cell_type": "code",
   "execution_count": 16,
   "metadata": {},
   "outputs": [],
   "source": [
    "out_raster = arcpy.sa.KernelDensity(r\"E:\\stu1\\Projects\\POI2023\\POI2023.gdb\\JOIN_G_Project\", \n",
    "                        \"DE_Weight\", 10, 2000, \"SQUARE_METERS\", \"DENSITIES\", \n",
    "                        \"PLANAR\", \"高架及快速路_Centerline\"); out_raster.save(r\"E:\\stu1\\Projects\\POI2023\\POI2023.gdb\\DE_KDB_G\")"
   ]
  },
  {
   "cell_type": "code",
   "execution_count": 17,
   "metadata": {},
   "outputs": [
    {
     "name": "stdout",
     "output_type": "stream",
     "text": [
      "DE_KDB_G 字段已更新\n"
     ]
    }
   ],
   "source": [
    "KDB2blocks(\n",
    "    raster_name=\"DE_KDB_G\",\n",
    "    block_feature_class=\"blocks_initial\",\n",
    "    zone_field=\"Block_ID\",\n",
    "    new_field_name=\"DE_KDB_G\"\n",
    ")"
   ]
  },
  {
   "cell_type": "code",
   "execution_count": 18,
   "metadata": {},
   "outputs": [],
   "source": [
    "out_raster = arcpy.sa.KernelDensity(r\"E:\\stu1\\Projects\\POI2023\\POI2023.gdb\\JOIN_M_Project\", \n",
    "                        \"DE_Weight\", 10, 1500, \"SQUARE_METERS\", \"DENSITIES\", \n",
    "                        \"PLANAR\", \"高架及快速路_Centerline\"); out_raster.save(r\"E:\\stu1\\Projects\\POI2023\\POI2023.gdb\\DE_KDB_M\")"
   ]
  },
  {
   "cell_type": "code",
   "execution_count": 19,
   "metadata": {},
   "outputs": [
    {
     "name": "stdout",
     "output_type": "stream",
     "text": [
      "DE_KDB_M 字段已更新\n"
     ]
    }
   ],
   "source": [
    "KDB2blocks(\n",
    "    raster_name=\"DE_KDB_M\",\n",
    "    block_feature_class=\"blocks_initial\",\n",
    "    zone_field=\"Block_ID\",\n",
    "    new_field_name=\"DE_KDB_M\"\n",
    ")"
   ]
  },
  {
   "cell_type": "code",
   "execution_count": 20,
   "metadata": {},
   "outputs": [],
   "source": [
    "out_raster = arcpy.sa.KernelDensity(r\"E:\\stu1\\Projects\\POI2023\\POI2023.gdb\\JOIN_S_Project\", \n",
    "                        \"DE_Weight\", 10, 3000, \"SQUARE_METERS\", \"DENSITIES\", \n",
    "                        \"PLANAR\", \"高架及快速路_Centerline\"); out_raster.save(r\"E:\\stu1\\Projects\\POI2023\\POI2023.gdb\\DE_KDB_S\")"
   ]
  },
  {
   "cell_type": "code",
   "execution_count": 21,
   "metadata": {},
   "outputs": [
    {
     "name": "stdout",
     "output_type": "stream",
     "text": [
      "DE_KDB_S 字段已更新\n"
     ]
    }
   ],
   "source": [
    "KDB2blocks(\n",
    "    raster_name=\"DE_KDB_S\",\n",
    "    block_feature_class=\"blocks_initial\",\n",
    "    zone_field=\"Block_ID\",\n",
    "    new_field_name=\"DE_KDB_S\"\n",
    ")"
   ]
  },
  {
   "cell_type": "code",
   "execution_count": 22,
   "metadata": {},
   "outputs": [],
   "source": [
    "out_raster = arcpy.sa.KernelDensity(r\"E:\\stu1\\Projects\\POI2023\\POI2023.gdb\\JOIN_R_Project\", \n",
    "                        \"DE_Weight\", 10, 1000, \"SQUARE_METERS\", \"DENSITIES\", \n",
    "                        \"PLANAR\", \"高架及快速路_Centerline\"); out_raster.save(r\"E:\\stu1\\Projects\\POI2023\\POI2023.gdb\\DE_KDB_R\")"
   ]
  },
  {
   "cell_type": "code",
   "execution_count": 23,
   "metadata": {},
   "outputs": [
    {
     "name": "stdout",
     "output_type": "stream",
     "text": [
      "DE_KDB_R 字段已更新\n"
     ]
    }
   ],
   "source": [
    "KDB2blocks(\n",
    "    raster_name=\"DE_KDB_R\",\n",
    "    block_feature_class=\"blocks_initial\",\n",
    "    zone_field=\"Block_ID\",\n",
    "    new_field_name=\"DE_KDB_R\"\n",
    ")"
   ]
  },
  {
   "cell_type": "code",
   "execution_count": null,
   "metadata": {},
   "outputs": [],
   "source": []
  }
 ],
 "metadata": {
  "kernelspec": {
   "display_name": "ArcGISPro",
   "language": "Python",
   "name": "python3"
  },
  "language_info": {
   "file_extension": ".py",
   "name": "python",
   "version": "3"
  }
 },
 "nbformat": 4,
 "nbformat_minor": 2
}
