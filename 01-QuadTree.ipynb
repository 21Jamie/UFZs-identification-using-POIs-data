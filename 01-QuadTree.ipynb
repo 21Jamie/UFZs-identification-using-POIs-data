{
 "cells": [
  {
   "cell_type": "code",
   "execution_count": 1,
   "metadata": {},
   "outputs": [],
   "source": [
    "import arcpy\n",
    "from arcpy import env\n",
    "from arcpy.sa import *"
   ]
  },
  {
   "cell_type": "code",
   "execution_count": 2,
   "metadata": {},
   "outputs": [],
   "source": [
    "arcpy.env.workspace = r\"E:\\stu1\\Projects\\POI2023\\POI2023.gdb\"\n",
    "arcpy.env.overwriteOutput = True"
   ]
  },
  {
   "cell_type": "code",
   "execution_count": 3,
   "metadata": {},
   "outputs": [],
   "source": [
    "poi_layer = r\"E:\\stu1\\Projects\\POI2023\\POI2023.gdb\\restaurant23\""
   ]
  },
  {
   "cell_type": "code",
   "execution_count": 4,
   "metadata": {},
   "outputs": [
    {
     "data": {
      "text/html": [
       "<div class='gpresult'><h2>Messages</h2><div id='messages' data-messages='[\"Start Time: 2023年11月26日 20:43:01\",\"Adding Weight to restaurant23...\",\"Succeeded at 2023年11月26日 20:43:02 (Elapsed Time: 0.20 seconds)\"]' data-show='true'><div id = 'default' /></div></div>"
      ],
      "text/plain": [
       "<Result 'E:\\\\stu1\\\\Projects\\\\POI2023\\\\POI2023.gdb\\\\restaurant23'>"
      ]
     },
     "execution_count": 4,
     "metadata": {},
     "output_type": "execute_result"
    }
   ],
   "source": [
    "# 添加属性字段\n",
    "arcpy.AddField_management(poi_layer, \"GridID\", \"LONG\")\n",
    "arcpy.AddField_management(poi_layer, \"Weight\", \"FLOAT\")"
   ]
  },
  {
   "cell_type": "markdown",
   "metadata": {
    "heading_collapsed": true
   },
   "source": [
    "### 数据分布评估"
   ]
  },
  {
   "cell_type": "code",
   "execution_count": 5,
   "metadata": {
    "hidden": true
   },
   "outputs": [],
   "source": [
    "# 执行最近邻指数分析\n",
    "nni_result = arcpy.AverageNearestNeighbor_stats(poi_layer, \"EUCLIDEAN_DISTANCE\", \"NO_REPORT\", None)"
   ]
  },
  {
   "cell_type": "code",
   "execution_count": 6,
   "metadata": {
    "hidden": true
   },
   "outputs": [
    {
     "name": "stdout",
     "output_type": "stream",
     "text": [
      "Nearest Neighbor Ratio: .123968\n",
      "z-score: -529.579655\n",
      "p-value: 0\n"
     ]
    }
   ],
   "source": [
    "# 输出NNI结果\n",
    "print(f\"Nearest Neighbor Ratio: {nni_result[0]}\")\n",
    "print(f\"z-score: {nni_result[1]}\")\n",
    "print(f\"p-value: {nni_result[2]}\")"
   ]
  },
  {
   "cell_type": "code",
   "execution_count": 13,
   "metadata": {
    "hidden": true
   },
   "outputs": [],
   "source": [
    "# KDE分析的输出路径\n",
    "output_kde_raster = r\"E:\\stu1\\Projects\\POI2023\\POI2023.gdb\\kde_output\""
   ]
  },
  {
   "cell_type": "code",
   "execution_count": 9,
   "metadata": {
    "hidden": true
   },
   "outputs": [],
   "source": [
    "# 执行核密度估计\n",
    "kde_result = arcpy.sa.KernelDensity(poi_layer, None)"
   ]
  },
  {
   "cell_type": "code",
   "execution_count": 14,
   "metadata": {
    "hidden": true
   },
   "outputs": [
    {
     "name": "stdout",
     "output_type": "stream",
     "text": [
      "Kernel Density Estimation completed. Output saved to E:\\stu1\\Projects\\POI2023\\POI2023.gdb\\kde_output\n"
     ]
    }
   ],
   "source": [
    "# 保存输出结果\n",
    "kde_result.save(output_kde_raster)\n",
    "\n",
    "print(f\"Kernel Density Estimation completed. Output saved to {output_kde_raster}\")"
   ]
  },
  {
   "cell_type": "markdown",
   "metadata": {},
   "source": [
    "### 四叉树自适应划分格网"
   ]
  },
  {
   "cell_type": "code",
   "execution_count": 21,
   "metadata": {},
   "outputs": [],
   "source": [
    "# 四叉树节点类\n",
    "class QuadTreeNode:\n",
    "    node_count = 0  # 用于生成唯一的格网ID\n",
    "    \n",
    "    def __init__(self, extent, max_points=1000, max_depth=5, depth=0):\n",
    "        self.extent = extent  # 节点的空间范围\n",
    "        self.children = []  # 子节点列表\n",
    "        self.max_points = max_points  # 每个节点能包含的最大点数\n",
    "        self.max_depth = max_depth  # 树的最大深度\n",
    "        self.depth = depth  # 当前节点的深度\n",
    "        self.points = []  # 此节点包含的POI点列表\n",
    "        self.grid_id = QuadTreeNode.node_count  # 唯一的格网ID\n",
    "        QuadTreeNode.node_count += 1\n",
    "        \n",
    "    # 分割当前节点为四个子节点\n",
    "    def split(self):\n",
    "        xmin, ymin, xmax, ymax = self.extent\n",
    "        xmid, ymid = (xmin + xmax) / 2, (ymin + ymax) / 2\n",
    "        \n",
    "        # 定义四个子区域的空间范围\n",
    "        extents = [\n",
    "            (xmin, ymin, xmid, ymid),  # 西南\n",
    "            (xmid, ymin, xmax, ymid),  # 东南\n",
    "            (xmin, ymid, xmid, ymax),  # 西北\n",
    "            (xmid, ymid, xmax, ymax)   # 东北\n",
    "        ]\n",
    "    \n",
    "        # 为每个子区域创建一个新的四叉树节点\n",
    "        for extent in extents:\n",
    "            self.children.append(QuadTreeNode(extent, max_points=self.max_points, max_depth=self.max_depth, depth=self.depth + 1))\n",
    "            \n",
    "    # 将一个点插入四叉树中，并存储格网ID或节点引用\n",
    "    def insert(self, point):\n",
    "        if not self._contains(point):\n",
    "            return False  # 点不在当前节点的范围内\n",
    "\n",
    "        if len(self.points) < self.max_points or self.depth == self.max_depth:\n",
    "            self.points.append(point)  # 如果节点未满，或达到最大深度，直接添加点\n",
    "            return True\n",
    "\n",
    "        if not self.children:\n",
    "            self.split()  # 如果子节点不存在，先分割当前节点\n",
    "\n",
    "        return any(child.insert(point) for child in self.children)\n",
    "    \n",
    "    # 检查点是否在当前节点的范围内\n",
    "    def _contains(self, point):\n",
    "        x, y = point\n",
    "        xmin, ymin, xmax, ymax = self.extent\n",
    "        return xmin <= x < xmax and ymin <= y < ymax"
   ]
  },
  {
   "cell_type": "code",
   "execution_count": 16,
   "metadata": {},
   "outputs": [],
   "source": [
    "# 构建四叉树并为每个POI点分配格网ID\n",
    "def build_quadtree_and_assign_grid_ids(poi_layer, root):\n",
    "    with arcpy.da.UpdateCursor(poi_layer, [\"SHAPE@XY\", \"GridID\"]) as cursor:\n",
    "        for row in cursor:\n",
    "            point = row[0]\n",
    "            if root.insert(point):\n",
    "                # 如果点被插入到四叉树，更新其格网ID\n",
    "                row[1] = find_grid_id(root, point)\n",
    "                cursor.updateRow(row)"
   ]
  },
  {
   "cell_type": "code",
   "execution_count": 17,
   "metadata": {},
   "outputs": [],
   "source": [
    "# 递归查找包含给定点的节点的格网ID\n",
    "def find_grid_id(node, point):\n",
    "    if node._contains(point):\n",
    "        if not node.children or node.depth == node.max_depth:\n",
    "            return node.grid_id\n",
    "        for child in node.children:\n",
    "            grid_id = find_grid_id(child, point)\n",
    "            if grid_id is not None:\n",
    "                return grid_id\n",
    "    return None"
   ]
  },
  {
   "cell_type": "code",
   "execution_count": 18,
   "metadata": {},
   "outputs": [],
   "source": [
    "# 根据行政边界矢量数据生成四叉树覆盖的空间范围\n",
    "boundary_layer = r\"E:\\stu1\\Projects\\POI2023\\POI2023.gdb\\wuhan2023\"\n",
    "boundary_extent = arcpy.Describe(boundary_layer).extent\n",
    "tree_extent = (boundary_extent.XMin, boundary_extent.YMin, boundary_extent.XMax, boundary_extent.YMax)"
   ]
  },
  {
   "cell_type": "markdown",
   "metadata": {},
   "source": [
    "需要设置的参数和变量：\n",
    "* poi_layer\n",
    "* max_points_per_node\n",
    "* max_depth\n",
    "* tree_extent"
   ]
  },
  {
   "cell_type": "code",
   "execution_count": 22,
   "metadata": {},
   "outputs": [],
   "source": [
    "# 创建四叉树的根节点\n",
    "max_points_per_node = 100\n",
    "max_depth = 7\n",
    "root = QuadTreeNode(tree_extent, max_points=max_points_per_node, max_depth=max_depth)"
   ]
  },
  {
   "cell_type": "code",
   "execution_count": 23,
   "metadata": {},
   "outputs": [],
   "source": [
    "# 为POI图层中的每个点构建四叉树并分配格网ID\n",
    "build_quadtree_and_assign_grid_ids(poi_layer, root)"
   ]
  },
  {
   "cell_type": "markdown",
   "metadata": {},
   "source": [
    "### 去丛聚调整权重"
   ]
  },
  {
   "cell_type": "code",
   "execution_count": 24,
   "metadata": {},
   "outputs": [],
   "source": [
    "# 计算每个格网内POI的数量\n",
    "def calculate_grid_poi_counts(poi_layer):\n",
    "    grid_poi_counts = {}\n",
    "    with arcpy.da.SearchCursor(poi_layer, [\"GridID\"]) as cursor:\n",
    "        for row in cursor:\n",
    "            grid_id = row[0]\n",
    "            grid_poi_counts[grid_id] = grid_poi_counts.get(grid_id, 0) + 1\n",
    "    return grid_poi_counts"
   ]
  },
  {
   "cell_type": "code",
   "execution_count": 25,
   "metadata": {},
   "outputs": [],
   "source": [
    "# 为每个POI点分配权重\n",
    "def assign_weights_to_pois(poi_layer, grid_poi_counts):\n",
    "    # 计算有POI的格网总数\n",
    "    total_occupied_grids = len(grid_poi_counts)\n",
    "    # 计算每个格网的权重\n",
    "    grid_weight = 1.0 / total_occupied_grids if total_occupied_grids else 0\n",
    "    \n",
    "    with arcpy.da.UpdateCursor(poi_layer, [\"GridID\", \"Weight\"]) as cursor:\n",
    "        for row in cursor:\n",
    "            grid_id = row[0]\n",
    "            poi_count = grid_poi_counts.get(grid_id, 0)\n",
    "            weight = grid_weight / poi_count if poi_count > 0 else 0\n",
    "            row[1] = weight\n",
    "            cursor.updateRow(row)"
   ]
  },
  {
   "cell_type": "code",
   "execution_count": 26,
   "metadata": {},
   "outputs": [],
   "source": [
    "# 计算每个格网内POI的数量\n",
    "grid_poi_counts = calculate_grid_poi_counts(poi_layer)"
   ]
  },
  {
   "cell_type": "code",
   "execution_count": 27,
   "metadata": {},
   "outputs": [],
   "source": [
    "# 为每个POI点分配权重\n",
    "assign_weights_to_pois(poi_layer, grid_poi_counts)"
   ]
  },
  {
   "cell_type": "code",
   "execution_count": null,
   "metadata": {},
   "outputs": [],
   "source": []
  },
  {
   "cell_type": "code",
   "execution_count": null,
   "metadata": {},
   "outputs": [],
   "source": []
  },
  {
   "cell_type": "code",
   "execution_count": null,
   "metadata": {},
   "outputs": [],
   "source": []
  },
  {
   "cell_type": "code",
   "execution_count": null,
   "metadata": {},
   "outputs": [],
   "source": []
  },
  {
   "cell_type": "code",
   "execution_count": null,
   "metadata": {},
   "outputs": [],
   "source": []
  },
  {
   "cell_type": "code",
   "execution_count": null,
   "metadata": {},
   "outputs": [],
   "source": []
  },
  {
   "cell_type": "code",
   "execution_count": null,
   "metadata": {},
   "outputs": [],
   "source": []
  },
  {
   "cell_type": "code",
   "execution_count": null,
   "metadata": {},
   "outputs": [],
   "source": []
  },
  {
   "cell_type": "code",
   "execution_count": null,
   "metadata": {},
   "outputs": [],
   "source": []
  },
  {
   "cell_type": "code",
   "execution_count": null,
   "metadata": {},
   "outputs": [],
   "source": []
  }
 ],
 "metadata": {
  "kernelspec": {
   "display_name": "ArcGISPro",
   "language": "Python",
   "name": "python3"
  },
  "language_info": {
   "file_extension": ".py",
   "name": "python",
   "version": "3"
  }
 },
 "nbformat": 4,
 "nbformat_minor": 2
}
