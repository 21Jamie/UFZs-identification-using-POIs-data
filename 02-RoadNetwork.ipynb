{
 "cells": [
  {
   "cell_type": "code",
   "execution_count": 1,
   "metadata": {},
   "outputs": [],
   "source": [
    "import arcpy"
   ]
  },
  {
   "cell_type": "code",
   "execution_count": 2,
   "metadata": {},
   "outputs": [],
   "source": [
    "arcpy.env.workspace = r\"E:\\stu1\\Projects\\POI2023\\POI2023.gdb\""
   ]
  },
  {
   "cell_type": "code",
   "execution_count": 4,
   "metadata": {},
   "outputs": [],
   "source": [
    "roads = r\"E:\\stu1\\Projects\\POI2023\\POI2023.gdb\\wuhan_road23\""
   ]
  },
  {
   "cell_type": "markdown",
   "metadata": {},
   "source": [
    "# 获取中心城区范围：ring3.shp"
   ]
  },
  {
   "cell_type": "code",
   "execution_count": 5,
   "metadata": {},
   "outputs": [],
   "source": [
    "query = \"name = '三环线' Or name = '天兴洲长江大桥' Or name = '長豐橋' Or name = '白沙洲長江大橋' Or OBJECTID = 6545 Or OBJECTID = 6536\""
   ]
  },
  {
   "cell_type": "code",
   "execution_count": 6,
   "metadata": {},
   "outputs": [],
   "source": [
    "selected_roads = arcpy.SelectLayerByAttribute_management(roads, \"NEW_SELECTION\", query)"
   ]
  },
  {
   "cell_type": "code",
   "execution_count": 7,
   "metadata": {},
   "outputs": [],
   "source": [
    "# 合并选中的路线\n",
    "merged_roads = arcpy.Merge_management(selected_roads, \"merged_roads\")"
   ]
  },
  {
   "cell_type": "code",
   "execution_count": 8,
   "metadata": {},
   "outputs": [],
   "source": [
    "polygon = arcpy.FeatureToPolygon_management(merged_roads, \"polygon\")"
   ]
  },
  {
   "cell_type": "code",
   "execution_count": 11,
   "metadata": {},
   "outputs": [
    {
     "data": {
      "text/html": [
       "<div class='gpresult'><h2>Messages</h2><div id='messages' data-messages='[\"Start Time: 2024年1月18日 12:33:23\",\"Succeeded at 2024年1月18日 12:33:23 (Elapsed Time: 0.57 seconds)\"]' data-show='true'><div id = 'default' /></div></div>"
      ],
      "text/plain": [
       "<Result 'E:\\\\stu1\\\\Projects\\\\POI2023\\\\POI2023.gdb\\\\ring3'>"
      ]
     },
     "execution_count": 11,
     "metadata": {},
     "output_type": "execute_result"
    }
   ],
   "source": [
    "# 保存结果\n",
    "bound = r\"E:\\stu1\\Projects\\POI2023\\POI2023.gdb\\ring3\"\n",
    "arcpy.CopyFeatures_management(polygon, bound)"
   ]
  },
  {
   "cell_type": "markdown",
   "metadata": {},
   "source": [
    "# 路网数据预处理"
   ]
  },
  {
   "cell_type": "markdown",
   "metadata": {},
   "source": [
    "## 对武汉市路网数据投影"
   ]
  },
  {
   "cell_type": "code",
   "execution_count": 5,
   "metadata": {},
   "outputs": [
    {
     "data": {
      "text/html": [
       "<div class='gpresult'><h2>Messages</h2><div id='messages' data-messages='[\"Start Time: 2024年2月16日 6:12:59\",\"Succeeded at 2024年2月16日 6:13:03 (Elapsed Time: 3.31 seconds)\"]' data-show='true'><div id = 'default' /></div></div>"
      ],
      "text/plain": [
       "<Result 'E:\\\\stu1\\\\Projects\\\\POI2023\\\\POI2023.gdb\\\\Projected_roads'>"
      ]
     },
     "execution_count": 5,
     "metadata": {},
     "output_type": "execute_result"
    }
   ],
   "source": [
    "# output UTM Zone 50N \n",
    "utm50n_sr = arcpy.SpatialReference(32650)\n",
    "Projected_roads = r\"E:\\stu1\\Projects\\POI2023\\POI2023.gdb\\Projected_roads\"\n",
    "\n",
    "# Project\n",
    "arcpy.Project_management(roads, Projected_roads, utm50n_sr)"
   ]
  },
  {
   "cell_type": "markdown",
   "metadata": {},
   "source": [
    "## 提取道路中间线"
   ]
  },
  {
   "cell_type": "markdown",
   "metadata": {},
   "source": [
    "### 高架及快速路"
   ]
  },
  {
   "cell_type": "code",
   "execution_count": 6,
   "metadata": {},
   "outputs": [
    {
     "data": {
      "text/html": [
       "<div class='gpresult'><h2>Messages</h2><div id='messages' data-messages='[\"Start Time: 2024年2月16日 11:18:39\",\"Succeeded at 2024年2月16日 11:18:41 (Elapsed Time: 2.48 seconds)\"]' data-show='true'><div id = 'default' /></div></div>"
      ],
      "text/plain": [
       "<Result 'E:\\\\stu1\\\\Projects\\\\POI2023\\\\POI2023.gdb\\\\高架及快速路_10Buffer'>"
      ]
     },
     "execution_count": 6,
     "metadata": {},
     "output_type": "execute_result"
    }
   ],
   "source": [
    "# 输入道路图层名称\n",
    "road_layer = r\"E:\\stu1\\Projects\\POI2023\\POI2023.gdb\\高架及快速路\"\n",
    "\n",
    "# 指定生成缓冲区的保存路径\n",
    "output_path = r\"E:\\stu1\\Projects\\POI2023\\POI2023.gdb\\高架及快速路_10Buffer\" \n",
    "\n",
    "# 创建双侧10米缓冲区，并保存到指定路径\n",
    "arcpy.Buffer_analysis(in_features=road_layer, out_feature_class=output_path, buffer_distance_or_field=\"10 Meters\")"
   ]
  },
  {
   "cell_type": "code",
   "execution_count": 8,
   "metadata": {},
   "outputs": [
    {
     "data": {
      "text/html": [
       "<div class='gpresult'><h2>Messages</h2><div id='messages' data-messages='[\"Start Time: 2024年2月16日 16:21:42\",\"Dissolving...\",\"Succeeded at 2024年2月16日 16:21:48 (Elapsed Time: 6.19 seconds)\"]' data-show='true'><div id = 'default' /></div></div>"
      ],
      "text/plain": [
       "<Result 'E:\\\\stu1\\\\Projects\\\\POI2023\\\\POI2023.gdb\\\\高架及快速路_polygon'>"
      ]
     },
     "execution_count": 8,
     "metadata": {},
     "output_type": "execute_result"
    }
   ],
   "source": [
    "# 输入的缓冲区要素类\n",
    "input_buffer = r\"E:\\stu1\\Projects\\POI2023\\POI2023.gdb\\高架及快速路_10Buffer\" \n",
    "\n",
    "# 输出的单一多边形要素类\n",
    "output_polygon = r\"E:\\stu1\\Projects\\POI2023\\POI2023.gdb\\高架及快速路_polygon\" \n",
    "\n",
    "# 将缓冲区要素合并为单一多边形\n",
    "arcpy.Dissolve_management(in_features=input_buffer, out_feature_class=output_polygon)"
   ]
  },
  {
   "cell_type": "markdown",
   "metadata": {},
   "source": [
    "Topographic Production Tools/Data Management/Generalization/Polygon to Centerline工具"
   ]
  },
  {
   "cell_type": "markdown",
   "metadata": {},
   "source": [
    "### 城市主干道"
   ]
  },
  {
   "cell_type": "code",
   "execution_count": 10,
   "metadata": {},
   "outputs": [
    {
     "data": {
      "text/html": [
       "<div class='gpresult'><h2>Messages</h2><div id='messages' data-messages='[\"Start Time: 2024年2月16日 16:29:39\",\"Succeeded at 2024年2月16日 16:29:42 (Elapsed Time: 2.88 seconds)\"]' data-show='true'><div id = 'default' /></div></div>"
      ],
      "text/plain": [
       "<Result 'E:\\\\stu1\\\\Projects\\\\POI2023\\\\POI2023.gdb\\\\城市主干道_15Buffer'>"
      ]
     },
     "execution_count": 10,
     "metadata": {},
     "output_type": "execute_result"
    }
   ],
   "source": [
    "# 输入道路图层名称\n",
    "road_layer = r\"E:\\stu1\\Projects\\POI2023\\POI2023.gdb\\城市主干道\"\n",
    "\n",
    "# 指定生成缓冲区的保存路径\n",
    "output_path = r\"E:\\stu1\\Projects\\POI2023\\POI2023.gdb\\城市主干道_15Buffer\" \n",
    "\n",
    "# 创建双侧15米缓冲区，并保存到指定路径\n",
    "arcpy.Buffer_analysis(in_features=road_layer, out_feature_class=output_path, buffer_distance_or_field=\"15 Meters\")"
   ]
  },
  {
   "cell_type": "code",
   "execution_count": 11,
   "metadata": {},
   "outputs": [
    {
     "data": {
      "text/html": [
       "<div class='gpresult'><h2>Messages</h2><div id='messages' data-messages='[\"Start Time: 2024年2月16日 16:29:45\",\"Dissolving...\",\"Succeeded at 2024年2月16日 16:29:55 (Elapsed Time: 9.53 seconds)\"]' data-show='true'><div id = 'default' /></div></div>"
      ],
      "text/plain": [
       "<Result 'E:\\\\stu1\\\\Projects\\\\POI2023\\\\POI2023.gdb\\\\城市主干道_polygon'>"
      ]
     },
     "execution_count": 11,
     "metadata": {},
     "output_type": "execute_result"
    }
   ],
   "source": [
    "# 输入的缓冲区要素类\n",
    "input_buffer = r\"E:\\stu1\\Projects\\POI2023\\POI2023.gdb\\城市主干道_15Buffer\" \n",
    "\n",
    "# 输出的单一多边形要素类\n",
    "output_polygon = r\"E:\\stu1\\Projects\\POI2023\\POI2023.gdb\\城市主干道_polygon\" \n",
    "\n",
    "# 将缓冲区要素合并为单一多边形\n",
    "arcpy.Dissolve_management(in_features=input_buffer, out_feature_class=output_polygon)"
   ]
  },
  {
   "cell_type": "markdown",
   "metadata": {},
   "source": [
    "### 城市次干道"
   ]
  },
  {
   "cell_type": "code",
   "execution_count": 12,
   "metadata": {},
   "outputs": [
    {
     "data": {
      "text/html": [
       "<div class='gpresult'><h2>Messages</h2><div id='messages' data-messages='[\"Start Time: 2024年2月16日 16:36:51\",\"Succeeded at 2024年2月16日 16:36:53 (Elapsed Time: 1.90 seconds)\"]' data-show='true'><div id = 'default' /></div></div>"
      ],
      "text/plain": [
       "<Result 'E:\\\\stu1\\\\Projects\\\\POI2023\\\\POI2023.gdb\\\\城市次干道_33Buffer'>"
      ]
     },
     "execution_count": 12,
     "metadata": {},
     "output_type": "execute_result"
    }
   ],
   "source": [
    "# 输入道路图层名称\n",
    "road_layer = r\"E:\\stu1\\Projects\\POI2023\\POI2023.gdb\\城市次干道\"\n",
    "\n",
    "# 指定生成缓冲区的保存路径\n",
    "output_path = r\"E:\\stu1\\Projects\\POI2023\\POI2023.gdb\\城市次干道_33Buffer\" \n",
    "\n",
    "# 创建双侧33米缓冲区，并保存到指定路径\n",
    "arcpy.Buffer_analysis(in_features=road_layer, out_feature_class=output_path, buffer_distance_or_field=\"33 Meters\")"
   ]
  },
  {
   "cell_type": "code",
   "execution_count": 13,
   "metadata": {},
   "outputs": [
    {
     "data": {
      "text/html": [
       "<div class='gpresult'><h2>Messages</h2><div id='messages' data-messages='[\"Start Time: 2024年2月16日 16:37:04\",\"Dissolving...\",\"Succeeded at 2024年2月16日 16:37:07 (Elapsed Time: 3.87 seconds)\"]' data-show='true'><div id = 'default' /></div></div>"
      ],
      "text/plain": [
       "<Result 'E:\\\\stu1\\\\Projects\\\\POI2023\\\\POI2023.gdb\\\\城市次干道_polygon'>"
      ]
     },
     "execution_count": 13,
     "metadata": {},
     "output_type": "execute_result"
    }
   ],
   "source": [
    "# 输入的缓冲区要素类\n",
    "input_buffer = r\"E:\\stu1\\Projects\\POI2023\\POI2023.gdb\\城市次干道_33Buffer\" \n",
    "\n",
    "# 输出的单一多边形要素类\n",
    "output_polygon = r\"E:\\stu1\\Projects\\POI2023\\POI2023.gdb\\城市次干道_polygon\" \n",
    "\n",
    "# 将缓冲区要素合并为单一多边形\n",
    "arcpy.Dissolve_management(in_features=input_buffer, out_feature_class=output_polygon)"
   ]
  },
  {
   "cell_type": "markdown",
   "metadata": {},
   "source": [
    "### 内部道路"
   ]
  },
  {
   "cell_type": "code",
   "execution_count": 14,
   "metadata": {},
   "outputs": [
    {
     "data": {
      "text/html": [
       "<div class='gpresult'><h2>Messages</h2><div id='messages' data-messages='[\"Start Time: 2024年2月16日 16:42:08\",\"Succeeded at 2024年2月16日 16:42:11 (Elapsed Time: 2.89 seconds)\"]' data-show='true'><div id = 'default' /></div></div>"
      ],
      "text/plain": [
       "<Result 'E:\\\\stu1\\\\Projects\\\\POI2023\\\\POI2023.gdb\\\\内部道路_10Buffer'>"
      ]
     },
     "execution_count": 14,
     "metadata": {},
     "output_type": "execute_result"
    }
   ],
   "source": [
    "# 输入道路图层名称\n",
    "road_layer = r\"E:\\stu1\\Projects\\POI2023\\POI2023.gdb\\内部道路\"\n",
    "\n",
    "# 指定生成缓冲区的保存路径\n",
    "output_path = r\"E:\\stu1\\Projects\\POI2023\\POI2023.gdb\\内部道路_10Buffer\" \n",
    "\n",
    "# 创建双侧10米缓冲区，并保存到指定路径\n",
    "arcpy.Buffer_analysis(in_features=road_layer, out_feature_class=output_path, buffer_distance_or_field=\"10 Meters\")"
   ]
  },
  {
   "cell_type": "code",
   "execution_count": 15,
   "metadata": {},
   "outputs": [
    {
     "data": {
      "text/html": [
       "<div class='gpresult'><h2>Messages</h2><div id='messages' data-messages='[\"Start Time: 2024年2月16日 16:42:12\",\"Dissolving...\",\"Succeeded at 2024年2月16日 16:42:18 (Elapsed Time: 5.78 seconds)\"]' data-show='true'><div id = 'default' /></div></div>"
      ],
      "text/plain": [
       "<Result 'E:\\\\stu1\\\\Projects\\\\POI2023\\\\POI2023.gdb\\\\内部道路_polygon'>"
      ]
     },
     "execution_count": 15,
     "metadata": {},
     "output_type": "execute_result"
    }
   ],
   "source": [
    "# 输入的缓冲区要素类\n",
    "input_buffer = r\"E:\\stu1\\Projects\\POI2023\\POI2023.gdb\\内部道路_10Buffer\" \n",
    "\n",
    "# 输出的单一多边形要素类\n",
    "output_polygon = r\"E:\\stu1\\Projects\\POI2023\\POI2023.gdb\\内部道路_polygon\" \n",
    "\n",
    "# 将缓冲区要素合并为单一多边形\n",
    "arcpy.Dissolve_management(in_features=input_buffer, out_feature_class=output_polygon)"
   ]
  },
  {
   "cell_type": "markdown",
   "metadata": {},
   "source": [
    "### 道路融合"
   ]
  },
  {
   "cell_type": "code",
   "execution_count": 24,
   "metadata": {},
   "outputs": [
    {
     "data": {
      "text/html": [
       "<div class='gpresult'><h2>Messages</h2><div id='messages' data-messages='[\"Start Time: 2024年2月16日 17:03:09\",\"Succeeded at 2024年2月16日 17:03:11 (Elapsed Time: 2.16 seconds)\"]' data-show='true'><div id = 'default' /></div></div>"
      ],
      "text/plain": [
       "<Result 'E:\\\\stu1\\\\Projects\\\\POI2023\\\\POI2023.gdb\\\\merged_Centerline'>"
      ]
     },
     "execution_count": 24,
     "metadata": {},
     "output_type": "execute_result"
    }
   ],
   "source": [
    "import arcpy\n",
    "\n",
    "# 设置工作空间\n",
    "arcpy.env.workspace = r\"E:\\stu1\\Projects\\POI2023\\POI2023.gdb\"\n",
    "\n",
    "# 融合的道路文件列表\n",
    "road_files = [\n",
    "    \"高架及快速路_Centerline\",\n",
    "    \"城市主干道_Centerline\",\n",
    "    \"城市次干道_Centerline\",\n",
    "    \"内部道路_Centerline\"\n",
    "]\n",
    "\n",
    "# 输出的融合后的道路文件名称\n",
    "output_merged_road = \"merged_Centerline\"\n",
    "\n",
    "# 为每个道路文件添加 \"RoadType\" 字段并填充内容\n",
    "for road_file in road_files:\n",
    "    arcpy.AddField_management(in_table=road_file, field_name=\"RoadType\", field_type=\"TEXT\")\n",
    "    road_type = road_file.split(\"_\")[0]  # 解析文件名中的道路类型\n",
    "    with arcpy.da.UpdateCursor(road_file, \"RoadType\") as cursor:\n",
    "        for row in cursor:\n",
    "            row[0] = road_type\n",
    "            cursor.updateRow(row)\n",
    "\n",
    "# 使用 Merge 工具融合道路文件\n",
    "arcpy.management.Merge(inputs=road_files, output=output_merged_road)\n"
   ]
  },
  {
   "cell_type": "markdown",
   "metadata": {},
   "source": [
    "# 研究区域数据"
   ]
  },
  {
   "cell_type": "code",
   "execution_count": 4,
   "metadata": {},
   "outputs": [],
   "source": [
    "# 用三环线裁剪武汉市路网\n",
    "boundary = r\"E:\\stu1\\Projects\\POI2023\\POI2023.gdb\\ring3\"\n",
    "Target_na = r\"E:\\stu1\\Projects\\POI2023\\POI2023.gdb\\Target_na\""
   ]
  },
  {
   "cell_type": "code",
   "execution_count": 5,
   "metadata": {},
   "outputs": [
    {
     "data": {
      "text/html": [
       "<div class='gpresult'><h2>Messages</h2><div id='messages' data-messages='[\"Start Time: 2024年2月15日 12:42:05\",\"Analyzing input features...\",\"Dissolving clip features...\",\"Clipping input features...\",\"Succeeded at 2024年2月15日 12:42:06 (Elapsed Time: 1.19 seconds)\"]' data-show='true'><div id = 'default' /></div></div>"
      ],
      "text/plain": [
       "<Result 'E:\\\\stu1\\\\Projects\\\\POI2023\\\\POI2023.gdb\\\\Target_na'>"
      ]
     },
     "execution_count": 5,
     "metadata": {},
     "output_type": "execute_result"
    }
   ],
   "source": [
    "# Clip the datasets\n",
    "arcpy.Clip_analysis(roads, boundary, Target_na)"
   ]
  },
  {
   "cell_type": "code",
   "execution_count": 6,
   "metadata": {},
   "outputs": [
    {
     "data": {
      "text/html": [
       "<div class='gpresult'><h2>Messages</h2><div id='messages' data-messages='[\"Start Time: 2024年2月15日 12:42:20\",\"Succeeded at 2024年2月15日 12:42:22 (Elapsed Time: 1.77 seconds)\"]' data-show='true'><div id = 'default' /></div></div>"
      ],
      "text/plain": [
       "<Result 'E:\\\\stu1\\\\Projects\\\\POI2023\\\\POI2023.gdb\\\\target_road'>"
      ]
     },
     "execution_count": 6,
     "metadata": {},
     "output_type": "execute_result"
    }
   ],
   "source": [
    "# 对裁剪后的路网投影到UTM 50N\n",
    "Target = r\"E:\\stu1\\Projects\\POI2023\\POI2023.gdb\\target_road\"\n",
    "\n",
    "# output UTM Zone 50N \n",
    "utm50n_sr = arcpy.SpatialReference(32650)\n",
    "# Project\n",
    "arcpy.Project_management(Target_na, Target, utm50n_sr)"
   ]
  },
  {
   "cell_type": "markdown",
   "metadata": {},
   "source": [
    "# 筛选道路类型"
   ]
  },
  {
   "cell_type": "code",
   "execution_count": 7,
   "metadata": {},
   "outputs": [
    {
     "name": "stdout",
     "output_type": "stream",
     "text": [
      "Road network has been filtered and saved as 'target_filtered'.\n"
     ]
    }
   ],
   "source": [
    "# Define input road network\n",
    "input_road_network = r\"E:\\stu1\\Projects\\POI2023\\POI2023.gdb\\target_road\"\n",
    "\n",
    "# Define the SQL query to select desired road types\n",
    "query = \"fclass IN ('motorway', 'trunk', 'primary', 'secondary', 'tertiary')\"\n",
    "\n",
    "# Define the path to the output feature class\n",
    "output_road_network = r\"E:\\stu1\\Projects\\POI2023\\POI2023.gdb\\target_filtered\"\n",
    "\n",
    "# Use the Select_analysis tool to create a new feature class based on the query\n",
    "arcpy.Select_analysis(input_road_network, output_road_network, query)\n",
    "\n",
    "print(\"Road network has been filtered and saved as 'target_filtered'.\")\n"
   ]
  },
  {
   "cell_type": "markdown",
   "metadata": {},
   "source": [
    "# 路网分级拓宽"
   ]
  },
  {
   "cell_type": "markdown",
   "metadata": {},
   "source": [
    "## 生成缓冲区"
   ]
  },
  {
   "cell_type": "code",
   "execution_count": 1,
   "metadata": {},
   "outputs": [
    {
     "name": "stdout",
     "output_type": "stream",
     "text": [
      "缓冲区生成完成。\n"
     ]
    }
   ],
   "source": [
    "import arcpy\n",
    "\n",
    "# 输入的路网要素类\n",
    "input_feature_class = r\"E:\\stu1\\Projects\\POI2023\\topology.gdb\\roadnet_23\\merged_Centerline\"\n",
    "\n",
    "# 输出缓冲区的地理数据库路径\n",
    "output_gdb = r\"E:\\stu1\\Projects\\POI2023\\topology.gdb\"\n",
    "\n",
    "# 缓冲区距离映射，根据ROADTYPE定义\n",
    "buffer_distances = {\n",
    "    \"高架及快速路\": 15,  # 高架及快速路15米\n",
    "    \"城市主干道\": 8,  # 城市主干道8米\n",
    "    \"城市次干道\": 2  # 城市次干道2米\n",
    "    # \"内部道路\" 不参与拓宽，因此不在此字典中定义\n",
    "}\n",
    "\n",
    "# 确保输出的文件地理数据库存在\n",
    "if not arcpy.Exists(output_gdb):\n",
    "    arcpy.CreateFileGDB_management(*os.path.split(output_gdb))\n",
    "\n",
    "# 对每个ROADTYPE进行循环，生成相应宽度的缓冲区\n",
    "for road_type, distance in buffer_distances.items():\n",
    "    # 定义输出要素类的名称和路径\n",
    "    output_feature_class = f\"{output_gdb}/Buffer_{road_type}\"\n",
    "    \n",
    "    # 构建查询语句\n",
    "    query = f\"RoadType = '{road_type}'\"\n",
    "    \n",
    "    # 使用Select_analysis选择当前ROADTYPE的道路\n",
    "    selected_roads = arcpy.management.SelectLayerByAttribute(input_feature_class, \"NEW_SELECTION\", query)\n",
    "    \n",
    "    # 为选定的道路生成缓冲区\n",
    "    arcpy.Buffer_analysis(selected_roads, output_feature_class, f\"{distance} Meters\", \"FULL\", \"ROUND\", \"NONE\")\n",
    "\n",
    "print(\"缓冲区生成完成。\")\n"
   ]
  },
  {
   "cell_type": "markdown",
   "metadata": {},
   "source": [
    "## 融合和合并"
   ]
  },
  {
   "cell_type": "code",
   "execution_count": 4,
   "metadata": {},
   "outputs": [
    {
     "name": "stdout",
     "output_type": "stream",
     "text": [
      "合并完成。\n"
     ]
    }
   ],
   "source": [
    "import arcpy\n",
    "\n",
    "# 输出地理数据库路径\n",
    "output_gdb = r\"E:\\stu1\\Projects\\POI2023\\topology.gdb\"\n",
    "\n",
    "# 合并后的要素类名称\n",
    "merged_feature_class = f\"{output_gdb}/Merged_Roads\"\n",
    "\n",
    "# 缓冲区要素类列表\n",
    "buffers = [\n",
    "    f\"{output_gdb}/Buffer_高架及快速路\",\n",
    "    f\"{output_gdb}/Buffer_城市主干道\",\n",
    "    f\"{output_gdb}/Buffer_城市次干道\"\n",
    "]\n",
    "\n",
    "# 使用Merge工具合并缓冲区\n",
    "arcpy.Merge_management(buffers, merged_feature_class)\n",
    "\n",
    "print(\"合并完成。\")"
   ]
  },
  {
   "cell_type": "code",
   "execution_count": 5,
   "metadata": {},
   "outputs": [
    {
     "name": "stdout",
     "output_type": "stream",
     "text": [
      "Dissolve 处理完成。\n"
     ]
    }
   ],
   "source": [
    "# 合并后的要素类路径\n",
    "merged_feature_class = r\"E:\\stu1\\Projects\\POI2023\\topology.gdb\\Merged_Roads\"\n",
    "\n",
    "# Dissolve 处理后的要素类路径\n",
    "dissolved_feature_class = r\"E:\\stu1\\Projects\\POI2023\\topology.gdb\\Dissolved_Roads\"\n",
    "\n",
    "# 使用Dissolve工具合并具有相同属性的要素\n",
    "# 在这里，我们不指定 dissolve_field 参数，意味着所有要素将合并成一个单一的要素，忽略属性\n",
    "arcpy.Dissolve_management(merged_feature_class, dissolved_feature_class)\n",
    "\n",
    "print(\"Dissolve 处理完成。\")"
   ]
  },
  {
   "cell_type": "markdown",
   "metadata": {},
   "source": [
    "# 提取道路空间"
   ]
  },
  {
   "cell_type": "code",
   "execution_count": 1,
   "metadata": {},
   "outputs": [],
   "source": [
    "ring = r\"E:\\stu1\\Projects\\POI2023\\UFZs.gdb\\ring3\"\n",
    "road_network_polygon = r\"E:\\stu1\\Projects\\POI2023\\topology.gdb\\Dissolved_Roads\"\n",
    "output_polygon = r\"E:\\stu1\\Projects\\POI2023\\topology.gdb\\erased_rings\""
   ]
  },
  {
   "cell_type": "code",
   "execution_count": 2,
   "metadata": {},
   "outputs": [
    {
     "data": {
      "text/html": [
       "<div class='gpresult'><h2>Messages</h2><div id='messages' data-messages='[\"Start Time: 2024年2月26日 20:38:42\",\"Reading Features...\",\"Cracking Features...\",\"Assembling Features...\",\"Succeeded at 2024年2月26日 20:38:53 (Elapsed Time: 11.21 seconds)\"]' data-show='true'><div id = 'default' /></div></div>"
      ],
      "text/plain": [
       "<Result 'E:\\\\stu1\\\\Projects\\\\POI2023\\\\topology.gdb\\\\erased_rings'>"
      ]
     },
     "execution_count": 2,
     "metadata": {},
     "output_type": "execute_result"
    }
   ],
   "source": [
    "arcpy.Erase_analysis(ring, road_network_polygon, output_polygon)"
   ]
  },
  {
   "cell_type": "code",
   "execution_count": 3,
   "metadata": {},
   "outputs": [
    {
     "data": {
      "text/html": [
       "<div class='gpresult'><h2>Messages</h2><div id='messages' data-messages='[\"Start Time: 2024年2月26日 20:39:46\",\"Succeeded at 2024年2月26日 20:39:48 (Elapsed Time: 1.58 seconds)\"]' data-show='true'><div id = 'default' /></div></div>"
      ],
      "text/plain": [
       "<Result 'E:\\\\stu1\\\\Projects\\\\POI2023\\\\topology.gdb\\\\singled_rings'>"
      ]
     },
     "execution_count": 3,
     "metadata": {},
     "output_type": "execute_result"
    }
   ],
   "source": [
    "# Define the input multipart polygon and the output singlepart feature class\n",
    "input_multipart = r\"E:\\stu1\\Projects\\POI2023\\topology.gdb\\erased_rings\"\n",
    "output_singlepart = r\"E:\\stu1\\Projects\\POI2023\\topology.gdb\\singled_rings\"\n",
    "\n",
    "# Convert multipart to singlepart\n",
    "arcpy.MultipartToSinglepart_management(input_multipart, output_singlepart)"
   ]
  },
  {
   "cell_type": "markdown",
   "metadata": {},
   "source": [
    "# 数据筛选"
   ]
  },
  {
   "cell_type": "code",
   "execution_count": 2,
   "metadata": {},
   "outputs": [
    {
     "name": "stdout",
     "output_type": "stream",
     "text": [
      "原始数据已备份。\n"
     ]
    }
   ],
   "source": [
    "# 设置输入多边形要素类的路径\n",
    "polygon_feature_class = r\"E:\\stu1\\Projects\\POI2023\\POI2023.gdb\\singled_rings_Project\"\n",
    "\n",
    "# 定义备份要素类的路径\n",
    "backup_feature_class = r\"E:\\stu1\\Projects\\POI2023\\topology.gdb\\single_rings_backup\"\n",
    "\n",
    "# 复制原始数据作为备份\n",
    "arcpy.CopyFeatures_management(polygon_feature_class, backup_feature_class)\n",
    "\n",
    "print(\"原始数据已备份。\")"
   ]
  },
  {
   "cell_type": "code",
   "execution_count": 4,
   "metadata": {},
   "outputs": [
    {
     "name": "stdout",
     "output_type": "stream",
     "text": [
      "已删除面积小于5650平方单位的多边形斑块。\n"
     ]
    }
   ],
   "source": [
    "# 构建选择查询表达式\n",
    "query_expression = f\"Shape_Area <= 5650\"\n",
    "\n",
    "# 使用SelectLayerByAttribute_management选择小于5650平方单位的多边形\n",
    "arcpy.MakeFeatureLayer_management(polygon_feature_class, \"polygon_layer\")\n",
    "arcpy.SelectLayerByAttribute_management(\"polygon_layer\", \"NEW_SELECTION\", query_expression)\n",
    "\n",
    "# 删除选中的要素\n",
    "arcpy.DeleteFeatures_management(\"polygon_layer\")\n",
    "\n",
    "print(\"已删除面积小于5650平方单位的多边形斑块。\")"
   ]
  },
  {
   "cell_type": "markdown",
   "metadata": {},
   "source": [
    "# 为街区单元矢量文件构建属性表"
   ]
  },
  {
   "cell_type": "code",
   "execution_count": 3,
   "metadata": {},
   "outputs": [],
   "source": [
    "# 定义街区矢量路径\n",
    "block_vector = r\"E:\\stu1\\Projects\\POI2023\\POI2023.gdb\\blocks_initial\""
   ]
  },
  {
   "cell_type": "code",
   "execution_count": 5,
   "metadata": {},
   "outputs": [
    {
     "data": {
      "text/html": [
       "<div class='gpresult'><h2>Messages</h2><div id='messages' data-messages='[\"Start Time: 2024年2月27日 12:46:10\",\"WARNING 000012: Block_ID already exists\",\"Succeeded at 2024年2月27日 12:46:10 (Elapsed Time: 0.11 seconds)\"]' data-show='true'><div id = 'default' /></div></div>"
      ],
      "text/plain": [
       "<Result 'E:\\\\stu1\\\\Projects\\\\POI2023\\\\POI2023.gdb\\\\blocks_initial'>"
      ]
     },
     "execution_count": 5,
     "metadata": {},
     "output_type": "execute_result"
    }
   ],
   "source": [
    "# 添加新字段\n",
    "arcpy.AddField_management(block_vector, \"Block_ID\", \"LONG\")"
   ]
  },
  {
   "cell_type": "markdown",
   "metadata": {},
   "source": []
  },
  {
   "cell_type": "code",
   "execution_count": 6,
   "metadata": {},
   "outputs": [
    {
     "data": {
      "text/html": [
       "<div class='gpresult'><h2>Messages</h2><div id='messages' data-messages='[\"Start Time: 2024年2月27日 12:51:27\",\"Succeeded at 2024年2月27日 12:51:27 (Elapsed Time: 0.16 seconds)\"]' data-show='true'><div id = 'default' /></div></div>"
      ],
      "text/plain": [
       "<Result 'E:\\\\stu1\\\\Projects\\\\POI2023\\\\POI2023.gdb\\\\blocks_initial'>"
      ]
     },
     "execution_count": 6,
     "metadata": {},
     "output_type": "execute_result"
    }
   ],
   "source": [
    "arcpy.CalculateField_management(block_vector, \"BLock_ID\", \"!OBJECTID!\", \"PYTHON3\")"
   ]
  },
  {
   "cell_type": "markdown",
   "metadata": {},
   "source": [
    "## 捕捉20年土地利用的信息"
   ]
  },
  {
   "cell_type": "markdown",
   "metadata": {},
   "source": [
    "### 尝试将土地利用栅格数据转换为矢量"
   ]
  },
  {
   "cell_type": "code",
   "execution_count": 1,
   "metadata": {},
   "outputs": [
    {
     "data": {
      "text/html": [
       "<div class='gpresult'><h2>Messages</h2><div id='messages' data-messages='[\"Start Time: 2024年2月29日 15:31:18\",\"Succeeded at 2024年2月29日 15:31:19 (Elapsed Time: 0.88 seconds)\"]' data-show='true'><div id = 'default' /></div></div>"
      ],
      "text/plain": [
       "<Result 'E:\\\\stu1\\\\Projects\\\\POI2023\\\\POI2023.gdb\\\\lucc20_polygon'>"
      ]
     },
     "execution_count": 1,
     "metadata": {},
     "output_type": "execute_result"
    }
   ],
   "source": [
    "landuse_raster = r\"E:\\stu1\\Projects\\POI2023\\POI2023.gdb\\lucc20_50N\"\n",
    "landuse_polygon = r\"E:\\stu1\\Projects\\POI2023\\POI2023.gdb\\lucc20_polygon\"\n",
    "\n",
    "# 将裁剪后的土地利用栅格转换为多边形\n",
    "arcpy.RasterToPolygon_conversion(in_raster=landuse_raster, out_polygon_features=landuse_polygon, \n",
    "                                 simplify=\"NO_SIMPLIFY\", raster_field=\"Value\")"
   ]
  },
  {
   "cell_type": "markdown",
   "metadata": {},
   "source": [
    "### 空间联结土地利用和街区"
   ]
  },
  {
   "cell_type": "code",
   "execution_count": 3,
   "metadata": {},
   "outputs": [],
   "source": [
    "# 街区矢量和土地利用矢量的路径\n",
    "blocks_vector = r\"E:\\stu1\\Projects\\POI2023\\POI2023.gdb\\blocks_initial\"\n",
    "landuse_vector = r\"E:\\stu1\\Projects\\POI2023\\POI2023.gdb\\lucc20_polygon\""
   ]
  },
  {
   "cell_type": "code",
   "execution_count": 3,
   "metadata": {},
   "outputs": [
    {
     "data": {
      "text/html": [
       "<div class='gpresult'><h2>Messages</h2><div id='messages' data-messages='[\"Start Time: 2024年2月29日 15:42:47\",\"Succeeded at 2024年2月29日 15:42:51 (Elapsed Time: 4.14 seconds)\"]' data-show='true'><div id = 'default' /></div></div>"
      ],
      "text/plain": [
       "<Result 'E:\\\\stu1\\\\Projects\\\\POI2023\\\\POI2023.gdb\\\\Blocks_LandUse_Join'>"
      ]
     },
     "execution_count": 3,
     "metadata": {},
     "output_type": "execute_result"
    }
   ],
   "source": [
    "# 空间联结后的输出路径\n",
    "spatial_join_output = \"Blocks_LandUse_Join\"\n",
    "\n",
    "# 执行空间联结\n",
    "arcpy.SpatialJoin_analysis(target_features=blocks_vector,\n",
    "                           join_features=landuse_vector,\n",
    "                           out_feature_class=spatial_join_output,\n",
    "                           join_operation=\"JOIN_ONE_TO_MANY\",\n",
    "                           join_type=\"KEEP_ALL\",\n",
    "                           match_option=\"INTERSECT\")"
   ]
  },
  {
   "cell_type": "markdown",
   "metadata": {},
   "source": [
    "空间联结后，需要针对土地利用类型对街区进行裁剪，以得到街区内不同土地利用类型的实际面积"
   ]
  },
  {
   "cell_type": "code",
   "execution_count": 5,
   "metadata": {},
   "outputs": [
    {
     "data": {
      "text/html": [
       "<div class='gpresult'><h2>Messages</h2><div id='messages' data-messages='[\"Start Time: 2024年3月1日 11:23:35\",\"Reading Features...\",\"Cracking Features...\",\"Assembling Features...\",\"Succeeded at 2024年3月1日 11:23:39 (Elapsed Time: 4.63 seconds)\"]' data-show='true'><div id = 'default' /></div></div>"
      ],
      "text/plain": [
       "<Result 'E:\\\\stu1\\\\Projects\\\\POI2023\\\\POI2023.gdb\\\\IntersectOutput'>"
      ]
     },
     "execution_count": 5,
     "metadata": {},
     "output_type": "execute_result"
    }
   ],
   "source": [
    "# 身份分析或交集分析后的输出路径\n",
    "intersect_output = \"IntersectOutput\"\n",
    "\n",
    "# 执行身份分析或交集分析\n",
    "arcpy.Identity_analysis(blocks_vector, landuse_vector, intersect_output) "
   ]
  },
  {
   "cell_type": "markdown",
   "metadata": {},
   "source": [
    "计算占比字段"
   ]
  },
  {
   "cell_type": "code",
   "execution_count": 11,
   "metadata": {
    "scrolled": true
   },
   "outputs": [
    {
     "data": {
      "text/html": [
       "<div class='gpresult'><h2>Messages</h2><div id='messages' data-messages='[\"Start Time: 2024年3月1日 12:10:54\",\"Succeeded at 2024年3月1日 12:10:55 (Elapsed Time: 0.63 seconds)\"]' data-show='true'><div id = 'default' /></div></div>"
      ],
      "text/plain": [
       "<Result 'E:\\\\stu1\\\\Projects\\\\POI2023\\\\POI2023.gdb\\\\LandUse_Area_Summary'>"
      ]
     },
     "execution_count": 11,
     "metadata": {},
     "output_type": "execute_result"
    }
   ],
   "source": [
    "# 使用统计分析计算每种土地利用类型的总面积\n",
    "arcpy.Statistics_analysis(\n",
    "    in_table = r\"E:\\stu1\\Projects\\POI2023\\POI2023.gdb\\IntersectOutput\", \n",
    "    out_table  = r\"E:\\stu1\\Projects\\POI2023\\POI2023.gdb\\LandUse_Area_Summary\",\n",
    "    statistics_fields = [[\"Shape_Area\", \"SUM\"]],\n",
    "    case_field = [\"Block_ID\", \"gridcode\"]\n",
    ")"
   ]
  },
  {
   "cell_type": "code",
   "execution_count": 12,
   "metadata": {},
   "outputs": [
    {
     "data": {
      "text/html": [
       "<div class='gpresult'><h2>Messages</h2><div id='messages' data-messages='[\"Start Time: 2024年3月1日 12:11:00\",\"Adding LandUsePct to LandUse_Area_Summary...\",\"Succeeded at 2024年3月1日 12:11:00 (Elapsed Time: 0.15 seconds)\"]' data-show='true'><div id = 'default' /></div></div>"
      ],
      "text/plain": [
       "<Result 'LandUse_Area_Summary'>"
      ]
     },
     "execution_count": 12,
     "metadata": {},
     "output_type": "execute_result"
    }
   ],
   "source": [
    "# 添加占比字段\n",
    "arcpy.AddField_management(\"LandUse_Area_Summary\", \"LandUsePct\", \"DOUBLE\")"
   ]
  },
  {
   "cell_type": "markdown",
   "metadata": {},
   "source": [
    "将导出的表添加到 LandUse_Area_Summary"
   ]
  },
  {
   "cell_type": "code",
   "execution_count": 19,
   "metadata": {},
   "outputs": [
    {
     "data": {
      "text/html": [
       "<div class='gpresult'><h2>Messages</h2><div id='messages' data-messages='[\"Start Time: 2024年3月1日 13:07:35\",\"Succeeded at 2024年3月1日 13:07:35 (Elapsed Time: 0.40 seconds)\"]' data-show='true'><div id = 'default' /></div></div>"
      ],
      "text/plain": [
       "<Result 'E:\\\\stu1\\\\Projects\\\\POI2023\\\\POI2023.gdb\\\\LandUse_Area_Summary'>"
      ]
     },
     "execution_count": 19,
     "metadata": {},
     "output_type": "execute_result"
    }
   ],
   "source": [
    "# 定义LandUse_Area_Summary表的路径\n",
    "landuse_area_summary = r\"E:\\stu1\\Projects\\POI2023\\POI2023.gdb\\LandUse_Area_Summary\"\n",
    "\n",
    "# 使用 \"Join Field\" 工具将街区面积信息添加到 LandUse_Area_Summary 表中\n",
    "arcpy.JoinField_management(\n",
    "    in_data=landuse_area_summary,\n",
    "    in_field=\"Block_ID\",\n",
    "    join_table=r\"E:\\stu1\\Projects\\POI2023\\POI2023.gdb\\blocks_initial_ExportTable\",\n",
    "    join_field=\"Block_ID\",\n",
    "    fields=[\"Shape_Area\"]\n",
    ")\n"
   ]
  },
  {
   "cell_type": "code",
   "execution_count": 21,
   "metadata": {},
   "outputs": [
    {
     "data": {
      "text/html": [
       "<div class='gpresult'><h2>Messages</h2><div id='messages' data-messages='[\"Start Time: 2024年3月1日 13:14:18\",\"Succeeded at 2024年3月1日 13:14:19 (Elapsed Time: 0.23 seconds)\"]' data-show='true'><div id = 'default' /></div></div>"
      ],
      "text/plain": [
       "<Result 'E:\\\\stu1\\\\Projects\\\\POI2023\\\\POI2023.gdb\\\\LandUse_Area_Summary'>"
      ]
     },
     "execution_count": 21,
     "metadata": {},
     "output_type": "execute_result"
    }
   ],
   "source": [
    "import arcpy\n",
    "\n",
    "# 定义LandUse_Area_Summary表的路径\n",
    "landuse_area_summary_table = r\"E:\\stu1\\Projects\\POI2023\\POI2023.gdb\\LandUse_Area_Summary\"\n",
    "\n",
    "# 计算占比\n",
    "\n",
    "# 计算每种土地利用类型面积占相应街区总面积的百分比\n",
    "arcpy.CalculateField_management(\n",
    "    landuse_area_summary_table,\n",
    "    \"LandUsePct\",\n",
    "    \"\"\"!SUM_Shape_Area! / !Shape_Area_1! * 100\"\"\",\n",
    "    \"PYTHON3\"\n",
    ")\n",
    "\n"
   ]
  },
  {
   "cell_type": "code",
   "execution_count": null,
   "metadata": {},
   "outputs": [],
   "source": []
  },
  {
   "cell_type": "code",
   "execution_count": null,
   "metadata": {},
   "outputs": [],
   "source": []
  },
  {
   "cell_type": "code",
   "execution_count": null,
   "metadata": {},
   "outputs": [],
   "source": []
  },
  {
   "cell_type": "code",
   "execution_count": null,
   "metadata": {},
   "outputs": [],
   "source": []
  },
  {
   "cell_type": "code",
   "execution_count": null,
   "metadata": {},
   "outputs": [],
   "source": []
  },
  {
   "cell_type": "markdown",
   "metadata": {},
   "source": [
    "导出街区属性表"
   ]
  },
  {
   "cell_type": "code",
   "execution_count": 17,
   "metadata": {},
   "outputs": [
    {
     "data": {
      "text/html": [
       "<div class='gpresult'><h2>Messages</h2><div id='messages' data-messages='[\"Start Time: 2024年3月1日 12:55:40\",\"Succeeded at 2024年3月1日 12:55:40 (Elapsed Time: 0.61 seconds)\"]' data-show='true'><div id = 'default' /></div></div>"
      ],
      "text/plain": [
       "<Result 'E:\\\\stu1\\\\Projects\\\\POI2023\\\\POI2023.gdb\\\\output_blocks_area'>"
      ]
     },
     "execution_count": 17,
     "metadata": {},
     "output_type": "execute_result"
    }
   ],
   "source": [
    "import arcpy\n",
    "\n",
    "# 定义输入和输出路径\n",
    "input_shp = r\"E:\\stu1\\Projects\\POI2023\\POI2023.gdb\\blocks_initial\"\n",
    "output_table = r\"E:\\stu1\\Projects\\POI2023\\POI2023.gdb\\output_blocks_area.dbf\"\n",
    "\n",
    "# 使用 \"Table To Table\" 工具仅导出 Block_ID 和 Shape_Area 字段\n",
    "arcpy.TableToTable_conversion(\n",
    "    in_rows=input_shp,\n",
    "    out_path=\"E:\\stu1\\Projects\\POI2023\\POI2023.gdb\",  \n",
    "    out_name=\"output_blocks_area.dbf\",  \n",
    "    field_mapping='Block_ID \"Block_ID\" true true false 255 Text 0 0 ,First,#,path/to/blocks_initial.shp,Block_ID,-1,-1;Shape_Area \"Shape_Area\" true true false 8 Double 0 0 ,First,#,path/to/blocks_initial.shp,Shape_Area,-1,-1'\n",
    ")\n"
   ]
  },
  {
   "cell_type": "markdown",
   "metadata": {},
   "source": [
    "在执行统计分析之前，创建字段映射(Field Mappings)对象来精确控制字段的名称"
   ]
  },
  {
   "cell_type": "code",
   "execution_count": null,
   "metadata": {},
   "outputs": [],
   "source": [
    "import arcpy\n",
    "\n",
    "# 创建一个字段映射对象\n",
    "field_mappings = arcpy.FieldMappings()\n",
    "\n",
    "# 加载要统计的字段\n",
    "field_mappings.addTable(intersect_output)\n",
    "\n",
    "# 获取想要汇总的字段的映射\n",
    "shape_area_index = field_mappings.findFieldMapIndex(\"Shape_Area\")\n",
    "\n",
    "# 创建新的字段映射\n",
    "field_map = field_mappings.getFieldMap(shape_area_index)\n",
    "\n",
    "# 设置输出字段的名称和类型\n",
    "field = field_map.outputField\n",
    "field.name = \"LandUseAreaSum\"  # 你想要的字段名称\n",
    "field.aliasName = \"LandUseAreaSum\"\n",
    "field.type = \"Double\"\n",
    "field_map.outputField = field\n",
    "\n",
    "# 替换原始的字段映射\n",
    "field_mappings.replaceFieldMap(shape_area_index, field_map)\n",
    "\n",
    "# 使用自定义字段映射执行统计分析\n",
    "arcpy.Statistics_analysis(\n",
    "    in_table=intersect_output,\n",
    "    out_table=summary_table,\n",
    "    statistics_fields=[[\"Shape_Area\", \"SUM\"]],\n",
    "    case_field=[\"BlockID\", \"LandUseType\"],\n",
    "    field_mapping=field_mappings\n",
    ")\n"
   ]
  },
  {
   "cell_type": "code",
   "execution_count": null,
   "metadata": {},
   "outputs": [],
   "source": [
    "# 统计分析的输出表格路径\n",
    "summary_table = \"Block_LUCC_summary.dbf\"\n",
    "\n",
    "# 执行统计分析，按街区ID和土地利用类型分组汇总面积\n",
    "arcpy.Statistics_analysis(intersect_output, summary_table, [[\"Shape_Area\", \"SUM\"]], [\"BlockID\", \"gridcode\"])"
   ]
  },
  {
   "cell_type": "code",
   "execution_count": null,
   "metadata": {},
   "outputs": [],
   "source": [
    "# 汇总得到的每个街区的总面积\n",
    "blocks_area_table = \"blocks_area_table.dbf\"  \n",
    "\n",
    "# 计算每个街区的总面积\n",
    "arcpy.Statistics_analysis(\n",
    "    in_table=intersect_output,\n",
    "    out_table=blocks_area_table,\n",
    "    statistics_fields=[[\"Shape_Area\", \"SUM\"]],\n",
    "    case_field=[\"BlockID\"]\n",
    ")\n",
    "\n",
    "# 将街区的总面积表关联到土地利用类型的面积汇总表\n",
    "arcpy.JoinField_management(\n",
    "    in_data=summary_table,\n",
    "    in_field=\"BlockID\",\n",
    "    join_table=blocks_area_table,\n",
    "    join_field=\"BlockID\"\n",
    ")\n",
    "\n",
    "# 添加新字段以计算面积占比\n",
    "arcpy.AddField_management(summary_table, \"AreaRatio\", \"DOUBLE\")\n",
    "\n",
    "# 计算占比\n",
    "arcpy.CalculateField_management(\n",
    "    in_table=summary_table,\n",
    "    field=\"AreaRatio\",\n",
    "    expression=\"!SUM_Shape_Area! / !SUM_Shape_Area_1!\",\n",
    "    expression_type=\"PYTHON3\"\n",
    ")\n"
   ]
  },
  {
   "cell_type": "code",
   "execution_count": null,
   "metadata": {},
   "outputs": [],
   "source": []
  },
  {
   "cell_type": "code",
   "execution_count": null,
   "metadata": {},
   "outputs": [],
   "source": []
  },
  {
   "cell_type": "code",
   "execution_count": 1,
   "metadata": {},
   "outputs": [],
   "source": [
    "import arcpy\n",
    "spatial_join_output = r\"E:\\stu1\\Projects\\POI2023\\POI2023.gdb\\Blocks_LandUse_Join\""
   ]
  },
  {
   "cell_type": "code",
   "execution_count": 2,
   "metadata": {},
   "outputs": [
    {
     "data": {
      "text/html": [
       "<div class='gpresult'><h2>Messages</h2><div id='messages' data-messages='[\"Start Time: 2024年3月1日 11:17:51\",\"Succeeded at 2024年3月1日 11:18:12 (Elapsed Time: 21.52 seconds)\"]' data-show='true'><div id = 'default' /></div></div>"
      ],
      "text/plain": [
       "<Result 'E:\\\\stu1\\\\Projects\\\\POI2023\\\\POI2023.gdb\\\\Blocks_LandUse_Join'>"
      ]
     },
     "execution_count": 2,
     "metadata": {},
     "output_type": "execute_result"
    }
   ],
   "source": [
    "# 添加面积字段并计算面积\n",
    "arcpy.AddField_management(spatial_join_output, \"Area\", \"DOUBLE\")\n",
    "arcpy.CalculateGeometryAttributes_management(spatial_join_output, [[\"Area\", \"AREA\"]], area_unit=\"SQUARE_METERS\")"
   ]
  },
  {
   "cell_type": "code",
   "execution_count": null,
   "metadata": {},
   "outputs": [],
   "source": []
  },
  {
   "cell_type": "code",
   "execution_count": null,
   "metadata": {},
   "outputs": [],
   "source": []
  },
  {
   "cell_type": "markdown",
   "metadata": {
    "heading_collapsed": true
   },
   "source": [
    "# 附录"
   ]
  },
  {
   "cell_type": "code",
   "execution_count": null,
   "metadata": {
    "hidden": true
   },
   "outputs": [],
   "source": [
    "import arcpy\n",
    "\n",
    "# 土地利用栅格数据路径\n",
    "landuse_raster = r\"E:\\stu1\\Projects\\POI2023\\POI2023.gdb\\lucc20_50N\"\n",
    "\n",
    "# 街区矢量文件路径\n",
    "block_vector = r\"E:\\stu1\\Projects\\POI2023\\POI2023.gdb\\blocks_initial\"\n",
    "\n",
    "# 裁剪后的土地利用栅格输出路径\n",
    "clipped_raster = r\"E:\\stu1\\Projects\\POI2023\\POI2023.gdb\\lucc_blocked\"\n",
    "\n",
    "# 使用街区矢量文件裁剪土地利用栅格\n",
    "arcpy.Clip_management(in_raster=landuse_raster, rectangle=\"\", out_raster=clipped_raster,\n",
    "                      in_template_dataset=block_vector, clipping_geometry=\"ClippingGeometry\")"
   ]
  },
  {
   "cell_type": "code",
   "execution_count": 2,
   "metadata": {
    "hidden": true
   },
   "outputs": [],
   "source": [
    "# 定义输入变量\n",
    "input_dataset = r\"E:\\stu1\\Projects\\POI2023\\POI2023.gdb\\block23\"\n",
    "road_network_fc = r\"E:\\stu1\\Projects\\POI2023\\POI2023.gdb\\block23\\processed_road\"\n",
    "topo_name = \"Topology23\""
   ]
  },
  {
   "cell_type": "code",
   "execution_count": 3,
   "metadata": {
    "hidden": true
   },
   "outputs": [],
   "source": [
    "# 创建拓扑\n",
    "topology_result = arcpy.CreateTopology_management(input_dataset, topo_name)\n",
    "out_topo = topology_result.getOutput(0)"
   ]
  },
  {
   "cell_type": "markdown",
   "metadata": {
    "hidden": true
   },
   "source": [
    "### 裁剪土地利用栅格"
   ]
  },
  {
   "cell_type": "markdown",
   "metadata": {
    "hidden": true
   },
   "source": [
    "## 路网分级拓宽"
   ]
  },
  {
   "cell_type": "code",
   "execution_count": 4,
   "metadata": {
    "hidden": true
   },
   "outputs": [
    {
     "data": {
      "text/html": [
       "<div class='gpresult'><h2>Messages</h2><div id='messages' data-messages='[\"Start Time: 2023年12月16日 21:18:35\",\"Succeeded at 2023年12月16日 21:18:37 (Elapsed Time: 1.96 seconds)\"]' data-show='true'><div id = 'default' /></div></div>"
      ],
      "text/plain": [
       "<Result 'E:\\\\stu1\\\\Projects\\\\POI2023\\\\POI2023.gdb\\\\block23\\\\Topology23'>"
      ]
     },
     "execution_count": 4,
     "metadata": {},
     "output_type": "execute_result"
    }
   ],
   "source": [
    "# 将路网数据加入到拓扑\n",
    "arcpy.AddFeatureClassToTopology_management(out_topo, road_network_fc,1,1)"
   ]
  },
  {
   "cell_type": "code",
   "execution_count": 5,
   "metadata": {
    "hidden": true
   },
   "outputs": [
    {
     "ename": "ExecuteError",
     "evalue": "ERROR 000464: Cannot get exclusive schema lock.  Either being edited or in use by another application or service.\nERROR 000464: Cannot get exclusive schema lock.  Either being edited or in use by another application or service.\nFailed to execute (AddRuleToTopology).\n",
     "output_type": "error",
     "traceback": [
      "\u001b[0;31m---------------------------------------------------------------------------\u001b[0m\n\u001b[0;31mExecuteError\u001b[0m                              Traceback (most recent call last)",
      "In  \u001b[0;34m[5]\u001b[0m:\nLine \u001b[0;34m3\u001b[0m:     arcpy.AddRuleToTopology_management(out_topo, \u001b[33m\"\u001b[39;49;00m\u001b[33mMust Not Have Pseudo-Nodes (Line)\u001b[39;49;00m\u001b[33m\"\u001b[39;49;00m, road_network_fc)\n",
      "File \u001b[0;34mC:\\Program Files\\ArcGIS\\Pro\\Resources\\ArcPy\\arcpy\\management.py\u001b[0m, in \u001b[0;32mAddRuleToTopology\u001b[0m:\nLine \u001b[0;34m23655\u001b[0m: \u001b[34mraise\u001b[39;49;00m e\n",
      "File \u001b[0;34mC:\\Program Files\\ArcGIS\\Pro\\Resources\\ArcPy\\arcpy\\management.py\u001b[0m, in \u001b[0;32mAddRuleToTopology\u001b[0m:\nLine \u001b[0;34m23652\u001b[0m: retval = convertArcObjectToPythonObject(gp.AddRuleToTopology_management(*gp_fixargs((in_topology, rule_type, in_featureclass, subtype, in_featureclass2, subtype2), \u001b[34mTrue\u001b[39;49;00m)))\n",
      "File \u001b[0;34mC:\\Program Files\\ArcGIS\\Pro\\Resources\\ArcPy\\arcpy\\geoprocessing\\_base.py\u001b[0m, in \u001b[0;32m<lambda>\u001b[0m:\nLine \u001b[0;34m512\u001b[0m:   \u001b[34mreturn\u001b[39;49;00m \u001b[34mlambda\u001b[39;49;00m *args: val(*gp_fixargs(args, \u001b[34mTrue\u001b[39;49;00m))\n",
      "\u001b[0;31mExecuteError\u001b[0m: ERROR 000464: Cannot get exclusive schema lock.  Either being edited or in use by another application or service.\nERROR 000464: Cannot get exclusive schema lock.  Either being edited or in use by another application or service.\nFailed to execute (AddRuleToTopology).\n\n\u001b[0;31m---------------------------------------------------------------------------\u001b[0m"
     ]
    }
   ],
   "source": [
    "# 添加拓扑规则\n",
    "arcpy.AddRuleToTopology_management(out_topo, \"Must Not Have Dangles (Line)\", road_network_fc)\n",
    "arcpy.AddRuleToTopology_management(out_topo, \"Must Not Have Pseudo-Nodes (Line)\", road_network_fc)"
   ]
  },
  {
   "cell_type": "code",
   "execution_count": 20,
   "metadata": {
    "hidden": true
   },
   "outputs": [
    {
     "data": {
      "text/html": [
       "<div class='gpresult'><h2>Messages</h2><div id='messages' data-messages='[\"Start Time: 2023年12月16日 13:55:04\",\"Succeeded at 2023年12月16日 13:55:09 (Elapsed Time: 5.03 seconds)\"]' data-show='true'><div id = 'default' /></div></div>"
      ],
      "text/plain": [
       "<Result 'E:\\\\stu1\\\\Projects\\\\POI2023\\\\POI2023.gdb\\\\block23\\\\RoadTopology23'>"
      ]
     },
     "execution_count": 20,
     "metadata": {},
     "output_type": "execute_result"
    }
   ],
   "source": [
    "# 验证拓扑\n",
    "arcpy.ValidateTopology_management(out_topo)"
   ]
  },
  {
   "cell_type": "markdown",
   "metadata": {
    "hidden": true
   },
   "source": [
    "## 路网数据拓扑修正"
   ]
  },
  {
   "cell_type": "code",
   "execution_count": 1,
   "metadata": {
    "hidden": true
   },
   "outputs": [
    {
     "ename": "AttributeError",
     "evalue": "module 'arcpy' has no attribute 'topology'",
     "output_type": "error",
     "traceback": [
      "\u001b[0;31m---------------------------------------------------------------------------\u001b[0m\n\u001b[0;31mAttributeError\u001b[0m                            Traceback (most recent call last)",
      "In  \u001b[0;34m[1]\u001b[0m:\nLine \u001b[0;34m2\u001b[0m:     arcpy.topology.Extendline_edit(out_topo, \u001b[33m\"\u001b[39;49;00m\u001b[33mdistance\u001b[39;49;00m\u001b[33m\"\u001b[39;49;00m, \u001b[33m\"\u001b[39;49;00m\u001b[33mNO_EXTEND_TO_FEATURE\u001b[39;49;00m\u001b[33m\"\u001b[39;49;00m)\n",
      "\u001b[0;31mAttributeError\u001b[0m: module 'arcpy' has no attribute 'topology'\n\u001b[0;31m---------------------------------------------------------------------------\u001b[0m"
     ]
    }
   ],
   "source": [
    "# 悬挂点修正\n",
    "arcpy.topology.Extendline_edit(out_topo, \"distance\", \"NO_EXTEND_TO_FEATURE\")\n",
    "arcpy.topology.Trimline_edit(out_topo, \"distance\", \"DELETE_SHORT\")\n",
    "arcpy.topology.Snap_edit(out_topo, [[\"line_feature_class\", \"EDGE\", \"distance\"]])"
   ]
  },
  {
   "cell_type": "code",
   "execution_count": 3,
   "metadata": {
    "hidden": true
   },
   "outputs": [],
   "source": [
    "# 定义道路等级和对应的拓宽距离\n",
    "road_classes ={'motorway': 24, 'trunk': 20, 'primary': 20, 'secondary': 15, 'tertiary': 12}"
   ]
  },
  {
   "cell_type": "code",
   "execution_count": 4,
   "metadata": {
    "hidden": true
   },
   "outputs": [],
   "source": [
    "input_dataset = r\"E:\\stu1\\Projects\\POI2023\\POI2023.gdb\\block23\" # 输出数据集的路径\n",
    "road_network = r\"E:\\stu1\\Projects\\POI2023\\POI2023.gdb\\block23\\processed_road\" # 道路网络数据的路径"
   ]
  },
  {
   "cell_type": "code",
   "execution_count": 6,
   "metadata": {
    "hidden": true
   },
   "outputs": [
    {
     "name": "stdout",
     "output_type": "stream",
     "text": [
      "Selected 97 features for class motorway\n",
      "Buffer created for motorway: E:\\stu1\\Projects\\POI2023\\POI2023.gdb\\block23/motorway_buffer\n",
      "Selected 292 features for class trunk\n",
      "Buffer created for trunk: E:\\stu1\\Projects\\POI2023\\POI2023.gdb\\block23/trunk_buffer\n",
      "Selected 753 features for class primary\n",
      "Buffer created for primary: E:\\stu1\\Projects\\POI2023\\POI2023.gdb\\block23/primary_buffer\n",
      "Selected 970 features for class secondary\n",
      "Buffer created for secondary: E:\\stu1\\Projects\\POI2023\\POI2023.gdb\\block23/secondary_buffer\n",
      "Selected 1371 features for class tertiary\n",
      "Buffer created for tertiary: E:\\stu1\\Projects\\POI2023\\POI2023.gdb\\block23/tertiary_buffer\n",
      "Buffer analysis for all road classes is complete.\n"
     ]
    }
   ],
   "source": [
    "# 为原始道路网络创建一个临时图层\n",
    "arcpy.MakeFeatureLayer_management(road_network, \"road_network_lyr\")\n",
    "\n",
    "# 遍历 road_classes 字典\n",
    "for road_class, buffer_distance in road_classes.items():\n",
    "    # 清除上一次的选择\n",
    "    arcpy.SelectLayerByAttribute_management(\"road_network_lyr\", \"CLEAR_SELECTION\")\n",
    "    \n",
    "    # 构建查询字符串并选择对应的路段\n",
    "    query = f\"fclass = '{road_class}'\"\n",
    "    arcpy.SelectLayerByAttribute_management(\"road_network_lyr\", \"NEW_SELECTION\", query)\n",
    "\n",
    "    # 检查当前选择的要素数量\n",
    "    count = arcpy.GetCount_management(\"road_network_lyr\")[0]\n",
    "    print(f\"Selected {count} features for class {road_class}\")\n",
    "\n",
    "    # 如果选中了要素，则进行缓冲区分析\n",
    "    if int(count) > 0:\n",
    "        buffer_output = f\"{input_dataset}/{road_class}_buffer\"\n",
    "        arcpy.Buffer_analysis(\"road_network_lyr\", buffer_output, f\"{buffer_distance} Meters\")\n",
    "        print(f\"Buffer created for {road_class}: {buffer_output}\")\n",
    "    else:\n",
    "        print(f\"No features selected for class {road_class}, skipping buffer creation\")\n",
    "\n",
    "# 清除临时图层\n",
    "arcpy.Delete_management(\"road_network_lyr\")\n",
    "\n",
    "print(\"Buffer analysis for all road classes is complete.\")"
   ]
  },
  {
   "cell_type": "code",
   "execution_count": 7,
   "metadata": {
    "hidden": true
   },
   "outputs": [],
   "source": [
    "buffers = [\"motorway_buffer\", \"primary_buffer\", \"secondary_buffer\", \"tertiary_buffer\", \"trunk_buffer\"]"
   ]
  },
  {
   "cell_type": "code",
   "execution_count": 9,
   "metadata": {
    "hidden": true
   },
   "outputs": [
    {
     "data": {
      "text/html": [
       "<div class='gpresult'><h2>Messages</h2><div id='messages' data-messages='[\"Start Time: 2024年1月8日 20:08:01\",\"Succeeded at 2024年1月8日 20:08:03 (Elapsed Time: 1.67 seconds)\"]' data-show='true'><div id = 'default' /></div></div>"
      ],
      "text/plain": [
       "<Result 'E:\\\\stu1\\\\Projects\\\\POI2023\\\\POI2023.gdb\\\\merged_buffers'>"
      ]
     },
     "execution_count": 9,
     "metadata": {},
     "output_type": "execute_result"
    }
   ],
   "source": [
    "# merge operation\n",
    "# Path for the merged output\n",
    "merged_road = \"merged_buffers\"\n",
    "\n",
    "# Merge the buffer layers\n",
    "arcpy.Merge_management(buffers, merged_road)"
   ]
  },
  {
   "cell_type": "code",
   "execution_count": 4,
   "metadata": {
    "hidden": true
   },
   "outputs": [
    {
     "data": {
      "text/html": [
       "<div class='gpresult'><h2>Messages</h2><div id='messages' data-messages='[\"Start Time: 2024年1月8日 20:21:03\",\"Dissolving...\",\"Succeeded at 2024年1月8日 20:21:19 (Elapsed Time: 16.66 seconds)\"]' data-show='true'><div id = 'default' /></div></div>"
      ],
      "text/plain": [
       "<Result 'E:\\\\stu1\\\\Projects\\\\POI2023\\\\POI2023.gdb\\\\dissolved_buffers'>"
      ]
     },
     "execution_count": 4,
     "metadata": {},
     "output_type": "execute_result"
    }
   ],
   "source": [
    "merged_road = r\"E:\\stu1\\Projects\\POI2023\\POI2023.gdb\\merged_buffers\"\n",
    "\n",
    "# Path for the final dissolved output\n",
    "dissolved_road = r\"E:\\stu1\\Projects\\POI2023\\POI2023.gdb\\dissolved_buffers\"\n",
    "\n",
    "# Dissolve the merged buffers into a single layer without internal boundaries\n",
    "arcpy.Dissolve_management(merged_road, dissolved_road)"
   ]
  },
  {
   "cell_type": "markdown",
   "metadata": {
    "heading_collapsed": true,
    "hidden": true
   },
   "source": [
    "##  生成最终街区单元"
   ]
  },
  {
   "cell_type": "code",
   "execution_count": 1,
   "metadata": {
    "hidden": true
   },
   "outputs": [
    {
     "name": "stdout",
     "output_type": "stream",
     "text": [
      "Process completed. Output saved as 'block23'.\n"
     ]
    }
   ],
   "source": [
    "# 设置输入和输出路径\n",
    "input_feature_class = r'E:\\stu1\\Projects\\POI2023\\POI2023.gdb\\block23\\convex_single'  # convex_single 的路径\n",
    "output_feature_class = r'E:\\stu1\\Projects\\POI2023\\POI2023.gdb\\block23\\block23'  # 输出结果的路径\n",
    "\n",
    "# 选择 Shape_Area 大于 2000 的要素\n",
    "query = '\"Shape_Area\" > 2000'\n",
    "arcpy.SelectLayerByAttribute_management(input_feature_class, \"NEW_SELECTION\", query)\n",
    "\n",
    "# 将选择的要素复制到新的要素类\n",
    "arcpy.CopyFeatures_management(input_feature_class, output_feature_class)\n",
    "\n",
    "print(\"Process completed. Output saved as 'block23'.\")\n"
   ]
  },
  {
   "cell_type": "code",
   "execution_count": 11,
   "metadata": {
    "hidden": true
   },
   "outputs": [
    {
     "ename": "RuntimeError",
     "evalue": "Object: Error in executing tool",
     "output_type": "error",
     "traceback": [
      "\u001b[0;31m---------------------------------------------------------------------------\u001b[0m\n\u001b[0;31mRuntimeError\u001b[0m                              Traceback (most recent call last)",
      "In  \u001b[0;34m[11]\u001b[0m:\nLine \u001b[0;34m3\u001b[0m:     arcpy.Dissolve_management(buffers, dissolved_output)\n",
      "File \u001b[0;34mC:\\Program Files\\ArcGIS\\Pro\\Resources\\ArcPy\\arcpy\\management.py\u001b[0m, in \u001b[0;32mDissolve\u001b[0m:\nLine \u001b[0;34m7434\u001b[0m:  \u001b[34mraise\u001b[39;49;00m e\n",
      "File \u001b[0;34mC:\\Program Files\\ArcGIS\\Pro\\Resources\\ArcPy\\arcpy\\management.py\u001b[0m, in \u001b[0;32mDissolve\u001b[0m:\nLine \u001b[0;34m7431\u001b[0m:  retval = convertArcObjectToPythonObject(gp.Dissolve_management(*gp_fixargs((in_features, out_feature_class, dissolve_field, statistics_fields, multi_part, unsplit_lines, concatenation_separator), \u001b[34mTrue\u001b[39;49;00m)))\n",
      "File \u001b[0;34mC:\\Program Files\\ArcGIS\\Pro\\Resources\\ArcPy\\arcpy\\geoprocessing\\_base.py\u001b[0m, in \u001b[0;32m<lambda>\u001b[0m:\nLine \u001b[0;34m512\u001b[0m:   \u001b[34mreturn\u001b[39;49;00m \u001b[34mlambda\u001b[39;49;00m *args: val(*gp_fixargs(args, \u001b[34mTrue\u001b[39;49;00m))\n",
      "\u001b[0;31mRuntimeError\u001b[0m: Object: Error in executing tool\n\u001b[0;31m---------------------------------------------------------------------------\u001b[0m"
     ]
    }
   ],
   "source": []
  },
  {
   "cell_type": "code",
   "execution_count": null,
   "metadata": {
    "hidden": true
   },
   "outputs": [],
   "source": []
  },
  {
   "cell_type": "code",
   "execution_count": 22,
   "metadata": {
    "hidden": true
   },
   "outputs": [],
   "source": [
    "convex_hull_polygon = r\"E:\\stu1\\Projects\\POI2023\\POI2023.gdb\\convex_hull_output\"\n",
    "road_network_polygon = r\"E:\\stu1\\Projects\\POI2023\\POI2023.gdb\\dissolved_buffers\"\n",
    "road_network_lines = r\"E:\\stu1\\Projects\\POI2023\\POI2023.gdb\\block23\\lined_buffers\"\n",
    "\n",
    "# Define the output path for the intersected land use units\n",
    "output_units = r\"E:\\stu1\\Projects\\POI2023\\POI2023.gdb\\block23\\output_multi\""
   ]
  },
  {
   "cell_type": "code",
   "execution_count": 23,
   "metadata": {
    "hidden": true
   },
   "outputs": [
    {
     "data": {
      "text/html": [
       "<div class='gpresult'><h2>Messages</h2><div id='messages' data-messages='[\"Start Time: 2023年12月17日 17:27:59\",\"Reading Features...\",\"Cracking Features...\",\"Assembling Features...\",\"Succeeded at 2023年12月17日 17:28:01 (Elapsed Time: 2.36 seconds)\"]' data-show='true'><div id = 'default' /></div></div>"
      ],
      "text/plain": [
       "<Result 'E:\\\\stu1\\\\Projects\\\\POI2023\\\\POI2023.gdb\\\\block23\\\\output_units'>"
      ]
     },
     "execution_count": 23,
     "metadata": {},
     "output_type": "execute_result"
    }
   ],
   "source": [
    "# Convert road network polygons to lines\n",
    "arcpy.PolygonToLine_management(road_network_polygon, road_network_lines)\n",
    "\n",
    "# Use the Feature To Polygon tool to segment the convex hull using the road lines\n",
    "arcpy.FeatureToPolygon_management([convex_hull_polygon, road_network_lines], output_units)\n"
   ]
  },
  {
   "cell_type": "code",
   "execution_count": 5,
   "metadata": {
    "hidden": true
   },
   "outputs": [],
   "source": [
    "convex_hull_polygon = r\"E:\\stu1\\Projects\\POI2023\\POI2023.gdb\\convex_hull_output\"\n",
    "road_network_polygon = r\"E:\\stu1\\Projects\\POI2023\\POI2023.gdb\\dissolved_buffers\"\n",
    "output_polygon = r\"E:\\stu1\\Projects\\POI2023\\POI2023.gdb\\block23\\erased_convex\""
   ]
  },
  {
   "cell_type": "code",
   "execution_count": 6,
   "metadata": {
    "hidden": true
   },
   "outputs": [
    {
     "data": {
      "text/html": [
       "<div class='gpresult'><h2>Messages</h2><div id='messages' data-messages='[\"Start Time: 2024年1月8日 20:30:16\",\"Reading Features...\",\"Cracking Features...\",\"Assembling Features...\",\"Succeeded at 2024年1月8日 20:30:18 (Elapsed Time: 2.23 seconds)\"]' data-show='true'><div id = 'default' /></div></div>"
      ],
      "text/plain": [
       "<Result 'E:\\\\stu1\\\\Projects\\\\POI2023\\\\POI2023.gdb\\\\block23\\\\erased_convex'>"
      ]
     },
     "execution_count": 6,
     "metadata": {},
     "output_type": "execute_result"
    }
   ],
   "source": [
    "arcpy.Erase_analysis(convex_hull_polygon, road_network_polygon, output_polygon)"
   ]
  },
  {
   "cell_type": "code",
   "execution_count": 8,
   "metadata": {
    "hidden": true
   },
   "outputs": [
    {
     "data": {
      "text/html": [
       "<div class='gpresult'><h2>Messages</h2><div id='messages' data-messages='[\"Start Time: 2024年1月8日 20:31:07\",\"Succeeded at 2024年1月8日 20:31:08 (Elapsed Time: 1.13 seconds)\"]' data-show='true'><div id = 'default' /></div></div>"
      ],
      "text/plain": [
       "<Result 'E:\\\\stu1\\\\Projects\\\\POI2023\\\\POI2023.gdb\\\\block23\\\\convex_single'>"
      ]
     },
     "execution_count": 8,
     "metadata": {},
     "output_type": "execute_result"
    }
   ],
   "source": [
    "# Define the input multipart polygon and the output singlepart feature class\n",
    "input_multipart = r\"E:\\stu1\\Projects\\POI2023\\POI2023.gdb\\block23\\erased_convex\"\n",
    "output_singlepart = r\"E:\\stu1\\Projects\\POI2023\\POI2023.gdb\\block23\\convex_single\"\n",
    "\n",
    "# Convert multipart to singlepart\n",
    "arcpy.MultipartToSinglepart_management(input_multipart, output_singlepart)"
   ]
  },
  {
   "cell_type": "markdown",
   "metadata": {
    "hidden": true
   },
   "source": [
    "## 判断POI所处空间位置"
   ]
  },
  {
   "cell_type": "markdown",
   "metadata": {
    "hidden": true
   },
   "source": []
  },
  {
   "cell_type": "code",
   "execution_count": 3,
   "metadata": {
    "hidden": true
   },
   "outputs": [],
   "source": [
    "# Define the paths\n",
    "poi_data = r\"E:\\stu1\\Projects\\POI2023\\POI2023.gdb\\block23\\projected_poi\"\n",
    "land_parcels = r\"E:\\stu1\\Projects\\POI2023\\POI2023.gdb\\block23\\output_single\"\n",
    "output_poi_with_parcel_id = r\"E:\\stu1\\Projects\\POI2023\\POI2023.gdb\\block23\\output_poi_with_parcel_id\""
   ]
  },
  {
   "cell_type": "code",
   "execution_count": 4,
   "metadata": {
    "hidden": true
   },
   "outputs": [
    {
     "name": "stdout",
     "output_type": "stream",
     "text": [
      "Spatial join complete. POI data now includes land parcel IDs.\n"
     ]
    }
   ],
   "source": [
    "# Perform the spatial join\n",
    "arcpy.SpatialJoin_analysis(poi_data, land_parcels, output_poi_with_parcel_id)\n",
    "\n",
    "print(\"Spatial join complete. POI data now includes land parcel IDs.\")"
   ]
  },
  {
   "cell_type": "code",
   "execution_count": null,
   "metadata": {
    "hidden": true
   },
   "outputs": [],
   "source": []
  }
 ],
 "metadata": {
  "kernelspec": {
   "display_name": "ArcGISPro",
   "language": "Python",
   "name": "python3"
  },
  "language_info": {
   "file_extension": ".py",
   "name": "python",
   "version": "3"
  }
 },
 "nbformat": 4,
 "nbformat_minor": 2
}
